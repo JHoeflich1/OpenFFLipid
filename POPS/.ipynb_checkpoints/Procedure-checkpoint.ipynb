{
 "cells": [
  {
   "cell_type": "code",
   "execution_count": 1,
   "id": "ce1c58d9-da90-4436-b814-f8e756897a92",
   "metadata": {},
   "outputs": [
    {
     "data": {
      "application/vnd.jupyter.widget-view+json": {
       "model_id": "b44af80d7fff497494d00deed2d064d2",
       "version_major": 2,
       "version_minor": 0
      },
      "text/plain": []
     },
     "metadata": {},
     "output_type": "display_data"
    }
   ],
   "source": [
    "# Imports from the Python standard library\n",
    "from io import StringIO\n",
    "from typing import Iterable\n",
    "import numpy as np\n",
    "import matplotlib.pyplot as plt\n",
    "\n",
    "# Imports from the comp chem ecosystem\n",
    "from openff.units import Quantity, unit\n",
    "from openmm import unit as openmm_unit\n",
    "#from pdbfixer import PDBFixer\n",
    "\n",
    "# New topology imports\n",
    "from openff.interchange import Interchange\n",
    "\n",
    "# Imports from the toolkit\n",
    "from rdkit import Chem\n",
    "import MDAnalysis as mda\n",
    "from MDAnalysis.analysis import distances\n",
    "from openff.toolkit import ForceField, Molecule, Topology\n",
    "from openff.toolkit.utils.toolkits import OpenEyeToolkitWrapper\n",
    "from openff.toolkit.utils import get_data_file_path\n",
    "\n",
    "# Imports from OpenFF\n",
    "import openff.nagl\n",
    "from openff.nagl import GNNModel \n",
    "from openff.nagl_models import list_available_nagl_models\n",
    "# If ypu want a diff toolkit wrapper check out https://docs.openforcefield.org/projects/nagl/en/latest/toolkit_wrappers.html\n",
    "\n",
    "import nglview\n",
    "import time\n",
    "import mdtraj"
   ]
  },
  {
   "cell_type": "markdown",
   "id": "e366d95e-f5da-4f41-a3df-a51c239aac48",
   "metadata": {},
   "source": [
    "Use NAGL model to assign charges"
   ]
  },
  {
   "cell_type": "code",
   "execution_count": 2,
   "id": "0edf2c93-0ad8-4d37-8eca-2293d2fef33c",
   "metadata": {},
   "outputs": [],
   "source": [
    "list_available_nagl_models()\n",
    "model_path = '/home/julianne/miniconda3/envs/openff/lib/python3.11/site-packages/openff/nagl_models/models/openff-gnn-am1bcc-0.1.0-rc.1.pt'\n",
    "model = GNNModel.load(model_path)"
   ]
  },
  {
   "cell_type": "code",
   "execution_count": null,
   "id": "aec33bf9-ae93-4212-ab26-9d24424fb46a",
   "metadata": {},
   "outputs": [],
   "source": [
    "lipid = Molecule.from_smiles(\"[C@](COP(=O)([O-])OCC[N+](C)(C)C)([H])(OC(CCCCCCCCCCCCCCC)=O)COC(CCCCCCCCC/C=C\\CCCCCC)=O\", allow_undefined_stereo=True)\n",
    "lipid.generate_conformers()\n",
    "lipid.visualize(show_all_hydrogens = False)\n",
    "\n",
    "#smiles string from : https://www.lipidmaps.org/databases/lmsd/LMGP01012146"
   ]
  },
  {
   "cell_type": "code",
   "execution_count": 11,
   "id": "30eeb93c-1a25-4e63-b4a3-e61a7b27df13",
   "metadata": {},
   "outputs": [],
   "source": [
    "model.compute_property(lipid)\n",
    "\n",
    "lipid.name = \"POPS\"\n",
    "for i, atom in enumerate(lipid.atoms, 3):\n",
    "    atom.metadata[\"residue_name\"] = \"POPS\"\n",
    "lipid.generate_unique_atom_names() #option to use (suffix = 'x')\n",
    "\n",
    "\n",
    "topology = Topology.from_molecules(\n",
    "    [lipid]\n",
    ")\n",
    "\n",
    "forcefield = ForceField(\"openff-2.1.0.offxml\")\n",
    "from openff.interchange import Interchange\n",
    "\n",
    "interchange = Interchange.from_smirnoff(\n",
    "    force_field=forcefield,\n",
    "    topology=topology,\n",
    ")\n",
    "interchange\n",
    "\n",
    "lipid.to_file('lipid.pdb', file_format = 'pdb')\n",
    "interchange.to_top(\"lipid.top\")\n",
    "interchange.to_gro(\"lipid.gro\")"
   ]
  },
  {
   "cell_type": "code",
   "execution_count": null,
   "id": "0fd59340-6a49-488f-ad22-b2fef920f576",
   "metadata": {},
   "outputs": [],
   "source": []
  }
 ],
 "metadata": {
  "kernelspec": {
   "display_name": "Python 3 (ipykernel)",
   "language": "python",
   "name": "python3"
  },
  "language_info": {
   "codemirror_mode": {
    "name": "ipython",
    "version": 3
   },
   "file_extension": ".py",
   "mimetype": "text/x-python",
   "name": "python",
   "nbconvert_exporter": "python",
   "pygments_lexer": "ipython3",
   "version": "3.11.7"
  }
 },
 "nbformat": 4,
 "nbformat_minor": 5
}
