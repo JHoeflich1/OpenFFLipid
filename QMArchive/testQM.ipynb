{
 "cells": [
  {
   "cell_type": "code",
   "execution_count": 1,
   "metadata": {},
   "outputs": [],
   "source": [
    "import numpy as np"
   ]
  },
  {
   "cell_type": "code",
   "execution_count": 14,
   "metadata": {},
   "outputs": [
    {
     "name": "stderr",
     "output_type": "stream",
     "text": [
      "WARNING: This client version is newer than the server version. This may work if the versions are close, but expect exceptions and errors if attempting things the server does not support. client version: 0.56, server version: 0.55\n"
     ]
    },
    {
     "name": "stdout",
     "output_type": "stream",
     "text": [
      "Molecule(name='C18H20O4', formula='C18H20O4', hash='ac125bd')\n"
     ]
    }
   ],
   "source": [
    "import qcportal\n",
    "\n",
    "from openff.toolkit import Molecule\n",
    "\n",
    "client = qcportal.PortalClient(\"https://api.qcarchive.molssi.org:443\")\n",
    "\n",
    "molecule_id = 37024837\n",
    "molecule = client.get_molecules(molecule_id)\n",
    "\n",
    "# Print the retrieved molecule\n",
    "print(molecule)"
   ]
  },
  {
   "cell_type": "code",
   "execution_count": 15,
   "metadata": {},
   "outputs": [
    {
     "data": {
      "image/svg+xml": [
       "<svg xmlns=\"http://www.w3.org/2000/svg\" xmlns:rdkit=\"http://www.rdkit.org/xml\" xmlns:xlink=\"http://www.w3.org/1999/xlink\" version=\"1.1\" baseProfile=\"full\" xml:space=\"preserve\" width=\"500px\" height=\"300px\" viewBox=\"0 0 500 300\">\n",
       "<!-- END OF HEADER -->\n",
       "<rect style=\"opacity:1.0;fill:#FFFFFF;stroke:none\" width=\"500.0\" height=\"300.0\" x=\"0.0\" y=\"0.0\"> </rect>\n",
       "<path class=\"bond-0 atom-0 atom-13\" d=\"M 322.5,170.8 L 334.4,177.7\" style=\"fill:none;fill-rule:evenodd;stroke:#FF0000;stroke-width:2.0px;stroke-linecap:butt;stroke-linejoin:miter;stroke-opacity:1\"/>\n",
       "<path class=\"bond-0 atom-0 atom-13\" d=\"M 334.4,177.7 L 346.3,184.6\" style=\"fill:none;fill-rule:evenodd;stroke:#000000;stroke-width:2.0px;stroke-linecap:butt;stroke-linejoin:miter;stroke-opacity:1\"/>\n",
       "<path class=\"bond-1 atom-0 atom-18\" d=\"M 305.6,170.5 L 293.5,177.2\" style=\"fill:none;fill-rule:evenodd;stroke:#FF0000;stroke-width:2.0px;stroke-linecap:butt;stroke-linejoin:miter;stroke-opacity:1\"/>\n",
       "<path class=\"bond-1 atom-0 atom-18\" d=\"M 293.5,177.2 L 281.4,183.8\" style=\"fill:none;fill-rule:evenodd;stroke:#000000;stroke-width:2.0px;stroke-linecap:butt;stroke-linejoin:miter;stroke-opacity:1\"/>\n",
       "<path class=\"bond-2 atom-1 atom-17\" d=\"M 209.4,178.1 L 197.5,171.3\" style=\"fill:none;fill-rule:evenodd;stroke:#FF0000;stroke-width:2.0px;stroke-linecap:butt;stroke-linejoin:miter;stroke-opacity:1\"/>\n",
       "<path class=\"bond-2 atom-1 atom-17\" d=\"M 197.5,171.3 L 185.6,164.6\" style=\"fill:none;fill-rule:evenodd;stroke:#000000;stroke-width:2.0px;stroke-linecap:butt;stroke-linejoin:miter;stroke-opacity:1\"/>\n",
       "<path class=\"bond-3 atom-1 atom-19\" d=\"M 226.3,178.3 L 238.3,171.6\" style=\"fill:none;fill-rule:evenodd;stroke:#FF0000;stroke-width:2.0px;stroke-linecap:butt;stroke-linejoin:miter;stroke-opacity:1\"/>\n",
       "<path class=\"bond-3 atom-1 atom-19\" d=\"M 238.3,171.6 L 250.4,164.9\" style=\"fill:none;fill-rule:evenodd;stroke:#000000;stroke-width:2.0px;stroke-linecap:butt;stroke-linejoin:miter;stroke-opacity:1\"/>\n",
       "<path class=\"bond-4 atom-2 atom-16\" d=\"M 335.9,69.1 L 345.8,60.8\" style=\"fill:none;fill-rule:evenodd;stroke:#FF0000;stroke-width:2.0px;stroke-linecap:butt;stroke-linejoin:miter;stroke-opacity:1\"/>\n",
       "<path class=\"bond-4 atom-2 atom-16\" d=\"M 345.8,60.8 L 355.8,52.5\" style=\"fill:none;fill-rule:evenodd;stroke:#000000;stroke-width:2.0px;stroke-linecap:butt;stroke-linejoin:miter;stroke-opacity:1\"/>\n",
       "<path class=\"bond-5 atom-2 atom-20\" d=\"M 331.3,85.7 L 336.3,98.2\" style=\"fill:none;fill-rule:evenodd;stroke:#FF0000;stroke-width:2.0px;stroke-linecap:butt;stroke-linejoin:miter;stroke-opacity:1\"/>\n",
       "<path class=\"bond-5 atom-2 atom-20\" d=\"M 336.3,98.2 L 341.3,110.7\" style=\"fill:none;fill-rule:evenodd;stroke:#000000;stroke-width:2.0px;stroke-linecap:butt;stroke-linejoin:miter;stroke-opacity:1\"/>\n",
       "<path class=\"bond-6 atom-3 atom-16\" d=\"M 378.8,66.9 L 367.3,59.7\" style=\"fill:none;fill-rule:evenodd;stroke:#FF0000;stroke-width:2.0px;stroke-linecap:butt;stroke-linejoin:miter;stroke-opacity:1\"/>\n",
       "<path class=\"bond-6 atom-3 atom-16\" d=\"M 367.3,59.7 L 355.8,52.5\" style=\"fill:none;fill-rule:evenodd;stroke:#000000;stroke-width:2.0px;stroke-linecap:butt;stroke-linejoin:miter;stroke-opacity:1\"/>\n",
       "<path class=\"bond-7 atom-3 atom-21\" d=\"M 384.9,81.6 L 381.5,94.8\" style=\"fill:none;fill-rule:evenodd;stroke:#FF0000;stroke-width:2.0px;stroke-linecap:butt;stroke-linejoin:miter;stroke-opacity:1\"/>\n",
       "<path class=\"bond-7 atom-3 atom-21\" d=\"M 381.5,94.8 L 378.2,108.1\" style=\"fill:none;fill-rule:evenodd;stroke:#000000;stroke-width:2.0px;stroke-linecap:butt;stroke-linejoin:miter;stroke-opacity:1\"/>\n",
       "<path class=\"bond-8 atom-4 atom-6\" d=\"M 89.5,219.6 L 89.8,182.6\" style=\"fill:none;fill-rule:evenodd;stroke:#000000;stroke-width:2.0px;stroke-linecap:butt;stroke-linejoin:miter;stroke-opacity:1\"/>\n",
       "<path class=\"bond-8 atom-4 atom-6\" d=\"M 95.2,216.4 L 95.4,185.9\" style=\"fill:none;fill-rule:evenodd;stroke:#000000;stroke-width:2.0px;stroke-linecap:butt;stroke-linejoin:miter;stroke-opacity:1\"/>\n",
       "<path class=\"bond-9 atom-4 atom-7\" d=\"M 89.5,219.6 L 121.6,238.4\" style=\"fill:none;fill-rule:evenodd;stroke:#000000;stroke-width:2.0px;stroke-linecap:butt;stroke-linejoin:miter;stroke-opacity:1\"/>\n",
       "<path class=\"bond-10 atom-4 atom-22\" d=\"M 89.5,219.6 L 64.8,233.7\" style=\"fill:none;fill-rule:evenodd;stroke:#000000;stroke-width:2.0px;stroke-linecap:butt;stroke-linejoin:miter;stroke-opacity:1\"/>\n",
       "<path class=\"bond-11 atom-5 atom-8\" d=\"M 378.5,240.1 L 410.5,221.4\" style=\"fill:none;fill-rule:evenodd;stroke:#000000;stroke-width:2.0px;stroke-linecap:butt;stroke-linejoin:miter;stroke-opacity:1\"/>\n",
       "<path class=\"bond-11 atom-5 atom-8\" d=\"M 378.5,233.6 L 404.8,218.2\" style=\"fill:none;fill-rule:evenodd;stroke:#000000;stroke-width:2.0px;stroke-linecap:butt;stroke-linejoin:miter;stroke-opacity:1\"/>\n",
       "<path class=\"bond-12 atom-5 atom-9\" d=\"M 378.5,240.1 L 346.4,221.7\" style=\"fill:none;fill-rule:evenodd;stroke:#000000;stroke-width:2.0px;stroke-linecap:butt;stroke-linejoin:miter;stroke-opacity:1\"/>\n",
       "<path class=\"bond-13 atom-5 atom-23\" d=\"M 378.5,240.1 L 378.6,268.0\" style=\"fill:none;fill-rule:evenodd;stroke:#000000;stroke-width:2.0px;stroke-linecap:butt;stroke-linejoin:miter;stroke-opacity:1\"/>\n",
       "<path class=\"bond-14 atom-6 atom-10\" d=\"M 89.8,182.6 L 122.0,164.3\" style=\"fill:none;fill-rule:evenodd;stroke:#000000;stroke-width:2.0px;stroke-linecap:butt;stroke-linejoin:miter;stroke-opacity:1\"/>\n",
       "<path class=\"bond-15 atom-6 atom-24\" d=\"M 89.8,182.6 L 65.3,168.2\" style=\"fill:none;fill-rule:evenodd;stroke:#000000;stroke-width:2.0px;stroke-linecap:butt;stroke-linejoin:miter;stroke-opacity:1\"/>\n",
       "<path class=\"bond-16 atom-7 atom-11\" d=\"M 121.6,238.4 L 153.7,220.0\" style=\"fill:none;fill-rule:evenodd;stroke:#000000;stroke-width:2.0px;stroke-linecap:butt;stroke-linejoin:miter;stroke-opacity:1\"/>\n",
       "<path class=\"bond-16 atom-7 atom-11\" d=\"M 121.6,231.9 L 148.1,216.8\" style=\"fill:none;fill-rule:evenodd;stroke:#000000;stroke-width:2.0px;stroke-linecap:butt;stroke-linejoin:miter;stroke-opacity:1\"/>\n",
       "<path class=\"bond-17 atom-7 atom-25\" d=\"M 121.6,238.4 L 121.4,266.3\" style=\"fill:none;fill-rule:evenodd;stroke:#000000;stroke-width:2.0px;stroke-linecap:butt;stroke-linejoin:miter;stroke-opacity:1\"/>\n",
       "<path class=\"bond-18 atom-8 atom-12\" d=\"M 410.5,221.4 L 410.3,184.2\" style=\"fill:none;fill-rule:evenodd;stroke:#000000;stroke-width:2.0px;stroke-linecap:butt;stroke-linejoin:miter;stroke-opacity:1\"/>\n",
       "<path class=\"bond-19 atom-8 atom-26\" d=\"M 410.5,221.4 L 435.2,235.5\" style=\"fill:none;fill-rule:evenodd;stroke:#000000;stroke-width:2.0px;stroke-linecap:butt;stroke-linejoin:miter;stroke-opacity:1\"/>\n",
       "<path class=\"bond-20 atom-9 atom-13\" d=\"M 346.4,221.7 L 346.3,184.6\" style=\"fill:none;fill-rule:evenodd;stroke:#000000;stroke-width:2.0px;stroke-linecap:butt;stroke-linejoin:miter;stroke-opacity:1\"/>\n",
       "<path class=\"bond-20 atom-9 atom-13\" d=\"M 352.0,218.5 L 351.9,187.8\" style=\"fill:none;fill-rule:evenodd;stroke:#000000;stroke-width:2.0px;stroke-linecap:butt;stroke-linejoin:miter;stroke-opacity:1\"/>\n",
       "<path class=\"bond-21 atom-9 atom-27\" d=\"M 346.4,221.7 L 322.6,235.9\" style=\"fill:none;fill-rule:evenodd;stroke:#000000;stroke-width:2.0px;stroke-linecap:butt;stroke-linejoin:miter;stroke-opacity:1\"/>\n",
       "<path class=\"bond-22 atom-10 atom-14\" d=\"M 122.0,164.3 L 154.0,183.0\" style=\"fill:none;fill-rule:evenodd;stroke:#000000;stroke-width:2.0px;stroke-linecap:butt;stroke-linejoin:miter;stroke-opacity:1\"/>\n",
       "<path class=\"bond-22 atom-10 atom-14\" d=\"M 121.9,170.8 L 148.4,186.2\" style=\"fill:none;fill-rule:evenodd;stroke:#000000;stroke-width:2.0px;stroke-linecap:butt;stroke-linejoin:miter;stroke-opacity:1\"/>\n",
       "<path class=\"bond-23 atom-10 atom-28\" d=\"M 122.0,164.3 L 122.2,136.4\" style=\"fill:none;fill-rule:evenodd;stroke:#000000;stroke-width:2.0px;stroke-linecap:butt;stroke-linejoin:miter;stroke-opacity:1\"/>\n",
       "<path class=\"bond-24 atom-11 atom-14\" d=\"M 153.7,220.0 L 154.0,183.0\" style=\"fill:none;fill-rule:evenodd;stroke:#000000;stroke-width:2.0px;stroke-linecap:butt;stroke-linejoin:miter;stroke-opacity:1\"/>\n",
       "<path class=\"bond-25 atom-11 atom-29\" d=\"M 153.7,220.0 L 178.3,234.4\" style=\"fill:none;fill-rule:evenodd;stroke:#000000;stroke-width:2.0px;stroke-linecap:butt;stroke-linejoin:miter;stroke-opacity:1\"/>\n",
       "<path class=\"bond-26 atom-12 atom-15\" d=\"M 410.3,184.2 L 378.2,165.7\" style=\"fill:none;fill-rule:evenodd;stroke:#000000;stroke-width:2.0px;stroke-linecap:butt;stroke-linejoin:miter;stroke-opacity:1\"/>\n",
       "<path class=\"bond-26 atom-12 atom-15\" d=\"M 404.7,187.5 L 378.2,172.2\" style=\"fill:none;fill-rule:evenodd;stroke:#000000;stroke-width:2.0px;stroke-linecap:butt;stroke-linejoin:miter;stroke-opacity:1\"/>\n",
       "<path class=\"bond-27 atom-12 atom-30\" d=\"M 410.3,184.2 L 434.9,169.9\" style=\"fill:none;fill-rule:evenodd;stroke:#000000;stroke-width:2.0px;stroke-linecap:butt;stroke-linejoin:miter;stroke-opacity:1\"/>\n",
       "<path class=\"bond-28 atom-13 atom-15\" d=\"M 346.3,184.6 L 378.2,165.7\" style=\"fill:none;fill-rule:evenodd;stroke:#000000;stroke-width:2.0px;stroke-linecap:butt;stroke-linejoin:miter;stroke-opacity:1\"/>\n",
       "<path class=\"bond-29 atom-14 atom-17\" d=\"M 154.0,183.0 L 185.6,164.6\" style=\"fill:none;fill-rule:evenodd;stroke:#000000;stroke-width:2.0px;stroke-linecap:butt;stroke-linejoin:miter;stroke-opacity:1\"/>\n",
       "<path class=\"bond-30 atom-15 atom-21\" d=\"M 378.2,165.7 L 378.2,108.1\" style=\"fill:none;fill-rule:evenodd;stroke:#000000;stroke-width:2.0px;stroke-linecap:butt;stroke-linejoin:miter;stroke-opacity:1\"/>\n",
       "<path class=\"bond-31 atom-16 atom-31\" d=\"M 355.8,52.5 L 371.3,32.0\" style=\"fill:none;fill-rule:evenodd;stroke:#000000;stroke-width:2.0px;stroke-linecap:butt;stroke-linejoin:miter;stroke-opacity:1\"/>\n",
       "<path class=\"bond-32 atom-16 atom-32\" d=\"M 355.8,52.5 L 336.1,33.8\" style=\"fill:none;fill-rule:evenodd;stroke:#000000;stroke-width:2.0px;stroke-linecap:butt;stroke-linejoin:miter;stroke-opacity:1\"/>\n",
       "<path class=\"bond-33 atom-17 atom-33\" d=\"M 185.6,164.6 L 198.4,141.6\" style=\"fill:none;fill-rule:evenodd;stroke:#000000;stroke-width:2.0px;stroke-linecap:butt;stroke-linejoin:miter;stroke-opacity:1\"/>\n",
       "<path class=\"bond-34 atom-17 atom-34\" d=\"M 185.6,164.6 L 172.2,141.8\" style=\"fill:none;fill-rule:evenodd;stroke:#000000;stroke-width:2.0px;stroke-linecap:butt;stroke-linejoin:miter;stroke-opacity:1\"/>\n",
       "<path class=\"bond-35 atom-18 atom-19\" d=\"M 281.4,183.8 L 250.4,164.9\" style=\"fill:none;fill-rule:evenodd;stroke:#000000;stroke-width:2.0px;stroke-linecap:butt;stroke-linejoin:miter;stroke-opacity:1\"/>\n",
       "<path class=\"bond-36 atom-18 atom-35\" d=\"M 281.4,183.8 L 293.6,206.7\" style=\"fill:none;fill-rule:evenodd;stroke:#000000;stroke-width:2.0px;stroke-linecap:butt;stroke-linejoin:miter;stroke-opacity:1\"/>\n",
       "<path class=\"bond-37 atom-18 atom-36\" d=\"M 281.4,183.8 L 267.6,206.3\" style=\"fill:none;fill-rule:evenodd;stroke:#000000;stroke-width:2.0px;stroke-linecap:butt;stroke-linejoin:miter;stroke-opacity:1\"/>\n",
       "<path class=\"bond-38 atom-19 atom-37\" d=\"M 250.4,164.9 L 264.2,142.5\" style=\"fill:none;fill-rule:evenodd;stroke:#000000;stroke-width:2.0px;stroke-linecap:butt;stroke-linejoin:miter;stroke-opacity:1\"/>\n",
       "<path class=\"bond-39 atom-19 atom-38\" d=\"M 250.4,164.9 L 237.9,141.7\" style=\"fill:none;fill-rule:evenodd;stroke:#000000;stroke-width:2.0px;stroke-linecap:butt;stroke-linejoin:miter;stroke-opacity:1\"/>\n",
       "<path class=\"bond-40 atom-20 atom-21\" d=\"M 341.3,110.7 L 378.2,108.1\" style=\"fill:none;fill-rule:evenodd;stroke:#000000;stroke-width:2.0px;stroke-linecap:butt;stroke-linejoin:miter;stroke-opacity:1\"/>\n",
       "<path class=\"bond-41 atom-20 atom-39\" d=\"M 341.3,110.7 L 313.3,118.9\" style=\"fill:none;fill-rule:evenodd;stroke:#000000;stroke-width:2.0px;stroke-linecap:butt;stroke-linejoin:miter;stroke-opacity:1\"/>\n",
       "<path class=\"bond-42 atom-20 atom-40\" d=\"M 341.3,110.7 L 346.4,137.9\" style=\"fill:none;fill-rule:evenodd;stroke:#000000;stroke-width:2.0px;stroke-linecap:butt;stroke-linejoin:miter;stroke-opacity:1\"/>\n",
       "<path class=\"bond-43 atom-21 atom-41\" d=\"M 378.2,108.1 L 406.8,108.6 L 406.1,114.2 Z\" style=\"fill:#000000;fill-rule:evenodd;fill-opacity:1;stroke:#000000;stroke-width:0.5px;stroke-linecap:butt;stroke-linejoin:miter;stroke-opacity:1;\"/>\n",
       "<path class=\"atom-0\" d=\"M 306.8 165.9 Q 306.8 162.1, 308.7 160.0 Q 310.5 157.9, 314.0 157.9 Q 317.5 157.9, 319.4 160.0 Q 321.2 162.1, 321.2 165.9 Q 321.2 169.7, 319.4 171.9 Q 317.5 174.1, 314.0 174.1 Q 310.6 174.1, 308.7 171.9 Q 306.8 169.8, 306.8 165.9 M 314.0 172.3 Q 316.4 172.3, 317.7 170.7 Q 319.0 169.1, 319.0 165.9 Q 319.0 162.8, 317.7 161.3 Q 316.4 159.7, 314.0 159.7 Q 311.6 159.7, 310.3 161.3 Q 309.0 162.8, 309.0 165.9 Q 309.0 169.1, 310.3 170.7 Q 311.6 172.3, 314.0 172.3 \" fill=\"#FF0000\"/>\n",
       "<path class=\"atom-1\" d=\"M 210.6 183.0 Q 210.6 179.2, 212.5 177.1 Q 214.3 175.0, 217.8 175.0 Q 221.3 175.0, 223.2 177.1 Q 225.0 179.2, 225.0 183.0 Q 225.0 186.8, 223.2 189.0 Q 221.3 191.2, 217.8 191.2 Q 214.4 191.2, 212.5 189.0 Q 210.6 186.9, 210.6 183.0 M 217.8 189.4 Q 220.2 189.4, 221.5 187.8 Q 222.8 186.2, 222.8 183.0 Q 222.8 179.9, 221.5 178.4 Q 220.2 176.8, 217.8 176.8 Q 215.4 176.8, 214.1 178.3 Q 212.8 179.9, 212.8 183.0 Q 212.8 186.2, 214.1 187.8 Q 215.4 189.4, 217.8 189.4 \" fill=\"#FF0000\"/>\n",
       "<path class=\"atom-2\" d=\"M 320.3 76.3 Q 320.3 72.5, 322.1 70.4 Q 324.0 68.3, 327.5 68.3 Q 331.0 68.3, 332.8 70.4 Q 334.7 72.5, 334.7 76.3 Q 334.7 80.1, 332.8 82.3 Q 330.9 84.4, 327.5 84.4 Q 324.0 84.4, 322.1 82.3 Q 320.3 80.1, 320.3 76.3 M 327.5 82.7 Q 329.9 82.7, 331.2 81.1 Q 332.5 79.4, 332.5 76.3 Q 332.5 73.2, 331.2 71.6 Q 329.9 70.1, 327.5 70.1 Q 325.1 70.1, 323.8 71.6 Q 322.5 73.2, 322.5 76.3 Q 322.5 79.5, 323.8 81.1 Q 325.1 82.7, 327.5 82.7 \" fill=\"#FF0000\"/>\n",
       "<path class=\"atom-3\" d=\"M 380.0 72.2 Q 380.0 68.4, 381.9 66.3 Q 383.8 64.2, 387.3 64.2 Q 390.8 64.2, 392.6 66.3 Q 394.5 68.4, 394.5 72.2 Q 394.5 76.0, 392.6 78.2 Q 390.7 80.3, 387.3 80.3 Q 383.8 80.3, 381.9 78.2 Q 380.0 76.0, 380.0 72.2 M 387.3 78.6 Q 389.7 78.6, 391.0 77.0 Q 392.3 75.3, 392.3 72.2 Q 392.3 69.1, 391.0 67.6 Q 389.7 66.0, 387.3 66.0 Q 384.9 66.0, 383.6 67.5 Q 382.3 69.1, 382.3 72.2 Q 382.3 75.4, 383.6 77.0 Q 384.9 78.6, 387.3 78.6 \" fill=\"#FF0000\"/>\n",
       "<path class=\"atom-22\" d=\"M 51.2 230.1 L 53.4 230.1 L 53.4 236.8 L 61.4 236.8 L 61.4 230.1 L 63.5 230.1 L 63.5 245.8 L 61.4 245.8 L 61.4 238.6 L 53.4 238.6 L 53.4 245.8 L 51.2 245.8 L 51.2 230.1 \" fill=\"#000000\"/>\n",
       "<path class=\"atom-23\" d=\"M 372.5 269.3 L 374.6 269.3 L 374.6 276.0 L 382.7 276.0 L 382.7 269.3 L 384.8 269.3 L 384.8 285.0 L 382.7 285.0 L 382.7 277.7 L 374.6 277.7 L 374.6 285.0 L 372.5 285.0 L 372.5 269.3 \" fill=\"#000000\"/>\n",
       "<path class=\"atom-24\" d=\"M 51.7 156.0 L 53.8 156.0 L 53.8 162.7 L 61.9 162.7 L 61.9 156.0 L 64.0 156.0 L 64.0 171.8 L 61.9 171.8 L 61.9 164.5 L 53.8 164.5 L 53.8 171.8 L 51.7 171.8 L 51.7 156.0 \" fill=\"#000000\"/>\n",
       "<path class=\"atom-25\" d=\"M 115.2 267.5 L 117.3 267.5 L 117.3 274.2 L 125.3 274.2 L 125.3 267.5 L 127.5 267.5 L 127.5 283.3 L 125.3 283.3 L 125.3 276.0 L 117.3 276.0 L 117.3 283.3 L 115.2 283.3 L 115.2 267.5 \" fill=\"#000000\"/>\n",
       "<path class=\"atom-26\" d=\"M 436.5 231.8 L 438.6 231.8 L 438.6 238.5 L 446.6 238.5 L 446.6 231.8 L 448.8 231.8 L 448.8 247.6 L 446.6 247.6 L 446.6 240.3 L 438.6 240.3 L 438.6 247.6 L 436.5 247.6 L 436.5 231.8 \" fill=\"#000000\"/>\n",
       "<path class=\"atom-27\" d=\"M 309.1 232.4 L 311.2 232.4 L 311.2 239.1 L 319.2 239.1 L 319.2 232.4 L 321.4 232.4 L 321.4 248.1 L 319.2 248.1 L 319.2 240.9 L 311.2 240.9 L 311.2 248.1 L 309.1 248.1 L 309.1 232.4 \" fill=\"#000000\"/>\n",
       "<path class=\"atom-28\" d=\"M 116.1 119.4 L 118.2 119.4 L 118.2 126.1 L 126.2 126.1 L 126.2 119.4 L 128.4 119.4 L 128.4 135.1 L 126.2 135.1 L 126.2 127.9 L 118.2 127.9 L 118.2 135.1 L 116.1 135.1 L 116.1 119.4 \" fill=\"#000000\"/>\n",
       "<path class=\"atom-29\" d=\"M 179.5 230.9 L 181.7 230.9 L 181.7 237.6 L 189.7 237.6 L 189.7 230.9 L 191.8 230.9 L 191.8 246.6 L 189.7 246.6 L 189.7 239.4 L 181.7 239.4 L 181.7 246.6 L 179.5 246.6 L 179.5 230.9 \" fill=\"#000000\"/>\n",
       "<path class=\"atom-30\" d=\"M 436.2 157.7 L 438.3 157.7 L 438.3 164.4 L 446.3 164.4 L 446.3 157.7 L 448.5 157.7 L 448.5 173.4 L 446.3 173.4 L 446.3 166.2 L 438.3 166.2 L 438.3 173.4 L 436.2 173.4 L 436.2 157.7 \" fill=\"#000000\"/>\n",
       "<path class=\"atom-31\" d=\"M 372.1 15.0 L 374.2 15.0 L 374.2 21.7 L 382.2 21.7 L 382.2 15.0 L 384.4 15.0 L 384.4 30.7 L 382.2 30.7 L 382.2 23.5 L 374.2 23.5 L 374.2 30.7 L 372.1 30.7 L 372.1 15.0 \" fill=\"#000000\"/>\n",
       "<path class=\"atom-32\" d=\"M 322.6 18.9 L 324.7 18.9 L 324.7 25.6 L 332.8 25.6 L 332.8 18.9 L 334.9 18.9 L 334.9 34.6 L 332.8 34.6 L 332.8 27.4 L 324.7 27.4 L 324.7 34.6 L 322.6 34.6 L 322.6 18.9 \" fill=\"#000000\"/>\n",
       "<path class=\"atom-33\" d=\"M 197.3 124.6 L 199.5 124.6 L 199.5 131.3 L 207.5 131.3 L 207.5 124.6 L 209.6 124.6 L 209.6 140.4 L 207.5 140.4 L 207.5 133.1 L 199.5 133.1 L 199.5 140.4 L 197.3 140.4 L 197.3 124.6 \" fill=\"#000000\"/>\n",
       "<path class=\"atom-34\" d=\"M 160.7 124.8 L 162.8 124.8 L 162.8 131.5 L 170.8 131.5 L 170.8 124.8 L 173.0 124.8 L 173.0 140.6 L 170.8 140.6 L 170.8 133.3 L 162.8 133.3 L 162.8 140.6 L 160.7 140.6 L 160.7 124.8 \" fill=\"#000000\"/>\n",
       "<path class=\"atom-35\" d=\"M 292.3 207.9 L 294.5 207.9 L 294.5 214.6 L 302.5 214.6 L 302.5 207.9 L 304.6 207.9 L 304.6 223.7 L 302.5 223.7 L 302.5 216.4 L 294.5 216.4 L 294.5 223.7 L 292.3 223.7 L 292.3 207.9 \" fill=\"#000000\"/>\n",
       "<path class=\"atom-36\" d=\"M 255.8 207.5 L 258.0 207.5 L 258.0 214.2 L 266.0 214.2 L 266.0 207.5 L 268.2 207.5 L 268.2 223.2 L 266.0 223.2 L 266.0 216.0 L 258.0 216.0 L 258.0 223.2 L 255.8 223.2 L 255.8 207.5 \" fill=\"#000000\"/>\n",
       "<path class=\"atom-37\" d=\"M 263.7 125.5 L 265.8 125.5 L 265.8 132.2 L 273.8 132.2 L 273.8 125.5 L 276.0 125.5 L 276.0 141.2 L 273.8 141.2 L 273.8 134.0 L 265.8 134.0 L 265.8 141.2 L 263.7 141.2 L 263.7 125.5 \" fill=\"#000000\"/>\n",
       "<path class=\"atom-38\" d=\"M 226.9 124.7 L 229.1 124.7 L 229.1 131.4 L 237.1 131.4 L 237.1 124.7 L 239.2 124.7 L 239.2 140.4 L 237.1 140.4 L 237.1 133.2 L 229.1 133.2 L 229.1 140.4 L 226.9 140.4 L 226.9 124.7 \" fill=\"#000000\"/>\n",
       "<path class=\"atom-39\" d=\"M 299.8 113.2 L 301.9 113.2 L 301.9 119.9 L 310.0 119.9 L 310.0 113.2 L 312.1 113.2 L 312.1 129.0 L 310.0 129.0 L 310.0 121.7 L 301.9 121.7 L 301.9 129.0 L 299.8 129.0 L 299.8 113.2 \" fill=\"#000000\"/>\n",
       "<path class=\"atom-40\" d=\"M 342.0 139.2 L 344.1 139.2 L 344.1 145.9 L 352.2 145.9 L 352.2 139.2 L 354.3 139.2 L 354.3 154.9 L 352.2 154.9 L 352.2 147.6 L 344.1 147.6 L 344.1 154.9 L 342.0 154.9 L 342.0 139.2 \" fill=\"#000000\"/>\n",
       "<path class=\"atom-41\" d=\"M 408.9 104.6 L 411.1 104.6 L 411.1 111.3 L 419.1 111.3 L 419.1 104.6 L 421.3 104.6 L 421.3 120.3 L 419.1 120.3 L 419.1 113.0 L 411.1 113.0 L 411.1 120.3 L 408.9 120.3 L 408.9 104.6 \" fill=\"#000000\"/>\n",
       "</svg>"
      ],
      "text/plain": [
       "<IPython.core.display.SVG object>"
      ]
     },
     "execution_count": 15,
     "metadata": {},
     "output_type": "execute_result"
    }
   ],
   "source": [
    "mol = Molecule.from_qcschema(molecule)\n",
    "mol.visualize()"
   ]
  },
  {
   "cell_type": "code",
   "execution_count": null,
   "metadata": {},
   "outputs": [],
   "source": []
  }
 ],
 "metadata": {
  "kernelspec": {
   "display_name": "openff_clone",
   "language": "python",
   "name": "python3"
  },
  "language_info": {
   "codemirror_mode": {
    "name": "ipython",
    "version": 3
   },
   "file_extension": ".py",
   "mimetype": "text/x-python",
   "name": "python",
   "nbconvert_exporter": "python",
   "pygments_lexer": "ipython3",
   "version": "3.11.7"
  }
 },
 "nbformat": 4,
 "nbformat_minor": 2
}
