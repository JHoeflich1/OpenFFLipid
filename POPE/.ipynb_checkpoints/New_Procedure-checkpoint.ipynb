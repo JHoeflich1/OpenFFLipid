{
 "cells": [
  {
   "cell_type": "code",
   "execution_count": 1,
   "metadata": {},
   "outputs": [
    {
     "data": {
      "application/vnd.jupyter.widget-view+json": {
       "model_id": "9c83a428dd2641ecaf7276246454f9cd",
       "version_major": 2,
       "version_minor": 0
      },
      "text/plain": []
     },
     "metadata": {},
     "output_type": "display_data"
    }
   ],
   "source": [
    "#import all dependencies \n",
    "\n",
    "# Imports from the Python standard library\n",
    "from io import StringIO\n",
    "from typing import Iterable\n",
    "import numpy as np\n",
    "import matplotlib.pyplot as plt\n",
    "\n",
    "# Imports from the comp chem ecosystem\n",
    "from openff.units import Quantity, unit\n",
    "from openmm import unit as openmm_unit\n",
    "#from pdbfixer import PDBFixer\n",
    "\n",
    "# New topology imports\n",
    "from openff.interchange import Interchange\n",
    "\n",
    "# Imports from the toolkit\n",
    "from rdkit import Chem\n",
    "import MDAnalysis as mda\n",
    "from MDAnalysis.analysis import distances\n",
    "from openff.toolkit import ForceField, Molecule, Topology\n",
    "from openff.toolkit.utils.toolkits import OpenEyeToolkitWrapper\n",
    "\n",
    "# Imports from OpenFF\n",
    "import openff.nagl\n",
    "from openff.nagl import GNNModel \n",
    "from openff.nagl_models import list_available_nagl_models\n",
    "# If ypu want a diff toolkit wrapper check out https://docs.openforcefield.org/projects/nagl/en/latest/toolkit_wrappers.html\n",
    "\n",
    "import nglview"
   ]
  },
  {
   "cell_type": "code",
   "execution_count": 2,
   "metadata": {},
   "outputs": [
    {
     "data": {
      "text/plain": [
       "['/home/julianne/miniconda3/envs/openff/lib/python3.11/site-packages/openff/nagl_models/models/openff-gnn-am1bcc-0.0.1-alpha.1.pt',\n",
       " '/home/julianne/miniconda3/envs/openff/lib/python3.11/site-packages/openff/nagl_models/models/openff-gnn-am1bcc-0.1.0-rc.1.pt']"
      ]
     },
     "execution_count": 2,
     "metadata": {},
     "output_type": "execute_result"
    }
   ],
   "source": [
    "list_available_nagl_models()"
   ]
  },
  {
   "cell_type": "code",
   "execution_count": 3,
   "metadata": {},
   "outputs": [],
   "source": [
    "# Change model_path to your folder\n",
    "model_path = '/home/julianne/miniconda3/envs/openff/lib/python3.11/site-packages/openff/nagl_models/models/openff-gnn-am1bcc-0.1.0-rc.1.pt'\n",
    "model = GNNModel.load(model_path)"
   ]
  },
  {
   "cell_type": "markdown",
   "metadata": {},
   "source": [
    "### Create Lipid with SMILES String. Output .gro and .top files for lipid"
   ]
  },
  {
   "cell_type": "code",
   "execution_count": 12,
   "metadata": {},
   "outputs": [
    {
     "name": "stderr",
     "output_type": "stream",
     "text": [
      "Warning: : Failed due to unspecified stereochemistry\n"
     ]
    },
    {
     "data": {
      "image/svg+xml": [
       "<svg xmlns=\"http://www.w3.org/2000/svg\" xmlns:rdkit=\"http://www.rdkit.org/xml\" xmlns:xlink=\"http://www.w3.org/1999/xlink\" version=\"1.1\" baseProfile=\"full\" xml:space=\"preserve\" width=\"500px\" height=\"300px\" viewBox=\"0 0 500 300\">\n",
       "<!-- END OF HEADER -->\n",
       "<rect style=\"opacity:1.0;fill:#FFFFFF;stroke:none\" width=\"500.0\" height=\"300.0\" x=\"0.0\" y=\"0.0\"> </rect>\n",
       "<path class=\"bond-0 atom-0 atom-1\" d=\"M 79.4,49.1 L 93.3,41.1\" style=\"fill:none;fill-rule:evenodd;stroke:#000000;stroke-width:2.0px;stroke-linecap:butt;stroke-linejoin:miter;stroke-opacity:1\"/>\n",
       "<path class=\"bond-1 atom-1 atom-2\" d=\"M 93.3,41.1 L 107.5,49.0\" style=\"fill:none;fill-rule:evenodd;stroke:#000000;stroke-width:2.0px;stroke-linecap:butt;stroke-linejoin:miter;stroke-opacity:1\"/>\n",
       "<path class=\"bond-2 atom-2 atom-3\" d=\"M 107.5,49.0 L 121.5,41.0\" style=\"fill:none;fill-rule:evenodd;stroke:#000000;stroke-width:2.0px;stroke-linecap:butt;stroke-linejoin:miter;stroke-opacity:1\"/>\n",
       "<path class=\"bond-3 atom-3 atom-4\" d=\"M 121.5,41.0 L 135.5,48.9\" style=\"fill:none;fill-rule:evenodd;stroke:#000000;stroke-width:2.0px;stroke-linecap:butt;stroke-linejoin:miter;stroke-opacity:1\"/>\n",
       "<path class=\"bond-4 atom-4 atom-5\" d=\"M 135.5,48.9 L 149.5,41.0\" style=\"fill:none;fill-rule:evenodd;stroke:#000000;stroke-width:2.0px;stroke-linecap:butt;stroke-linejoin:miter;stroke-opacity:1\"/>\n",
       "<path class=\"bond-5 atom-5 atom-6\" d=\"M 149.5,41.0 L 163.5,48.9\" style=\"fill:none;fill-rule:evenodd;stroke:#000000;stroke-width:2.0px;stroke-linecap:butt;stroke-linejoin:miter;stroke-opacity:1\"/>\n",
       "<path class=\"bond-6 atom-6 atom-7\" d=\"M 163.5,48.9 L 177.4,40.9\" style=\"fill:none;fill-rule:evenodd;stroke:#000000;stroke-width:2.0px;stroke-linecap:butt;stroke-linejoin:miter;stroke-opacity:1\"/>\n",
       "<path class=\"bond-7 atom-7 atom-8\" d=\"M 177.4,40.9 L 191.3,48.9\" style=\"fill:none;fill-rule:evenodd;stroke:#000000;stroke-width:2.0px;stroke-linecap:butt;stroke-linejoin:miter;stroke-opacity:1\"/>\n",
       "<path class=\"bond-8 atom-8 atom-9\" d=\"M 191.3,48.9 L 205.3,40.9\" style=\"fill:none;fill-rule:evenodd;stroke:#000000;stroke-width:2.0px;stroke-linecap:butt;stroke-linejoin:miter;stroke-opacity:1\"/>\n",
       "<path class=\"bond-9 atom-9 atom-10\" d=\"M 205.3,40.9 L 219.2,48.9\" style=\"fill:none;fill-rule:evenodd;stroke:#000000;stroke-width:2.0px;stroke-linecap:butt;stroke-linejoin:miter;stroke-opacity:1\"/>\n",
       "<path class=\"bond-10 atom-10 atom-11\" d=\"M 219.2,48.9 L 233.3,40.9\" style=\"fill:none;fill-rule:evenodd;stroke:#000000;stroke-width:2.0px;stroke-linecap:butt;stroke-linejoin:miter;stroke-opacity:1\"/>\n",
       "<path class=\"bond-11 atom-11 atom-12\" d=\"M 233.3,40.9 L 247.3,48.9\" style=\"fill:none;fill-rule:evenodd;stroke:#000000;stroke-width:2.0px;stroke-linecap:butt;stroke-linejoin:miter;stroke-opacity:1\"/>\n",
       "<path class=\"bond-12 atom-12 atom-13\" d=\"M 247.3,48.9 L 261.4,41.0\" style=\"fill:none;fill-rule:evenodd;stroke:#000000;stroke-width:2.0px;stroke-linecap:butt;stroke-linejoin:miter;stroke-opacity:1\"/>\n",
       "<path class=\"bond-13 atom-13 atom-14\" d=\"M 261.4,41.0 L 275.1,48.9\" style=\"fill:none;fill-rule:evenodd;stroke:#000000;stroke-width:2.0px;stroke-linecap:butt;stroke-linejoin:miter;stroke-opacity:1\"/>\n",
       "<path class=\"bond-14 atom-14 atom-15\" d=\"M 275.1,48.9 L 288.5,40.9\" style=\"fill:none;fill-rule:evenodd;stroke:#000000;stroke-width:2.0px;stroke-linecap:butt;stroke-linejoin:miter;stroke-opacity:1\"/>\n",
       "<path class=\"bond-15 atom-15 atom-16\" d=\"M 289.7,41.6 L 289.6,35.3\" style=\"fill:none;fill-rule:evenodd;stroke:#000000;stroke-width:2.0px;stroke-linecap:butt;stroke-linejoin:miter;stroke-opacity:1\"/>\n",
       "<path class=\"bond-15 atom-15 atom-16\" d=\"M 289.6,35.3 L 289.5,29.0\" style=\"fill:none;fill-rule:evenodd;stroke:#FF0000;stroke-width:2.0px;stroke-linecap:butt;stroke-linejoin:miter;stroke-opacity:1\"/>\n",
       "<path class=\"bond-15 atom-15 atom-16\" d=\"M 287.3,41.6 L 287.2,35.3\" style=\"fill:none;fill-rule:evenodd;stroke:#000000;stroke-width:2.0px;stroke-linecap:butt;stroke-linejoin:miter;stroke-opacity:1\"/>\n",
       "<path class=\"bond-15 atom-15 atom-16\" d=\"M 287.2,35.3 L 287.1,29.0\" style=\"fill:none;fill-rule:evenodd;stroke:#FF0000;stroke-width:2.0px;stroke-linecap:butt;stroke-linejoin:miter;stroke-opacity:1\"/>\n",
       "<path class=\"bond-16 atom-15 atom-17\" d=\"M 288.5,40.9 L 293.4,43.8\" style=\"fill:none;fill-rule:evenodd;stroke:#000000;stroke-width:2.0px;stroke-linecap:butt;stroke-linejoin:miter;stroke-opacity:1\"/>\n",
       "<path class=\"bond-16 atom-15 atom-17\" d=\"M 293.4,43.8 L 298.4,46.6\" style=\"fill:none;fill-rule:evenodd;stroke:#FF0000;stroke-width:2.0px;stroke-linecap:butt;stroke-linejoin:miter;stroke-opacity:1\"/>\n",
       "<path class=\"bond-17 atom-17 atom-18\" d=\"M 305.7,46.5 L 310.5,43.6\" style=\"fill:none;fill-rule:evenodd;stroke:#FF0000;stroke-width:2.0px;stroke-linecap:butt;stroke-linejoin:miter;stroke-opacity:1\"/>\n",
       "<path class=\"bond-17 atom-17 atom-18\" d=\"M 310.5,43.6 L 315.4,40.7\" style=\"fill:none;fill-rule:evenodd;stroke:#000000;stroke-width:2.0px;stroke-linecap:butt;stroke-linejoin:miter;stroke-opacity:1\"/>\n",
       "<path class=\"bond-18 atom-18 atom-19\" d=\"M 315.4,40.7 L 329.2,48.0\" style=\"fill:none;fill-rule:evenodd;stroke:#000000;stroke-width:2.0px;stroke-linecap:butt;stroke-linejoin:miter;stroke-opacity:1\"/>\n",
       "<path class=\"bond-19 atom-19 atom-20\" d=\"M 330.2,44.7 L 331.0,45.0\" style=\"fill:none;fill-rule:evenodd;stroke:#000000;stroke-width:1.0px;stroke-linecap:butt;stroke-linejoin:miter;stroke-opacity:1\"/>\n",
       "<path class=\"bond-19 atom-19 atom-20\" d=\"M 331.2,41.4 L 332.7,42.0\" style=\"fill:none;fill-rule:evenodd;stroke:#000000;stroke-width:1.0px;stroke-linecap:butt;stroke-linejoin:miter;stroke-opacity:1\"/>\n",
       "<path class=\"bond-19 atom-19 atom-20\" d=\"M 332.3,38.0 L 334.4,39.0\" style=\"fill:none;fill-rule:evenodd;stroke:#000000;stroke-width:1.0px;stroke-linecap:butt;stroke-linejoin:miter;stroke-opacity:1\"/>\n",
       "<path class=\"bond-20 atom-19 atom-21\" d=\"M 329.2,48.0 L 329.3,54.0\" style=\"fill:none;fill-rule:evenodd;stroke:#000000;stroke-width:2.0px;stroke-linecap:butt;stroke-linejoin:miter;stroke-opacity:1\"/>\n",
       "<path class=\"bond-20 atom-19 atom-21\" d=\"M 329.3,54.0 L 329.4,60.0\" style=\"fill:none;fill-rule:evenodd;stroke:#FF0000;stroke-width:2.0px;stroke-linecap:butt;stroke-linejoin:miter;stroke-opacity:1\"/>\n",
       "<path class=\"bond-21 atom-21 atom-22\" d=\"M 325.8,66.2 L 320.8,69.2\" style=\"fill:none;fill-rule:evenodd;stroke:#FF0000;stroke-width:2.0px;stroke-linecap:butt;stroke-linejoin:miter;stroke-opacity:1\"/>\n",
       "<path class=\"bond-21 atom-21 atom-22\" d=\"M 320.8,69.2 L 315.8,72.3\" style=\"fill:none;fill-rule:evenodd;stroke:#000000;stroke-width:2.0px;stroke-linecap:butt;stroke-linejoin:miter;stroke-opacity:1\"/>\n",
       "<path class=\"bond-22 atom-22 atom-23\" d=\"M 317.0,71.6 L 311.5,68.6\" style=\"fill:none;fill-rule:evenodd;stroke:#000000;stroke-width:2.0px;stroke-linecap:butt;stroke-linejoin:miter;stroke-opacity:1\"/>\n",
       "<path class=\"bond-22 atom-22 atom-23\" d=\"M 311.5,68.6 L 305.9,65.6\" style=\"fill:none;fill-rule:evenodd;stroke:#FF0000;stroke-width:2.0px;stroke-linecap:butt;stroke-linejoin:miter;stroke-opacity:1\"/>\n",
       "<path class=\"bond-22 atom-22 atom-23\" d=\"M 315.9,73.6 L 310.3,70.7\" style=\"fill:none;fill-rule:evenodd;stroke:#000000;stroke-width:2.0px;stroke-linecap:butt;stroke-linejoin:miter;stroke-opacity:1\"/>\n",
       "<path class=\"bond-22 atom-22 atom-23\" d=\"M 310.3,70.7 L 304.8,67.7\" style=\"fill:none;fill-rule:evenodd;stroke:#FF0000;stroke-width:2.0px;stroke-linecap:butt;stroke-linejoin:miter;stroke-opacity:1\"/>\n",
       "<path class=\"bond-23 atom-22 atom-24\" d=\"M 315.8,72.3 L 316.2,88.1\" style=\"fill:none;fill-rule:evenodd;stroke:#000000;stroke-width:2.0px;stroke-linecap:butt;stroke-linejoin:miter;stroke-opacity:1\"/>\n",
       "<path class=\"bond-24 atom-24 atom-25\" d=\"M 316.2,88.1 L 302.5,96.2\" style=\"fill:none;fill-rule:evenodd;stroke:#000000;stroke-width:2.0px;stroke-linecap:butt;stroke-linejoin:miter;stroke-opacity:1\"/>\n",
       "<path class=\"bond-25 atom-25 atom-26\" d=\"M 302.5,96.2 L 302.3,112.5\" style=\"fill:none;fill-rule:evenodd;stroke:#000000;stroke-width:2.0px;stroke-linecap:butt;stroke-linejoin:miter;stroke-opacity:1\"/>\n",
       "<path class=\"bond-26 atom-26 atom-27\" d=\"M 302.3,112.5 L 287.9,120.5\" style=\"fill:none;fill-rule:evenodd;stroke:#000000;stroke-width:2.0px;stroke-linecap:butt;stroke-linejoin:miter;stroke-opacity:1\"/>\n",
       "<path class=\"bond-27 atom-27 atom-28\" d=\"M 287.9,120.5 L 286.9,136.0\" style=\"fill:none;fill-rule:evenodd;stroke:#000000;stroke-width:2.0px;stroke-linecap:butt;stroke-linejoin:miter;stroke-opacity:1\"/>\n",
       "<path class=\"bond-28 atom-28 atom-29\" d=\"M 286.9,136.0 L 270.1,143.8\" style=\"fill:none;fill-rule:evenodd;stroke:#000000;stroke-width:2.0px;stroke-linecap:butt;stroke-linejoin:miter;stroke-opacity:1\"/>\n",
       "<path class=\"bond-29 atom-29 atom-30\" d=\"M 270.1,143.8 L 268.3,159.3\" style=\"fill:none;fill-rule:evenodd;stroke:#000000;stroke-width:2.0px;stroke-linecap:butt;stroke-linejoin:miter;stroke-opacity:1\"/>\n",
       "<path class=\"bond-30 atom-30 atom-31\" d=\"M 268.3,159.3 L 285.7,168.6\" style=\"fill:none;fill-rule:evenodd;stroke:#000000;stroke-width:2.0px;stroke-linecap:butt;stroke-linejoin:miter;stroke-opacity:1\"/>\n",
       "<path class=\"bond-31 atom-31 atom-32\" d=\"M 285.7,168.6 L 286.0,186.7\" style=\"fill:none;fill-rule:evenodd;stroke:#000000;stroke-width:2.0px;stroke-linecap:butt;stroke-linejoin:miter;stroke-opacity:1\"/>\n",
       "<path class=\"bond-31 atom-31 atom-32\" d=\"M 283.4,170.1 L 283.6,185.3\" style=\"fill:none;fill-rule:evenodd;stroke:#000000;stroke-width:2.0px;stroke-linecap:butt;stroke-linejoin:miter;stroke-opacity:1\"/>\n",
       "<path class=\"bond-32 atom-32 atom-33\" d=\"M 286.0,186.7 L 271.6,194.2\" style=\"fill:none;fill-rule:evenodd;stroke:#000000;stroke-width:2.0px;stroke-linecap:butt;stroke-linejoin:miter;stroke-opacity:1\"/>\n",
       "<path class=\"bond-33 atom-33 atom-34\" d=\"M 271.6,194.2 L 271.8,208.9\" style=\"fill:none;fill-rule:evenodd;stroke:#000000;stroke-width:2.0px;stroke-linecap:butt;stroke-linejoin:miter;stroke-opacity:1\"/>\n",
       "<path class=\"bond-34 atom-34 atom-35\" d=\"M 271.8,208.9 L 259.6,216.9\" style=\"fill:none;fill-rule:evenodd;stroke:#000000;stroke-width:2.0px;stroke-linecap:butt;stroke-linejoin:miter;stroke-opacity:1\"/>\n",
       "<path class=\"bond-35 atom-35 atom-36\" d=\"M 259.6,216.9 L 260.0,233.3\" style=\"fill:none;fill-rule:evenodd;stroke:#000000;stroke-width:2.0px;stroke-linecap:butt;stroke-linejoin:miter;stroke-opacity:1\"/>\n",
       "<path class=\"bond-36 atom-36 atom-37\" d=\"M 260.0,233.3 L 246.3,241.5\" style=\"fill:none;fill-rule:evenodd;stroke:#000000;stroke-width:2.0px;stroke-linecap:butt;stroke-linejoin:miter;stroke-opacity:1\"/>\n",
       "<path class=\"bond-37 atom-37 atom-38\" d=\"M 246.3,241.5 L 246.2,257.7\" style=\"fill:none;fill-rule:evenodd;stroke:#000000;stroke-width:2.0px;stroke-linecap:butt;stroke-linejoin:miter;stroke-opacity:1\"/>\n",
       "<path class=\"bond-38 atom-38 atom-39\" d=\"M 246.2,257.7 L 232.4,265.7\" style=\"fill:none;fill-rule:evenodd;stroke:#000000;stroke-width:2.0px;stroke-linecap:butt;stroke-linejoin:miter;stroke-opacity:1\"/>\n",
       "<path class=\"bond-39 atom-19 atom-40\" d=\"M 329.2,48.0 L 346.8,48.1\" style=\"fill:none;fill-rule:evenodd;stroke:#000000;stroke-width:2.0px;stroke-linecap:butt;stroke-linejoin:miter;stroke-opacity:1\"/>\n",
       "<path class=\"bond-40 atom-40 atom-41\" d=\"M 346.8,48.1 L 349.6,53.3\" style=\"fill:none;fill-rule:evenodd;stroke:#000000;stroke-width:2.0px;stroke-linecap:butt;stroke-linejoin:miter;stroke-opacity:1\"/>\n",
       "<path class=\"bond-40 atom-40 atom-41\" d=\"M 349.6,53.3 L 352.4,58.5\" style=\"fill:none;fill-rule:evenodd;stroke:#FF0000;stroke-width:2.0px;stroke-linecap:butt;stroke-linejoin:miter;stroke-opacity:1\"/>\n",
       "<path class=\"bond-41 atom-41 atom-42\" d=\"M 358.2,62.6 L 363.0,62.8\" style=\"fill:none;fill-rule:evenodd;stroke:#FF0000;stroke-width:2.0px;stroke-linecap:butt;stroke-linejoin:miter;stroke-opacity:1\"/>\n",
       "<path class=\"bond-41 atom-41 atom-42\" d=\"M 363.0,62.8 L 367.8,62.9\" style=\"fill:none;fill-rule:evenodd;stroke:#FF7F00;stroke-width:2.0px;stroke-linecap:butt;stroke-linejoin:miter;stroke-opacity:1\"/>\n",
       "<path class=\"bond-42 atom-42 atom-43\" d=\"M 370.5,59.1 L 370.5,55.6\" style=\"fill:none;fill-rule:evenodd;stroke:#FF7F00;stroke-width:2.0px;stroke-linecap:butt;stroke-linejoin:miter;stroke-opacity:1\"/>\n",
       "<path class=\"bond-42 atom-42 atom-43\" d=\"M 370.5,55.6 L 370.5,52.1\" style=\"fill:none;fill-rule:evenodd;stroke:#FF0000;stroke-width:2.0px;stroke-linecap:butt;stroke-linejoin:miter;stroke-opacity:1\"/>\n",
       "<path class=\"bond-43 atom-42 atom-44\" d=\"M 373.1,63.0 L 377.9,62.9\" style=\"fill:none;fill-rule:evenodd;stroke:#FF7F00;stroke-width:2.0px;stroke-linecap:butt;stroke-linejoin:miter;stroke-opacity:1\"/>\n",
       "<path class=\"bond-43 atom-42 atom-44\" d=\"M 377.9,62.9 L 382.7,62.8\" style=\"fill:none;fill-rule:evenodd;stroke:#FF0000;stroke-width:2.0px;stroke-linecap:butt;stroke-linejoin:miter;stroke-opacity:1\"/>\n",
       "<path class=\"bond-44 atom-44 atom-45\" d=\"M 388.6,58.8 L 391.5,53.6\" style=\"fill:none;fill-rule:evenodd;stroke:#FF0000;stroke-width:2.0px;stroke-linecap:butt;stroke-linejoin:miter;stroke-opacity:1\"/>\n",
       "<path class=\"bond-44 atom-44 atom-45\" d=\"M 391.5,53.6 L 394.3,48.5\" style=\"fill:none;fill-rule:evenodd;stroke:#000000;stroke-width:2.0px;stroke-linecap:butt;stroke-linejoin:miter;stroke-opacity:1\"/>\n",
       "<path class=\"bond-45 atom-45 atom-46\" d=\"M 394.3,48.5 L 410.2,48.3\" style=\"fill:none;fill-rule:evenodd;stroke:#000000;stroke-width:2.0px;stroke-linecap:butt;stroke-linejoin:miter;stroke-opacity:1\"/>\n",
       "<path class=\"bond-46 atom-46 atom-47\" d=\"M 410.2,48.3 L 413.1,43.3\" style=\"fill:none;fill-rule:evenodd;stroke:#000000;stroke-width:2.0px;stroke-linecap:butt;stroke-linejoin:miter;stroke-opacity:1\"/>\n",
       "<path class=\"bond-46 atom-46 atom-47\" d=\"M 413.1,43.3 L 416.1,38.3\" style=\"fill:none;fill-rule:evenodd;stroke:#0000FF;stroke-width:2.0px;stroke-linecap:butt;stroke-linejoin:miter;stroke-opacity:1\"/>\n",
       "<path class=\"bond-47 atom-47 atom-48\" d=\"M 415.3,32.5 L 411.7,30.3\" style=\"fill:none;fill-rule:evenodd;stroke:#0000FF;stroke-width:2.0px;stroke-linecap:butt;stroke-linejoin:miter;stroke-opacity:1\"/>\n",
       "<path class=\"bond-47 atom-47 atom-48\" d=\"M 411.7,30.3 L 408.1,28.1\" style=\"fill:none;fill-rule:evenodd;stroke:#000000;stroke-width:2.0px;stroke-linecap:butt;stroke-linejoin:miter;stroke-opacity:1\"/>\n",
       "<path class=\"bond-48 atom-47 atom-49\" d=\"M 418.5,30.4 L 418.5,26.4\" style=\"fill:none;fill-rule:evenodd;stroke:#0000FF;stroke-width:2.0px;stroke-linecap:butt;stroke-linejoin:miter;stroke-opacity:1\"/>\n",
       "<path class=\"bond-48 atom-47 atom-49\" d=\"M 418.5,26.4 L 418.6,22.3\" style=\"fill:none;fill-rule:evenodd;stroke:#000000;stroke-width:2.0px;stroke-linecap:butt;stroke-linejoin:miter;stroke-opacity:1\"/>\n",
       "<path class=\"bond-49 atom-47 atom-50\" d=\"M 424.6,34.4 L 427.9,34.5\" style=\"fill:none;fill-rule:evenodd;stroke:#0000FF;stroke-width:2.0px;stroke-linecap:butt;stroke-linejoin:miter;stroke-opacity:1\"/>\n",
       "<path class=\"bond-49 atom-47 atom-50\" d=\"M 427.9,34.5 L 431.2,34.5\" style=\"fill:none;fill-rule:evenodd;stroke:#000000;stroke-width:2.0px;stroke-linecap:butt;stroke-linejoin:miter;stroke-opacity:1\"/>\n",
       "<path class=\"bond-50 atom-42 atom-51\" d=\"M 369.2,66.9 L 369.2,71.0\" style=\"fill:none;fill-rule:evenodd;stroke:#FF7F00;stroke-width:2.0px;stroke-linecap:butt;stroke-linejoin:miter;stroke-opacity:1\"/>\n",
       "<path class=\"bond-50 atom-42 atom-51\" d=\"M 369.2,71.0 L 369.2,75.0\" style=\"fill:none;fill-rule:evenodd;stroke:#FF0000;stroke-width:2.0px;stroke-linecap:butt;stroke-linejoin:miter;stroke-opacity:1\"/>\n",
       "<path class=\"bond-50 atom-42 atom-51\" d=\"M 371.6,66.9 L 371.6,71.0\" style=\"fill:none;fill-rule:evenodd;stroke:#FF7F00;stroke-width:2.0px;stroke-linecap:butt;stroke-linejoin:miter;stroke-opacity:1\"/>\n",
       "<path class=\"bond-50 atom-42 atom-51\" d=\"M 371.6,71.0 L 371.5,75.0\" style=\"fill:none;fill-rule:evenodd;stroke:#FF0000;stroke-width:2.0px;stroke-linecap:butt;stroke-linejoin:miter;stroke-opacity:1\"/>\n",
       "<path class=\"bond-51 atom-0 atom-52\" d=\"M 79.4,49.1 L 84.9,58.9\" style=\"fill:none;fill-rule:evenodd;stroke:#000000;stroke-width:2.0px;stroke-linecap:butt;stroke-linejoin:miter;stroke-opacity:1\"/>\n",
       "<path class=\"bond-52 atom-0 atom-53\" d=\"M 79.4,49.1 L 73.7,59.0\" style=\"fill:none;fill-rule:evenodd;stroke:#000000;stroke-width:2.0px;stroke-linecap:butt;stroke-linejoin:miter;stroke-opacity:1\"/>\n",
       "<path class=\"bond-53 atom-0 atom-54\" d=\"M 79.4,49.1 L 68.8,42.9\" style=\"fill:none;fill-rule:evenodd;stroke:#000000;stroke-width:2.0px;stroke-linecap:butt;stroke-linejoin:miter;stroke-opacity:1\"/>\n",
       "<path class=\"bond-54 atom-1 atom-55\" d=\"M 93.3,41.1 L 98.8,31.2\" style=\"fill:none;fill-rule:evenodd;stroke:#000000;stroke-width:2.0px;stroke-linecap:butt;stroke-linejoin:miter;stroke-opacity:1\"/>\n",
       "<path class=\"bond-55 atom-1 atom-56\" d=\"M 93.3,41.1 L 87.6,31.2\" style=\"fill:none;fill-rule:evenodd;stroke:#000000;stroke-width:2.0px;stroke-linecap:butt;stroke-linejoin:miter;stroke-opacity:1\"/>\n",
       "<path class=\"bond-56 atom-2 atom-57\" d=\"M 107.5,49.0 L 113.0,58.7\" style=\"fill:none;fill-rule:evenodd;stroke:#000000;stroke-width:2.0px;stroke-linecap:butt;stroke-linejoin:miter;stroke-opacity:1\"/>\n",
       "<path class=\"bond-57 atom-2 atom-58\" d=\"M 107.5,49.0 L 102.1,58.9\" style=\"fill:none;fill-rule:evenodd;stroke:#000000;stroke-width:2.0px;stroke-linecap:butt;stroke-linejoin:miter;stroke-opacity:1\"/>\n",
       "<path class=\"bond-58 atom-3 atom-59\" d=\"M 121.5,41.0 L 127.0,31.2\" style=\"fill:none;fill-rule:evenodd;stroke:#000000;stroke-width:2.0px;stroke-linecap:butt;stroke-linejoin:miter;stroke-opacity:1\"/>\n",
       "<path class=\"bond-59 atom-3 atom-60\" d=\"M 121.5,41.0 L 116.0,31.2\" style=\"fill:none;fill-rule:evenodd;stroke:#000000;stroke-width:2.0px;stroke-linecap:butt;stroke-linejoin:miter;stroke-opacity:1\"/>\n",
       "<path class=\"bond-60 atom-4 atom-61\" d=\"M 135.5,48.9 L 141.0,58.6\" style=\"fill:none;fill-rule:evenodd;stroke:#000000;stroke-width:2.0px;stroke-linecap:butt;stroke-linejoin:miter;stroke-opacity:1\"/>\n",
       "<path class=\"bond-61 atom-4 atom-62\" d=\"M 135.5,48.9 L 130.2,58.7\" style=\"fill:none;fill-rule:evenodd;stroke:#000000;stroke-width:2.0px;stroke-linecap:butt;stroke-linejoin:miter;stroke-opacity:1\"/>\n",
       "<path class=\"bond-62 atom-5 atom-63\" d=\"M 149.5,41.0 L 154.9,31.2\" style=\"fill:none;fill-rule:evenodd;stroke:#000000;stroke-width:2.0px;stroke-linecap:butt;stroke-linejoin:miter;stroke-opacity:1\"/>\n",
       "<path class=\"bond-63 atom-5 atom-64\" d=\"M 149.5,41.0 L 144.1,31.2\" style=\"fill:none;fill-rule:evenodd;stroke:#000000;stroke-width:2.0px;stroke-linecap:butt;stroke-linejoin:miter;stroke-opacity:1\"/>\n",
       "<path class=\"bond-64 atom-6 atom-65\" d=\"M 163.5,48.9 L 168.8,58.6\" style=\"fill:none;fill-rule:evenodd;stroke:#000000;stroke-width:2.0px;stroke-linecap:butt;stroke-linejoin:miter;stroke-opacity:1\"/>\n",
       "<path class=\"bond-65 atom-6 atom-66\" d=\"M 163.5,48.9 L 158.1,58.6\" style=\"fill:none;fill-rule:evenodd;stroke:#000000;stroke-width:2.0px;stroke-linecap:butt;stroke-linejoin:miter;stroke-opacity:1\"/>\n",
       "<path class=\"bond-66 atom-7 atom-67\" d=\"M 177.4,40.9 L 182.8,31.2\" style=\"fill:none;fill-rule:evenodd;stroke:#000000;stroke-width:2.0px;stroke-linecap:butt;stroke-linejoin:miter;stroke-opacity:1\"/>\n",
       "<path class=\"bond-67 atom-7 atom-68\" d=\"M 177.4,40.9 L 172.0,31.2\" style=\"fill:none;fill-rule:evenodd;stroke:#000000;stroke-width:2.0px;stroke-linecap:butt;stroke-linejoin:miter;stroke-opacity:1\"/>\n",
       "<path class=\"bond-68 atom-8 atom-69\" d=\"M 191.3,48.9 L 186.0,58.6\" style=\"fill:none;fill-rule:evenodd;stroke:#000000;stroke-width:2.0px;stroke-linecap:butt;stroke-linejoin:miter;stroke-opacity:1\"/>\n",
       "<path class=\"bond-69 atom-8 atom-70\" d=\"M 191.3,48.9 L 196.7,58.6\" style=\"fill:none;fill-rule:evenodd;stroke:#000000;stroke-width:2.0px;stroke-linecap:butt;stroke-linejoin:miter;stroke-opacity:1\"/>\n",
       "<path class=\"bond-70 atom-9 atom-71\" d=\"M 205.3,40.9 L 199.9,31.2\" style=\"fill:none;fill-rule:evenodd;stroke:#000000;stroke-width:2.0px;stroke-linecap:butt;stroke-linejoin:miter;stroke-opacity:1\"/>\n",
       "<path class=\"bond-71 atom-9 atom-72\" d=\"M 205.3,40.9 L 210.7,31.2\" style=\"fill:none;fill-rule:evenodd;stroke:#000000;stroke-width:2.0px;stroke-linecap:butt;stroke-linejoin:miter;stroke-opacity:1\"/>\n",
       "<path class=\"bond-72 atom-10 atom-73\" d=\"M 219.2,48.9 L 213.8,58.6\" style=\"fill:none;fill-rule:evenodd;stroke:#000000;stroke-width:2.0px;stroke-linecap:butt;stroke-linejoin:miter;stroke-opacity:1\"/>\n",
       "<path class=\"bond-73 atom-10 atom-74\" d=\"M 219.2,48.9 L 224.6,58.6\" style=\"fill:none;fill-rule:evenodd;stroke:#000000;stroke-width:2.0px;stroke-linecap:butt;stroke-linejoin:miter;stroke-opacity:1\"/>\n",
       "<path class=\"bond-74 atom-11 atom-75\" d=\"M 233.3,40.9 L 227.8,31.1\" style=\"fill:none;fill-rule:evenodd;stroke:#000000;stroke-width:2.0px;stroke-linecap:butt;stroke-linejoin:miter;stroke-opacity:1\"/>\n",
       "<path class=\"bond-75 atom-11 atom-76\" d=\"M 233.3,40.9 L 238.8,31.1\" style=\"fill:none;fill-rule:evenodd;stroke:#000000;stroke-width:2.0px;stroke-linecap:butt;stroke-linejoin:miter;stroke-opacity:1\"/>\n",
       "<path class=\"bond-76 atom-12 atom-77\" d=\"M 247.3,48.9 L 241.8,58.6\" style=\"fill:none;fill-rule:evenodd;stroke:#000000;stroke-width:2.0px;stroke-linecap:butt;stroke-linejoin:miter;stroke-opacity:1\"/>\n",
       "<path class=\"bond-77 atom-12 atom-78\" d=\"M 247.3,48.9 L 252.7,58.7\" style=\"fill:none;fill-rule:evenodd;stroke:#000000;stroke-width:2.0px;stroke-linecap:butt;stroke-linejoin:miter;stroke-opacity:1\"/>\n",
       "<path class=\"bond-78 atom-13 atom-79\" d=\"M 261.4,41.0 L 255.9,31.1\" style=\"fill:none;fill-rule:evenodd;stroke:#000000;stroke-width:2.0px;stroke-linecap:butt;stroke-linejoin:miter;stroke-opacity:1\"/>\n",
       "<path class=\"bond-79 atom-13 atom-80\" d=\"M 261.4,41.0 L 267.1,31.1\" style=\"fill:none;fill-rule:evenodd;stroke:#000000;stroke-width:2.0px;stroke-linecap:butt;stroke-linejoin:miter;stroke-opacity:1\"/>\n",
       "<path class=\"bond-80 atom-14 atom-81\" d=\"M 275.1,48.9 L 269.7,58.8\" style=\"fill:none;fill-rule:evenodd;stroke:#000000;stroke-width:2.0px;stroke-linecap:butt;stroke-linejoin:miter;stroke-opacity:1\"/>\n",
       "<path class=\"bond-81 atom-14 atom-82\" d=\"M 275.1,48.9 L 281.0,58.7\" style=\"fill:none;fill-rule:evenodd;stroke:#000000;stroke-width:2.0px;stroke-linecap:butt;stroke-linejoin:miter;stroke-opacity:1\"/>\n",
       "<path class=\"bond-82 atom-18 atom-83\" d=\"M 315.4,40.7 L 309.5,30.8\" style=\"fill:none;fill-rule:evenodd;stroke:#000000;stroke-width:2.0px;stroke-linecap:butt;stroke-linejoin:miter;stroke-opacity:1\"/>\n",
       "<path class=\"bond-83 atom-18 atom-84\" d=\"M 315.4,40.7 L 320.9,30.5\" style=\"fill:none;fill-rule:evenodd;stroke:#000000;stroke-width:2.0px;stroke-linecap:butt;stroke-linejoin:miter;stroke-opacity:1\"/>\n",
       "<path class=\"bond-84 atom-24 atom-85\" d=\"M 316.2,88.1 L 329.0,87.8\" style=\"fill:none;fill-rule:evenodd;stroke:#000000;stroke-width:2.0px;stroke-linecap:butt;stroke-linejoin:miter;stroke-opacity:1\"/>\n",
       "<path class=\"bond-85 atom-24 atom-86\" d=\"M 316.2,88.1 L 322.1,97.7\" style=\"fill:none;fill-rule:evenodd;stroke:#000000;stroke-width:2.0px;stroke-linecap:butt;stroke-linejoin:miter;stroke-opacity:1\"/>\n",
       "<path class=\"bond-86 atom-25 atom-87\" d=\"M 302.5,96.2 L 296.8,86.3\" style=\"fill:none;fill-rule:evenodd;stroke:#000000;stroke-width:2.0px;stroke-linecap:butt;stroke-linejoin:miter;stroke-opacity:1\"/>\n",
       "<path class=\"bond-87 atom-25 atom-88\" d=\"M 302.5,96.2 L 289.9,96.0\" style=\"fill:none;fill-rule:evenodd;stroke:#000000;stroke-width:2.0px;stroke-linecap:butt;stroke-linejoin:miter;stroke-opacity:1\"/>\n",
       "<path class=\"bond-88 atom-26 atom-89\" d=\"M 302.3,112.5 L 315.0,112.7\" style=\"fill:none;fill-rule:evenodd;stroke:#000000;stroke-width:2.0px;stroke-linecap:butt;stroke-linejoin:miter;stroke-opacity:1\"/>\n",
       "<path class=\"bond-89 atom-26 atom-90\" d=\"M 302.3,112.5 L 307.9,122.3\" style=\"fill:none;fill-rule:evenodd;stroke:#000000;stroke-width:2.0px;stroke-linecap:butt;stroke-linejoin:miter;stroke-opacity:1\"/>\n",
       "<path class=\"bond-90 atom-27 atom-91\" d=\"M 287.9,120.5 L 282.4,110.8\" style=\"fill:none;fill-rule:evenodd;stroke:#000000;stroke-width:2.0px;stroke-linecap:butt;stroke-linejoin:miter;stroke-opacity:1\"/>\n",
       "<path class=\"bond-91 atom-27 atom-92\" d=\"M 287.9,120.5 L 275.4,120.1\" style=\"fill:none;fill-rule:evenodd;stroke:#000000;stroke-width:2.0px;stroke-linecap:butt;stroke-linejoin:miter;stroke-opacity:1\"/>\n",
       "<path class=\"bond-92 atom-28 atom-93\" d=\"M 286.9,136.0 L 299.9,136.7\" style=\"fill:none;fill-rule:evenodd;stroke:#000000;stroke-width:2.0px;stroke-linecap:butt;stroke-linejoin:miter;stroke-opacity:1\"/>\n",
       "<path class=\"bond-93 atom-28 atom-94\" d=\"M 286.9,136.0 L 292.3,145.6\" style=\"fill:none;fill-rule:evenodd;stroke:#000000;stroke-width:2.0px;stroke-linecap:butt;stroke-linejoin:miter;stroke-opacity:1\"/>\n",
       "<path class=\"bond-94 atom-29 atom-95\" d=\"M 270.1,143.8 L 265.6,133.7\" style=\"fill:none;fill-rule:evenodd;stroke:#000000;stroke-width:2.0px;stroke-linecap:butt;stroke-linejoin:miter;stroke-opacity:1\"/>\n",
       "<path class=\"bond-95 atom-29 atom-96\" d=\"M 270.1,143.8 L 258.2,142.8\" style=\"fill:none;fill-rule:evenodd;stroke:#000000;stroke-width:2.0px;stroke-linecap:butt;stroke-linejoin:miter;stroke-opacity:1\"/>\n",
       "<path class=\"bond-96 atom-30 atom-97\" d=\"M 268.3,159.3 L 257.0,161.7\" style=\"fill:none;fill-rule:evenodd;stroke:#000000;stroke-width:2.0px;stroke-linecap:butt;stroke-linejoin:miter;stroke-opacity:1\"/>\n",
       "<path class=\"bond-97 atom-30 atom-98\" d=\"M 268.3,159.3 L 268.3,167.7\" style=\"fill:none;fill-rule:evenodd;stroke:#000000;stroke-width:2.0px;stroke-linecap:butt;stroke-linejoin:miter;stroke-opacity:1\"/>\n",
       "<path class=\"bond-98 atom-31 atom-99\" d=\"M 285.7,168.6 L 296.4,162.9\" style=\"fill:none;fill-rule:evenodd;stroke:#000000;stroke-width:2.0px;stroke-linecap:butt;stroke-linejoin:miter;stroke-opacity:1\"/>\n",
       "<path class=\"bond-99 atom-32 atom-100\" d=\"M 286.0,186.7 L 296.6,192.9\" style=\"fill:none;fill-rule:evenodd;stroke:#000000;stroke-width:2.0px;stroke-linecap:butt;stroke-linejoin:miter;stroke-opacity:1\"/>\n",
       "<path class=\"bond-100 atom-33 atom-101\" d=\"M 271.6,194.2 L 271.6,185.8\" style=\"fill:none;fill-rule:evenodd;stroke:#000000;stroke-width:2.0px;stroke-linecap:butt;stroke-linejoin:miter;stroke-opacity:1\"/>\n",
       "<path class=\"bond-101 atom-33 atom-102\" d=\"M 271.6,194.2 L 258.8,191.4\" style=\"fill:none;fill-rule:evenodd;stroke:#000000;stroke-width:2.0px;stroke-linecap:butt;stroke-linejoin:miter;stroke-opacity:1\"/>\n",
       "<path class=\"bond-102 atom-34 atom-103\" d=\"M 271.8,208.9 L 284.5,207.8\" style=\"fill:none;fill-rule:evenodd;stroke:#000000;stroke-width:2.0px;stroke-linecap:butt;stroke-linejoin:miter;stroke-opacity:1\"/>\n",
       "<path class=\"bond-103 atom-34 atom-104\" d=\"M 271.8,208.9 L 278.2,217.6\" style=\"fill:none;fill-rule:evenodd;stroke:#000000;stroke-width:2.0px;stroke-linecap:butt;stroke-linejoin:miter;stroke-opacity:1\"/>\n",
       "<path class=\"bond-104 atom-35 atom-105\" d=\"M 259.6,216.9 L 253.8,207.4\" style=\"fill:none;fill-rule:evenodd;stroke:#000000;stroke-width:2.0px;stroke-linecap:butt;stroke-linejoin:miter;stroke-opacity:1\"/>\n",
       "<path class=\"bond-105 atom-35 atom-106\" d=\"M 259.6,216.9 L 247.5,216.9\" style=\"fill:none;fill-rule:evenodd;stroke:#000000;stroke-width:2.0px;stroke-linecap:butt;stroke-linejoin:miter;stroke-opacity:1\"/>\n",
       "<path class=\"bond-106 atom-36 atom-107\" d=\"M 260.0,233.3 L 272.6,233.2\" style=\"fill:none;fill-rule:evenodd;stroke:#000000;stroke-width:2.0px;stroke-linecap:butt;stroke-linejoin:miter;stroke-opacity:1\"/>\n",
       "<path class=\"bond-107 atom-36 atom-108\" d=\"M 260.0,233.3 L 265.9,242.8\" style=\"fill:none;fill-rule:evenodd;stroke:#000000;stroke-width:2.0px;stroke-linecap:butt;stroke-linejoin:miter;stroke-opacity:1\"/>\n",
       "<path class=\"bond-108 atom-37 atom-109\" d=\"M 246.3,241.5 L 240.7,232.1\" style=\"fill:none;fill-rule:evenodd;stroke:#000000;stroke-width:2.0px;stroke-linecap:butt;stroke-linejoin:miter;stroke-opacity:1\"/>\n",
       "<path class=\"bond-109 atom-37 atom-110\" d=\"M 246.3,241.5 L 234.0,241.2\" style=\"fill:none;fill-rule:evenodd;stroke:#000000;stroke-width:2.0px;stroke-linecap:butt;stroke-linejoin:miter;stroke-opacity:1\"/>\n",
       "<path class=\"bond-110 atom-38 atom-111\" d=\"M 246.2,257.7 L 258.9,257.8\" style=\"fill:none;fill-rule:evenodd;stroke:#000000;stroke-width:2.0px;stroke-linecap:butt;stroke-linejoin:miter;stroke-opacity:1\"/>\n",
       "<path class=\"bond-111 atom-38 atom-112\" d=\"M 246.2,257.7 L 252.0,267.5\" style=\"fill:none;fill-rule:evenodd;stroke:#000000;stroke-width:2.0px;stroke-linecap:butt;stroke-linejoin:miter;stroke-opacity:1\"/>\n",
       "<path class=\"bond-112 atom-39 atom-113\" d=\"M 232.4,265.7 L 226.6,256.1\" style=\"fill:none;fill-rule:evenodd;stroke:#000000;stroke-width:2.0px;stroke-linecap:butt;stroke-linejoin:miter;stroke-opacity:1\"/>\n",
       "<path class=\"bond-113 atom-39 atom-114\" d=\"M 232.4,265.7 L 219.6,265.8\" style=\"fill:none;fill-rule:evenodd;stroke:#000000;stroke-width:2.0px;stroke-linecap:butt;stroke-linejoin:miter;stroke-opacity:1\"/>\n",
       "<path class=\"bond-114 atom-39 atom-115\" d=\"M 232.4,265.7 L 232.4,277.7\" style=\"fill:none;fill-rule:evenodd;stroke:#000000;stroke-width:2.0px;stroke-linecap:butt;stroke-linejoin:miter;stroke-opacity:1\"/>\n",
       "<path class=\"bond-115 atom-40 atom-116\" d=\"M 346.8,48.1 L 347.8,36.2\" style=\"fill:none;fill-rule:evenodd;stroke:#000000;stroke-width:2.0px;stroke-linecap:butt;stroke-linejoin:miter;stroke-opacity:1\"/>\n",
       "<path class=\"bond-116 atom-40 atom-117\" d=\"M 346.8,48.1 L 356.9,42.4\" style=\"fill:none;fill-rule:evenodd;stroke:#000000;stroke-width:2.0px;stroke-linecap:butt;stroke-linejoin:miter;stroke-opacity:1\"/>\n",
       "<path class=\"bond-117 atom-45 atom-118\" d=\"M 394.3,48.5 L 384.1,42.4\" style=\"fill:none;fill-rule:evenodd;stroke:#000000;stroke-width:2.0px;stroke-linecap:butt;stroke-linejoin:miter;stroke-opacity:1\"/>\n",
       "<path class=\"bond-118 atom-45 atom-119\" d=\"M 394.3,48.5 L 394.1,36.7\" style=\"fill:none;fill-rule:evenodd;stroke:#000000;stroke-width:2.0px;stroke-linecap:butt;stroke-linejoin:miter;stroke-opacity:1\"/>\n",
       "<path class=\"bond-119 atom-46 atom-120\" d=\"M 410.2,48.3 L 410.1,60.4\" style=\"fill:none;fill-rule:evenodd;stroke:#000000;stroke-width:2.0px;stroke-linecap:butt;stroke-linejoin:miter;stroke-opacity:1\"/>\n",
       "<path class=\"bond-120 atom-46 atom-121\" d=\"M 410.2,48.3 L 420.7,54.6\" style=\"fill:none;fill-rule:evenodd;stroke:#000000;stroke-width:2.0px;stroke-linecap:butt;stroke-linejoin:miter;stroke-opacity:1\"/>\n",
       "<path d=\"M 287.8,41.3 L 288.5,40.9 L 288.7,41.1\" style=\"fill:none;stroke:#000000;stroke-width:2.0px;stroke-linecap:butt;stroke-linejoin:miter;stroke-opacity:1;\"/>\n",
       "<path d=\"M 316.1,72.1 L 315.8,72.3 L 315.8,73.1\" style=\"fill:none;stroke:#000000;stroke-width:2.0px;stroke-linecap:butt;stroke-linejoin:miter;stroke-opacity:1;\"/>\n",
       "<path class=\"atom-16\" d=\"M 285.2 24.9 Q 285.2 23.3, 286.0 22.4 Q 286.8 21.5, 288.3 21.5 Q 289.8 21.5, 290.6 22.4 Q 291.4 23.3, 291.4 24.9 Q 291.4 26.6, 290.6 27.5 Q 289.8 28.5, 288.3 28.5 Q 286.8 28.5, 286.0 27.5 Q 285.2 26.6, 285.2 24.9 M 288.3 27.7 Q 289.3 27.7, 289.9 27.0 Q 290.4 26.3, 290.4 24.9 Q 290.4 23.6, 289.9 22.9 Q 289.3 22.2, 288.3 22.2 Q 287.2 22.2, 286.7 22.9 Q 286.1 23.6, 286.1 24.9 Q 286.1 26.3, 286.7 27.0 Q 287.2 27.7, 288.3 27.7 \" fill=\"#FF0000\"/>\n",
       "<path class=\"atom-17\" d=\"M 298.9 48.7 Q 298.9 47.1, 299.7 46.2 Q 300.6 45.3, 302.1 45.3 Q 303.6 45.3, 304.4 46.2 Q 305.2 47.1, 305.2 48.7 Q 305.2 50.4, 304.4 51.3 Q 303.5 52.3, 302.1 52.3 Q 300.6 52.3, 299.7 51.3 Q 298.9 50.4, 298.9 48.7 M 302.1 51.5 Q 303.1 51.5, 303.7 50.8 Q 304.2 50.1, 304.2 48.7 Q 304.2 47.4, 303.7 46.7 Q 303.1 46.1, 302.1 46.1 Q 301.0 46.1, 300.5 46.7 Q 299.9 47.4, 299.9 48.7 Q 299.9 50.1, 300.5 50.8 Q 301.0 51.5, 302.1 51.5 \" fill=\"#FF0000\"/>\n",
       "<path class=\"atom-20\" d=\"M 332.6 30.6 L 333.5 30.6 L 333.5 33.5 L 337.0 33.5 L 337.0 30.6 L 337.9 30.6 L 337.9 37.4 L 337.0 37.4 L 337.0 34.3 L 333.5 34.3 L 333.5 37.4 L 332.6 37.4 L 332.6 30.6 \" fill=\"#000000\"/>\n",
       "<path class=\"atom-21\" d=\"M 326.3 64.0 Q 326.3 62.4, 327.1 61.5 Q 328.0 60.6, 329.5 60.6 Q 331.0 60.6, 331.8 61.5 Q 332.6 62.4, 332.6 64.0 Q 332.6 65.7, 331.8 66.6 Q 330.9 67.5, 329.5 67.5 Q 328.0 67.5, 327.1 66.6 Q 326.3 65.7, 326.3 64.0 M 329.5 66.8 Q 330.5 66.8, 331.1 66.1 Q 331.6 65.4, 331.6 64.0 Q 331.6 62.7, 331.1 62.0 Q 330.5 61.3, 329.5 61.3 Q 328.4 61.3, 327.9 62.0 Q 327.3 62.7, 327.3 64.0 Q 327.3 65.4, 327.9 66.1 Q 328.4 66.8, 329.5 66.8 \" fill=\"#FF0000\"/>\n",
       "<path class=\"atom-23\" d=\"M 298.6 64.7 Q 298.6 63.1, 299.4 62.1 Q 300.2 61.2, 301.7 61.2 Q 303.2 61.2, 304.0 62.1 Q 304.8 63.1, 304.8 64.7 Q 304.8 66.3, 304.0 67.3 Q 303.2 68.2, 301.7 68.2 Q 300.2 68.2, 299.4 67.3 Q 298.6 66.3, 298.6 64.7 M 301.7 67.4 Q 302.8 67.4, 303.3 66.7 Q 303.9 66.0, 303.9 64.7 Q 303.9 63.3, 303.3 62.7 Q 302.8 62.0, 301.7 62.0 Q 300.7 62.0, 300.1 62.7 Q 299.6 63.3, 299.6 64.7 Q 299.6 66.1, 300.1 66.7 Q 300.7 67.4, 301.7 67.4 \" fill=\"#FF0000\"/>\n",
       "<path class=\"atom-41\" d=\"M 351.5 62.5 Q 351.5 60.9, 352.3 60.0 Q 353.1 59.1, 354.6 59.1 Q 356.1 59.1, 356.9 60.0 Q 357.7 60.9, 357.7 62.5 Q 357.7 64.2, 356.9 65.1 Q 356.1 66.0, 354.6 66.0 Q 353.1 66.0, 352.3 65.1 Q 351.5 64.2, 351.5 62.5 M 354.6 65.3 Q 355.6 65.3, 356.2 64.6 Q 356.7 63.9, 356.7 62.5 Q 356.7 61.2, 356.2 60.5 Q 355.6 59.8, 354.6 59.8 Q 353.5 59.8, 353.0 60.5 Q 352.4 61.2, 352.4 62.5 Q 352.4 63.9, 353.0 64.6 Q 353.5 65.3, 354.6 65.3 \" fill=\"#FF0000\"/>\n",
       "<path class=\"atom-42\" d=\"M 370.3 59.6 Q 371.5 59.6, 372.0 60.1 Q 372.6 60.7, 372.6 61.6 Q 372.6 62.5, 372.0 63.1 Q 371.4 63.6, 370.3 63.6 L 369.2 63.6 L 369.2 66.4 L 368.3 66.4 L 368.3 59.6 L 370.3 59.6 M 370.3 62.8 Q 371.0 62.8, 371.3 62.5 Q 371.7 62.2, 371.7 61.6 Q 371.7 61.0, 371.3 60.7 Q 371.0 60.4, 370.3 60.4 L 369.2 60.4 L 369.2 62.8 L 370.3 62.8 \" fill=\"#FF7F00\"/>\n",
       "<path class=\"atom-43\" d=\"M 367.4 48.1 Q 367.4 46.4, 368.2 45.5 Q 369.0 44.6, 370.5 44.6 Q 372.0 44.6, 372.9 45.5 Q 373.7 46.4, 373.7 48.1 Q 373.7 49.7, 372.8 50.6 Q 372.0 51.6, 370.5 51.6 Q 369.0 51.6, 368.2 50.6 Q 367.4 49.7, 367.4 48.1 M 370.5 50.8 Q 371.6 50.8, 372.1 50.1 Q 372.7 49.4, 372.7 48.1 Q 372.7 46.7, 372.1 46.1 Q 371.6 45.4, 370.5 45.4 Q 369.5 45.4, 368.9 46.0 Q 368.4 46.7, 368.4 48.1 Q 368.4 49.4, 368.9 50.1 Q 369.5 50.8, 370.5 50.8 \" fill=\"#FF0000\"/>\n",
       "<path class=\"atom-43\" d=\"M 374.6 45.7 L 377.0 45.7 L 377.0 46.2 L 374.6 46.2 L 374.6 45.7 \" fill=\"#FF0000\"/>\n",
       "<path class=\"atom-44\" d=\"M 383.2 62.8 Q 383.2 61.1, 384.0 60.2 Q 384.9 59.3, 386.4 59.3 Q 387.9 59.3, 388.7 60.2 Q 389.5 61.1, 389.5 62.8 Q 389.5 64.4, 388.7 65.4 Q 387.8 66.3, 386.4 66.3 Q 384.9 66.3, 384.0 65.4 Q 383.2 64.4, 383.2 62.8 M 386.4 65.5 Q 387.4 65.5, 388.0 64.8 Q 388.5 64.1, 388.5 62.8 Q 388.5 61.4, 388.0 60.8 Q 387.4 60.1, 386.4 60.1 Q 385.3 60.1, 384.8 60.8 Q 384.2 61.4, 384.2 62.8 Q 384.2 64.1, 384.8 64.8 Q 385.3 65.5, 386.4 65.5 \" fill=\"#FF0000\"/>\n",
       "<path class=\"atom-47\" d=\"M 416.9 31.0 L 419.2 34.6 Q 419.4 34.9, 419.7 35.6 Q 420.1 36.2, 420.1 36.2 L 420.1 31.0 L 421.0 31.0 L 421.0 37.8 L 420.1 37.8 L 417.7 33.8 Q 417.4 33.4, 417.1 32.8 Q 416.8 32.3, 416.7 32.1 L 416.7 37.8 L 415.9 37.8 L 415.9 31.0 L 416.9 31.0 \" fill=\"#0000FF\"/>\n",
       "<path class=\"atom-47\" d=\"M 422.3 32.2 L 423.5 32.2 L 423.5 30.9 L 424.0 30.9 L 424.0 32.2 L 425.2 32.2 L 425.2 32.6 L 424.0 32.6 L 424.0 33.9 L 423.5 33.9 L 423.5 32.6 L 422.3 32.6 L 422.3 32.2 \" fill=\"#0000FF\"/>\n",
       "<path class=\"atom-48\" d=\"M 402.3 22.7 L 403.2 22.7 L 403.2 25.6 L 406.7 25.6 L 406.7 22.7 L 407.6 22.7 L 407.6 29.5 L 406.7 29.5 L 406.7 26.4 L 403.2 26.4 L 403.2 29.5 L 402.3 29.5 L 402.3 22.7 \" fill=\"#000000\"/>\n",
       "<path class=\"atom-49\" d=\"M 416.0 15.0 L 416.9 15.0 L 416.9 17.9 L 420.4 17.9 L 420.4 15.0 L 421.3 15.0 L 421.3 21.8 L 420.4 21.8 L 420.4 18.7 L 416.9 18.7 L 416.9 21.8 L 416.0 21.8 L 416.0 15.0 \" fill=\"#000000\"/>\n",
       "<path class=\"atom-50\" d=\"M 431.7 31.2 L 432.6 31.2 L 432.6 34.0 L 436.1 34.0 L 436.1 31.2 L 437.0 31.2 L 437.0 38.0 L 436.1 38.0 L 436.1 34.8 L 432.6 34.8 L 432.6 38.0 L 431.7 38.0 L 431.7 31.2 \" fill=\"#000000\"/>\n",
       "<path class=\"atom-51\" d=\"M 367.2 79.0 Q 367.2 77.3, 368.0 76.4 Q 368.8 75.5, 370.3 75.5 Q 371.8 75.5, 372.6 76.4 Q 373.4 77.3, 373.4 79.0 Q 373.4 80.6, 372.6 81.6 Q 371.8 82.5, 370.3 82.5 Q 368.8 82.5, 368.0 81.6 Q 367.2 80.6, 367.2 79.0 M 370.3 81.7 Q 371.4 81.7, 371.9 81.0 Q 372.5 80.3, 372.5 79.0 Q 372.5 77.6, 371.9 77.0 Q 371.4 76.3, 370.3 76.3 Q 369.3 76.3, 368.7 77.0 Q 368.2 77.6, 368.2 79.0 Q 368.2 80.4, 368.7 81.0 Q 369.3 81.7, 370.3 81.7 \" fill=\"#FF0000\"/>\n",
       "<path class=\"atom-52\" d=\"M 84.5 59.5 L 85.4 59.5 L 85.4 62.4 L 88.9 62.4 L 88.9 59.5 L 89.8 59.5 L 89.8 66.3 L 88.9 66.3 L 88.9 63.1 L 85.4 63.1 L 85.4 66.3 L 84.5 66.3 L 84.5 59.5 \" fill=\"#000000\"/>\n",
       "<path class=\"atom-53\" d=\"M 68.8 59.5 L 69.7 59.5 L 69.7 62.4 L 73.1 62.4 L 73.1 59.5 L 74.1 59.5 L 74.1 66.3 L 73.1 66.3 L 73.1 63.1 L 69.7 63.1 L 69.7 66.3 L 68.8 66.3 L 68.8 59.5 \" fill=\"#000000\"/>\n",
       "<path class=\"atom-54\" d=\"M 63.0 37.7 L 63.9 37.7 L 63.9 40.6 L 67.4 40.6 L 67.4 37.7 L 68.3 37.7 L 68.3 44.5 L 67.4 44.5 L 67.4 41.3 L 63.9 41.3 L 63.9 44.5 L 63.0 44.5 L 63.0 37.7 \" fill=\"#000000\"/>\n",
       "<path class=\"atom-55\" d=\"M 98.3 23.8 L 99.2 23.8 L 99.2 26.7 L 102.7 26.7 L 102.7 23.8 L 103.6 23.8 L 103.6 30.6 L 102.7 30.6 L 102.7 27.5 L 99.2 27.5 L 99.2 30.6 L 98.3 30.6 L 98.3 23.8 \" fill=\"#000000\"/>\n",
       "<path class=\"atom-56\" d=\"M 82.6 23.9 L 83.6 23.9 L 83.6 26.8 L 87.0 26.8 L 87.0 23.9 L 88.0 23.9 L 88.0 30.7 L 87.0 30.7 L 87.0 27.6 L 83.6 27.6 L 83.6 30.7 L 82.6 30.7 L 82.6 23.9 \" fill=\"#000000\"/>\n",
       "<path class=\"atom-57\" d=\"M 112.6 59.3 L 113.5 59.3 L 113.5 62.1 L 117.0 62.1 L 117.0 59.3 L 117.9 59.3 L 117.9 66.1 L 117.0 66.1 L 117.0 62.9 L 113.5 62.9 L 113.5 66.1 L 112.6 66.1 L 112.6 59.3 \" fill=\"#000000\"/>\n",
       "<path class=\"atom-58\" d=\"M 97.3 59.4 L 98.3 59.4 L 98.3 62.3 L 101.7 62.3 L 101.7 59.4 L 102.6 59.4 L 102.6 66.2 L 101.7 66.2 L 101.7 63.0 L 98.3 63.0 L 98.3 66.2 L 97.3 66.2 L 97.3 59.4 \" fill=\"#000000\"/>\n",
       "<path class=\"atom-59\" d=\"M 126.5 23.9 L 127.4 23.9 L 127.4 26.7 L 130.9 26.7 L 130.9 23.9 L 131.8 23.9 L 131.8 30.6 L 130.9 30.6 L 130.9 27.5 L 127.4 27.5 L 127.4 30.6 L 126.5 30.6 L 126.5 23.9 \" fill=\"#000000\"/>\n",
       "<path class=\"atom-60\" d=\"M 111.2 23.9 L 112.1 23.9 L 112.1 26.8 L 115.6 26.8 L 115.6 23.9 L 116.5 23.9 L 116.5 30.7 L 115.6 30.7 L 115.6 27.5 L 112.1 27.5 L 112.1 30.7 L 111.2 30.7 L 111.2 23.9 \" fill=\"#000000\"/>\n",
       "<path class=\"atom-61\" d=\"M 140.5 59.2 L 141.5 59.2 L 141.5 62.1 L 144.9 62.1 L 144.9 59.2 L 145.9 59.2 L 145.9 66.0 L 144.9 66.0 L 144.9 62.8 L 141.5 62.8 L 141.5 66.0 L 140.5 66.0 L 140.5 59.2 \" fill=\"#000000\"/>\n",
       "<path class=\"atom-62\" d=\"M 125.4 59.2 L 126.4 59.2 L 126.4 62.1 L 129.8 62.1 L 129.8 59.2 L 130.7 59.2 L 130.7 66.0 L 129.8 66.0 L 129.8 62.9 L 126.4 62.9 L 126.4 66.0 L 125.4 66.0 L 125.4 59.2 \" fill=\"#000000\"/>\n",
       "<path class=\"atom-63\" d=\"M 154.4 23.9 L 155.3 23.9 L 155.3 26.8 L 158.8 26.8 L 158.8 23.9 L 159.7 23.9 L 159.7 30.7 L 158.8 30.7 L 158.8 27.5 L 155.3 27.5 L 155.3 30.7 L 154.4 30.7 L 154.4 23.9 \" fill=\"#000000\"/>\n",
       "<path class=\"atom-64\" d=\"M 139.3 23.9 L 140.2 23.9 L 140.2 26.8 L 143.7 26.8 L 143.7 23.9 L 144.6 23.9 L 144.6 30.7 L 143.7 30.7 L 143.7 27.5 L 140.2 27.5 L 140.2 30.7 L 139.3 30.7 L 139.3 23.9 \" fill=\"#000000\"/>\n",
       "<path class=\"atom-65\" d=\"M 168.3 59.1 L 169.3 59.1 L 169.3 62.0 L 172.7 62.0 L 172.7 59.1 L 173.7 59.1 L 173.7 65.9 L 172.7 65.9 L 172.7 62.8 L 169.3 62.8 L 169.3 65.9 L 168.3 65.9 L 168.3 59.1 \" fill=\"#000000\"/>\n",
       "<path class=\"atom-66\" d=\"M 153.3 59.1 L 154.2 59.1 L 154.2 62.0 L 157.7 62.0 L 157.7 59.1 L 158.6 59.1 L 158.6 65.9 L 157.7 65.9 L 157.7 62.8 L 154.2 62.8 L 154.2 65.9 L 153.3 65.9 L 153.3 59.1 \" fill=\"#000000\"/>\n",
       "<path class=\"atom-67\" d=\"M 182.3 23.9 L 183.2 23.9 L 183.2 26.8 L 186.7 26.8 L 186.7 23.9 L 187.6 23.9 L 187.6 30.7 L 186.7 30.7 L 186.7 27.5 L 183.2 27.5 L 183.2 30.7 L 182.3 30.7 L 182.3 23.9 \" fill=\"#000000\"/>\n",
       "<path class=\"atom-68\" d=\"M 167.2 23.9 L 168.1 23.9 L 168.1 26.8 L 171.6 26.8 L 171.6 23.9 L 172.5 23.9 L 172.5 30.7 L 171.6 30.7 L 171.6 27.6 L 168.1 27.6 L 168.1 30.7 L 167.2 30.7 L 167.2 23.9 \" fill=\"#000000\"/>\n",
       "<path class=\"atom-69\" d=\"M 181.2 59.1 L 182.1 59.1 L 182.1 62.0 L 185.6 62.0 L 185.6 59.1 L 186.5 59.1 L 186.5 65.9 L 185.6 65.9 L 185.6 62.8 L 182.1 62.8 L 182.1 65.9 L 181.2 65.9 L 181.2 59.1 \" fill=\"#000000\"/>\n",
       "<path class=\"atom-70\" d=\"M 196.2 59.1 L 197.1 59.1 L 197.1 62.0 L 200.6 62.0 L 200.6 59.1 L 201.5 59.1 L 201.5 65.9 L 200.6 65.9 L 200.6 62.8 L 197.1 62.8 L 197.1 65.9 L 196.2 65.9 L 196.2 59.1 \" fill=\"#000000\"/>\n",
       "<path class=\"atom-71\" d=\"M 195.0 23.9 L 196.0 23.9 L 196.0 26.7 L 199.4 26.7 L 199.4 23.9 L 200.4 23.9 L 200.4 30.7 L 199.4 30.7 L 199.4 27.5 L 196.0 27.5 L 196.0 30.7 L 195.0 30.7 L 195.0 23.9 \" fill=\"#000000\"/>\n",
       "<path class=\"atom-72\" d=\"M 210.2 23.8 L 211.1 23.8 L 211.1 26.7 L 214.6 26.7 L 214.6 23.8 L 215.5 23.8 L 215.5 30.6 L 214.6 30.6 L 214.6 27.5 L 211.1 27.5 L 211.1 30.6 L 210.2 30.6 L 210.2 23.8 \" fill=\"#000000\"/>\n",
       "<path class=\"atom-73\" d=\"M 209.0 59.1 L 209.9 59.1 L 209.9 62.0 L 213.4 62.0 L 213.4 59.1 L 214.3 59.1 L 214.3 65.9 L 213.4 65.9 L 213.4 62.8 L 209.9 62.8 L 209.9 65.9 L 209.0 65.9 L 209.0 59.1 \" fill=\"#000000\"/>\n",
       "<path class=\"atom-74\" d=\"M 224.1 59.2 L 225.0 59.2 L 225.0 62.0 L 228.5 62.0 L 228.5 59.2 L 229.4 59.2 L 229.4 65.9 L 228.5 65.9 L 228.5 62.8 L 225.0 62.8 L 225.0 65.9 L 224.1 65.9 L 224.1 59.2 \" fill=\"#000000\"/>\n",
       "<path class=\"atom-75\" d=\"M 223.0 23.8 L 223.9 23.8 L 223.9 26.7 L 227.4 26.7 L 227.4 23.8 L 228.3 23.8 L 228.3 30.6 L 227.4 30.6 L 227.4 27.4 L 223.9 27.4 L 223.9 30.6 L 223.0 30.6 L 223.0 23.8 \" fill=\"#000000\"/>\n",
       "<path class=\"atom-76\" d=\"M 238.3 23.8 L 239.2 23.8 L 239.2 26.7 L 242.7 26.7 L 242.7 23.8 L 243.6 23.8 L 243.6 30.6 L 242.7 30.6 L 242.7 27.4 L 239.2 27.4 L 239.2 30.6 L 238.3 30.6 L 238.3 23.8 \" fill=\"#000000\"/>\n",
       "<path class=\"atom-77\" d=\"M 236.9 59.2 L 237.8 59.2 L 237.8 62.0 L 241.3 62.0 L 241.3 59.2 L 242.2 59.2 L 242.2 66.0 L 241.3 66.0 L 241.3 62.8 L 237.8 62.8 L 237.8 66.0 L 236.9 66.0 L 236.9 59.2 \" fill=\"#000000\"/>\n",
       "<path class=\"atom-78\" d=\"M 252.1 59.3 L 253.0 59.3 L 253.0 62.2 L 256.5 62.2 L 256.5 59.3 L 257.4 59.3 L 257.4 66.1 L 256.5 66.1 L 256.5 62.9 L 253.0 62.9 L 253.0 66.1 L 252.1 66.1 L 252.1 59.3 \" fill=\"#000000\"/>\n",
       "<path class=\"atom-79\" d=\"M 251.1 23.8 L 252.0 23.8 L 252.0 26.7 L 255.5 26.7 L 255.5 23.8 L 256.4 23.8 L 256.4 30.6 L 255.5 30.6 L 255.5 27.4 L 252.0 27.4 L 252.0 30.6 L 251.1 30.6 L 251.1 23.8 \" fill=\"#000000\"/>\n",
       "<path class=\"atom-80\" d=\"M 266.8 23.8 L 267.7 23.8 L 267.7 26.7 L 271.1 26.7 L 271.1 23.8 L 272.1 23.8 L 272.1 30.6 L 271.1 30.6 L 271.1 27.5 L 267.7 27.5 L 267.7 30.6 L 266.8 30.6 L 266.8 23.8 \" fill=\"#000000\"/>\n",
       "<path class=\"atom-81\" d=\"M 264.9 59.3 L 265.9 59.3 L 265.9 62.2 L 269.3 62.2 L 269.3 59.3 L 270.3 59.3 L 270.3 66.1 L 269.3 66.1 L 269.3 63.0 L 265.9 63.0 L 265.9 66.1 L 264.9 66.1 L 264.9 59.3 \" fill=\"#000000\"/>\n",
       "<path class=\"atom-82\" d=\"M 280.7 59.2 L 281.6 59.2 L 281.6 62.1 L 285.1 62.1 L 285.1 59.2 L 286.0 59.2 L 286.0 66.0 L 285.1 66.0 L 285.1 62.8 L 281.6 62.8 L 281.6 66.0 L 280.7 66.0 L 280.7 59.2 \" fill=\"#000000\"/>\n",
       "<path class=\"atom-83\" d=\"M 304.5 23.5 L 305.4 23.5 L 305.4 26.4 L 308.9 26.4 L 308.9 23.5 L 309.8 23.5 L 309.8 30.3 L 308.9 30.3 L 308.9 27.2 L 305.4 27.2 L 305.4 30.3 L 304.5 30.3 L 304.5 23.5 \" fill=\"#000000\"/>\n",
       "<path class=\"atom-84\" d=\"M 320.4 23.2 L 321.3 23.2 L 321.3 26.1 L 324.8 26.1 L 324.8 23.2 L 325.7 23.2 L 325.7 30.0 L 324.8 30.0 L 324.8 26.9 L 321.3 26.9 L 321.3 30.0 L 320.4 30.0 L 320.4 23.2 \" fill=\"#000000\"/>\n",
       "<path class=\"atom-85\" d=\"M 329.5 84.3 L 330.5 84.3 L 330.5 87.2 L 333.9 87.2 L 333.9 84.3 L 334.8 84.3 L 334.8 91.1 L 333.9 91.1 L 333.9 88.0 L 330.5 88.0 L 330.5 91.1 L 329.5 91.1 L 329.5 84.3 \" fill=\"#000000\"/>\n",
       "<path class=\"atom-86\" d=\"M 321.8 98.3 L 322.8 98.3 L 322.8 101.1 L 326.2 101.1 L 326.2 98.3 L 327.2 98.3 L 327.2 105.0 L 326.2 105.0 L 326.2 101.9 L 322.8 101.9 L 322.8 105.0 L 321.8 105.0 L 321.8 98.3 \" fill=\"#000000\"/>\n",
       "<path class=\"atom-87\" d=\"M 291.9 79.0 L 292.8 79.0 L 292.8 81.9 L 296.3 81.9 L 296.3 79.0 L 297.2 79.0 L 297.2 85.8 L 296.3 85.8 L 296.3 82.6 L 292.8 82.6 L 292.8 85.8 L 291.9 85.8 L 291.9 79.0 \" fill=\"#000000\"/>\n",
       "<path class=\"atom-88\" d=\"M 284.1 92.5 L 285.0 92.5 L 285.0 95.4 L 288.5 95.4 L 288.5 92.5 L 289.4 92.5 L 289.4 99.3 L 288.5 99.3 L 288.5 96.2 L 285.0 96.2 L 285.0 99.3 L 284.1 99.3 L 284.1 92.5 \" fill=\"#000000\"/>\n",
       "<path class=\"atom-89\" d=\"M 315.5 109.3 L 316.4 109.3 L 316.4 112.2 L 319.9 112.2 L 319.9 109.3 L 320.8 109.3 L 320.8 116.1 L 319.9 116.1 L 319.9 113.0 L 316.4 113.0 L 316.4 116.1 L 315.5 116.1 L 315.5 109.3 \" fill=\"#000000\"/>\n",
       "<path class=\"atom-90\" d=\"M 307.5 122.8 L 308.5 122.8 L 308.5 125.7 L 311.9 125.7 L 311.9 122.8 L 312.9 122.8 L 312.9 129.6 L 311.9 129.6 L 311.9 126.5 L 308.5 126.5 L 308.5 129.6 L 307.5 129.6 L 307.5 122.8 \" fill=\"#000000\"/>\n",
       "<path class=\"atom-91\" d=\"M 277.6 103.5 L 278.5 103.5 L 278.5 106.4 L 281.9 106.4 L 281.9 103.5 L 282.9 103.5 L 282.9 110.3 L 281.9 110.3 L 281.9 107.2 L 278.5 107.2 L 278.5 110.3 L 277.6 110.3 L 277.6 103.5 \" fill=\"#000000\"/>\n",
       "<path class=\"atom-92\" d=\"M 269.5 116.6 L 270.5 116.6 L 270.5 119.5 L 273.9 119.5 L 273.9 116.6 L 274.9 116.6 L 274.9 123.4 L 273.9 123.4 L 273.9 120.3 L 270.5 120.3 L 270.5 123.4 L 269.5 123.4 L 269.5 116.6 \" fill=\"#000000\"/>\n",
       "<path class=\"atom-93\" d=\"M 300.4 133.5 L 301.4 133.5 L 301.4 136.4 L 304.8 136.4 L 304.8 133.5 L 305.7 133.5 L 305.7 140.3 L 304.8 140.3 L 304.8 137.1 L 301.4 137.1 L 301.4 140.3 L 300.4 140.3 L 300.4 133.5 \" fill=\"#000000\"/>\n",
       "<path class=\"atom-94\" d=\"M 291.9 146.2 L 292.8 146.2 L 292.8 149.0 L 296.2 149.0 L 296.2 146.2 L 297.2 146.2 L 297.2 153.0 L 296.2 153.0 L 296.2 149.8 L 292.8 149.8 L 292.8 153.0 L 291.9 153.0 L 291.9 146.2 \" fill=\"#000000\"/>\n",
       "<path class=\"atom-95\" d=\"M 261.2 126.4 L 262.2 126.4 L 262.2 129.3 L 265.6 129.3 L 265.6 126.4 L 266.6 126.4 L 266.6 133.2 L 265.6 133.2 L 265.6 130.1 L 262.2 130.1 L 262.2 133.2 L 261.2 133.2 L 261.2 126.4 \" fill=\"#000000\"/>\n",
       "<path class=\"atom-96\" d=\"M 252.4 139.1 L 253.3 139.1 L 253.3 142.0 L 256.8 142.0 L 256.8 139.1 L 257.7 139.1 L 257.7 145.9 L 256.8 145.9 L 256.8 142.8 L 253.3 142.8 L 253.3 145.9 L 252.4 145.9 L 252.4 139.1 \" fill=\"#000000\"/>\n",
       "<path class=\"atom-97\" d=\"M 251.1 159.0 L 252.1 159.0 L 252.1 161.9 L 255.5 161.9 L 255.5 159.0 L 256.5 159.0 L 256.5 165.8 L 255.5 165.8 L 255.5 162.7 L 252.1 162.7 L 252.1 165.8 L 251.1 165.8 L 251.1 159.0 \" fill=\"#000000\"/>\n",
       "<path class=\"atom-98\" d=\"M 265.7 168.3 L 266.6 168.3 L 266.6 171.1 L 270.0 171.1 L 270.0 168.3 L 271.0 168.3 L 271.0 175.0 L 270.0 175.0 L 270.0 171.9 L 266.6 171.9 L 266.6 175.0 L 265.7 175.0 L 265.7 168.3 \" fill=\"#000000\"/>\n",
       "<path class=\"atom-99\" d=\"M 297.0 157.8 L 297.9 157.8 L 297.9 160.7 L 301.4 160.7 L 301.4 157.8 L 302.3 157.8 L 302.3 164.6 L 301.4 164.6 L 301.4 161.5 L 297.9 161.5 L 297.9 164.6 L 297.0 164.6 L 297.0 157.8 \" fill=\"#000000\"/>\n",
       "<path class=\"atom-100\" d=\"M 297.1 191.3 L 298.1 191.3 L 298.1 194.2 L 301.5 194.2 L 301.5 191.3 L 302.5 191.3 L 302.5 198.1 L 301.5 198.1 L 301.5 195.0 L 298.1 195.0 L 298.1 198.1 L 297.1 198.1 L 297.1 191.3 \" fill=\"#000000\"/>\n",
       "<path class=\"atom-101\" d=\"M 268.9 178.5 L 269.8 178.5 L 269.8 181.4 L 273.3 181.4 L 273.3 178.5 L 274.2 178.5 L 274.2 185.3 L 273.3 185.3 L 273.3 182.2 L 269.8 182.2 L 269.8 185.3 L 268.9 185.3 L 268.9 178.5 \" fill=\"#000000\"/>\n",
       "<path class=\"atom-102\" d=\"M 253.0 187.3 L 253.9 187.3 L 253.9 190.1 L 257.4 190.1 L 257.4 187.3 L 258.3 187.3 L 258.3 194.0 L 257.4 194.0 L 257.4 190.9 L 253.9 190.9 L 253.9 194.0 L 253.0 194.0 L 253.0 187.3 \" fill=\"#000000\"/>\n",
       "<path class=\"atom-103\" d=\"M 285.1 204.1 L 286.0 204.1 L 286.0 207.0 L 289.4 207.0 L 289.4 204.1 L 290.4 204.1 L 290.4 210.9 L 289.4 210.9 L 289.4 207.8 L 286.0 207.8 L 286.0 210.9 L 285.1 210.9 L 285.1 204.1 \" fill=\"#000000\"/>\n",
       "<path class=\"atom-104\" d=\"M 278.4 218.1 L 279.3 218.1 L 279.3 221.0 L 282.8 221.0 L 282.8 218.1 L 283.7 218.1 L 283.7 224.9 L 282.8 224.9 L 282.8 221.8 L 279.3 221.8 L 279.3 224.9 L 278.4 224.9 L 278.4 218.1 \" fill=\"#000000\"/>\n",
       "<path class=\"atom-105\" d=\"M 248.7 200.1 L 249.6 200.1 L 249.6 203.0 L 253.1 203.0 L 253.1 200.1 L 254.0 200.1 L 254.0 206.9 L 253.1 206.9 L 253.1 203.7 L 249.6 203.7 L 249.6 206.9 L 248.7 206.9 L 248.7 200.1 \" fill=\"#000000\"/>\n",
       "<path class=\"atom-106\" d=\"M 241.7 213.5 L 242.6 213.5 L 242.6 216.3 L 246.1 216.3 L 246.1 213.5 L 247.0 213.5 L 247.0 220.2 L 246.1 220.2 L 246.1 217.1 L 242.6 217.1 L 242.6 220.2 L 241.7 220.2 L 241.7 213.5 \" fill=\"#000000\"/>\n",
       "<path class=\"atom-107\" d=\"M 273.2 229.8 L 274.1 229.8 L 274.1 232.7 L 277.6 232.7 L 277.6 229.8 L 278.5 229.8 L 278.5 236.6 L 277.6 236.6 L 277.6 233.5 L 274.1 233.5 L 274.1 236.6 L 273.2 236.6 L 273.2 229.8 \" fill=\"#000000\"/>\n",
       "<path class=\"atom-108\" d=\"M 265.7 243.3 L 266.6 243.3 L 266.6 246.2 L 270.1 246.2 L 270.1 243.3 L 271.0 243.3 L 271.0 250.1 L 270.1 250.1 L 270.1 246.9 L 266.6 246.9 L 266.6 250.1 L 265.7 250.1 L 265.7 243.3 \" fill=\"#000000\"/>\n",
       "<path class=\"atom-109\" d=\"M 235.7 224.8 L 236.6 224.8 L 236.6 227.7 L 240.1 227.7 L 240.1 224.8 L 241.0 224.8 L 241.0 231.6 L 240.1 231.6 L 240.1 228.4 L 236.6 228.4 L 236.6 231.6 L 235.7 231.6 L 235.7 224.8 \" fill=\"#000000\"/>\n",
       "<path class=\"atom-110\" d=\"M 228.1 237.7 L 229.1 237.7 L 229.1 240.6 L 232.5 240.6 L 232.5 237.7 L 233.5 237.7 L 233.5 244.5 L 232.5 244.5 L 232.5 241.4 L 229.1 241.4 L 229.1 244.5 L 228.1 244.5 L 228.1 237.7 \" fill=\"#000000\"/>\n",
       "<path class=\"atom-111\" d=\"M 259.4 254.4 L 260.4 254.4 L 260.4 257.3 L 263.8 257.3 L 263.8 254.4 L 264.8 254.4 L 264.8 261.2 L 263.8 261.2 L 263.8 258.1 L 260.4 258.1 L 260.4 261.2 L 259.4 261.2 L 259.4 254.4 \" fill=\"#000000\"/>\n",
       "<path class=\"atom-112\" d=\"M 251.6 268.0 L 252.5 268.0 L 252.5 270.9 L 256.0 270.9 L 256.0 268.0 L 256.9 268.0 L 256.9 274.8 L 256.0 274.8 L 256.0 271.7 L 252.5 271.7 L 252.5 274.8 L 251.6 274.8 L 251.6 268.0 \" fill=\"#000000\"/>\n",
       "<path class=\"atom-113\" d=\"M 221.6 248.8 L 222.5 248.8 L 222.5 251.7 L 226.0 251.7 L 226.0 248.8 L 226.9 248.8 L 226.9 255.6 L 226.0 255.6 L 226.0 252.5 L 222.5 252.5 L 222.5 255.6 L 221.6 255.6 L 221.6 248.8 \" fill=\"#000000\"/>\n",
       "<path class=\"atom-114\" d=\"M 213.8 262.4 L 214.7 262.4 L 214.7 265.3 L 218.2 265.3 L 218.2 262.4 L 219.1 262.4 L 219.1 269.2 L 218.2 269.2 L 218.2 266.0 L 214.7 266.0 L 214.7 269.2 L 213.8 269.2 L 213.8 262.4 \" fill=\"#000000\"/>\n",
       "<path class=\"atom-115\" d=\"M 229.8 278.2 L 230.7 278.2 L 230.7 281.1 L 234.2 281.1 L 234.2 278.2 L 235.1 278.2 L 235.1 285.0 L 234.2 285.0 L 234.2 281.9 L 230.7 281.9 L 230.7 285.0 L 229.8 285.0 L 229.8 278.2 \" fill=\"#000000\"/>\n",
       "<path class=\"atom-116\" d=\"M 345.5 28.9 L 346.5 28.9 L 346.5 31.8 L 349.9 31.8 L 349.9 28.9 L 350.9 28.9 L 350.9 35.7 L 349.9 35.7 L 349.9 32.5 L 346.5 32.5 L 346.5 35.7 L 345.5 35.7 L 345.5 28.9 \" fill=\"#000000\"/>\n",
       "<path class=\"atom-117\" d=\"M 357.5 37.2 L 358.4 37.2 L 358.4 40.1 L 361.9 40.1 L 361.9 37.2 L 362.8 37.2 L 362.8 44.0 L 361.9 44.0 L 361.9 40.9 L 358.4 40.9 L 358.4 44.0 L 357.5 44.0 L 357.5 37.2 \" fill=\"#000000\"/>\n",
       "<path class=\"atom-118\" d=\"M 378.3 37.1 L 379.2 37.1 L 379.2 40.0 L 382.7 40.0 L 382.7 37.1 L 383.6 37.1 L 383.6 43.9 L 382.7 43.9 L 382.7 40.8 L 379.2 40.8 L 379.2 43.9 L 378.3 43.9 L 378.3 37.1 \" fill=\"#000000\"/>\n",
       "<path class=\"atom-119\" d=\"M 391.3 29.4 L 392.3 29.4 L 392.3 32.2 L 395.7 32.2 L 395.7 29.4 L 396.7 29.4 L 396.7 36.2 L 395.7 36.2 L 395.7 33.0 L 392.3 33.0 L 392.3 36.2 L 391.3 36.2 L 391.3 29.4 \" fill=\"#000000\"/>\n",
       "<path class=\"atom-120\" d=\"M 407.4 60.9 L 408.3 60.9 L 408.3 63.8 L 411.8 63.8 L 411.8 60.9 L 412.7 60.9 L 412.7 67.7 L 411.8 67.7 L 411.8 64.6 L 408.3 64.6 L 408.3 67.7 L 407.4 67.7 L 407.4 60.9 \" fill=\"#000000\"/>\n",
       "<path class=\"atom-121\" d=\"M 421.2 53.1 L 422.2 53.1 L 422.2 55.9 L 425.6 55.9 L 425.6 53.1 L 426.5 53.1 L 426.5 59.8 L 425.6 59.8 L 425.6 56.7 L 422.2 56.7 L 422.2 59.8 L 421.2 59.8 L 421.2 53.1 \" fill=\"#000000\"/>\n",
       "</svg>"
      ],
      "text/plain": [
       "<IPython.core.display.SVG object>"
      ]
     },
     "execution_count": 12,
     "metadata": {},
     "output_type": "execute_result"
    }
   ],
   "source": [
    "lipid = Molecule.from_smiles(\"CCCCCCCCCCCCCCCC(=O)OC[C@H](OC(=O)CCCCCCC/C=C\\CCCCCCC)(CO[P@@]([O-])(OCC[N+](H)(H)(H))(=O))\", hydrogens_are_explicit = False)\n",
    "lipid.generate_conformers()\n",
    "lipid.visualize()"
   ]
  },
  {
   "cell_type": "code",
   "execution_count": 13,
   "metadata": {},
   "outputs": [
    {
     "name": "stderr",
     "output_type": "stream",
     "text": [
      "Warning: POPE: Failed due to unspecified stereochemistry\n",
      "/home/julianne/miniconda3/envs/openff/lib/python3.11/site-packages/openff/interchange/interop/gromacs/export/_export.py:48: UserWarning: WARNING: System defined with no box vectors, which GROMACS does not offically support in versions 2020 or newer (see https://gitlab.com/gromacs/gromacs/-/issues/3526). Setting box vectors to a 5  nm cube.\n",
      "  self._write_gro(gro, decimal)\n"
     ]
    }
   ],
   "source": [
    "model.compute_property(lipid)\n",
    "\n",
    "lipid.name = \"POPE\"\n",
    "for i, atom in enumerate(lipid.atoms, 0):\n",
    "    atom.metadata[\"residue_name\"] = \"POPE\"\n",
    "lipid.generate_unique_atom_names() \n",
    "generate_unique_atom_names()\n",
    "topology = Topology.from_molecules(\n",
    "    [lipid]\n",
    ")\n",
    "\n",
    "forcefield = ForceField(\"openff-2.1.0.offxml\")\n",
    "from openff.interchange import Interchange\n",
    "\n",
    "interchange = Interchange.from_smirnoff(\n",
    "    force_field=forcefield,\n",
    "    topology=topology,\n",
    ")\n",
    "interchange\n",
    "\n",
    "lipid.to_file('lipid.pdb', file_format = 'pdb')\n",
    "interchange.to_top(\"lipid.top\")\n",
    "interchange.to_gro(\"lipid.gro\")"
   ]
  },
  {
   "cell_type": "code",
   "execution_count": 15,
   "metadata": {},
   "outputs": [
    {
     "data": {
      "application/vnd.jupyter.widget-view+json": {
       "model_id": "19f9afaca8a7439cad98629f555e8574",
       "version_major": 2,
       "version_minor": 0
      },
      "text/plain": [
       "NGLWidget()"
      ]
     },
     "metadata": {},
     "output_type": "display_data"
    }
   ],
   "source": [
    "model_path = '/home/julianne/Desktop/OpenFFLipid/POPS/lipid.pdb' #change model path\n",
    "\n",
    "view = nglview.show_structure_file(model_path)\n",
    "view\n",
    "#check that angles are all acceptable for POPE"
   ]
  },
  {
   "cell_type": "code",
   "execution_count": 24,
   "metadata": {},
   "outputs": [
    {
     "name": "stdout",
     "output_type": "stream",
     "text": [
      "Generated by Interchange\n",
      "\n",
      "122\n",
      "\n",
      "    1POPE   C1x    1   1.197   0.005  -1.559\n",
      "\n",
      "    1POPE   C2x    2   1.088   0.095  -1.504\n",
      "\n",
      "    1POPE   C3x    3   0.952   0.026  -1.491\n",
      "\n",
      "    1POPE   C4x    4   0.842   0.117  -1.436\n",
      "\n",
      "    1POPE   C5x    5   0.706   0.048  -1.423\n",
      "\n",
      "    1POPE   C6x    6   0.596   0.139  -1.368\n",
      "\n",
      "    1POPE   C7x    7   0.463   0.064  -1.357\n",
      "\n",
      "    1POPE   C8x    8   0.353   0.156  -1.302\n",
      "\n",
      "    1POPE   C9x    9   0.219   0.081  -1.291\n",
      "\n",
      "    1POPE  C10x   10   0.105   0.168  -1.237\n",
      "\n",
      "    1POPE  C11x   11  -0.031   0.099  -1.224\n",
      "\n",
      "    1POPE  C12x   12  -0.141   0.190  -1.169\n",
      "\n",
      "    1POPE  C13x   13  -0.274   0.115  -1.158\n",
      "\n",
      "    1POPE  C14x   14  -0.389   0.201  -1.103\n",
      "\n",
      "    1POPE  C15x   15  -0.367   0.257  -0.963\n",
      "\n",
      "    1POPE  C16x   16  -0.347   0.149  -0.860\n",
      "\n",
      "    1POPE   O1x   17  -0.430   0.063  -0.835\n",
      "\n",
      "    1POPE   O2x   18  -0.225   0.163  -0.801\n",
      "\n",
      "    1POPE  C17x   19  -0.193   0.067  -0.701\n",
      "\n",
      "    1POPE  C18x   20  -0.054   0.096  -0.646\n",
      "\n",
      "    1POPE   H1x   21  -0.040   0.204  -0.635\n",
      "\n",
      "    1POPE   O3x   22   0.042   0.052  -0.742\n",
      "\n",
      "    1POPE  C19x   23   0.158   0.123  -0.746\n",
      "\n",
      "    1POPE   O4x   24   0.187   0.220  -0.676\n",
      "\n",
      "    1POPE  C20x   25   0.250   0.066  -0.852\n",
      "\n",
      "    1POPE  C21x   26   0.398   0.086  -0.817\n",
      "\n",
      "    1POPE  C22x   27   0.491   0.028  -0.924\n",
      "\n",
      "    1POPE  C23x   28   0.639   0.046  -0.891\n",
      "\n",
      "    1POPE  C24x   29   0.733  -0.012  -0.998\n",
      "\n",
      "    1POPE  C25x   30   0.880   0.010  -0.961\n",
      "\n",
      "    1POPE  C26x   31   0.978  -0.047  -1.064\n",
      "\n",
      "    1POPE  C27x   32   1.121  -0.026  -1.027\n",
      "\n",
      "    1POPE  C28x   33   1.193  -0.113  -0.955\n",
      "\n",
      "    1POPE  C29x   34   1.138  -0.243  -0.903\n",
      "\n",
      "    1POPE  C30x   35   1.157  -0.359  -1.001\n",
      "\n",
      "    1POPE  C31x   36   1.101  -0.492  -0.949\n",
      "\n",
      "    1POPE  C32x   37   1.120  -0.608  -1.047\n",
      "\n",
      "    1POPE  C33x   38   1.066  -0.744  -1.001\n",
      "\n",
      "    1POPE  C34x   39   1.085  -0.860  -1.098\n",
      "\n",
      "    1POPE  C35x   40   1.029  -0.992  -1.047\n",
      "\n",
      "    1POPE  C36x   41  -0.029   0.023  -0.515\n",
      "\n",
      "    1POPE   O5x   42  -0.040  -0.117  -0.535\n",
      "\n",
      "    1POPE   P1x   43  -0.018  -0.218  -0.408\n",
      "\n",
      "    1POPE   O6x   44  -0.083  -0.158  -0.285\n",
      "\n",
      "    1POPE   O7x   45   0.145  -0.206  -0.391\n",
      "\n",
      "    1POPE  C37x   46   0.229  -0.244  -0.499\n",
      "\n",
      "    1POPE  C38x   47   0.374  -0.225  -0.460\n",
      "\n",
      "    1POPE   N1x   48   0.397  -0.082  -0.427\n",
      "\n",
      "    1POPE   H2x   49   0.434  -0.031  -0.508\n",
      "\n",
      "    1POPE   H3x   50   0.465  -0.073  -0.351\n",
      "\n",
      "    1POPE   H4x   51   0.310  -0.037  -0.398\n",
      "\n",
      "    1POPE   O8x   52  -0.053  -0.358  -0.453\n",
      "\n",
      "    1POPE   H5x   53   1.292   0.059  -1.566\n",
      "\n",
      "    1POPE   H6x   54   1.170  -0.030  -1.659\n",
      "\n",
      "    1POPE   H7x   55   1.212  -0.083  -1.496\n",
      "\n",
      "    1POPE   H8x   56   1.118   0.130  -1.405\n",
      "\n",
      "    1POPE   H9x   57   1.078   0.184  -1.568\n",
      "\n",
      "    1POPE  H10x   58   0.965  -0.060  -1.425\n",
      "\n",
      "    1POPE  H11x   59   0.921  -0.014  -1.589\n",
      "\n",
      "    1POPE  H12x   60   0.829   0.203  -1.503\n",
      "\n",
      "    1POPE  H13x   61   0.872   0.157  -1.339\n",
      "\n",
      "    1POPE  H14x   62   0.716  -0.041  -1.360\n",
      "\n",
      "    1POPE  H15x   63   0.676   0.012  -1.523\n",
      "\n",
      "    1POPE  H16x   64   0.584   0.226  -1.434\n",
      "\n",
      "    1POPE  H17x   65   0.624   0.176  -1.269\n",
      "\n",
      "    1POPE  H18x   66   0.433   0.027  -1.456\n",
      "\n",
      "    1POPE  H19x   67   0.474  -0.023  -1.292\n",
      "\n",
      "    1POPE  H20x   68   0.382   0.193  -1.204\n",
      "\n"
     ]
    }
   ],
   "source": [
    "# Open the .top file\n",
    "with open('lipid.gro', 'r') as f:\n",
    "    # Print the first few lines\n",
    "    for i in range(70):\n",
    "        print(f.readline())\n"
   ]
  },
  {
   "cell_type": "markdown",
   "metadata": {},
   "source": [
    "### Create water with SMILES String. Output .gro and .top files for water"
   ]
  },
  {
   "cell_type": "code",
   "execution_count": 16,
   "metadata": {},
   "outputs": [
    {
     "data": {
      "image/svg+xml": [
       "<svg xmlns=\"http://www.w3.org/2000/svg\" xmlns:rdkit=\"http://www.rdkit.org/xml\" xmlns:xlink=\"http://www.w3.org/1999/xlink\" version=\"1.1\" baseProfile=\"full\" xml:space=\"preserve\" width=\"500px\" height=\"300px\" viewBox=\"0 0 500 300\">\n",
       "<!-- END OF HEADER -->\n",
       "<rect style=\"opacity:1.0;fill:#FFFFFF;stroke:none\" width=\"500.0\" height=\"300.0\" x=\"0.0\" y=\"0.0\"> </rect>\n",
       "<path class=\"bond-0 atom-0 atom-1\" d=\"M 270.3,107.2 L 345.4,150.6\" style=\"fill:none;fill-rule:evenodd;stroke:#FF0000;stroke-width:2.0px;stroke-linecap:butt;stroke-linejoin:miter;stroke-opacity:1\"/>\n",
       "<path class=\"bond-0 atom-0 atom-1\" d=\"M 345.4,150.6 L 420.5,194.1\" style=\"fill:none;fill-rule:evenodd;stroke:#000000;stroke-width:2.0px;stroke-linecap:butt;stroke-linejoin:miter;stroke-opacity:1\"/>\n",
       "<path class=\"bond-1 atom-0 atom-2\" d=\"M 229.9,107.1 L 154.7,150.5\" style=\"fill:none;fill-rule:evenodd;stroke:#FF0000;stroke-width:2.0px;stroke-linecap:butt;stroke-linejoin:miter;stroke-opacity:1\"/>\n",
       "<path class=\"bond-1 atom-0 atom-2\" d=\"M 154.7,150.5 L 79.5,193.8\" style=\"fill:none;fill-rule:evenodd;stroke:#000000;stroke-width:2.0px;stroke-linecap:butt;stroke-linejoin:miter;stroke-opacity:1\"/>\n",
       "<path class=\"atom-0\" d=\"M 237.1 95.6 Q 237.1 88.8, 240.4 85.0 Q 243.8 81.2, 250.1 81.2 Q 256.4 81.2, 259.7 85.0 Q 263.1 88.8, 263.1 95.6 Q 263.1 102.5, 259.7 106.4 Q 256.3 110.3, 250.1 110.3 Q 243.8 110.3, 240.4 106.4 Q 237.1 102.5, 237.1 95.6 M 250.1 107.1 Q 254.4 107.1, 256.7 104.2 Q 259.1 101.3, 259.1 95.6 Q 259.1 90.0, 256.7 87.2 Q 254.4 84.4, 250.1 84.4 Q 245.8 84.4, 243.4 87.2 Q 241.1 90.0, 241.1 95.6 Q 241.1 101.3, 243.4 104.2 Q 245.8 107.1, 250.1 107.1 \" fill=\"#FF0000\"/>\n",
       "<path class=\"atom-1\" d=\"M 427.7 190.5 L 431.5 190.5 L 431.5 202.5 L 446.0 202.5 L 446.0 190.5 L 449.9 190.5 L 449.9 218.8 L 446.0 218.8 L 446.0 205.7 L 431.5 205.7 L 431.5 218.8 L 427.7 218.8 L 427.7 190.5 \" fill=\"#000000\"/>\n",
       "<path class=\"atom-2\" d=\"M 50.1 190.2 L 54.0 190.2 L 54.0 202.2 L 68.5 202.2 L 68.5 190.2 L 72.3 190.2 L 72.3 218.5 L 68.5 218.5 L 68.5 205.4 L 54.0 205.4 L 54.0 218.5 L 50.1 218.5 L 50.1 190.2 \" fill=\"#000000\"/>\n",
       "</svg>"
      ],
      "text/plain": [
       "<IPython.core.display.SVG object>"
      ]
     },
     "execution_count": 16,
     "metadata": {},
     "output_type": "execute_result"
    }
   ],
   "source": [
    "water = Molecule.from_smiles(\"O\")\n",
    "water.generate_conformers()\n",
    "water.visualize()"
   ]
  },
  {
   "cell_type": "code",
   "execution_count": 17,
   "metadata": {},
   "outputs": [],
   "source": [
    "# Define ff version\n",
    "forcefield = ForceField(\"tip3p.offxml\")\n",
    "\n",
    "water.name = \"TIP3P\"\n",
    "\n",
    "for i, atom in enumerate(water.atoms, 3):\n",
    "    atom.metadata[\"residue_name\"] = \"TIP3P\"\n",
    "    atom.name = f\"W{i}\"\n",
    "\n",
    "\n",
    "interchange = forcefield.create_interchange(water.to_topology())\n",
    "\n",
    "# PDB structure for Packmol\n",
    "interchange.to_pdb(\"water.pdb\")\n",
    "interchange.to_top(\"water.top\")"
   ]
  },
  {
   "cell_type": "markdown",
   "metadata": {},
   "source": [
    "### Build an index file with an atom from the headgroup\n",
    "\n",
    "make_ndx makes special index groups. There is a default index group for the whole system, 9 defualt index groups for proteins, and a default index group is generated for every other residue name. \n"
   ]
  },
  {
   "cell_type": "code",
   "execution_count": null,
   "metadata": {},
   "outputs": [],
   "source": [
    "# The nitrogen from POPC is used here since it is the furthest core atom\n",
    "# For more complicated structures, you can specificy multiple atoms and link them (reference 'specific_pull.mdp' in this repo)\n",
    "\n",
    "$ gmx make_ndx -f lipid.gro -o A48.ndx\n",
    "\n",
    "# Input for this index (#48 is the Nitrogen)\n",
    "$ a 48 # Warning: your index with likely change every time(even with the same SMILES string)\n",
    "$ name 3 N1x # Creates an atom group (3) with your selected atom\n",
    "$ q"
   ]
  },
  {
   "cell_type": "markdown",
   "metadata": {},
   "source": [
    "### Run the pulling simulation\n",
    "\n",
    "grompp (the gromacs preprocessor) reads a top file, checks the validity of the file, expands the topology from a molecular description to an atomic description. The top file contains information about molecular types, number of molecules. Bonds and angles can be converted into constraints. Then a coordinate file is read and velocites are generated from a Maxwell distribution\n",
    "\\\n",
    "\\\n",
    "-f input file (grompp.mdp)\\\n",
    "-c structure file (conf.gro)\\\n",
    "-p topology file (topol.top)\\\n",
    "-n index file (index.ndx)\\\n",
    "-o xdr run input file (topol.tpr)\\\n",
    "-maxwarn number of allowed warnings during input processing. Not for normal use + may generate unstable systems"
   ]
  },
  {
   "cell_type": "code",
   "execution_count": null,
   "metadata": {},
   "outputs": [],
   "source": [
    "$ gmx grompp -f pull_nvt.mdp -c lipid.gro -p lipid.top -n A48.ndx -o pull.tpr -maxwarn 1 # Warning: Update pull_nvt.mdp with atom name\n",
    "$ gmx mdrun -deffnm pull"
   ]
  },
  {
   "cell_type": "markdown",
   "metadata": {},
   "source": [
    "### Use trjconv to produce a pdb of the lipid after pull code. Visualize with nglview to confirm \n"
   ]
  },
  {
   "cell_type": "code",
   "execution_count": null,
   "metadata": {},
   "outputs": [],
   "source": [
    "$ gmx trjconv -f pull.xtc -s pull.tpr -pbc mol -o POPE.pdb -dump 50 # Where '50' is the best frame\n",
    "$ 0\n",
    "#Please note that choosing the last frame may retult in distorted hydrogen bonding when visualizing below. \n",
    "# If this problem occurs choose an earlier frame\n",
    "\n",
    "If the GRO output is good enough at the end, use this:\n",
    "$ gmx editconf -f pull.gro -o POPC.pdb"
   ]
  },
  {
   "cell_type": "code",
   "execution_count": 27,
   "metadata": {
    "scrolled": true
   },
   "outputs": [
    {
     "data": {
      "application/vnd.jupyter.widget-view+json": {
       "model_id": "e9ae835a571f49088f784d5f5ac963a2",
       "version_major": 2,
       "version_minor": 0
      },
      "text/plain": [
       "NGLWidget()"
      ]
     },
     "metadata": {},
     "output_type": "display_data"
    }
   ],
   "source": [
    "model_path = '/home/julianne/Desktop/OpenFFLipid/POPE/POPE.pdb' #change model path\n",
    "\n",
    "view = nglview.show_structure_file(model_path)\n",
    "view\n"
   ]
  },
  {
   "cell_type": "markdown",
   "metadata": {},
   "source": [
    "### Run packmol with the dumped PDB\n",
    "You may have to modify the .inp structure file in packmol to fit your \"pulled\" lipid. Use MDAnalysis below to caluclate distance parameters based on your lipid for packing "
   ]
  },
  {
   "cell_type": "code",
   "execution_count": 31,
   "metadata": {},
   "outputs": [
    {
     "ename": "IndexError",
     "evalue": "index 0 is out of bounds for axis 0 with size 0",
     "output_type": "error",
     "traceback": [
      "\u001b[0;31m---------------------------------------------------------------------------\u001b[0m",
      "\u001b[0;31mIndexError\u001b[0m                                Traceback (most recent call last)",
      "Cell \u001b[0;32mIn[31], line 7\u001b[0m\n\u001b[1;32m      4\u001b[0m tail_group \u001b[38;5;241m=\u001b[39m u\u001b[38;5;241m.\u001b[39mselect_atoms(\u001b[38;5;124m'\u001b[39m\u001b[38;5;124mname A48\u001b[39m\u001b[38;5;124m'\u001b[39m) \u001b[38;5;66;03m#select atom in tail group, in this case last carbon in unsaturated tail\u001b[39;00m\n\u001b[1;32m      6\u001b[0m distance \u001b[38;5;241m=\u001b[39m distances\u001b[38;5;241m.\u001b[39mdistance_array(head_group\u001b[38;5;241m.\u001b[39mpositions,tail_group\u001b[38;5;241m.\u001b[39mpositions)\n\u001b[0;32m----> 7\u001b[0m \u001b[38;5;28mprint\u001b[39m(\u001b[38;5;124m\"\u001b[39m\u001b[38;5;124mLength of lipid from head group to tail group is:\u001b[39m\u001b[38;5;130;01m\\n\u001b[39;00m\u001b[38;5;124m\"\u001b[39m,\u001b[38;5;124m\"\u001b[39m\u001b[38;5;124m~\u001b[39m\u001b[38;5;124m\"\u001b[39m,\u001b[38;5;28mround\u001b[39m(\u001b[43mdistance\u001b[49m\u001b[43m[\u001b[49m\u001b[38;5;241;43m0\u001b[39;49m\u001b[43m]\u001b[49m[\u001b[38;5;241m0\u001b[39m],\u001b[38;5;241m2\u001b[39m),\u001b[38;5;124m'\u001b[39m\u001b[38;5;124mAngstrom\u001b[39m\u001b[38;5;124m'\u001b[39m) \n\u001b[1;32m      8\u001b[0m \u001b[38;5;66;03m#this will tell you the full length of your lipid \u001b[39;00m\n",
      "\u001b[0;31mIndexError\u001b[0m: index 0 is out of bounds for axis 0 with size 0"
     ]
    }
   ],
   "source": [
    "u = mda.Universe('POPE.pdb')\n",
    "\n",
    "head_group = u.select_atoms('name A47') #select atom in head group, in this case Nitrogen\n",
    "tail_group = u.select_atoms('name A48') #select atom in tail group, in this case last carbon in unsaturated tail\n",
    "\n",
    "distance = distances.distance_array(head_group.positions,tail_group.positions)\n",
    "print(\"Length of lipid from head group to tail group is:\\n\",\"~\",round(distance[0][0],2),'Angstrom') \n",
    "#this will tell you the full length of your lipid \n"
   ]
  },
  {
   "cell_type": "markdown",
   "metadata": {},
   "source": [
    "Estimate the desired number of lipids or membrane size in x y diresction when area per lipid is roughly known \\\n",
    "$ N_I = \\frac{2 L_x L_y}{a_I}$  \\\n",
    "where $N_I$ = total # lipids\\\n",
    "$L_x , L_y$ = lateral box dimensions\\\n",
    "$a_I$ = area per lipid in units $Å^{2}$"
   ]
  },
  {
   "cell_type": "code",
   "execution_count": 25,
   "metadata": {},
   "outputs": [
    {
     "name": "stdout",
     "output_type": "stream",
     "text": [
      "64.5 angstrom dimensions for Length\n"
     ]
    }
   ],
   "source": [
    "# POPC ~ 65 Å^2\n",
    "#For a square box:\n",
    "N = 128\n",
    "a = 65\n",
    "L = np.sqrt(N * a /2)\n",
    "print(round(L,1), \"angstrom dimensions for Length\")"
   ]
  },
  {
   "cell_type": "code",
   "execution_count": null,
   "metadata": {},
   "outputs": [],
   "source": [
    "#modify .inp file if necessary with propper length and atom names \n",
    "$ packmol < bilayer-comment.inp\n",
    "#if you have errors after running packmol make your box bigger \n",
    "# this returns a bilayer.pdb file that can be visualized below "
   ]
  },
  {
   "cell_type": "code",
   "execution_count": 3,
   "metadata": {},
   "outputs": [
    {
     "data": {
      "application/vnd.jupyter.widget-view+json": {
       "model_id": "f09dc1ddcd8249e280e4f26b734f9779",
       "version_major": 2,
       "version_minor": 0
      },
      "text/plain": [
       "NGLWidget()"
      ]
     },
     "metadata": {},
     "output_type": "display_data"
    }
   ],
   "source": [
    "model_path = '/home/julianne/Desktop/Run_feb8/Compressed/bilayer.pdb' #change model path\n",
    "\n",
    "view = nglview.show_structure_file(model_path)\n",
    "view"
   ]
  },
  {
   "cell_type": "markdown",
   "metadata": {},
   "source": [
    "### Build topology file from system interchange and get .gro file from .pdb"
   ]
  },
  {
   "cell_type": "code",
   "execution_count": null,
   "metadata": {},
   "outputs": [],
   "source": [
    "#Running interchange again is unnecessary, lets reuse interchange from first run \n",
    "#lets find a better way to do this manual-editing of the top/gro/itp files\n",
    "\n",
    "$ cp POPC.top topol.top\n",
    "$ cp POPC.top POPC.itp\n",
    "$ cp water.top TIP3P.itp\n",
    "# delete defaults, atom types, and molecules tables from .itp files\n",
    "# remove all force field parameters from topol.top, add TIP3P atom types, changes molecules:\n",
    "# [ molecules ]\n",
    "# ; Compound\t#mols\n",
    "# TIP3P  \t        5120  # full hydration is 30 waters per lipid. Could go down to 3840 waters\n",
    "# POPC  \t         128\n",
    "\n",
    "#Convert pdb into .gro file\n",
    "$ gmx editconf -f bilayer.pdb -o bilayer.gro -box 7.5 7.5 8.0"
   ]
  },
  {
   "cell_type": "markdown",
   "metadata": {},
   "source": [
    "### Energy minimization (gmx start here)"
   ]
  },
  {
   "cell_type": "code",
   "execution_count": null,
   "metadata": {},
   "outputs": [],
   "source": [
    "$ gmx grompp -f min.mdp -p topol.top -c bilayer.gro -o min.tpr\n",
    "$ gmx mdrun -deffnm min\n",
    "\n",
    "#To visualize trajectory in vmd:\n",
    "$ gmx trjconv -f min.trr -s min.gro -o min.xtc # min.mdp only outputs a trajectory of 2 frames. May want to increase for visualization purposes  to show how its being minimized "
   ]
  },
  {
   "cell_type": "markdown",
   "metadata": {},
   "source": [
    "Refer to Analysis.ipynb for Analysis of min, NVT, NPT"
   ]
  },
  {
   "cell_type": "markdown",
   "metadata": {},
   "source": [
    "### NVT equilibration"
   ]
  },
  {
   "cell_type": "code",
   "execution_count": null,
   "metadata": {},
   "outputs": [],
   "source": [
    "$ gmx grompp -p topol.top -f nvt.mdp -c min.gro -o nvt.tpr # (40 ns)\n",
    "$ gmx mdrun -deffnm nvt"
   ]
  },
  {
   "cell_type": "markdown",
   "metadata": {},
   "source": [
    "### NPT equilibration"
   ]
  },
  {
   "cell_type": "code",
   "execution_count": null,
   "metadata": {},
   "outputs": [],
   "source": [
    "$ gmx grompp -f npt.mdp -p topol.top -c nvt.gro -o npt.tpr -maxwarn 1\n",
    "$ gmx mdrun -deffnm npt"
   ]
  },
  {
   "cell_type": "markdown",
   "metadata": {},
   "source": [
    "### MD Production"
   ]
  },
  {
   "cell_type": "code",
   "execution_count": null,
   "metadata": {},
   "outputs": [],
   "source": [
    "$ gmx grompp -f md.mdp -c npt.gro -t npt.cpt -p topol.top -o md.tpr\n",
    "$ gmx mdrun -deffnm md\n",
    "\n",
    "# Checkpoint run for completion\n",
    "$ gmx mdrun -deffnm md -cpi md.cpt"
   ]
  }
 ],
 "metadata": {
  "kernelspec": {
   "display_name": "Python 3 (ipykernel)",
   "language": "python",
   "name": "python3"
  },
  "language_info": {
   "codemirror_mode": {
    "name": "ipython",
    "version": 3
   },
   "file_extension": ".py",
   "mimetype": "text/x-python",
   "name": "python",
   "nbconvert_exporter": "python",
   "pygments_lexer": "ipython3",
   "version": "3.11.7"
  }
 },
 "nbformat": 4,
 "nbformat_minor": 4
}
