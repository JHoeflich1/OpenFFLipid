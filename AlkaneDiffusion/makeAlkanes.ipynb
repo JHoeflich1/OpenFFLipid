{
 "cells": [
  {
   "cell_type": "code",
   "execution_count": 1,
   "id": "ce1c58d9-da90-4436-b814-f8e756897a92",
   "metadata": {},
   "outputs": [
    {
     "data": {
      "application/vnd.jupyter.widget-view+json": {
       "model_id": "446c369a16d14a21b80c2449619a08e5",
       "version_major": 2,
       "version_minor": 0
      },
      "text/plain": []
     },
     "metadata": {},
     "output_type": "display_data"
    }
   ],
   "source": [
    "# Imports from the Python standard library\n",
    "from io import StringIO\n",
    "from typing import Iterable\n",
    "import numpy as np\n",
    "import matplotlib.pyplot as plt\n",
    "import openff\n",
    "\n",
    "# Imports from the comp chem ecosystem\n",
    "from openff.units import Quantity, unit\n",
    "from openmm import unit as openmm_unit\n",
    "#from pdbfixer import PDBFixer\n",
    "\n",
    "# New topology imports\n",
    "from openff.interchange import Interchange\n",
    "\n",
    "# Imports from the toolkit\n",
    "from rdkit import Chem\n",
    "import MDAnalysis as mda\n",
    "from MDAnalysis.analysis import distances\n",
    "from openff.toolkit import ForceField, Molecule, Topology\n",
    "from openff.toolkit.utils.toolkits import OpenEyeToolkitWrapper\n",
    "from openff.toolkit.utils import get_data_file_path\n",
    "\n",
    "# Imports from OpenFF\n",
    "import openff.nagl\n",
    "from openff.nagl import GNNModel \n",
    "from openff.nagl_models import list_available_nagl_models\n",
    "# If ypu want a diff toolkit wrapper check out https://docs.openforcefield.org/projects/nagl/en/latest/toolkit_wrappers.html\n",
    "\n",
    "import pandas as pd\n",
    "import nglview\n",
    "import time\n",
    "import mdtraj\n",
    "import yaml\n",
    "import os"
   ]
  },
  {
   "cell_type": "markdown",
   "id": "e366d95e-f5da-4f41-a3df-a51c239aac48",
   "metadata": {},
   "source": [
    "### Build your molecules from SMILES strings"
   ]
  },
  {
   "cell_type": "code",
   "execution_count": 2,
   "id": "0edf2c93-0ad8-4d37-8eca-2293d2fef33c",
   "metadata": {},
   "outputs": [],
   "source": [
    "list_available_nagl_models()\n",
    "model_path = '/home/julianne/miniconda3/envs/openff/lib/python3.11/site-packages/openff/nagl_models/models/am1bcc/openff-gnn-am1bcc-0.1.0-rc.2.pt'\n",
    "model = GNNModel.load(model_path)"
   ]
  },
  {
   "cell_type": "code",
   "execution_count": 3,
   "id": "aec33bf9-ae93-4212-ab26-9d24424fb46a",
   "metadata": {
    "scrolled": true
   },
   "outputs": [],
   "source": [
    "hexane = Molecule.from_smiles(\"C\" * 6, allow_undefined_stereo=True)\n",
    "heptane = Molecule.from_smiles(\"C\" * 7, allow_undefined_stereo=True)\n",
    "octane = Molecule.from_smiles(\"C\" * 8, allow_undefined_stereo=True)\n",
    "decane = Molecule.from_smiles(\"C\" * 10, allow_undefined_stereo=True)\n",
    "pentadecane = Molecule.from_smiles(\"C\" * 15, allow_undefined_stereo=True)\n",
    "TIP3P = Molecule.from_smiles(\"O\")"
   ]
  },
  {
   "cell_type": "code",
   "execution_count": 4,
   "id": "30eeb93c-1a25-4e63-b4a3-e61a7b27df13",
   "metadata": {},
   "outputs": [
    {
     "name": "stderr",
     "output_type": "stream",
     "text": [
      "Warning: Cannot perform Hydrogen sampling with GPU-Omega: GPU-Omega disabled.\n",
      "/home/julianne/miniconda3/envs/openff_clone/lib/python3.11/site-packages/openff/interchange/interop/gromacs/export/_export.py:48: UserWarning: WARNING: System defined with no box vectors, which GROMACS does not offically support in versions 2020 or newer (see https://gitlab.com/gromacs/gromacs/-/issues/3526). Setting box vectors to a 5  nm cube.\n",
      "  self._write_gro(gro, decimal)\n"
     ]
    }
   ],
   "source": [
    "alkanes = {'hexane':hexane, 'heptane':heptane, 'octane':octane,'decane':decane, 'pentadecane':pentadecane}\n",
    "for name, alkane in alkanes.items():\n",
    "\n",
    "    alkane.generate_conformers()\n",
    "\n",
    "\n",
    "    nagl_charge = model.compute_property(alkane, check_domains = True, error_if_unsupported=True)\n",
    "    alkane.partial_charges  = nagl_charge * unit.elementary_charge #openFF units attached to partial charges property \n",
    "\n",
    "        \n",
    "    alkane.name = \"ALK\"\n",
    "    for i, atom in enumerate(alkane.atoms, 3):\n",
    "        atom.metadata[\"residue_name\"] = 'ALK'\n",
    "    alkane.generate_unique_atom_names() #option to use (suffix = 'x')\n",
    "\n",
    "\n",
    "    topology = Topology.from_molecules(\n",
    "        [alkane]\n",
    "    )\n",
    "\n",
    "    forcefield = ForceField(\"openff-2.1.0.offxml\")\n",
    "\n",
    "    interchange = Interchange.from_smirnoff(\n",
    "        force_field=forcefield,\n",
    "        topology=topology,\n",
    "        charge_from_molecules = [alkane]\n",
    "    )\n",
    "    interchange\n",
    "\n",
    "    interchange.to_top(f\"{name}.top\")\n",
    "    interchange.to_gro(f\"{name}.gro\")"
   ]
  },
  {
   "cell_type": "markdown",
   "id": "5ae70561-018b-4c21-92c9-fcb34d658d2b",
   "metadata": {},
   "source": [
    "## Estimate dimensions of box for packmol "
   ]
  },
  {
   "cell_type": "code",
   "execution_count": 4,
   "id": "06878d2b-7c0b-4ef2-aeca-f167d5e4984a",
   "metadata": {},
   "outputs": [
    {
     "data": {
      "application/vnd.jupyter.widget-view+json": {
       "model_id": "4958a966c3aa448eabc62c9699fc862c",
       "version_major": 2,
       "version_minor": 0
      },
      "text/plain": [
       "NGLWidget()"
      ]
     },
     "metadata": {},
     "output_type": "display_data"
    }
   ],
   "source": [
    "model = '/media/julianne/DATA/Lipids/OpenFFLipid/AlkaneDiffusion/pentadecane.pdb'\n",
    "view = nglview.show_structure_file(model)\n",
    "view\n"
   ]
  },
  {
   "cell_type": "code",
   "execution_count": 3,
   "id": "c8b79498-2320-450b-bed2-46145eac8cb6",
   "metadata": {},
   "outputs": [
    {
     "name": "stdout",
     "output_type": "stream",
     "text": [
      "Length of lipid from head group to tail group is:\n",
      " ~ 17.85 Angstrom\n"
     ]
    }
   ],
   "source": [
    "u = mda.Universe('pentadecane.gro')\n",
    "\n",
    "head_group = u.select_atoms('name C1x') #select atom in head group, in this case Nitrogen\n",
    "tail_group = u.select_atoms('name C15x') #select atom in tail group, in this case last carbon in unsaturated tail\n",
    "\n",
    "distance = distances.distance_array(head_group.positions,tail_group.positions)\n",
    "print(\"Length of lipid from head group to tail group is:\\n\",\"~\",round(distance[0][0],2),'Angstrom') "
   ]
  },
  {
   "cell_type": "markdown",
   "id": "5a66c7fe",
   "metadata": {},
   "source": [
    "Run packAlkanes.py script to pack them in packmol"
   ]
  }
 ],
 "metadata": {
  "kernelspec": {
   "display_name": "Python 3 (ipykernel)",
   "language": "python",
   "name": "python3"
  },
  "language_info": {
   "codemirror_mode": {
    "name": "ipython",
    "version": 3
   },
   "file_extension": ".py",
   "mimetype": "text/x-python",
   "name": "python",
   "nbconvert_exporter": "python",
   "pygments_lexer": "ipython3",
   "version": "3.11.7"
  }
 },
 "nbformat": 4,
 "nbformat_minor": 5
}
