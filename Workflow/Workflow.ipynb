{
 "cells": [
  {
   "cell_type": "markdown",
   "metadata": {},
   "source": [
    "### This notebook will walk you through how to build a lipid bilayer with OpenFF"
   ]
  },
  {
   "cell_type": "code",
   "execution_count": 1,
   "metadata": {},
   "outputs": [
    {
     "name": "stderr",
     "output_type": "stream",
     "text": [
      "/home/julianne/miniconda3/envs/openff_clone/lib/python3.11/site-packages/Bio/__init__.py:138: BiopythonWarning: You may be importing Biopython from inside the source tree. This is bad practice and might lead to downstream issues. In particular, you might encounter ImportErrors due to missing compiled C extensions. We recommend that you try running your code from outside the source tree. If you are outside the source tree then you have a setup.py file in an unexpected directory: /home/julianne/miniconda3/envs/openff_clone/lib/python3.11/site-packages\n",
      "  warnings.warn(\n"
     ]
    },
    {
     "data": {
      "application/vnd.jupyter.widget-view+json": {
       "model_id": "a0cb9a5d38d0496fbea23bef0b3cbb6b",
       "version_major": 2,
       "version_minor": 0
      },
      "text/plain": []
     },
     "metadata": {},
     "output_type": "display_data"
    }
   ],
   "source": [
    "# Import all dependencies \n",
    "# from io import StringIO\n",
    "# from typing import Iterable\n",
    "import numpy as np\n",
    "# import matplotlib.pyplot as plt\n",
    "\n",
    "# from rdkit import Chem\n",
    "# import MDAnalysis as mda\n",
    "from MDAnalysis.analysis import distances\n",
    "from openff.toolkit import ForceField, Molecule, Topology\n",
    "# from openff.toolkit.utils.toolkits import OpenEyeToolkitWrapper\n",
    "\n",
    "from openff.units import Quantity, unit\n",
    "# from openmm import unit as openmm_unit\n",
    "from openff.interchange import Interchange\n",
    "from openff.toolkit.utils.nagl_wrapper import NAGLToolkitWrapper #assign charges with NAGL\n",
    "\n",
    "import nglview\n",
    "import mdtraj\n",
    "import sys\n",
    "import os\n",
    "\n",
    "from pull import pullLipid\n",
    "import BuildLipid"
   ]
  },
  {
   "cell_type": "markdown",
   "metadata": {},
   "source": [
    "### Build lipid and water from smiles string and use OpenFF Interchange to parameterize\n",
    "\n",
    "Available lipids are located in BuildLipid module, which constructs lipids in a modular fashion {sn1} + {hg} + {sn2}."
   ]
  },
  {
   "cell_type": "code",
   "execution_count": 2,
   "metadata": {},
   "outputs": [
    {
     "name": "stdout",
     "output_type": "stream",
     "text": [
      "Available headgroups:  ['PA', 'PC', 'PE', 'PG', 'PP', 'PS']\n",
      "Available tailgroups:  ['DC', 'DD', 'DL', 'DM', 'DO', 'DP', 'DR', 'DS', 'PE', 'PL', 'PO', 'PS', 'SL', 'SO']\n",
      "Available sterols:  ['aldosterone', 'beta-Sitosterol', 'beta-estradiol', 'cholesterol', 'corticosterone', 'cortisol', 'ergosterol', 'estradiol', 'progesterone', 'stigmasterol', 'testosterone']\n"
     ]
    },
    {
     "name": "stderr",
     "output_type": "stream",
     "text": [
      "Warning: Cannot perform Hydrogen sampling with GPU-Omega: GPU-Omega disabled.\n",
      "Warning: : Failed due to unspecified stereochemistry\n"
     ]
    },
    {
     "data": {
      "image/svg+xml": [
       "<svg xmlns=\"http://www.w3.org/2000/svg\" xmlns:rdkit=\"http://www.rdkit.org/xml\" xmlns:xlink=\"http://www.w3.org/1999/xlink\" version=\"1.1\" baseProfile=\"full\" xml:space=\"preserve\" width=\"500px\" height=\"300px\" viewBox=\"0 0 500 300\">\n",
       "<!-- END OF HEADER -->\n",
       "<rect style=\"opacity:1.0;fill:#FFFFFF;stroke:none\" width=\"500.0\" height=\"300.0\" x=\"0.0\" y=\"0.0\"> </rect>\n",
       "<path class=\"bond-0 atom-0 atom-1\" d=\"M 342.2,175.1 L 344.5,179.2\" style=\"fill:none;fill-rule:evenodd;stroke:#FF0000;stroke-width:2.0px;stroke-linecap:butt;stroke-linejoin:miter;stroke-opacity:1\"/>\n",
       "<path class=\"bond-0 atom-0 atom-1\" d=\"M 344.5,179.2 L 346.8,183.3\" style=\"fill:none;fill-rule:evenodd;stroke:#FF7F00;stroke-width:2.0px;stroke-linecap:butt;stroke-linejoin:miter;stroke-opacity:1\"/>\n",
       "<path class=\"bond-1 atom-1 atom-2\" d=\"M 346.3,188.7 L 344.6,189.4\" style=\"fill:none;fill-rule:evenodd;stroke:#FF7F00;stroke-width:2.0px;stroke-linecap:butt;stroke-linejoin:miter;stroke-opacity:1\"/>\n",
       "<path class=\"bond-1 atom-1 atom-2\" d=\"M 344.6,189.4 L 342.9,190.0\" style=\"fill:none;fill-rule:evenodd;stroke:#FF0000;stroke-width:2.0px;stroke-linecap:butt;stroke-linejoin:miter;stroke-opacity:1\"/>\n",
       "<path class=\"bond-2 atom-1 atom-3\" d=\"M 352.2,191.3 L 354.5,194.1\" style=\"fill:none;fill-rule:evenodd;stroke:#FF7F00;stroke-width:2.0px;stroke-linecap:butt;stroke-linejoin:miter;stroke-opacity:1\"/>\n",
       "<path class=\"bond-2 atom-1 atom-3\" d=\"M 354.5,194.1 L 356.7,196.8\" style=\"fill:none;fill-rule:evenodd;stroke:#FF0000;stroke-width:2.0px;stroke-linecap:butt;stroke-linejoin:miter;stroke-opacity:1\"/>\n",
       "<path class=\"bond-3 atom-3 atom-4\" d=\"M 357.3,205.7 L 355.5,208.3\" style=\"fill:none;fill-rule:evenodd;stroke:#FF0000;stroke-width:2.0px;stroke-linecap:butt;stroke-linejoin:miter;stroke-opacity:1\"/>\n",
       "<path class=\"bond-3 atom-3 atom-4\" d=\"M 355.5,208.3 L 353.8,210.9\" style=\"fill:none;fill-rule:evenodd;stroke:#000000;stroke-width:2.0px;stroke-linecap:butt;stroke-linejoin:miter;stroke-opacity:1\"/>\n",
       "<path class=\"bond-4 atom-4 atom-5\" d=\"M 353.8,210.9 L 363.7,229.7\" style=\"fill:none;fill-rule:evenodd;stroke:#000000;stroke-width:2.0px;stroke-linecap:butt;stroke-linejoin:miter;stroke-opacity:1\"/>\n",
       "<path class=\"bond-5 atom-5 atom-6\" d=\"M 363.7,229.7 L 359.6,237.7\" style=\"fill:none;fill-rule:evenodd;stroke:#000000;stroke-width:2.0px;stroke-linecap:butt;stroke-linejoin:miter;stroke-opacity:1\"/>\n",
       "<path class=\"bond-5 atom-5 atom-6\" d=\"M 359.6,237.7 L 355.6,245.8\" style=\"fill:none;fill-rule:evenodd;stroke:#0000FF;stroke-width:2.0px;stroke-linecap:butt;stroke-linejoin:miter;stroke-opacity:1\"/>\n",
       "<path class=\"bond-6 atom-6 atom-7\" d=\"M 356.9,251.7 L 363.5,254.9\" style=\"fill:none;fill-rule:evenodd;stroke:#0000FF;stroke-width:2.0px;stroke-linecap:butt;stroke-linejoin:miter;stroke-opacity:1\"/>\n",
       "<path class=\"bond-6 atom-6 atom-7\" d=\"M 363.5,254.9 L 370.1,258.1\" style=\"fill:none;fill-rule:evenodd;stroke:#000000;stroke-width:2.0px;stroke-linecap:butt;stroke-linejoin:miter;stroke-opacity:1\"/>\n",
       "<path class=\"bond-7 atom-6 atom-8\" d=\"M 350.9,254.4 L 347.6,259.9\" style=\"fill:none;fill-rule:evenodd;stroke:#0000FF;stroke-width:2.0px;stroke-linecap:butt;stroke-linejoin:miter;stroke-opacity:1\"/>\n",
       "<path class=\"bond-7 atom-6 atom-8\" d=\"M 347.6,259.9 L 344.3,265.5\" style=\"fill:none;fill-rule:evenodd;stroke:#000000;stroke-width:2.0px;stroke-linecap:butt;stroke-linejoin:miter;stroke-opacity:1\"/>\n",
       "<path class=\"bond-8 atom-6 atom-9\" d=\"M 350.0,248.3 L 342.9,244.7\" style=\"fill:none;fill-rule:evenodd;stroke:#0000FF;stroke-width:2.0px;stroke-linecap:butt;stroke-linejoin:miter;stroke-opacity:1\"/>\n",
       "<path class=\"bond-8 atom-6 atom-9\" d=\"M 342.9,244.7 L 335.7,241.0\" style=\"fill:none;fill-rule:evenodd;stroke:#000000;stroke-width:2.0px;stroke-linecap:butt;stroke-linejoin:miter;stroke-opacity:1\"/>\n",
       "<path class=\"bond-9 atom-1 atom-10\" d=\"M 352.7,187.7 L 358.6,185.4\" style=\"fill:none;fill-rule:evenodd;stroke:#FF7F00;stroke-width:2.0px;stroke-linecap:butt;stroke-linejoin:miter;stroke-opacity:1\"/>\n",
       "<path class=\"bond-9 atom-1 atom-10\" d=\"M 358.6,185.4 L 364.5,183.0\" style=\"fill:none;fill-rule:evenodd;stroke:#FF0000;stroke-width:2.0px;stroke-linecap:butt;stroke-linejoin:miter;stroke-opacity:1\"/>\n",
       "<path class=\"bond-9 atom-1 atom-10\" d=\"M 351.7,185.2 L 357.6,182.9\" style=\"fill:none;fill-rule:evenodd;stroke:#FF7F00;stroke-width:2.0px;stroke-linecap:butt;stroke-linejoin:miter;stroke-opacity:1\"/>\n",
       "<path class=\"bond-9 atom-1 atom-10\" d=\"M 357.6,182.9 L 363.5,180.6\" style=\"fill:none;fill-rule:evenodd;stroke:#FF0000;stroke-width:2.0px;stroke-linecap:butt;stroke-linejoin:miter;stroke-opacity:1\"/>\n",
       "<path class=\"bond-10 atom-0 atom-11\" d=\"M 335.7,170.0 L 331.4,169.4\" style=\"fill:none;fill-rule:evenodd;stroke:#FF0000;stroke-width:2.0px;stroke-linecap:butt;stroke-linejoin:miter;stroke-opacity:1\"/>\n",
       "<path class=\"bond-10 atom-0 atom-11\" d=\"M 331.4,169.4 L 327.1,168.8\" style=\"fill:none;fill-rule:evenodd;stroke:#000000;stroke-width:2.0px;stroke-linecap:butt;stroke-linejoin:miter;stroke-opacity:1\"/>\n",
       "<path class=\"bond-11 atom-11 atom-12\" d=\"M 327.1,168.8 L 319.3,152.8\" style=\"fill:none;fill-rule:evenodd;stroke:#000000;stroke-width:2.0px;stroke-linecap:butt;stroke-linejoin:miter;stroke-opacity:1\"/>\n",
       "<path class=\"bond-12 atom-12 atom-13\" d=\"M 319.3,152.8 L 312.8,161.8 L 310.8,160.1 Z\" style=\"fill:#000000;fill-rule:evenodd;fill-opacity:1;stroke:#000000;stroke-width:0.5px;stroke-linecap:butt;stroke-linejoin:miter;stroke-opacity:1;\"/>\n",
       "<path class=\"bond-13 atom-12 atom-14\" d=\"M 319.3,152.8 L 304.2,143.5\" style=\"fill:none;fill-rule:evenodd;stroke:#000000;stroke-width:2.0px;stroke-linecap:butt;stroke-linejoin:miter;stroke-opacity:1\"/>\n",
       "<path class=\"bond-14 atom-14 atom-15\" d=\"M 304.2,143.5 L 298.5,147.0\" style=\"fill:none;fill-rule:evenodd;stroke:#000000;stroke-width:2.0px;stroke-linecap:butt;stroke-linejoin:miter;stroke-opacity:1\"/>\n",
       "<path class=\"bond-14 atom-14 atom-15\" d=\"M 298.5,147.0 L 292.9,150.6\" style=\"fill:none;fill-rule:evenodd;stroke:#FF0000;stroke-width:2.0px;stroke-linecap:butt;stroke-linejoin:miter;stroke-opacity:1\"/>\n",
       "<path class=\"bond-15 atom-15 atom-16\" d=\"M 284.9,151.0 L 279.1,148.1\" style=\"fill:none;fill-rule:evenodd;stroke:#FF0000;stroke-width:2.0px;stroke-linecap:butt;stroke-linejoin:miter;stroke-opacity:1\"/>\n",
       "<path class=\"bond-15 atom-15 atom-16\" d=\"M 279.1,148.1 L 273.4,145.1\" style=\"fill:none;fill-rule:evenodd;stroke:#000000;stroke-width:2.0px;stroke-linecap:butt;stroke-linejoin:miter;stroke-opacity:1\"/>\n",
       "<path class=\"bond-16 atom-16 atom-17\" d=\"M 274.7,145.8 L 274.4,139.0\" style=\"fill:none;fill-rule:evenodd;stroke:#000000;stroke-width:2.0px;stroke-linecap:butt;stroke-linejoin:miter;stroke-opacity:1\"/>\n",
       "<path class=\"bond-16 atom-16 atom-17\" d=\"M 274.4,139.0 L 274.1,132.1\" style=\"fill:none;fill-rule:evenodd;stroke:#FF0000;stroke-width:2.0px;stroke-linecap:butt;stroke-linejoin:miter;stroke-opacity:1\"/>\n",
       "<path class=\"bond-16 atom-16 atom-17\" d=\"M 272.1,145.9 L 271.8,139.1\" style=\"fill:none;fill-rule:evenodd;stroke:#000000;stroke-width:2.0px;stroke-linecap:butt;stroke-linejoin:miter;stroke-opacity:1\"/>\n",
       "<path class=\"bond-16 atom-16 atom-17\" d=\"M 271.8,139.1 L 271.5,132.2\" style=\"fill:none;fill-rule:evenodd;stroke:#FF0000;stroke-width:2.0px;stroke-linecap:butt;stroke-linejoin:miter;stroke-opacity:1\"/>\n",
       "<path class=\"bond-17 atom-16 atom-18\" d=\"M 273.4,145.1 L 258.6,154.4\" style=\"fill:none;fill-rule:evenodd;stroke:#000000;stroke-width:2.0px;stroke-linecap:butt;stroke-linejoin:miter;stroke-opacity:1\"/>\n",
       "<path class=\"bond-18 atom-18 atom-19\" d=\"M 258.6,154.4 L 243.3,145.8\" style=\"fill:none;fill-rule:evenodd;stroke:#000000;stroke-width:2.0px;stroke-linecap:butt;stroke-linejoin:miter;stroke-opacity:1\"/>\n",
       "<path class=\"bond-19 atom-19 atom-20\" d=\"M 243.3,145.8 L 227.8,154.5\" style=\"fill:none;fill-rule:evenodd;stroke:#000000;stroke-width:2.0px;stroke-linecap:butt;stroke-linejoin:miter;stroke-opacity:1\"/>\n",
       "<path class=\"bond-20 atom-20 atom-21\" d=\"M 227.8,154.5 L 212.4,145.7\" style=\"fill:none;fill-rule:evenodd;stroke:#000000;stroke-width:2.0px;stroke-linecap:butt;stroke-linejoin:miter;stroke-opacity:1\"/>\n",
       "<path class=\"bond-21 atom-21 atom-22\" d=\"M 212.4,145.7 L 197.0,154.4\" style=\"fill:none;fill-rule:evenodd;stroke:#000000;stroke-width:2.0px;stroke-linecap:butt;stroke-linejoin:miter;stroke-opacity:1\"/>\n",
       "<path class=\"bond-22 atom-22 atom-23\" d=\"M 197.0,154.4 L 181.6,145.7\" style=\"fill:none;fill-rule:evenodd;stroke:#000000;stroke-width:2.0px;stroke-linecap:butt;stroke-linejoin:miter;stroke-opacity:1\"/>\n",
       "<path class=\"bond-23 atom-23 atom-24\" d=\"M 181.6,145.7 L 166.2,154.4\" style=\"fill:none;fill-rule:evenodd;stroke:#000000;stroke-width:2.0px;stroke-linecap:butt;stroke-linejoin:miter;stroke-opacity:1\"/>\n",
       "<path class=\"bond-24 atom-24 atom-25\" d=\"M 166.2,154.4 L 150.9,145.7\" style=\"fill:none;fill-rule:evenodd;stroke:#000000;stroke-width:2.0px;stroke-linecap:butt;stroke-linejoin:miter;stroke-opacity:1\"/>\n",
       "<path class=\"bond-25 atom-25 atom-26\" d=\"M 150.9,145.7 L 135.5,154.4\" style=\"fill:none;fill-rule:evenodd;stroke:#000000;stroke-width:2.0px;stroke-linecap:butt;stroke-linejoin:miter;stroke-opacity:1\"/>\n",
       "<path class=\"bond-26 atom-26 atom-27\" d=\"M 135.5,154.4 L 120.2,145.8\" style=\"fill:none;fill-rule:evenodd;stroke:#000000;stroke-width:2.0px;stroke-linecap:butt;stroke-linejoin:miter;stroke-opacity:1\"/>\n",
       "<path class=\"bond-27 atom-27 atom-28\" d=\"M 120.2,145.8 L 104.8,154.5\" style=\"fill:none;fill-rule:evenodd;stroke:#000000;stroke-width:2.0px;stroke-linecap:butt;stroke-linejoin:miter;stroke-opacity:1\"/>\n",
       "<path class=\"bond-28 atom-28 atom-29\" d=\"M 104.8,154.5 L 89.4,145.8\" style=\"fill:none;fill-rule:evenodd;stroke:#000000;stroke-width:2.0px;stroke-linecap:butt;stroke-linejoin:miter;stroke-opacity:1\"/>\n",
       "<path class=\"bond-29 atom-29 atom-30\" d=\"M 89.4,145.8 L 74.0,154.6\" style=\"fill:none;fill-rule:evenodd;stroke:#000000;stroke-width:2.0px;stroke-linecap:butt;stroke-linejoin:miter;stroke-opacity:1\"/>\n",
       "<path class=\"bond-30 atom-30 atom-31\" d=\"M 74.0,154.6 L 58.4,145.9\" style=\"fill:none;fill-rule:evenodd;stroke:#000000;stroke-width:2.0px;stroke-linecap:butt;stroke-linejoin:miter;stroke-opacity:1\"/>\n",
       "<path class=\"bond-31 atom-31 atom-32\" d=\"M 58.4,145.9 L 43.0,154.7\" style=\"fill:none;fill-rule:evenodd;stroke:#000000;stroke-width:2.0px;stroke-linecap:butt;stroke-linejoin:miter;stroke-opacity:1\"/>\n",
       "<path class=\"bond-32 atom-12 atom-33\" d=\"M 319.3,152.8 L 325.8,149.9\" style=\"fill:none;fill-rule:evenodd;stroke:#000000;stroke-width:2.0px;stroke-linecap:butt;stroke-linejoin:miter;stroke-opacity:1\"/>\n",
       "<path class=\"bond-32 atom-12 atom-33\" d=\"M 325.8,149.9 L 332.2,147.0\" style=\"fill:none;fill-rule:evenodd;stroke:#FF0000;stroke-width:2.0px;stroke-linecap:butt;stroke-linejoin:miter;stroke-opacity:1\"/>\n",
       "<path class=\"bond-33 atom-33 atom-34\" d=\"M 340.2,147.3 L 346.5,150.8\" style=\"fill:none;fill-rule:evenodd;stroke:#FF0000;stroke-width:2.0px;stroke-linecap:butt;stroke-linejoin:miter;stroke-opacity:1\"/>\n",
       "<path class=\"bond-33 atom-33 atom-34\" d=\"M 346.5,150.8 L 352.8,154.2\" style=\"fill:none;fill-rule:evenodd;stroke:#000000;stroke-width:2.0px;stroke-linecap:butt;stroke-linejoin:miter;stroke-opacity:1\"/>\n",
       "<path class=\"bond-34 atom-34 atom-35\" d=\"M 351.4,153.4 L 352.4,159.7\" style=\"fill:none;fill-rule:evenodd;stroke:#000000;stroke-width:2.0px;stroke-linecap:butt;stroke-linejoin:miter;stroke-opacity:1\"/>\n",
       "<path class=\"bond-34 atom-34 atom-35\" d=\"M 352.4,159.7 L 353.4,166.0\" style=\"fill:none;fill-rule:evenodd;stroke:#FF0000;stroke-width:2.0px;stroke-linecap:butt;stroke-linejoin:miter;stroke-opacity:1\"/>\n",
       "<path class=\"bond-34 atom-34 atom-35\" d=\"M 354.0,153.5 L 355.0,159.3\" style=\"fill:none;fill-rule:evenodd;stroke:#000000;stroke-width:2.0px;stroke-linecap:butt;stroke-linejoin:miter;stroke-opacity:1\"/>\n",
       "<path class=\"bond-34 atom-34 atom-35\" d=\"M 355.0,159.3 L 356.0,165.6\" style=\"fill:none;fill-rule:evenodd;stroke:#FF0000;stroke-width:2.0px;stroke-linecap:butt;stroke-linejoin:miter;stroke-opacity:1\"/>\n",
       "<path class=\"bond-35 atom-34 atom-36\" d=\"M 352.8,154.2 L 366.3,145.8\" style=\"fill:none;fill-rule:evenodd;stroke:#000000;stroke-width:2.0px;stroke-linecap:butt;stroke-linejoin:miter;stroke-opacity:1\"/>\n",
       "<path class=\"bond-36 atom-36 atom-37\" d=\"M 366.3,145.8 L 365.6,129.2\" style=\"fill:none;fill-rule:evenodd;stroke:#000000;stroke-width:2.0px;stroke-linecap:butt;stroke-linejoin:miter;stroke-opacity:1\"/>\n",
       "<path class=\"bond-37 atom-37 atom-38\" d=\"M 365.6,129.2 L 349.7,119.6\" style=\"fill:none;fill-rule:evenodd;stroke:#000000;stroke-width:2.0px;stroke-linecap:butt;stroke-linejoin:miter;stroke-opacity:1\"/>\n",
       "<path class=\"bond-38 atom-38 atom-39\" d=\"M 349.7,119.6 L 350.1,103.3\" style=\"fill:none;fill-rule:evenodd;stroke:#000000;stroke-width:2.0px;stroke-linecap:butt;stroke-linejoin:miter;stroke-opacity:1\"/>\n",
       "<path class=\"bond-39 atom-39 atom-40\" d=\"M 350.1,103.3 L 337.4,93.9\" style=\"fill:none;fill-rule:evenodd;stroke:#000000;stroke-width:2.0px;stroke-linecap:butt;stroke-linejoin:miter;stroke-opacity:1\"/>\n",
       "<path class=\"bond-40 atom-40 atom-41\" d=\"M 337.4,93.9 L 340.3,77.5\" style=\"fill:none;fill-rule:evenodd;stroke:#000000;stroke-width:2.0px;stroke-linecap:butt;stroke-linejoin:miter;stroke-opacity:1\"/>\n",
       "<path class=\"bond-41 atom-41 atom-42\" d=\"M 340.3,77.5 L 317.8,70.6\" style=\"fill:none;fill-rule:evenodd;stroke:#000000;stroke-width:2.0px;stroke-linecap:butt;stroke-linejoin:miter;stroke-opacity:1\"/>\n",
       "<path class=\"bond-42 atom-42 atom-43\" d=\"M 317.8,70.6 L 318.7,48.5\" style=\"fill:none;fill-rule:evenodd;stroke:#000000;stroke-width:2.0px;stroke-linecap:butt;stroke-linejoin:miter;stroke-opacity:1\"/>\n",
       "<path class=\"bond-43 atom-43 atom-44\" d=\"M 318.7,48.5 L 337.9,37.6\" style=\"fill:none;fill-rule:evenodd;stroke:#000000;stroke-width:2.0px;stroke-linecap:butt;stroke-linejoin:miter;stroke-opacity:1\"/>\n",
       "<path class=\"bond-43 atom-43 atom-44\" d=\"M 321.3,50.0 L 337.5,40.8\" style=\"fill:none;fill-rule:evenodd;stroke:#000000;stroke-width:2.0px;stroke-linecap:butt;stroke-linejoin:miter;stroke-opacity:1\"/>\n",
       "<path class=\"bond-44 atom-44 atom-45\" d=\"M 337.9,37.6 L 354.3,53.2\" style=\"fill:none;fill-rule:evenodd;stroke:#000000;stroke-width:2.0px;stroke-linecap:butt;stroke-linejoin:miter;stroke-opacity:1\"/>\n",
       "<path class=\"bond-45 atom-45 atom-46\" d=\"M 354.3,53.2 L 367.0,42.8\" style=\"fill:none;fill-rule:evenodd;stroke:#000000;stroke-width:2.0px;stroke-linecap:butt;stroke-linejoin:miter;stroke-opacity:1\"/>\n",
       "<path class=\"bond-46 atom-46 atom-47\" d=\"M 367.0,42.8 L 381.4,48.8\" style=\"fill:none;fill-rule:evenodd;stroke:#000000;stroke-width:2.0px;stroke-linecap:butt;stroke-linejoin:miter;stroke-opacity:1\"/>\n",
       "<path class=\"bond-47 atom-47 atom-48\" d=\"M 381.4,48.8 L 395.7,39.9\" style=\"fill:none;fill-rule:evenodd;stroke:#000000;stroke-width:2.0px;stroke-linecap:butt;stroke-linejoin:miter;stroke-opacity:1\"/>\n",
       "<path class=\"bond-48 atom-48 atom-49\" d=\"M 395.7,39.9 L 411.1,48.6\" style=\"fill:none;fill-rule:evenodd;stroke:#000000;stroke-width:2.0px;stroke-linecap:butt;stroke-linejoin:miter;stroke-opacity:1\"/>\n",
       "<path class=\"bond-49 atom-49 atom-50\" d=\"M 411.1,48.6 L 426.2,39.8\" style=\"fill:none;fill-rule:evenodd;stroke:#000000;stroke-width:2.0px;stroke-linecap:butt;stroke-linejoin:miter;stroke-opacity:1\"/>\n",
       "<path class=\"bond-50 atom-50 atom-51\" d=\"M 426.2,39.8 L 441.8,48.6\" style=\"fill:none;fill-rule:evenodd;stroke:#000000;stroke-width:2.0px;stroke-linecap:butt;stroke-linejoin:miter;stroke-opacity:1\"/>\n",
       "<path class=\"bond-51 atom-51 atom-52\" d=\"M 441.8,48.6 L 457.0,39.8\" style=\"fill:none;fill-rule:evenodd;stroke:#000000;stroke-width:2.0px;stroke-linecap:butt;stroke-linejoin:miter;stroke-opacity:1\"/>\n",
       "<path class=\"bond-52 atom-4 atom-53\" d=\"M 353.8,210.9 L 342.2,215.7\" style=\"fill:none;fill-rule:evenodd;stroke:#000000;stroke-width:2.0px;stroke-linecap:butt;stroke-linejoin:miter;stroke-opacity:1\"/>\n",
       "<path class=\"bond-53 atom-4 atom-54\" d=\"M 353.8,210.9 L 344.1,206.8\" style=\"fill:none;fill-rule:evenodd;stroke:#000000;stroke-width:2.0px;stroke-linecap:butt;stroke-linejoin:miter;stroke-opacity:1\"/>\n",
       "<path class=\"bond-54 atom-5 atom-55\" d=\"M 363.7,229.7 L 375.3,234.6\" style=\"fill:none;fill-rule:evenodd;stroke:#000000;stroke-width:2.0px;stroke-linecap:butt;stroke-linejoin:miter;stroke-opacity:1\"/>\n",
       "<path class=\"bond-55 atom-5 atom-56\" d=\"M 363.7,229.7 L 375.3,222.2\" style=\"fill:none;fill-rule:evenodd;stroke:#000000;stroke-width:2.0px;stroke-linecap:butt;stroke-linejoin:miter;stroke-opacity:1\"/>\n",
       "<path class=\"bond-56 atom-7 atom-57\" d=\"M 370.1,258.1 L 365.5,268.1\" style=\"fill:none;fill-rule:evenodd;stroke:#000000;stroke-width:2.0px;stroke-linecap:butt;stroke-linejoin:miter;stroke-opacity:1\"/>\n",
       "<path class=\"bond-57 atom-7 atom-58\" d=\"M 370.1,258.1 L 376.8,268.1\" style=\"fill:none;fill-rule:evenodd;stroke:#000000;stroke-width:2.0px;stroke-linecap:butt;stroke-linejoin:miter;stroke-opacity:1\"/>\n",
       "<path class=\"bond-58 atom-7 atom-59\" d=\"M 370.1,258.1 L 381.0,251.2\" style=\"fill:none;fill-rule:evenodd;stroke:#000000;stroke-width:2.0px;stroke-linecap:butt;stroke-linejoin:miter;stroke-opacity:1\"/>\n",
       "<path class=\"bond-59 atom-8 atom-60\" d=\"M 344.3,265.5 L 333.4,259.9\" style=\"fill:none;fill-rule:evenodd;stroke:#000000;stroke-width:2.0px;stroke-linecap:butt;stroke-linejoin:miter;stroke-opacity:1\"/>\n",
       "<path class=\"bond-60 atom-8 atom-61\" d=\"M 344.3,265.5 L 332.5,271.8\" style=\"fill:none;fill-rule:evenodd;stroke:#000000;stroke-width:2.0px;stroke-linecap:butt;stroke-linejoin:miter;stroke-opacity:1\"/>\n",
       "<path class=\"bond-61 atom-8 atom-62\" d=\"M 344.3,265.5 L 348.9,274.6\" style=\"fill:none;fill-rule:evenodd;stroke:#000000;stroke-width:2.0px;stroke-linecap:butt;stroke-linejoin:miter;stroke-opacity:1\"/>\n",
       "<path class=\"bond-62 atom-9 atom-63\" d=\"M 335.7,241.0 L 345.3,231.6\" style=\"fill:none;fill-rule:evenodd;stroke:#000000;stroke-width:2.0px;stroke-linecap:butt;stroke-linejoin:miter;stroke-opacity:1\"/>\n",
       "<path class=\"bond-63 atom-9 atom-64\" d=\"M 335.7,241.0 L 326.9,224.8\" style=\"fill:none;fill-rule:evenodd;stroke:#000000;stroke-width:2.0px;stroke-linecap:butt;stroke-linejoin:miter;stroke-opacity:1\"/>\n",
       "<path class=\"bond-64 atom-9 atom-65\" d=\"M 335.7,241.0 L 325.6,244.7\" style=\"fill:none;fill-rule:evenodd;stroke:#000000;stroke-width:2.0px;stroke-linecap:butt;stroke-linejoin:miter;stroke-opacity:1\"/>\n",
       "<path class=\"bond-65 atom-11 atom-66\" d=\"M 327.1,168.8 L 326.8,180.0\" style=\"fill:none;fill-rule:evenodd;stroke:#000000;stroke-width:2.0px;stroke-linecap:butt;stroke-linejoin:miter;stroke-opacity:1\"/>\n",
       "<path class=\"bond-66 atom-11 atom-67\" d=\"M 327.1,168.8 L 317.1,175.9\" style=\"fill:none;fill-rule:evenodd;stroke:#000000;stroke-width:2.0px;stroke-linecap:butt;stroke-linejoin:miter;stroke-opacity:1\"/>\n",
       "<path class=\"bond-67 atom-14 atom-68\" d=\"M 304.2,143.5 L 310.1,132.6\" style=\"fill:none;fill-rule:evenodd;stroke:#000000;stroke-width:2.0px;stroke-linecap:butt;stroke-linejoin:miter;stroke-opacity:1\"/>\n",
       "<path class=\"bond-68 atom-14 atom-69\" d=\"M 304.2,143.5 L 297.4,133.0\" style=\"fill:none;fill-rule:evenodd;stroke:#000000;stroke-width:2.0px;stroke-linecap:butt;stroke-linejoin:miter;stroke-opacity:1\"/>\n",
       "<path class=\"bond-69 atom-18 atom-70\" d=\"M 258.6,154.4 L 265.0,165.1\" style=\"fill:none;fill-rule:evenodd;stroke:#000000;stroke-width:2.0px;stroke-linecap:butt;stroke-linejoin:miter;stroke-opacity:1\"/>\n",
       "<path class=\"bond-70 atom-18 atom-71\" d=\"M 258.6,154.4 L 252.6,165.4\" style=\"fill:none;fill-rule:evenodd;stroke:#000000;stroke-width:2.0px;stroke-linecap:butt;stroke-linejoin:miter;stroke-opacity:1\"/>\n",
       "<path class=\"bond-71 atom-19 atom-72\" d=\"M 243.3,145.8 L 249.6,134.9\" style=\"fill:none;fill-rule:evenodd;stroke:#000000;stroke-width:2.0px;stroke-linecap:butt;stroke-linejoin:miter;stroke-opacity:1\"/>\n",
       "<path class=\"bond-72 atom-19 atom-73\" d=\"M 243.3,145.8 L 237.3,134.9\" style=\"fill:none;fill-rule:evenodd;stroke:#000000;stroke-width:2.0px;stroke-linecap:butt;stroke-linejoin:miter;stroke-opacity:1\"/>\n",
       "<path class=\"bond-73 atom-20 atom-74\" d=\"M 227.8,154.5 L 233.8,165.3\" style=\"fill:none;fill-rule:evenodd;stroke:#000000;stroke-width:2.0px;stroke-linecap:butt;stroke-linejoin:miter;stroke-opacity:1\"/>\n",
       "<path class=\"bond-74 atom-20 atom-75\" d=\"M 227.8,154.5 L 221.7,165.2\" style=\"fill:none;fill-rule:evenodd;stroke:#000000;stroke-width:2.0px;stroke-linecap:butt;stroke-linejoin:miter;stroke-opacity:1\"/>\n",
       "<path class=\"bond-75 atom-21 atom-76\" d=\"M 212.4,145.7 L 218.4,134.9\" style=\"fill:none;fill-rule:evenodd;stroke:#000000;stroke-width:2.0px;stroke-linecap:butt;stroke-linejoin:miter;stroke-opacity:1\"/>\n",
       "<path class=\"bond-76 atom-21 atom-77\" d=\"M 212.4,145.7 L 206.4,134.9\" style=\"fill:none;fill-rule:evenodd;stroke:#000000;stroke-width:2.0px;stroke-linecap:butt;stroke-linejoin:miter;stroke-opacity:1\"/>\n",
       "<path class=\"bond-77 atom-22 atom-78\" d=\"M 197.0,154.4 L 202.8,165.2\" style=\"fill:none;fill-rule:evenodd;stroke:#000000;stroke-width:2.0px;stroke-linecap:butt;stroke-linejoin:miter;stroke-opacity:1\"/>\n",
       "<path class=\"bond-78 atom-22 atom-79\" d=\"M 197.0,154.4 L 191.0,165.2\" style=\"fill:none;fill-rule:evenodd;stroke:#000000;stroke-width:2.0px;stroke-linecap:butt;stroke-linejoin:miter;stroke-opacity:1\"/>\n",
       "<path class=\"bond-79 atom-23 atom-80\" d=\"M 181.6,145.7 L 187.5,135.0\" style=\"fill:none;fill-rule:evenodd;stroke:#000000;stroke-width:2.0px;stroke-linecap:butt;stroke-linejoin:miter;stroke-opacity:1\"/>\n",
       "<path class=\"bond-80 atom-23 atom-81\" d=\"M 181.6,145.7 L 175.7,135.0\" style=\"fill:none;fill-rule:evenodd;stroke:#000000;stroke-width:2.0px;stroke-linecap:butt;stroke-linejoin:miter;stroke-opacity:1\"/>\n",
       "<path class=\"bond-81 atom-24 atom-82\" d=\"M 166.2,154.4 L 172.1,165.1\" style=\"fill:none;fill-rule:evenodd;stroke:#000000;stroke-width:2.0px;stroke-linecap:butt;stroke-linejoin:miter;stroke-opacity:1\"/>\n",
       "<path class=\"bond-82 atom-24 atom-83\" d=\"M 166.2,154.4 L 160.3,165.1\" style=\"fill:none;fill-rule:evenodd;stroke:#000000;stroke-width:2.0px;stroke-linecap:butt;stroke-linejoin:miter;stroke-opacity:1\"/>\n",
       "<path class=\"bond-83 atom-25 atom-84\" d=\"M 150.9,145.7 L 156.8,135.0\" style=\"fill:none;fill-rule:evenodd;stroke:#000000;stroke-width:2.0px;stroke-linecap:butt;stroke-linejoin:miter;stroke-opacity:1\"/>\n",
       "<path class=\"bond-84 atom-25 atom-85\" d=\"M 150.9,145.7 L 144.9,135.0\" style=\"fill:none;fill-rule:evenodd;stroke:#000000;stroke-width:2.0px;stroke-linecap:butt;stroke-linejoin:miter;stroke-opacity:1\"/>\n",
       "<path class=\"bond-85 atom-26 atom-86\" d=\"M 135.5,154.4 L 141.5,165.2\" style=\"fill:none;fill-rule:evenodd;stroke:#000000;stroke-width:2.0px;stroke-linecap:butt;stroke-linejoin:miter;stroke-opacity:1\"/>\n",
       "<path class=\"bond-86 atom-26 atom-87\" d=\"M 135.5,154.4 L 129.7,165.2\" style=\"fill:none;fill-rule:evenodd;stroke:#000000;stroke-width:2.0px;stroke-linecap:butt;stroke-linejoin:miter;stroke-opacity:1\"/>\n",
       "<path class=\"bond-87 atom-27 atom-88\" d=\"M 120.2,145.8 L 126.1,135.0\" style=\"fill:none;fill-rule:evenodd;stroke:#000000;stroke-width:2.0px;stroke-linecap:butt;stroke-linejoin:miter;stroke-opacity:1\"/>\n",
       "<path class=\"bond-88 atom-27 atom-89\" d=\"M 120.2,145.8 L 114.2,135.0\" style=\"fill:none;fill-rule:evenodd;stroke:#000000;stroke-width:2.0px;stroke-linecap:butt;stroke-linejoin:miter;stroke-opacity:1\"/>\n",
       "<path class=\"bond-89 atom-28 atom-90\" d=\"M 104.8,154.5 L 110.8,165.2\" style=\"fill:none;fill-rule:evenodd;stroke:#000000;stroke-width:2.0px;stroke-linecap:butt;stroke-linejoin:miter;stroke-opacity:1\"/>\n",
       "<path class=\"bond-90 atom-28 atom-91\" d=\"M 104.8,154.5 L 99.0,165.3\" style=\"fill:none;fill-rule:evenodd;stroke:#000000;stroke-width:2.0px;stroke-linecap:butt;stroke-linejoin:miter;stroke-opacity:1\"/>\n",
       "<path class=\"bond-91 atom-29 atom-92\" d=\"M 89.4,145.8 L 95.4,135.0\" style=\"fill:none;fill-rule:evenodd;stroke:#000000;stroke-width:2.0px;stroke-linecap:butt;stroke-linejoin:miter;stroke-opacity:1\"/>\n",
       "<path class=\"bond-92 atom-29 atom-93\" d=\"M 89.4,145.8 L 83.3,135.0\" style=\"fill:none;fill-rule:evenodd;stroke:#000000;stroke-width:2.0px;stroke-linecap:butt;stroke-linejoin:miter;stroke-opacity:1\"/>\n",
       "<path class=\"bond-93 atom-30 atom-94\" d=\"M 74.0,154.6 L 80.0,165.3\" style=\"fill:none;fill-rule:evenodd;stroke:#000000;stroke-width:2.0px;stroke-linecap:butt;stroke-linejoin:miter;stroke-opacity:1\"/>\n",
       "<path class=\"bond-94 atom-30 atom-95\" d=\"M 74.0,154.6 L 68.0,165.5\" style=\"fill:none;fill-rule:evenodd;stroke:#000000;stroke-width:2.0px;stroke-linecap:butt;stroke-linejoin:miter;stroke-opacity:1\"/>\n",
       "<path class=\"bond-95 atom-31 atom-96\" d=\"M 58.4,145.9 L 64.4,135.0\" style=\"fill:none;fill-rule:evenodd;stroke:#000000;stroke-width:2.0px;stroke-linecap:butt;stroke-linejoin:miter;stroke-opacity:1\"/>\n",
       "<path class=\"bond-96 atom-31 atom-97\" d=\"M 58.4,145.9 L 52.0,135.0\" style=\"fill:none;fill-rule:evenodd;stroke:#000000;stroke-width:2.0px;stroke-linecap:butt;stroke-linejoin:miter;stroke-opacity:1\"/>\n",
       "<path class=\"bond-97 atom-32 atom-98\" d=\"M 43.0,154.7 L 49.1,165.6\" style=\"fill:none;fill-rule:evenodd;stroke:#000000;stroke-width:2.0px;stroke-linecap:butt;stroke-linejoin:miter;stroke-opacity:1\"/>\n",
       "<path class=\"bond-98 atom-32 atom-99\" d=\"M 43.0,154.7 L 36.7,165.6\" style=\"fill:none;fill-rule:evenodd;stroke:#000000;stroke-width:2.0px;stroke-linecap:butt;stroke-linejoin:miter;stroke-opacity:1\"/>\n",
       "<path class=\"bond-99 atom-32 atom-100\" d=\"M 43.0,154.7 L 31.4,147.9\" style=\"fill:none;fill-rule:evenodd;stroke:#000000;stroke-width:2.0px;stroke-linecap:butt;stroke-linejoin:miter;stroke-opacity:1\"/>\n",
       "<path class=\"bond-100 atom-36 atom-101\" d=\"M 366.3,145.8 L 373.0,156.6\" style=\"fill:none;fill-rule:evenodd;stroke:#000000;stroke-width:2.0px;stroke-linecap:butt;stroke-linejoin:miter;stroke-opacity:1\"/>\n",
       "<path class=\"bond-101 atom-36 atom-102\" d=\"M 366.3,145.8 L 380.4,145.4\" style=\"fill:none;fill-rule:evenodd;stroke:#000000;stroke-width:2.0px;stroke-linecap:butt;stroke-linejoin:miter;stroke-opacity:1\"/>\n",
       "<path class=\"bond-102 atom-37 atom-103\" d=\"M 365.6,129.2 L 379.6,128.9\" style=\"fill:none;fill-rule:evenodd;stroke:#000000;stroke-width:2.0px;stroke-linecap:butt;stroke-linejoin:miter;stroke-opacity:1\"/>\n",
       "<path class=\"bond-103 atom-37 atom-104\" d=\"M 365.6,129.2 L 371.8,119.0\" style=\"fill:none;fill-rule:evenodd;stroke:#000000;stroke-width:2.0px;stroke-linecap:butt;stroke-linejoin:miter;stroke-opacity:1\"/>\n",
       "<path class=\"bond-104 atom-38 atom-105\" d=\"M 349.7,119.6 L 343.5,127.3\" style=\"fill:none;fill-rule:evenodd;stroke:#000000;stroke-width:2.0px;stroke-linecap:butt;stroke-linejoin:miter;stroke-opacity:1\"/>\n",
       "<path class=\"bond-105 atom-38 atom-106\" d=\"M 349.7,119.6 L 336.2,119.2\" style=\"fill:none;fill-rule:evenodd;stroke:#000000;stroke-width:2.0px;stroke-linecap:butt;stroke-linejoin:miter;stroke-opacity:1\"/>\n",
       "<path class=\"bond-106 atom-39 atom-107\" d=\"M 350.1,103.3 L 362.9,103.2\" style=\"fill:none;fill-rule:evenodd;stroke:#000000;stroke-width:2.0px;stroke-linecap:butt;stroke-linejoin:miter;stroke-opacity:1\"/>\n",
       "<path class=\"bond-107 atom-39 atom-108\" d=\"M 350.1,103.3 L 356.4,94.4\" style=\"fill:none;fill-rule:evenodd;stroke:#000000;stroke-width:2.0px;stroke-linecap:butt;stroke-linejoin:miter;stroke-opacity:1\"/>\n",
       "<path class=\"bond-108 atom-40 atom-109\" d=\"M 337.4,93.9 L 329.2,103.0\" style=\"fill:none;fill-rule:evenodd;stroke:#000000;stroke-width:2.0px;stroke-linecap:butt;stroke-linejoin:miter;stroke-opacity:1\"/>\n",
       "<path class=\"bond-109 atom-40 atom-110\" d=\"M 337.4,93.9 L 323.3,92.4\" style=\"fill:none;fill-rule:evenodd;stroke:#000000;stroke-width:2.0px;stroke-linecap:butt;stroke-linejoin:miter;stroke-opacity:1\"/>\n",
       "<path class=\"bond-110 atom-41 atom-111\" d=\"M 340.3,77.5 L 348.7,77.9\" style=\"fill:none;fill-rule:evenodd;stroke:#000000;stroke-width:2.0px;stroke-linecap:butt;stroke-linejoin:miter;stroke-opacity:1\"/>\n",
       "<path class=\"bond-111 atom-41 atom-112\" d=\"M 340.3,77.5 L 339.6,58.5\" style=\"fill:none;fill-rule:evenodd;stroke:#000000;stroke-width:2.0px;stroke-linecap:butt;stroke-linejoin:miter;stroke-opacity:1\"/>\n",
       "<path class=\"bond-112 atom-42 atom-113\" d=\"M 317.8,70.6 L 312.4,78.3\" style=\"fill:none;fill-rule:evenodd;stroke:#000000;stroke-width:2.0px;stroke-linecap:butt;stroke-linejoin:miter;stroke-opacity:1\"/>\n",
       "<path class=\"bond-113 atom-42 atom-114\" d=\"M 317.8,70.6 L 304.0,68.9\" style=\"fill:none;fill-rule:evenodd;stroke:#000000;stroke-width:2.0px;stroke-linecap:butt;stroke-linejoin:miter;stroke-opacity:1\"/>\n",
       "<path class=\"bond-114 atom-43 atom-115\" d=\"M 318.7,48.5 L 307.3,41.6\" style=\"fill:none;fill-rule:evenodd;stroke:#000000;stroke-width:2.0px;stroke-linecap:butt;stroke-linejoin:miter;stroke-opacity:1\"/>\n",
       "<path class=\"bond-115 atom-44 atom-116\" d=\"M 337.9,37.6 L 338.1,25.4\" style=\"fill:none;fill-rule:evenodd;stroke:#000000;stroke-width:2.0px;stroke-linecap:butt;stroke-linejoin:miter;stroke-opacity:1\"/>\n",
       "<path class=\"bond-116 atom-45 atom-117\" d=\"M 354.3,53.2 L 337.2,62.4\" style=\"fill:none;fill-rule:evenodd;stroke:#000000;stroke-width:2.0px;stroke-linecap:butt;stroke-linejoin:miter;stroke-opacity:1\"/>\n",
       "<path class=\"bond-117 atom-45 atom-118\" d=\"M 354.3,53.2 L 357.9,58.8\" style=\"fill:none;fill-rule:evenodd;stroke:#000000;stroke-width:2.0px;stroke-linecap:butt;stroke-linejoin:miter;stroke-opacity:1\"/>\n",
       "<path class=\"bond-118 atom-46 atom-119\" d=\"M 367.0,42.8 L 358.8,32.8\" style=\"fill:none;fill-rule:evenodd;stroke:#000000;stroke-width:2.0px;stroke-linecap:butt;stroke-linejoin:miter;stroke-opacity:1\"/>\n",
       "<path class=\"bond-119 atom-46 atom-120\" d=\"M 367.0,42.8 L 371.2,30.4\" style=\"fill:none;fill-rule:evenodd;stroke:#000000;stroke-width:2.0px;stroke-linecap:butt;stroke-linejoin:miter;stroke-opacity:1\"/>\n",
       "<path class=\"bond-120 atom-47 atom-121\" d=\"M 381.4,48.8 L 376.8,59.1\" style=\"fill:none;fill-rule:evenodd;stroke:#000000;stroke-width:2.0px;stroke-linecap:butt;stroke-linejoin:miter;stroke-opacity:1\"/>\n",
       "<path class=\"bond-121 atom-47 atom-122\" d=\"M 381.4,48.8 L 386.6,58.6\" style=\"fill:none;fill-rule:evenodd;stroke:#000000;stroke-width:2.0px;stroke-linecap:butt;stroke-linejoin:miter;stroke-opacity:1\"/>\n",
       "<path class=\"bond-122 atom-48 atom-123\" d=\"M 395.7,39.9 L 389.3,29.4\" style=\"fill:none;fill-rule:evenodd;stroke:#000000;stroke-width:2.0px;stroke-linecap:butt;stroke-linejoin:miter;stroke-opacity:1\"/>\n",
       "<path class=\"bond-123 atom-48 atom-124\" d=\"M 395.7,39.9 L 401.3,29.1\" style=\"fill:none;fill-rule:evenodd;stroke:#000000;stroke-width:2.0px;stroke-linecap:butt;stroke-linejoin:miter;stroke-opacity:1\"/>\n",
       "<path class=\"bond-124 atom-49 atom-125\" d=\"M 411.1,48.6 L 405.2,59.3\" style=\"fill:none;fill-rule:evenodd;stroke:#000000;stroke-width:2.0px;stroke-linecap:butt;stroke-linejoin:miter;stroke-opacity:1\"/>\n",
       "<path class=\"bond-125 atom-49 atom-126\" d=\"M 411.1,48.6 L 416.9,59.3\" style=\"fill:none;fill-rule:evenodd;stroke:#000000;stroke-width:2.0px;stroke-linecap:butt;stroke-linejoin:miter;stroke-opacity:1\"/>\n",
       "<path class=\"bond-126 atom-50 atom-127\" d=\"M 426.2,39.8 L 420.0,29.2\" style=\"fill:none;fill-rule:evenodd;stroke:#000000;stroke-width:2.0px;stroke-linecap:butt;stroke-linejoin:miter;stroke-opacity:1\"/>\n",
       "<path class=\"bond-127 atom-50 atom-128\" d=\"M 426.2,39.8 L 432.0,29.0\" style=\"fill:none;fill-rule:evenodd;stroke:#000000;stroke-width:2.0px;stroke-linecap:butt;stroke-linejoin:miter;stroke-opacity:1\"/>\n",
       "<path class=\"bond-128 atom-51 atom-129\" d=\"M 441.8,48.6 L 435.8,59.5\" style=\"fill:none;fill-rule:evenodd;stroke:#000000;stroke-width:2.0px;stroke-linecap:butt;stroke-linejoin:miter;stroke-opacity:1\"/>\n",
       "<path class=\"bond-129 atom-51 atom-130\" d=\"M 441.8,48.6 L 448.1,59.4\" style=\"fill:none;fill-rule:evenodd;stroke:#000000;stroke-width:2.0px;stroke-linecap:butt;stroke-linejoin:miter;stroke-opacity:1\"/>\n",
       "<path class=\"bond-130 atom-52 atom-131\" d=\"M 457.0,39.8 L 450.8,28.9\" style=\"fill:none;fill-rule:evenodd;stroke:#000000;stroke-width:2.0px;stroke-linecap:butt;stroke-linejoin:miter;stroke-opacity:1\"/>\n",
       "<path class=\"bond-131 atom-52 atom-132\" d=\"M 457.0,39.8 L 463.2,28.9\" style=\"fill:none;fill-rule:evenodd;stroke:#000000;stroke-width:2.0px;stroke-linecap:butt;stroke-linejoin:miter;stroke-opacity:1\"/>\n",
       "<path class=\"bond-132 atom-52 atom-133\" d=\"M 457.0,39.8 L 468.6,46.5\" style=\"fill:none;fill-rule:evenodd;stroke:#000000;stroke-width:2.0px;stroke-linecap:butt;stroke-linejoin:miter;stroke-opacity:1\"/>\n",
       "<path d=\"M 273.7,145.3 L 273.4,145.1 L 272.7,145.6\" style=\"fill:none;stroke:#000000;stroke-width:2.0px;stroke-linecap:butt;stroke-linejoin:miter;stroke-opacity:1;\"/>\n",
       "<path d=\"M 352.5,154.0 L 352.8,154.2 L 353.5,153.8\" style=\"fill:none;stroke:#000000;stroke-width:2.0px;stroke-linecap:butt;stroke-linejoin:miter;stroke-opacity:1;\"/>\n",
       "<path class=\"atom-0\" d=\"M 336.3 170.6 Q 336.3 168.8, 337.2 167.8 Q 338.1 166.8, 339.7 166.8 Q 341.4 166.8, 342.3 167.8 Q 343.2 168.8, 343.2 170.6 Q 343.2 172.5, 342.3 173.5 Q 341.4 174.5, 339.7 174.5 Q 338.1 174.5, 337.2 173.5 Q 336.3 172.5, 336.3 170.6 M 339.7 173.7 Q 340.9 173.7, 341.5 172.9 Q 342.1 172.1, 342.1 170.6 Q 342.1 169.2, 341.5 168.4 Q 340.9 167.7, 339.7 167.7 Q 338.6 167.7, 338.0 168.4 Q 337.3 169.2, 337.3 170.6 Q 337.3 172.2, 338.0 172.9 Q 338.6 173.7, 339.7 173.7 \" fill=\"#FF0000\"/>\n",
       "<path class=\"atom-1\" d=\"M 349.1 183.9 Q 350.3 183.9, 351.0 184.5 Q 351.6 185.0, 351.6 186.1 Q 351.6 187.1, 351.0 187.7 Q 350.3 188.3, 349.1 188.3 L 347.9 188.3 L 347.9 191.4 L 346.9 191.4 L 346.9 183.9 L 349.1 183.9 M 349.1 187.4 Q 349.8 187.4, 350.2 187.1 Q 350.6 186.7, 350.6 186.1 Q 350.6 185.4, 350.2 185.1 Q 349.8 184.7, 349.1 184.7 L 347.9 184.7 L 347.9 187.4 L 349.1 187.4 \" fill=\"#FF7F00\"/>\n",
       "<path class=\"atom-2\" d=\"M 335.5 191.5 Q 335.5 189.7, 336.4 188.7 Q 337.2 187.7, 338.9 187.7 Q 340.6 187.7, 341.4 188.7 Q 342.3 189.7, 342.3 191.5 Q 342.3 193.3, 341.4 194.4 Q 340.5 195.4, 338.9 195.4 Q 337.3 195.4, 336.4 194.4 Q 335.5 193.3, 335.5 191.5 M 338.9 194.5 Q 340.0 194.5, 340.7 193.8 Q 341.3 193.0, 341.3 191.5 Q 341.3 190.0, 340.7 189.3 Q 340.0 188.6, 338.9 188.6 Q 337.8 188.6, 337.1 189.3 Q 336.5 190.0, 336.5 191.5 Q 336.5 193.0, 337.1 193.8 Q 337.8 194.5, 338.9 194.5 \" fill=\"#FF0000\"/>\n",
       "<path class=\"atom-2\" d=\"M 343.4 188.9 L 346.0 188.9 L 346.0 189.5 L 343.4 189.5 L 343.4 188.9 \" fill=\"#FF0000\"/>\n",
       "<path class=\"atom-3\" d=\"M 356.8 201.2 Q 356.8 199.4, 357.7 198.4 Q 358.6 197.4, 360.3 197.4 Q 361.9 197.4, 362.8 198.4 Q 363.7 199.4, 363.7 201.2 Q 363.7 203.0, 362.8 204.1 Q 361.9 205.1, 360.3 205.1 Q 358.6 205.1, 357.7 204.1 Q 356.8 203.0, 356.8 201.2 M 360.3 204.2 Q 361.4 204.2, 362.0 203.5 Q 362.7 202.7, 362.7 201.2 Q 362.7 199.7, 362.0 199.0 Q 361.4 198.3, 360.3 198.3 Q 359.1 198.3, 358.5 199.0 Q 357.9 199.7, 357.9 201.2 Q 357.9 202.7, 358.5 203.5 Q 359.1 204.2, 360.3 204.2 \" fill=\"#FF0000\"/>\n",
       "<path class=\"atom-6\" d=\"M 351.8 246.3 L 354.3 250.3 Q 354.5 250.7, 354.9 251.4 Q 355.3 252.1, 355.3 252.2 L 355.3 246.3 L 356.3 246.3 L 356.3 253.8 L 355.3 253.8 L 352.6 249.5 Q 352.3 249.0, 352.0 248.4 Q 351.7 247.8, 351.6 247.6 L 351.6 253.8 L 350.6 253.8 L 350.6 246.3 L 351.8 246.3 \" fill=\"#0000FF\"/>\n",
       "<path class=\"atom-6\" d=\"M 357.7 247.7 L 359.0 247.7 L 359.0 246.3 L 359.6 246.3 L 359.6 247.7 L 361.0 247.7 L 361.0 248.2 L 359.6 248.2 L 359.6 249.6 L 359.0 249.6 L 359.0 248.2 L 357.7 248.2 L 357.7 247.7 \" fill=\"#0000FF\"/>\n",
       "<path class=\"atom-10\" d=\"M 364.6 180.3 Q 364.6 178.5, 365.5 177.5 Q 366.4 176.5, 368.0 176.5 Q 369.7 176.5, 370.6 177.5 Q 371.5 178.5, 371.5 180.3 Q 371.5 182.1, 370.6 183.1 Q 369.7 184.1, 368.0 184.1 Q 366.4 184.1, 365.5 183.1 Q 364.6 182.1, 364.6 180.3 M 368.0 183.3 Q 369.2 183.3, 369.8 182.5 Q 370.4 181.8, 370.4 180.3 Q 370.4 178.8, 369.8 178.1 Q 369.2 177.3, 368.0 177.3 Q 366.9 177.3, 366.3 178.1 Q 365.7 178.8, 365.7 180.3 Q 365.7 181.8, 366.3 182.5 Q 366.9 183.3, 368.0 183.3 \" fill=\"#FF0000\"/>\n",
       "<path class=\"atom-13\" d=\"M 304.8 161.6 L 305.8 161.6 L 305.8 164.8 L 309.6 164.8 L 309.6 161.6 L 310.7 161.6 L 310.7 169.1 L 309.6 169.1 L 309.6 165.6 L 305.8 165.6 L 305.8 169.1 L 304.8 169.1 L 304.8 161.6 \" fill=\"#000000\"/>\n",
       "<path class=\"atom-15\" d=\"M 285.5 153.1 Q 285.5 151.3, 286.4 150.3 Q 287.2 149.3, 288.9 149.3 Q 290.6 149.3, 291.4 150.3 Q 292.3 151.3, 292.3 153.1 Q 292.3 154.9, 291.4 156.0 Q 290.5 157.0, 288.9 157.0 Q 287.3 157.0, 286.4 156.0 Q 285.5 154.9, 285.5 153.1 M 288.9 156.1 Q 290.0 156.1, 290.7 155.4 Q 291.3 154.6, 291.3 153.1 Q 291.3 151.6, 290.7 150.9 Q 290.0 150.1, 288.9 150.1 Q 287.8 150.1, 287.1 150.9 Q 286.5 151.6, 286.5 153.1 Q 286.5 154.6, 287.1 155.4 Q 287.8 156.1, 288.9 156.1 \" fill=\"#FF0000\"/>\n",
       "<path class=\"atom-17\" d=\"M 269.2 127.7 Q 269.2 125.9, 270.1 124.9 Q 271.0 123.9, 272.6 123.9 Q 274.3 123.9, 275.2 124.9 Q 276.1 125.9, 276.1 127.7 Q 276.1 129.5, 275.2 130.6 Q 274.3 131.6, 272.6 131.6 Q 271.0 131.6, 270.1 130.6 Q 269.2 129.5, 269.2 127.7 M 272.6 130.7 Q 273.8 130.7, 274.4 130.0 Q 275.0 129.2, 275.0 127.7 Q 275.0 126.2, 274.4 125.5 Q 273.8 124.8, 272.6 124.8 Q 271.5 124.8, 270.9 125.5 Q 270.3 126.2, 270.3 127.7 Q 270.3 129.2, 270.9 130.0 Q 271.5 130.7, 272.6 130.7 \" fill=\"#FF0000\"/>\n",
       "<path class=\"atom-33\" d=\"M 332.7 145.2 Q 332.7 143.4, 333.6 142.4 Q 334.5 141.4, 336.2 141.4 Q 337.8 141.4, 338.7 142.4 Q 339.6 143.4, 339.6 145.2 Q 339.6 147.0, 338.7 148.0 Q 337.8 149.0, 336.2 149.0 Q 334.5 149.0, 333.6 148.0 Q 332.7 147.0, 332.7 145.2 M 336.2 148.2 Q 337.3 148.2, 337.9 147.4 Q 338.6 146.7, 338.6 145.2 Q 338.6 143.7, 337.9 142.9 Q 337.3 142.2, 336.2 142.2 Q 335.0 142.2, 334.4 142.9 Q 333.8 143.7, 333.8 145.2 Q 333.8 146.7, 334.4 147.4 Q 335.0 148.2, 336.2 148.2 \" fill=\"#FF0000\"/>\n",
       "<path class=\"atom-35\" d=\"M 352.0 170.2 Q 352.0 168.4, 352.8 167.4 Q 353.7 166.4, 355.4 166.4 Q 357.0 166.4, 357.9 167.4 Q 358.8 168.4, 358.8 170.2 Q 358.8 172.0, 357.9 173.0 Q 357.0 174.1, 355.4 174.1 Q 353.7 174.1, 352.8 173.0 Q 352.0 172.0, 352.0 170.2 M 355.4 173.2 Q 356.5 173.2, 357.1 172.5 Q 357.8 171.7, 357.8 170.2 Q 357.8 168.7, 357.1 168.0 Q 356.5 167.2, 355.4 167.2 Q 354.2 167.2, 353.6 168.0 Q 353.0 168.7, 353.0 170.2 Q 353.0 171.7, 353.6 172.5 Q 354.2 173.2, 355.4 173.2 \" fill=\"#FF0000\"/>\n",
       "<path class=\"atom-53\" d=\"M 335.8 213.4 L 336.8 213.4 L 336.8 216.6 L 340.7 216.6 L 340.7 213.4 L 341.7 213.4 L 341.7 220.9 L 340.7 220.9 L 340.7 217.4 L 336.8 217.4 L 336.8 220.9 L 335.8 220.9 L 335.8 213.4 \" fill=\"#000000\"/>\n",
       "<path class=\"atom-54\" d=\"M 337.6 201.6 L 338.7 201.6 L 338.7 204.8 L 342.5 204.8 L 342.5 201.6 L 343.5 201.6 L 343.5 209.1 L 342.5 209.1 L 342.5 205.7 L 338.7 205.7 L 338.7 209.1 L 337.6 209.1 L 337.6 201.6 \" fill=\"#000000\"/>\n",
       "<path class=\"atom-55\" d=\"M 375.9 232.3 L 376.9 232.3 L 376.9 235.5 L 380.7 235.5 L 380.7 232.3 L 381.7 232.3 L 381.7 239.8 L 380.7 239.8 L 380.7 236.4 L 376.9 236.4 L 376.9 239.8 L 375.9 239.8 L 375.9 232.3 \" fill=\"#000000\"/>\n",
       "<path class=\"atom-56\" d=\"M 375.9 216.3 L 376.9 216.3 L 376.9 219.4 L 380.8 219.4 L 380.8 216.3 L 381.8 216.3 L 381.8 223.7 L 380.8 223.7 L 380.8 220.3 L 376.9 220.3 L 376.9 223.7 L 375.9 223.7 L 375.9 216.3 \" fill=\"#000000\"/>\n",
       "<path class=\"atom-57\" d=\"M 360.6 268.7 L 361.6 268.7 L 361.6 271.9 L 365.4 271.9 L 365.4 268.7 L 366.4 268.7 L 366.4 276.2 L 365.4 276.2 L 365.4 272.7 L 361.6 272.7 L 361.6 276.2 L 360.6 276.2 L 360.6 268.7 \" fill=\"#000000\"/>\n",
       "<path class=\"atom-58\" d=\"M 376.8 268.7 L 377.8 268.7 L 377.8 271.9 L 381.6 271.9 L 381.6 268.7 L 382.6 268.7 L 382.6 276.2 L 381.6 276.2 L 381.6 272.7 L 377.8 272.7 L 377.8 276.2 L 376.8 276.2 L 376.8 268.7 \" fill=\"#000000\"/>\n",
       "<path class=\"atom-59\" d=\"M 381.6 245.2 L 382.6 245.2 L 382.6 248.4 L 386.4 248.4 L 386.4 245.2 L 387.4 245.2 L 387.4 252.7 L 386.4 252.7 L 386.4 249.2 L 382.6 249.2 L 382.6 252.7 L 381.6 252.7 L 381.6 245.2 \" fill=\"#000000\"/>\n",
       "<path class=\"atom-60\" d=\"M 327.0 254.4 L 328.0 254.4 L 328.0 257.5 L 331.9 257.5 L 331.9 254.4 L 332.9 254.4 L 332.9 261.8 L 331.9 261.8 L 331.9 258.4 L 328.0 258.4 L 328.0 261.8 L 327.0 261.8 L 327.0 254.4 \" fill=\"#000000\"/>\n",
       "<path class=\"atom-61\" d=\"M 326.0 269.9 L 327.1 269.9 L 327.1 273.1 L 330.9 273.1 L 330.9 269.9 L 331.9 269.9 L 331.9 277.4 L 330.9 277.4 L 330.9 273.9 L 327.1 273.9 L 327.1 277.4 L 326.0 277.4 L 326.0 269.9 \" fill=\"#000000\"/>\n",
       "<path class=\"atom-62\" d=\"M 348.1 275.2 L 349.1 275.2 L 349.1 278.4 L 352.9 278.4 L 352.9 275.2 L 354.0 275.2 L 354.0 282.7 L 352.9 282.7 L 352.9 279.2 L 349.1 279.2 L 349.1 282.7 L 348.1 282.7 L 348.1 275.2 \" fill=\"#000000\"/>\n",
       "<path class=\"atom-63\" d=\"M 345.8 224.4 L 346.9 224.4 L 346.9 227.5 L 350.7 227.5 L 350.7 224.4 L 351.7 224.4 L 351.7 231.8 L 350.7 231.8 L 350.7 228.4 L 346.9 228.4 L 346.9 231.8 L 345.8 231.8 L 345.8 224.4 \" fill=\"#000000\"/>\n",
       "<path class=\"atom-64\" d=\"M 321.6 216.7 L 322.7 216.7 L 322.7 219.9 L 326.5 219.9 L 326.5 216.7 L 327.5 216.7 L 327.5 224.2 L 326.5 224.2 L 326.5 220.7 L 322.7 220.7 L 322.7 224.2 L 321.6 224.2 L 321.6 216.7 \" fill=\"#000000\"/>\n",
       "<path class=\"atom-65\" d=\"M 319.2 242.3 L 320.2 242.3 L 320.2 245.4 L 324.0 245.4 L 324.0 242.3 L 325.0 242.3 L 325.0 249.7 L 324.0 249.7 L 324.0 246.3 L 320.2 246.3 L 320.2 249.7 L 319.2 249.7 L 319.2 242.3 \" fill=\"#000000\"/>\n",
       "<path class=\"atom-66\" d=\"M 323.8 180.6 L 324.8 180.6 L 324.8 183.8 L 328.7 183.8 L 328.7 180.6 L 329.7 180.6 L 329.7 188.1 L 328.7 188.1 L 328.7 184.6 L 324.8 184.6 L 324.8 188.1 L 323.8 188.1 L 323.8 180.6 \" fill=\"#000000\"/>\n",
       "<path class=\"atom-67\" d=\"M 310.6 174.6 L 311.7 174.6 L 311.7 177.8 L 315.5 177.8 L 315.5 174.6 L 316.5 174.6 L 316.5 182.1 L 315.5 182.1 L 315.5 178.7 L 311.7 178.7 L 311.7 182.1 L 310.6 182.1 L 310.6 174.6 \" fill=\"#000000\"/>\n",
       "<path class=\"atom-68\" d=\"M 309.5 124.6 L 310.5 124.6 L 310.5 127.8 L 314.3 127.8 L 314.3 124.6 L 315.3 124.6 L 315.3 132.1 L 314.3 132.1 L 314.3 128.6 L 310.5 128.6 L 310.5 132.1 L 309.5 132.1 L 309.5 124.6 \" fill=\"#000000\"/>\n",
       "<path class=\"atom-69\" d=\"M 291.7 125.0 L 292.7 125.0 L 292.7 128.2 L 296.6 128.2 L 296.6 125.0 L 297.6 125.0 L 297.6 132.5 L 296.6 132.5 L 296.6 129.0 L 292.7 129.0 L 292.7 132.5 L 291.7 132.5 L 291.7 125.0 \" fill=\"#000000\"/>\n",
       "<path class=\"atom-70\" d=\"M 264.7 165.7 L 265.7 165.7 L 265.7 168.9 L 269.6 168.9 L 269.6 165.7 L 270.6 165.7 L 270.6 173.2 L 269.6 173.2 L 269.6 169.7 L 265.7 169.7 L 265.7 173.2 L 264.7 173.2 L 264.7 165.7 \" fill=\"#000000\"/>\n",
       "<path class=\"atom-71\" d=\"M 247.3 165.9 L 248.3 165.9 L 248.3 169.1 L 252.1 169.1 L 252.1 165.9 L 253.1 165.9 L 253.1 173.4 L 252.1 173.4 L 252.1 170.0 L 248.3 170.0 L 248.3 173.4 L 247.3 173.4 L 247.3 165.9 \" fill=\"#000000\"/>\n",
       "<path class=\"atom-72\" d=\"M 249.2 126.8 L 250.2 126.8 L 250.2 130.0 L 254.0 130.0 L 254.0 126.8 L 255.0 126.8 L 255.0 134.3 L 254.0 134.3 L 254.0 130.9 L 250.2 130.9 L 250.2 134.3 L 249.2 134.3 L 249.2 126.8 \" fill=\"#000000\"/>\n",
       "<path class=\"atom-73\" d=\"M 232.0 126.8 L 233.0 126.8 L 233.0 130.0 L 236.8 130.0 L 236.8 126.8 L 237.8 126.8 L 237.8 134.3 L 236.8 134.3 L 236.8 130.9 L 233.0 130.9 L 233.0 134.3 L 232.0 134.3 L 232.0 126.8 \" fill=\"#000000\"/>\n",
       "<path class=\"atom-74\" d=\"M 233.2 165.9 L 234.2 165.9 L 234.2 169.1 L 238.0 169.1 L 238.0 165.9 L 239.0 165.9 L 239.0 173.4 L 238.0 173.4 L 238.0 169.9 L 234.2 169.9 L 234.2 173.4 L 233.2 173.4 L 233.2 165.9 \" fill=\"#000000\"/>\n",
       "<path class=\"atom-75\" d=\"M 216.4 165.8 L 217.4 165.8 L 217.4 169.0 L 221.2 169.0 L 221.2 165.8 L 222.2 165.8 L 222.2 173.3 L 221.2 173.3 L 221.2 169.8 L 217.4 169.8 L 217.4 173.3 L 216.4 173.3 L 216.4 165.8 \" fill=\"#000000\"/>\n",
       "<path class=\"atom-76\" d=\"M 217.9 126.9 L 218.9 126.9 L 218.9 130.0 L 222.7 130.0 L 222.7 126.9 L 223.7 126.9 L 223.7 134.3 L 222.7 134.3 L 222.7 130.9 L 218.9 130.9 L 218.9 134.3 L 217.9 134.3 L 217.9 126.9 \" fill=\"#000000\"/>\n",
       "<path class=\"atom-77\" d=\"M 201.0 126.9 L 202.1 126.9 L 202.1 130.0 L 205.9 130.0 L 205.9 126.9 L 206.9 126.9 L 206.9 134.3 L 205.9 134.3 L 205.9 130.9 L 202.1 130.9 L 202.1 134.3 L 201.0 134.3 L 201.0 126.9 \" fill=\"#000000\"/>\n",
       "<path class=\"atom-78\" d=\"M 202.3 165.8 L 203.3 165.8 L 203.3 169.0 L 207.1 169.0 L 207.1 165.8 L 208.1 165.8 L 208.1 173.2 L 207.1 173.2 L 207.1 169.8 L 203.3 169.8 L 203.3 173.2 L 202.3 173.2 L 202.3 165.8 \" fill=\"#000000\"/>\n",
       "<path class=\"atom-79\" d=\"M 185.6 165.7 L 186.6 165.7 L 186.6 168.9 L 190.5 168.9 L 190.5 165.7 L 191.5 165.7 L 191.5 173.2 L 190.5 173.2 L 190.5 169.8 L 186.6 169.8 L 186.6 173.2 L 185.6 173.2 L 185.6 165.7 \" fill=\"#000000\"/>\n",
       "<path class=\"atom-80\" d=\"M 187.0 126.9 L 188.0 126.9 L 188.0 130.1 L 191.8 130.1 L 191.8 126.9 L 192.8 126.9 L 192.8 134.4 L 191.8 134.4 L 191.8 130.9 L 188.0 130.9 L 188.0 134.4 L 187.0 134.4 L 187.0 126.9 \" fill=\"#000000\"/>\n",
       "<path class=\"atom-81\" d=\"M 170.3 126.9 L 171.3 126.9 L 171.3 130.1 L 175.2 130.1 L 175.2 126.9 L 176.2 126.9 L 176.2 134.4 L 175.2 134.4 L 175.2 131.0 L 171.3 131.0 L 171.3 134.4 L 170.3 134.4 L 170.3 126.9 \" fill=\"#000000\"/>\n",
       "<path class=\"atom-82\" d=\"M 171.6 165.7 L 172.6 165.7 L 172.6 168.9 L 176.4 168.9 L 176.4 165.7 L 177.4 165.7 L 177.4 173.2 L 176.4 173.2 L 176.4 169.7 L 172.6 169.7 L 172.6 173.2 L 171.6 173.2 L 171.6 165.7 \" fill=\"#000000\"/>\n",
       "<path class=\"atom-83\" d=\"M 155.0 165.7 L 156.0 165.7 L 156.0 168.9 L 159.8 168.9 L 159.8 165.7 L 160.8 165.7 L 160.8 173.2 L 159.8 173.2 L 159.8 169.7 L 156.0 169.7 L 156.0 173.2 L 155.0 173.2 L 155.0 165.7 \" fill=\"#000000\"/>\n",
       "<path class=\"atom-84\" d=\"M 156.2 127.0 L 157.2 127.0 L 157.2 130.1 L 161.1 130.1 L 161.1 127.0 L 162.1 127.0 L 162.1 134.4 L 161.1 134.4 L 161.1 131.0 L 157.2 131.0 L 157.2 134.4 L 156.2 134.4 L 156.2 127.0 \" fill=\"#000000\"/>\n",
       "<path class=\"atom-85\" d=\"M 139.6 127.0 L 140.7 127.0 L 140.7 130.1 L 144.5 130.1 L 144.5 127.0 L 145.5 127.0 L 145.5 134.4 L 144.5 134.4 L 144.5 131.0 L 140.7 131.0 L 140.7 134.4 L 139.6 134.4 L 139.6 127.0 \" fill=\"#000000\"/>\n",
       "<path class=\"atom-86\" d=\"M 141.0 165.7 L 142.0 165.7 L 142.0 168.9 L 145.8 168.9 L 145.8 165.7 L 146.8 165.7 L 146.8 173.2 L 145.8 173.2 L 145.8 169.8 L 142.0 169.8 L 142.0 173.2 L 141.0 173.2 L 141.0 165.7 \" fill=\"#000000\"/>\n",
       "<path class=\"atom-87\" d=\"M 124.4 165.8 L 125.4 165.8 L 125.4 168.9 L 129.2 168.9 L 129.2 165.8 L 130.2 165.8 L 130.2 173.2 L 129.2 173.2 L 129.2 169.8 L 125.4 169.8 L 125.4 173.2 L 124.4 173.2 L 124.4 165.8 \" fill=\"#000000\"/>\n",
       "<path class=\"atom-88\" d=\"M 125.6 127.0 L 126.6 127.0 L 126.6 130.1 L 130.4 130.1 L 130.4 127.0 L 131.4 127.0 L 131.4 134.4 L 130.4 134.4 L 130.4 131.0 L 126.6 131.0 L 126.6 134.4 L 125.6 134.4 L 125.6 127.0 \" fill=\"#000000\"/>\n",
       "<path class=\"atom-89\" d=\"M 108.9 127.0 L 109.9 127.0 L 109.9 130.1 L 113.7 130.1 L 113.7 127.0 L 114.8 127.0 L 114.8 134.4 L 113.7 134.4 L 113.7 131.0 L 109.9 131.0 L 109.9 134.4 L 108.9 134.4 L 108.9 127.0 \" fill=\"#000000\"/>\n",
       "<path class=\"atom-90\" d=\"M 110.3 165.8 L 111.3 165.8 L 111.3 169.0 L 115.1 169.0 L 115.1 165.8 L 116.2 165.8 L 116.2 173.3 L 115.1 173.3 L 115.1 169.8 L 111.3 169.8 L 111.3 173.3 L 110.3 173.3 L 110.3 165.8 \" fill=\"#000000\"/>\n",
       "<path class=\"atom-91\" d=\"M 93.7 165.9 L 94.7 165.9 L 94.7 169.0 L 98.5 169.0 L 98.5 165.9 L 99.5 165.9 L 99.5 173.3 L 98.5 173.3 L 98.5 169.9 L 94.7 169.9 L 94.7 173.3 L 93.7 173.3 L 93.7 165.9 \" fill=\"#000000\"/>\n",
       "<path class=\"atom-92\" d=\"M 94.8 126.9 L 95.9 126.9 L 95.9 130.1 L 99.7 130.1 L 99.7 126.9 L 100.7 126.9 L 100.7 134.4 L 99.7 134.4 L 99.7 131.0 L 95.9 131.0 L 95.9 134.4 L 94.8 134.4 L 94.8 126.9 \" fill=\"#000000\"/>\n",
       "<path class=\"atom-93\" d=\"M 78.0 126.9 L 79.0 126.9 L 79.0 130.1 L 82.8 130.1 L 82.8 126.9 L 83.8 126.9 L 83.8 134.4 L 82.8 134.4 L 82.8 131.0 L 79.0 131.0 L 79.0 134.4 L 78.0 134.4 L 78.0 126.9 \" fill=\"#000000\"/>\n",
       "<path class=\"atom-94\" d=\"M 79.6 165.9 L 80.6 165.9 L 80.6 169.1 L 84.4 169.1 L 84.4 165.9 L 85.4 165.9 L 85.4 173.4 L 84.4 173.4 L 84.4 169.9 L 80.6 169.9 L 80.6 173.4 L 79.6 173.4 L 79.6 165.9 \" fill=\"#000000\"/>\n",
       "<path class=\"atom-95\" d=\"M 62.8 166.0 L 63.8 166.0 L 63.8 169.2 L 67.6 169.2 L 67.6 166.0 L 68.6 166.0 L 68.6 173.5 L 67.6 173.5 L 67.6 170.1 L 63.8 170.1 L 63.8 173.5 L 62.8 173.5 L 62.8 166.0 \" fill=\"#000000\"/>\n",
       "<path class=\"atom-96\" d=\"M 63.9 126.9 L 64.9 126.9 L 64.9 130.1 L 68.7 130.1 L 68.7 126.9 L 69.7 126.9 L 69.7 134.4 L 68.7 134.4 L 68.7 130.9 L 64.9 130.9 L 64.9 134.4 L 63.9 134.4 L 63.9 126.9 \" fill=\"#000000\"/>\n",
       "<path class=\"atom-97\" d=\"M 46.6 127.0 L 47.6 127.0 L 47.6 130.2 L 51.4 130.2 L 51.4 127.0 L 52.4 127.0 L 52.4 134.5 L 51.4 134.5 L 51.4 131.0 L 47.6 131.0 L 47.6 134.5 L 46.6 134.5 L 46.6 127.0 \" fill=\"#000000\"/>\n",
       "<path class=\"atom-98\" d=\"M 48.6 166.1 L 49.7 166.1 L 49.7 169.3 L 53.5 169.3 L 53.5 166.1 L 54.5 166.1 L 54.5 173.6 L 53.5 173.6 L 53.5 170.2 L 49.7 170.2 L 49.7 173.6 L 48.6 173.6 L 48.6 166.1 \" fill=\"#000000\"/>\n",
       "<path class=\"atom-99\" d=\"M 31.3 166.1 L 32.3 166.1 L 32.3 169.3 L 36.2 169.3 L 36.2 166.1 L 37.2 166.1 L 37.2 173.6 L 36.2 173.6 L 36.2 170.2 L 32.3 170.2 L 32.3 173.6 L 31.3 173.6 L 31.3 166.1 \" fill=\"#000000\"/>\n",
       "<path class=\"atom-100\" d=\"M 25.0 142.2 L 26.0 142.2 L 26.0 145.3 L 29.8 145.3 L 29.8 142.2 L 30.9 142.2 L 30.9 149.6 L 29.8 149.6 L 29.8 146.2 L 26.0 146.2 L 26.0 149.6 L 25.0 149.6 L 25.0 142.2 \" fill=\"#000000\"/>\n",
       "<path class=\"atom-101\" d=\"M 372.7 157.2 L 373.7 157.2 L 373.7 160.4 L 377.5 160.4 L 377.5 157.2 L 378.6 157.2 L 378.6 164.7 L 377.5 164.7 L 377.5 161.2 L 373.7 161.2 L 373.7 164.7 L 372.7 164.7 L 372.7 157.2 \" fill=\"#000000\"/>\n",
       "<path class=\"atom-102\" d=\"M 380.9 141.6 L 381.9 141.6 L 381.9 144.8 L 385.8 144.8 L 385.8 141.6 L 386.8 141.6 L 386.8 149.1 L 385.8 149.1 L 385.8 145.6 L 381.9 145.6 L 381.9 149.1 L 380.9 149.1 L 380.9 141.6 \" fill=\"#000000\"/>\n",
       "<path class=\"atom-103\" d=\"M 380.1 125.1 L 381.2 125.1 L 381.2 128.3 L 385.0 128.3 L 385.0 125.1 L 386.0 125.1 L 386.0 132.6 L 385.0 132.6 L 385.0 129.1 L 381.2 129.1 L 381.2 132.6 L 380.1 132.6 L 380.1 125.1 \" fill=\"#000000\"/>\n",
       "<path class=\"atom-104\" d=\"M 371.5 110.9 L 372.5 110.9 L 372.5 114.1 L 376.4 114.1 L 376.4 110.9 L 377.4 110.9 L 377.4 118.4 L 376.4 118.4 L 376.4 115.0 L 372.5 115.0 L 372.5 118.4 L 371.5 118.4 L 371.5 110.9 \" fill=\"#000000\"/>\n",
       "<path class=\"atom-105\" d=\"M 337.1 127.9 L 338.1 127.9 L 338.1 131.1 L 341.9 131.1 L 341.9 127.9 L 342.9 127.9 L 342.9 135.4 L 341.9 135.4 L 341.9 131.9 L 338.1 131.9 L 338.1 135.4 L 337.1 135.4 L 337.1 127.9 \" fill=\"#000000\"/>\n",
       "<path class=\"atom-106\" d=\"M 329.7 115.3 L 330.7 115.3 L 330.7 118.5 L 334.6 118.5 L 334.6 115.3 L 335.6 115.3 L 335.6 122.8 L 334.6 122.8 L 334.6 119.3 L 330.7 119.3 L 330.7 122.8 L 329.7 122.8 L 329.7 115.3 \" fill=\"#000000\"/>\n",
       "<path class=\"atom-107\" d=\"M 363.4 99.4 L 364.5 99.4 L 364.5 102.6 L 368.3 102.6 L 368.3 99.4 L 369.3 99.4 L 369.3 106.9 L 368.3 106.9 L 368.3 103.5 L 364.5 103.5 L 364.5 106.9 L 363.4 106.9 L 363.4 99.4 \" fill=\"#000000\"/>\n",
       "<path class=\"atom-108\" d=\"M 356.6 86.4 L 357.6 86.4 L 357.6 89.6 L 361.4 89.6 L 361.4 86.4 L 362.4 86.4 L 362.4 93.9 L 361.4 93.9 L 361.4 90.4 L 357.6 90.4 L 357.6 93.9 L 356.6 93.9 L 356.6 86.4 \" fill=\"#000000\"/>\n",
       "<path class=\"atom-109\" d=\"M 322.8 103.1 L 323.8 103.1 L 323.8 106.3 L 327.7 106.3 L 327.7 103.1 L 328.7 103.1 L 328.7 110.6 L 327.7 110.6 L 327.7 107.2 L 323.8 107.2 L 323.8 110.6 L 322.8 110.6 L 322.8 103.1 \" fill=\"#000000\"/>\n",
       "<path class=\"atom-110\" d=\"M 316.9 88.3 L 317.9 88.3 L 317.9 91.5 L 321.7 91.5 L 321.7 88.3 L 322.7 88.3 L 322.7 95.8 L 321.7 95.8 L 321.7 92.4 L 317.9 92.4 L 317.9 95.8 L 316.9 95.8 L 316.9 88.3 \" fill=\"#000000\"/>\n",
       "<path class=\"atom-111\" d=\"M 349.2 74.3 L 350.2 74.3 L 350.2 77.5 L 354.1 77.5 L 354.1 74.3 L 355.1 74.3 L 355.1 81.8 L 354.1 81.8 L 354.1 78.3 L 350.2 78.3 L 350.2 81.8 L 349.2 81.8 L 349.2 74.3 \" fill=\"#000000\"/>\n",
       "<path class=\"atom-112\" d=\"M 336.6 50.4 L 337.6 50.4 L 337.6 53.6 L 341.4 53.6 L 341.4 50.4 L 342.4 50.4 L 342.4 57.9 L 341.4 57.9 L 341.4 54.4 L 337.6 54.4 L 337.6 57.9 L 336.6 57.9 L 336.6 50.4 \" fill=\"#000000\"/>\n",
       "<path class=\"atom-113\" d=\"M 306.5 78.9 L 307.5 78.9 L 307.5 82.1 L 311.3 82.1 L 311.3 78.9 L 312.3 78.9 L 312.3 86.4 L 311.3 86.4 L 311.3 82.9 L 307.5 82.9 L 307.5 86.4 L 306.5 86.4 L 306.5 78.9 \" fill=\"#000000\"/>\n",
       "<path class=\"atom-114\" d=\"M 297.6 64.7 L 298.6 64.7 L 298.6 67.9 L 302.4 67.9 L 302.4 64.7 L 303.4 64.7 L 303.4 72.2 L 302.4 72.2 L 302.4 68.7 L 298.6 68.7 L 298.6 72.2 L 297.6 72.2 L 297.6 64.7 \" fill=\"#000000\"/>\n",
       "<path class=\"atom-115\" d=\"M 300.9 35.8 L 301.9 35.8 L 301.9 38.9 L 305.7 38.9 L 305.7 35.8 L 306.7 35.8 L 306.7 43.2 L 305.7 43.2 L 305.7 39.8 L 301.9 39.8 L 301.9 43.2 L 300.9 43.2 L 300.9 35.8 \" fill=\"#000000\"/>\n",
       "<path class=\"atom-116\" d=\"M 335.3 17.3 L 336.3 17.3 L 336.3 20.5 L 340.1 20.5 L 340.1 17.3 L 341.1 17.3 L 341.1 24.8 L 340.1 24.8 L 340.1 21.3 L 336.3 21.3 L 336.3 24.8 L 335.3 24.8 L 335.3 17.3 \" fill=\"#000000\"/>\n",
       "<path class=\"atom-117\" d=\"M 330.7 60.5 L 331.8 60.5 L 331.8 63.7 L 335.6 63.7 L 335.6 60.5 L 336.6 60.5 L 336.6 68.0 L 335.6 68.0 L 335.6 64.5 L 331.8 64.5 L 331.8 68.0 L 330.7 68.0 L 330.7 60.5 \" fill=\"#000000\"/>\n",
       "<path class=\"atom-118\" d=\"M 357.8 59.3 L 358.8 59.3 L 358.8 62.5 L 362.6 62.5 L 362.6 59.3 L 363.7 59.3 L 363.7 66.8 L 362.6 66.8 L 362.6 63.4 L 358.8 63.4 L 358.8 66.8 L 357.8 66.8 L 357.8 59.3 \" fill=\"#000000\"/>\n",
       "<path class=\"atom-119\" d=\"M 352.3 24.8 L 353.3 24.8 L 353.3 27.9 L 357.2 27.9 L 357.2 24.8 L 358.2 24.8 L 358.2 32.2 L 357.2 32.2 L 357.2 28.8 L 353.3 28.8 L 353.3 32.2 L 352.3 32.2 L 352.3 24.8 \" fill=\"#000000\"/>\n",
       "<path class=\"atom-120\" d=\"M 369.7 22.3 L 370.7 22.3 L 370.7 25.5 L 374.6 25.5 L 374.6 22.3 L 375.6 22.3 L 375.6 29.8 L 374.6 29.8 L 374.6 26.3 L 370.7 26.3 L 370.7 29.8 L 369.7 29.8 L 369.7 22.3 \" fill=\"#000000\"/>\n",
       "<path class=\"atom-121\" d=\"M 371.9 59.7 L 372.9 59.7 L 372.9 62.9 L 376.7 62.9 L 376.7 59.7 L 377.8 59.7 L 377.8 67.2 L 376.7 67.2 L 376.7 63.7 L 372.9 63.7 L 372.9 67.2 L 371.9 67.2 L 371.9 59.7 \" fill=\"#000000\"/>\n",
       "<path class=\"atom-122\" d=\"M 385.9 59.2 L 386.9 59.2 L 386.9 62.4 L 390.8 62.4 L 390.8 59.2 L 391.8 59.2 L 391.8 66.6 L 390.8 66.6 L 390.8 63.2 L 386.9 63.2 L 386.9 66.6 L 385.9 66.6 L 385.9 59.2 \" fill=\"#000000\"/>\n",
       "<path class=\"atom-123\" d=\"M 383.8 21.4 L 384.8 21.4 L 384.8 24.6 L 388.6 24.6 L 388.6 21.4 L 389.6 21.4 L 389.6 28.9 L 388.6 28.9 L 388.6 25.4 L 384.8 25.4 L 384.8 28.9 L 383.8 28.9 L 383.8 21.4 \" fill=\"#000000\"/>\n",
       "<path class=\"atom-124\" d=\"M 400.6 21.0 L 401.6 21.0 L 401.6 24.2 L 405.4 24.2 L 405.4 21.0 L 406.4 21.0 L 406.4 28.5 L 405.4 28.5 L 405.4 25.1 L 401.6 25.1 L 401.6 28.5 L 400.6 28.5 L 400.6 21.0 \" fill=\"#000000\"/>\n",
       "<path class=\"atom-125\" d=\"M 399.9 59.9 L 401.0 59.9 L 401.0 63.1 L 404.8 63.1 L 404.8 59.9 L 405.8 59.9 L 405.8 67.4 L 404.8 67.4 L 404.8 63.9 L 401.0 63.9 L 401.0 67.4 L 399.9 67.4 L 399.9 59.9 \" fill=\"#000000\"/>\n",
       "<path class=\"atom-126\" d=\"M 416.3 59.9 L 417.4 59.9 L 417.4 63.0 L 421.2 63.0 L 421.2 59.9 L 422.2 59.9 L 422.2 67.3 L 421.2 67.3 L 421.2 63.9 L 417.4 63.9 L 417.4 67.3 L 416.3 67.3 L 416.3 59.9 \" fill=\"#000000\"/>\n",
       "<path class=\"atom-127\" d=\"M 414.6 21.1 L 415.6 21.1 L 415.6 24.3 L 419.4 24.3 L 419.4 21.1 L 420.5 21.1 L 420.5 28.6 L 419.4 28.6 L 419.4 25.2 L 415.6 25.2 L 415.6 28.6 L 414.6 28.6 L 414.6 21.1 \" fill=\"#000000\"/>\n",
       "<path class=\"atom-128\" d=\"M 431.4 20.9 L 432.4 20.9 L 432.4 24.1 L 436.2 24.1 L 436.2 20.9 L 437.2 20.9 L 437.2 28.4 L 436.2 28.4 L 436.2 25.0 L 432.4 25.0 L 432.4 28.4 L 431.4 28.4 L 431.4 20.9 \" fill=\"#000000\"/>\n",
       "<path class=\"atom-129\" d=\"M 430.5 60.0 L 431.5 60.0 L 431.5 63.2 L 435.3 63.2 L 435.3 60.0 L 436.3 60.0 L 436.3 67.5 L 435.3 67.5 L 435.3 64.1 L 431.5 64.1 L 431.5 67.5 L 430.5 67.5 L 430.5 60.0 \" fill=\"#000000\"/>\n",
       "<path class=\"atom-130\" d=\"M 447.7 60.0 L 448.7 60.0 L 448.7 63.2 L 452.5 63.2 L 452.5 60.0 L 453.5 60.0 L 453.5 67.5 L 452.5 67.5 L 452.5 64.0 L 448.7 64.0 L 448.7 67.5 L 447.7 67.5 L 447.7 60.0 \" fill=\"#000000\"/>\n",
       "<path class=\"atom-131\" d=\"M 445.5 20.9 L 446.5 20.9 L 446.5 24.1 L 450.3 24.1 L 450.3 20.9 L 451.3 20.9 L 451.3 28.4 L 450.3 28.4 L 450.3 24.9 L 446.5 24.9 L 446.5 28.4 L 445.5 28.4 L 445.5 20.9 \" fill=\"#000000\"/>\n",
       "<path class=\"atom-132\" d=\"M 462.8 20.8 L 463.8 20.8 L 463.8 24.0 L 467.6 24.0 L 467.6 20.8 L 468.6 20.8 L 468.6 28.3 L 467.6 28.3 L 467.6 24.9 L 463.8 24.9 L 463.8 28.3 L 462.8 28.3 L 462.8 20.8 \" fill=\"#000000\"/>\n",
       "<path class=\"atom-133\" d=\"M 469.1 44.8 L 470.2 44.8 L 470.2 48.0 L 474.0 48.0 L 474.0 44.8 L 475.0 44.8 L 475.0 52.2 L 474.0 52.2 L 474.0 48.8 L 470.2 48.8 L 470.2 52.2 L 469.1 52.2 L 469.1 44.8 \" fill=\"#000000\"/>\n",
       "</svg>"
      ],
      "text/plain": [
       "<IPython.core.display.SVG object>"
      ]
     },
     "execution_count": 2,
     "metadata": {},
     "output_type": "execute_result"
    }
   ],
   "source": [
    "df = BuildLipid.load_dataframe() #load library of lipids\n",
    "BuildLipid.list_available_lipids(df) #returns a list of available lipids\n",
    "\n",
    "# Specify lipid you would like to parameterize \"headgroup\"+\"tailgroup\"\n",
    "Lipid = 'POPC'\n",
    "\n",
    "lipid_smiles, HG_pull_atom = BuildLipid.makeLipidSmiles(Lipid, df)\n",
    "lipid = Molecule.from_smiles(lipid_smiles)\n",
    "lipid.generate_conformers()\n",
    "lipid.visualize()"
   ]
  },
  {
   "cell_type": "code",
   "execution_count": 3,
   "metadata": {},
   "outputs": [
    {
     "name": "stderr",
     "output_type": "stream",
     "text": [
      "/home/julianne/miniconda3/envs/openff_clone/lib/python3.11/site-packages/openff/interchange/interop/gromacs/export/_export.py:48: UserWarning: WARNING: System defined with no box vectors, which GROMACS does not offically support in versions 2020 or newer (see https://gitlab.com/gromacs/gromacs/-/issues/3526). Setting box vectors to a 5  nm cube.\n",
      "  self._write_gro(gro, decimal)\n"
     ]
    }
   ],
   "source": [
    "# Assign partial charges via OpenFF NAGL\n",
    "lipid.assign_partial_charges(\"openff-gnn-am1bcc-0.1.0-rc.2.pt\", toolkit_registry=NAGLToolkitWrapper())\n",
    "lipid.partial_charges\n",
    "\n",
    "\n",
    "lipid.name = Lipid\n",
    "for i, atom in enumerate(lipid.atoms, 0):\n",
    "    atom.metadata[\"residue_name\"] = Lipid\n",
    "lipid.generate_unique_atom_names() \n",
    "topology = Topology.from_molecules([lipid])\n",
    "\n",
    "# Specify forcefield\n",
    "forcefield = ForceField(\"openff-2.1.0.offxml\")\n",
    "\n",
    "interchange = Interchange.from_smirnoff(\n",
    "    force_field=forcefield,\n",
    "    topology=topology,\n",
    "    charge_from_molecules = [lipid]\n",
    ")\n",
    "interchange  #if using HMR, \n",
    "\n",
    "lipid.to_file('lipid.pdb', file_format = 'pdb')\n",
    "interchange.to_top(\"lipid.top\")\n",
    "interchange.to_gro(\"lipid.gro\")"
   ]
  },
  {
   "cell_type": "code",
   "execution_count": 4,
   "metadata": {},
   "outputs": [
    {
     "data": {
      "application/vnd.jupyter.widget-view+json": {
       "model_id": "cfc00d7ebd924a64a6e8a2c4fa14b5ef",
       "version_major": 2,
       "version_minor": 0
      },
      "text/plain": [
       "NGLWidget()"
      ]
     },
     "metadata": {},
     "output_type": "display_data"
    }
   ],
   "source": [
    "view = nglview.show_structure_file('lipid.pdb')\n",
    "view"
   ]
  },
  {
   "cell_type": "code",
   "execution_count": 5,
   "metadata": {},
   "outputs": [],
   "source": [
    "water_model = 'TIP3P'\n",
    "water = Molecule.from_smiles('O')\n",
    "water.generate_conformers()\n",
    "water.name = water_model\n",
    "\n",
    "for i, atom in enumerate(water.atoms, 3):\n",
    "    atom.metadata[\"residue_name\"] = water_model\n",
    "water.generate_unique_atom_names() \n",
    "topology = Topology.from_molecules([water])\n",
    "\n",
    "\n",
    "interchange = Interchange.from_smirnoff(\n",
    "    force_field=forcefield,\n",
    "    topology=topology,\n",
    ")\n",
    "interchange\n",
    "\n",
    "# PDB structure for Packmol\n",
    "interchange.to_pdb(\"water.pdb\")"
   ]
  },
  {
   "cell_type": "code",
   "execution_count": 6,
   "metadata": {},
   "outputs": [
    {
     "name": "stderr",
     "output_type": "stream",
     "text": [
      "                     :-) GROMACS - gmx make_ndx, 2023.1 (-:\n",
      "\n",
      "Executable:   /home/julianne/pkgs/gromacs-2023.1/bin/gmx\n",
      "Data prefix:  /home/julianne/pkgs/gromacs-2023.1\n",
      "Working dir:  /media/julianne/DATA/Lipids/OpenFFLipid/Workflow\n",
      "Command line:\n",
      "  gmx make_ndx -f lipid.gro -o N1x.ndx\n",
      "\n",
      "\n",
      "Reading structure file\n",
      "\n",
      "Back Off! I just backed up N1x.ndx to ./#N1x.ndx.1#\n",
      "\n",
      "GROMACS reminds you: \"We will always have STEM with us. Some things will drop out of the public eye and will go away, but there will always be science, engineering, and technology. And there will always, always be mathematics.\" (Katherine Johnson)\n",
      "\n",
      "                      :-) GROMACS - gmx grompp, 2023.1 (-:\n",
      "\n",
      "Executable:   /home/julianne/pkgs/gromacs-2023.1/bin/gmx\n",
      "Data prefix:  /home/julianne/pkgs/gromacs-2023.1\n",
      "Working dir:  /media/julianne/DATA/Lipids/OpenFFLipid/Workflow\n",
      "Command line:\n",
      "  gmx grompp -f scripts/pull.mdp -c lipid.gro -p lipid.top -n N1x.ndx -o pull.tpr -maxwarn 1\n",
      "\n",
      "Generating 1-4 interactions: fudge = 0.5\n",
      "Pull group 1 'pull_atom' has 1 atoms\n",
      "Number of degrees of freedom in T-Coupling group System is 317.00\n",
      "\n",
      "NOTE 1 [file scripts/pull.mdp]:\n",
      "  You are using geometric combination rules in LJ-PME, but your non-bonded\n",
      "  C6 parameters do not follow these rules. This will introduce very small\n",
      "  errors in the forces and energies in your simulations. Dispersion\n",
      "  correction will correct total energy and/or pressure for isotropic\n",
      "  systems, but not forces or surface tensions.\n",
      "\n",
      "\n",
      "WARNING 1 [file scripts/pull.mdp]:\n",
      "  You are using an absolute reference for pulling, but the rest of the\n",
      "  system does not have an absolute reference. This will lead to artifacts.\n",
      "\n",
      "Pull group  natoms  pbc atom  distance at start  reference at t=0\n",
      "       0         0         0\n",
      "       1         1         0       0.160 nm          0.160 nm\n",
      "\n",
      "NOTE 2 [file scripts/pull.mdp]:\n",
      "  The optimal PME mesh load for parallel simulations is below 0.5\n",
      "  and for highly parallel simulations between 0.25 and 0.33,\n",
      "  for higher performance, increase the cut-off and the PME grid spacing.\n",
      "\n",
      "\n",
      "\n",
      "There were 2 NOTEs\n",
      "\n",
      "There was 1 WARNING\n",
      "\n",
      "Back Off! I just backed up pull.tpr to ./#pull.tpr.1#\n",
      "\n",
      "GROMACS reminds you: \"We will always have STEM with us. Some things will drop out of the public eye and will go away, but there will always be science, engineering, and technology. And there will always, always be mathematics.\" (Katherine Johnson)\n",
      "\n",
      "                      :-) GROMACS - gmx mdrun, 2023.1 (-:\n",
      "\n",
      "Executable:   /home/julianne/pkgs/gromacs-2023.1/bin/gmx\n",
      "Data prefix:  /home/julianne/pkgs/gromacs-2023.1\n",
      "Working dir:  /media/julianne/DATA/Lipids/OpenFFLipid/Workflow\n",
      "Command line:\n",
      "  gmx mdrun -deffnm pull\n",
      "\n",
      "\n",
      "Back Off! I just backed up pull.log to ./#pull.log.1#\n",
      "Reading file pull.tpr, VERSION 2023.1 (single precision)\n",
      "Changing nstlist from 40 to 100, rlist from 1 to 1\n",
      "\n",
      "Update groups can not be used for this system because atoms that are (in)directly constrained together are interdispersed with other atoms\n",
      "\n",
      "Using 1 MPI thread\n",
      "Using 16 OpenMP threads \n",
      "\n"
     ]
    },
    {
     "name": "stdout",
     "output_type": "stream",
     "text": [
      "Going to read 0 old index file(s)\n",
      "Analysing residue names:\n",
      "There are:     1      Other residues\n",
      "Analysing residues not classified as Protein/DNA/RNA/Water and splitting into groups...\n",
      "\n",
      "  0 System              :   134 atoms\n",
      "  1 Other               :   134 atoms\n",
      "  2 POPC                :   134 atoms\n",
      "\n",
      " nr : group      '!': not  'name' nr name   'splitch' nr    Enter: list groups\n",
      " 'a': atom       '&': and  'del' nr         'splitres' nr   'l': list residues\n",
      " 't': atom type  '|': or   'keep' nr        'splitat' nr    'h': help\n",
      " 'r': residue              'res' nr         'chain' char\n",
      " \"name\": group             'case': case sensitive           'q': save and quit\n",
      " 'ri': residue index\n",
      "\n",
      "> \n",
      "Found 1 atoms with name N1X\n",
      "\n",
      "> \n",
      "\n",
      "> \n",
      "Setting the LD random seed to -371213314\n",
      "\n",
      "Generated 9045 of the 9045 non-bonded parameter combinations\n",
      "\n",
      "Generated 9045 of the 9045 1-4 parameter combinations\n",
      "\n",
      "Excluding 3 bonded neighbours molecule type 'POPC'\n",
      "\n",
      "turning H bonds into constraints...\n",
      "\n",
      "Setting gen_seed to 2038164926\n",
      "\n",
      "Velocities were taken from a Maxwell distribution at 300 K\n",
      "\n",
      "The largest distance between excluded atoms is 0.396 nm between atom 23 and 26\n",
      "\n",
      "Determining Verlet buffer for a tolerance of 0.005 kJ/mol/ps at 300 K\n",
      "\n",
      "Calculated rlist for 1x1 atom pair-list as 1.020 nm, buffer size 0.020 nm\n",
      "\n",
      "Set rlist, assuming 4x4 atom pair-list, to 1.000 nm, buffer size 0.000 nm\n",
      "\n",
      "Note that mdrun will redetermine rlist based on the actual pair-list setup\n",
      "Calculating fourier grid dimensions for X Y Z\n",
      "Using a fourier grid of 42x42x42, spacing 0.119 0.119 0.119\n",
      "\n",
      "Estimate for the relative computational load of the PME mesh part: 0.99\n",
      "\n",
      "This run will generate roughly 0 Mb of data\n"
     ]
    },
    {
     "name": "stderr",
     "output_type": "stream",
     "text": [
      "\n",
      "Back Off! I just backed up pull.xtc to ./#pull.xtc.1#\n",
      "\n",
      "Back Off! I just backed up pull.edr to ./#pull.edr.1#\n",
      "starting mdrun 'FOO'\n",
      "50000 steps,    100.0 ps.\n"
     ]
    },
    {
     "name": "stdout",
     "output_type": "stream",
     "text": [
      "Note that major changes are planned in future for editconf, to improve usability and utility.\n",
      "Read 134 atoms\n",
      "Volume: 125 nm^3, corresponds to roughly 56200 electrons\n",
      "Velocities found\n"
     ]
    },
    {
     "name": "stderr",
     "output_type": "stream",
     "text": [
      "\n",
      "Writing final coordinates.\n",
      "\n",
      "Back Off! I just backed up pull.gro to ./#pull.gro.1#\n",
      "\n",
      "               Core t (s)   Wall t (s)        (%)\n",
      "       Time:      505.679       31.605     1600.0\n",
      "                 (ns/day)    (hour/ns)\n",
      "Performance:      273.378        0.088\n",
      "\n",
      "GROMACS reminds you: \"Never mind, death professor, your structure's fine\" (TV on the Radio)\n",
      "\n",
      "                     :-) GROMACS - gmx editconf, 2023.1 (-:\n",
      "\n",
      "Executable:   /home/julianne/pkgs/gromacs-2023.1/bin/gmx\n",
      "Data prefix:  /home/julianne/pkgs/gromacs-2023.1\n",
      "Working dir:  /media/julianne/DATA/Lipids/OpenFFLipid/Workflow\n",
      "Command line:\n",
      "  gmx editconf -f pull.gro -o pulled_lipid.pdb\n",
      "\n",
      "\n",
      "GROMACS reminds you: \"Never mind, death professor, your structure's fine\" (TV on the Radio)\n",
      "\n"
     ]
    }
   ],
   "source": [
    "pullLipid('lipid.gro', 'lipid.top',HG_pull_atom)"
   ]
  },
  {
   "cell_type": "markdown",
   "metadata": {},
   "source": [
    "### Use trjconv to produce a pdb of the lipid after pull code. Visualize with nglview to confirm \n"
   ]
  },
  {
   "cell_type": "code",
   "execution_count": 8,
   "metadata": {
    "scrolled": true
   },
   "outputs": [
    {
     "data": {
      "application/vnd.jupyter.widget-view+json": {
       "model_id": "12cf6ef15a85414f820b58ded3a97fe7",
       "version_major": 2,
       "version_minor": 0
      },
      "text/plain": [
       "NGLWidget()"
      ]
     },
     "metadata": {},
     "output_type": "display_data"
    }
   ],
   "source": [
    "#visualize the pulled lipid using ngl view\n",
    "view = nglview.show_structure_file('pulled_lipid.pdb')\n",
    "view\n"
   ]
  },
  {
   "cell_type": "markdown",
   "metadata": {},
   "source": [
    "### Run packmol with the dumped PDB\n",
    "\n",
    "Is there a good way to do this? Look into openff pack box module to see if that can be adapted for lipids? Otherwise this may be difficult"
   ]
  },
  {
   "cell_type": "code",
   "execution_count": null,
   "metadata": {},
   "outputs": [],
   "source": [
    "u = mda.Universe('POPE.pdb')\n",
    "\n",
    "head_group = u.select_atoms('name N1x') #select atom in head group, in this case Nitrogen\n",
    "tail_group = u.select_atoms('name C28x') #select atom in tail group, in this case last carbon in unsaturated tail\n",
    "\n",
    "distance = distances.distance_array(head_group.positions,tail_group.positions)\n",
    "print(\"Length of lipid from head group to tail group is:\\n\",\"~\",round(distance[0][0],2),'Angstrom') \n",
    "#this will tell you the full length of your lipid \n"
   ]
  },
  {
   "cell_type": "markdown",
   "metadata": {},
   "source": [
    "Estimate the desired number of lipids or membrane size in x y diresction when area per lipid is roughly known \\\n",
    "$ N_I = \\frac{2 L_x L_y}{a_I}$  \\\n",
    "where $N_I$ = total # lipids\\\n",
    "$L_x , L_y$ = lateral box dimensions\\\n",
    "$a_I$ = area per lipid in units $Å^{2}$"
   ]
  },
  {
   "cell_type": "code",
   "execution_count": null,
   "metadata": {},
   "outputs": [],
   "source": [
    "# POPC ~ 65 Å^2\n",
    "#For a square box:\n",
    "N = 128\n",
    "a = 65\n",
    "L = np.sqrt(N * a /2)\n",
    "print(round(L,1), \"angstrom dimensions for Length\")"
   ]
  },
  {
   "cell_type": "code",
   "execution_count": null,
   "metadata": {},
   "outputs": [],
   "source": [
    "#modify .inp file if necessary with propper length and atom names \n",
    "$ packmol < bilayer-comment.inp\n",
    "#if you have errors after running packmol make your box bigger \n",
    "# this returns a bilayer.pdb file that can be visualized below "
   ]
  },
  {
   "cell_type": "code",
   "execution_count": null,
   "metadata": {},
   "outputs": [],
   "source": [
    "model_path = '/home/julianne/Desktop/Run_feb8/Compressed/bilayer.pdb' #change model path\n",
    "\n",
    "view = nglview.show_structure_file(model_path)\n",
    "view"
   ]
  },
  {
   "cell_type": "markdown",
   "metadata": {},
   "source": [
    "### Build topology file from system interchange and get .gro file from .pdb"
   ]
  },
  {
   "cell_type": "code",
   "execution_count": null,
   "metadata": {},
   "outputs": [],
   "source": [
    "topology = Topology.from_molecules(5120 * [water] + 128 * [lipid])\n",
    "\n",
    "# Packmol bilayer to parametrize\n",
    "path = mdtraj.load('bilayer.pdb')\n",
    "\n",
    "# Topology designation given Packmol coordinates\n",
    "topology.set_positions(path.xyz[0] * unit.nanometer)\n",
    "topology.box_vectors = [8.0,8.0,9.8] * unit.nanometer\n",
    "\n",
    "water.name = \"TIP3P\"\n",
    "lipid.name = \"POPC\"\n",
    "\n",
    "\n",
    "# for i, atom in enumerate(lipid.atoms, 3):\n",
    "#     atom.metadata[\"residue_name\"] = \"POPC\"\n",
    "#     lipid.generate_conformers()\n",
    "#     lipid.generate_unique_atom_names() #(suffix = \"x\") this suffix is default \n",
    "# for i, atom in enumerate(water.atoms, 3):\n",
    "#     atom.metadata[\"residue_name\"] = \"TIP3P\"\n",
    "#     water.generate_conformers()\n",
    "#     water.generate_unique_atom_names() #(suffix = \"w\")\n",
    "\n",
    "interchange = forcefield.create_interchange(topology)\n",
    "\n",
    "interchange.to_gromacs(prefix = \"bilayer\")"
   ]
  },
  {
   "cell_type": "code",
   "execution_count": null,
   "metadata": {},
   "outputs": [],
   "source": [
    "# Do you want to add ions?\n",
    "\n",
    "# gmx grompp -f ions.mdp -c bilayer.gro -p topol.top -o ions.tpr\n",
    "# gmx genion -s ions.tpr -o bilayer_ions.gro -p topol.top -pname NA -nname CL -neutral\\\n",
    "\n",
    "# When prompted, choose group TIP3P (group 2) for embedding ions. You do not want to replace parts of your protein with ions"
   ]
  },
  {
   "cell_type": "markdown",
   "metadata": {},
   "source": [
    "Files are now ready to be run using Gromacs.\n",
    "\n",
    "Min, NVT, NPT, MD production run"
   ]
  },
  {
   "cell_type": "code",
   "execution_count": null,
   "metadata": {},
   "outputs": [],
   "source": [
    "$ gmx grompp -f min.mdp -p topol.top -c bilayer.gro -o min.tpr\n",
    "$ gmx mdrun -deffnm min\n",
    "\n",
    "$ gmx grompp -p topol.top -f nvt.mdp -c min.gro -o nvt.tpr\n",
    "$ gmx mdrun -deffnm nvt\n",
    "\n",
    "$ gmx grompp -f npt.mdp -p topol.top -c nvt.gro -o npt.tpr -maxwarn 1\n",
    "$ gmx mdrun -deffnm npt\n",
    "\n",
    "$ gmx grompp -f md.mdp -c npt.gro -t npt.cpt -p topol.top -o md.tpr\n",
    "$ gmx mdrun -deffnm md\n",
    "# Checkpoint run for completion\n",
    "$ gmx mdrun -deffnm md -cpi md.cpt"
   ]
  }
 ],
 "metadata": {
  "kernelspec": {
   "display_name": "Python 3 (ipykernel)",
   "language": "python",
   "name": "python3"
  },
  "language_info": {
   "codemirror_mode": {
    "name": "ipython",
    "version": 3
   },
   "file_extension": ".py",
   "mimetype": "text/x-python",
   "name": "python",
   "nbconvert_exporter": "python",
   "pygments_lexer": "ipython3",
   "version": "3.11.7"
  }
 },
 "nbformat": 4,
 "nbformat_minor": 4
}
