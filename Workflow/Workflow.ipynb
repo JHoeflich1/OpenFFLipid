{
 "cells": [
  {
   "cell_type": "markdown",
   "metadata": {},
   "source": [
    "### This notebook will walk you through how to build a lipid bilayer with OpenFF"
   ]
  },
  {
   "cell_type": "code",
   "execution_count": 1,
   "metadata": {},
   "outputs": [
    {
     "name": "stderr",
     "output_type": "stream",
     "text": [
      "/home/julianne/miniconda3/envs/openff_clone/lib/python3.11/site-packages/Bio/__init__.py:138: BiopythonWarning: You may be importing Biopython from inside the source tree. This is bad practice and might lead to downstream issues. In particular, you might encounter ImportErrors due to missing compiled C extensions. We recommend that you try running your code from outside the source tree. If you are outside the source tree then you have a setup.py file in an unexpected directory: /home/julianne/miniconda3/envs/openff_clone/lib/python3.11/site-packages\n",
      "  warnings.warn(\n"
     ]
    },
    {
     "data": {
      "application/vnd.jupyter.widget-view+json": {
       "model_id": "a029ddf1b9cf42f788806689b516c1d7",
       "version_major": 2,
       "version_minor": 0
      },
      "text/plain": []
     },
     "metadata": {},
     "output_type": "display_data"
    }
   ],
   "source": [
    "# Import all dependencies \n",
    "\n",
    "# from io import StringIO\n",
    "# from typing import Iterable\n",
    "import numpy as np\n",
    "# import matplotlib.pyplot as plt\n",
    "\n",
    "# from rdkit import Chem\n",
    "import MDAnalysis as mda\n",
    "from MDAnalysis.analysis import distances\n",
    "from openff.toolkit import ForceField, Molecule, Topology\n",
    "# from openff.toolkit.utils.toolkits import OpenEyeToolkitWrapper\n",
    "\n",
    "from openff.units import Quantity, unit\n",
    "# from openmm import unit as openmm_unit\n",
    "from openff.interchange import Interchange\n",
    "from openff.toolkit.utils.nagl_wrapper import NAGLToolkitWrapper #assign charges with NAGL\n",
    "\n",
    "import nglview\n",
    "import mdtraj\n",
    "import sys\n",
    "import os\n",
    "import shutil\n",
    "from pathlib import Path\n",
    "\n",
    "scripts_path = os.path.join(os.getcwd(), 'scripts')\n",
    "sys.path.insert(0, scripts_path)\n",
    "\n",
    "from postPull import pull_new_lipid\n",
    "import BuildLipid\n",
    "from saveLipids import saveInterchange, Lipid, calcLipidLength, saveLipidCsv\n",
    "from packmol import _build_input_file, runPackmol"
   ]
  },
  {
   "cell_type": "code",
   "execution_count": 2,
   "metadata": {},
   "outputs": [
    {
     "data": {
      "text/plain": [
       "[PosixPath('/home/julianne/miniconda3/envs/openff_clone/lib/python3.11/site-packages/openff/nagl_models/models/am1bcc/openff-gnn-am1bcc-0.0.1-alpha.1.pt'),\n",
       " PosixPath('/home/julianne/miniconda3/envs/openff_clone/lib/python3.11/site-packages/openff/nagl_models/models/am1bcc/openff-gnn-am1bcc-0.1.0-rc.1.pt'),\n",
       " PosixPath('/home/julianne/miniconda3/envs/openff_clone/lib/python3.11/site-packages/openff/nagl_models/models/am1bcc/openff-gnn-am1bcc-0.1.0-rc.2.pt'),\n",
       " PosixPath('/home/julianne/miniconda3/envs/openff_clone/lib/python3.11/site-packages/openff/nagl_models/models/am1bcc/openff-gnn-am1bcc-0.1.0-rc.3.pt')]"
      ]
     },
     "execution_count": 2,
     "metadata": {},
     "output_type": "execute_result"
    }
   ],
   "source": [
    "from openff.nagl_models import list_available_nagl_models\n",
    "\n",
    "list_available_nagl_models()"
   ]
  },
  {
   "cell_type": "markdown",
   "metadata": {},
   "source": [
    "Available lipids are located in BuildLipid module, which constructs lipids in a modular fashion {sn1} + {hg} + {sn2}.\n",
    "load_dataframe() to load in lipid library\n",
    "list_available_lipids() will return a list of available headgroups, tailgroups, and sterols"
   ]
  },
  {
   "cell_type": "code",
   "execution_count": 3,
   "metadata": {},
   "outputs": [
    {
     "name": "stdout",
     "output_type": "stream",
     "text": [
      "Available headgroups:  ['PA', 'PC', 'PE', 'PG', 'PP', 'PS']\n",
      "Available tailgroups:  ['DC', 'DD', 'DL', 'DM', 'DO', 'DP', 'DR', 'DS', 'PE', 'PL', 'PO', 'PS', 'SL', 'SO']\n",
      "Available sterols:  ['aldosterone', 'beta-Sitosterol', 'beta-estradiol', 'cholesterol', 'corticosterone', 'cortisol', 'ergosterol', 'estradiol', 'progesterone', 'stigmasterol', 'testosterone']\n"
     ]
    }
   ],
   "source": [
    "# load in openFF's library of lipids and return a list of availablee lipid headgroups,tailgroups, and sterols to choose from\n",
    "df = BuildLipid.load_dataframe()\n",
    "BuildLipid.list_available_lipids(df) "
   ]
  },
  {
   "cell_type": "code",
   "execution_count": null,
   "metadata": {},
   "outputs": [],
   "source": [
    "POPC,,N1x,C42x,,7.0,53.0,30.51595776024497,O([P@@]([O-])(OCC[N+](C)(C)C)(=O))C[C@H](COC(=O)CCCCCCCCCCCCCCC)(OC(=O)CCCCCCC\\C=C/CCCCCCCC)\n",
    "cholesterol,,O1x,C7x,,32.0,8.0,17.82112264468474,C[C@H](CCCC(C)C)[C@H]1CC[C@@H]2[C@@]1(CC[C@H]3[C@H]2CC=C4[C@@]3(CC[C@@H](C4)O)C)C\n",
    "MC3,,N1x,C37x,,44.0,37.0,28.884357965081552,CCCCC\\C=C/C\\C=C/CCCCCCCCC(CCCCCCCC\\C=C/C\\C=C/CCCCC)OC(=O)CCCN(C)C \n",
    "SM102,,O1x,C44x,,1.0,49.0,24.931139421984337,OCC[N@](CCCCCCCC(OC(CCCCCCCC)CCCCCCCC)=O)CCCCCC(OCCCCCCCCCCC)=O\n",
    "ALC0315,,O1x,C48x,,1.0,55.0,24.496943046528976,OCCCC[N@](CCCCCCOC([C@H](CCCCCC)CCCCCCCC)=O)CCCCCCOC([C@H](CCCCCC)CCCCCCCC)=O"
   ]
  },
  {
   "cell_type": "code",
   "execution_count": 37,
   "metadata": {},
   "outputs": [
    {
     "data": {
      "image/svg+xml": [
       "<svg xmlns=\"http://www.w3.org/2000/svg\" xmlns:rdkit=\"http://www.rdkit.org/xml\" xmlns:xlink=\"http://www.w3.org/1999/xlink\" version=\"1.1\" baseProfile=\"full\" xml:space=\"preserve\" width=\"500px\" height=\"300px\" viewBox=\"0 0 500 300\">\n",
       "<!-- END OF HEADER -->\n",
       "<rect style=\"opacity:1.0;fill:#FFFFFF;stroke:none\" width=\"500.0\" height=\"300.0\" x=\"0.0\" y=\"0.0\"> </rect>\n",
       "<path class=\"bond-0 atom-0 atom-1\" d=\"M 401.1,58.5 L 417.4,68.0\" style=\"fill:none;fill-rule:evenodd;stroke:#000000;stroke-width:2.0px;stroke-linecap:butt;stroke-linejoin:miter;stroke-opacity:1\"/>\n",
       "<path class=\"bond-1 atom-1 atom-2\" d=\"M 417.4,68.0 L 417.9,86.3\" style=\"fill:none;fill-rule:evenodd;stroke:#000000;stroke-width:2.0px;stroke-linecap:butt;stroke-linejoin:miter;stroke-opacity:1\"/>\n",
       "<path class=\"bond-2 atom-2 atom-3\" d=\"M 417.9,86.3 L 435.5,96.0\" style=\"fill:none;fill-rule:evenodd;stroke:#000000;stroke-width:2.0px;stroke-linecap:butt;stroke-linejoin:miter;stroke-opacity:1\"/>\n",
       "<path class=\"bond-3 atom-3 atom-4\" d=\"M 435.5,96.0 L 436.4,114.7\" style=\"fill:none;fill-rule:evenodd;stroke:#000000;stroke-width:2.0px;stroke-linecap:butt;stroke-linejoin:miter;stroke-opacity:1\"/>\n",
       "<path class=\"bond-4 atom-4 atom-5\" d=\"M 436.4,114.7 L 454.4,124.6\" style=\"fill:none;fill-rule:evenodd;stroke:#000000;stroke-width:2.0px;stroke-linecap:butt;stroke-linejoin:miter;stroke-opacity:1\"/>\n",
       "<path class=\"bond-5 atom-5 atom-6\" d=\"M 454.4,124.6 L 455.6,146.5\" style=\"fill:none;fill-rule:evenodd;stroke:#000000;stroke-width:2.0px;stroke-linecap:butt;stroke-linejoin:miter;stroke-opacity:1\"/>\n",
       "<path class=\"bond-5 atom-5 atom-6\" d=\"M 451.6,126.3 L 452.7,145.0\" style=\"fill:none;fill-rule:evenodd;stroke:#000000;stroke-width:2.0px;stroke-linecap:butt;stroke-linejoin:miter;stroke-opacity:1\"/>\n",
       "<path class=\"bond-6 atom-6 atom-7\" d=\"M 455.6,146.5 L 439.1,157.5\" style=\"fill:none;fill-rule:evenodd;stroke:#000000;stroke-width:2.0px;stroke-linecap:butt;stroke-linejoin:miter;stroke-opacity:1\"/>\n",
       "<path class=\"bond-7 atom-7 atom-8\" d=\"M 439.1,157.5 L 418.0,146.6\" style=\"fill:none;fill-rule:evenodd;stroke:#000000;stroke-width:2.0px;stroke-linecap:butt;stroke-linejoin:miter;stroke-opacity:1\"/>\n",
       "<path class=\"bond-8 atom-8 atom-9\" d=\"M 418.0,146.6 L 402.6,156.7\" style=\"fill:none;fill-rule:evenodd;stroke:#000000;stroke-width:2.0px;stroke-linecap:butt;stroke-linejoin:miter;stroke-opacity:1\"/>\n",
       "<path class=\"bond-8 atom-8 atom-9\" d=\"M 418.2,149.9 L 405.5,158.1\" style=\"fill:none;fill-rule:evenodd;stroke:#000000;stroke-width:2.0px;stroke-linecap:butt;stroke-linejoin:miter;stroke-opacity:1\"/>\n",
       "<path class=\"bond-9 atom-9 atom-10\" d=\"M 402.6,156.7 L 403.8,177.9\" style=\"fill:none;fill-rule:evenodd;stroke:#000000;stroke-width:2.0px;stroke-linecap:butt;stroke-linejoin:miter;stroke-opacity:1\"/>\n",
       "<path class=\"bond-10 atom-10 atom-11\" d=\"M 403.8,177.9 L 387.7,186.1\" style=\"fill:none;fill-rule:evenodd;stroke:#000000;stroke-width:2.0px;stroke-linecap:butt;stroke-linejoin:miter;stroke-opacity:1\"/>\n",
       "<path class=\"bond-11 atom-11 atom-12\" d=\"M 387.7,186.1 L 370.1,174.4\" style=\"fill:none;fill-rule:evenodd;stroke:#000000;stroke-width:2.0px;stroke-linecap:butt;stroke-linejoin:miter;stroke-opacity:1\"/>\n",
       "<path class=\"bond-12 atom-12 atom-13\" d=\"M 370.1,174.4 L 354.4,182.3\" style=\"fill:none;fill-rule:evenodd;stroke:#000000;stroke-width:2.0px;stroke-linecap:butt;stroke-linejoin:miter;stroke-opacity:1\"/>\n",
       "<path class=\"bond-13 atom-13 atom-14\" d=\"M 354.4,182.3 L 338.0,172.6\" style=\"fill:none;fill-rule:evenodd;stroke:#000000;stroke-width:2.0px;stroke-linecap:butt;stroke-linejoin:miter;stroke-opacity:1\"/>\n",
       "<path class=\"bond-14 atom-14 atom-15\" d=\"M 338.0,172.6 L 321.8,181.7\" style=\"fill:none;fill-rule:evenodd;stroke:#000000;stroke-width:2.0px;stroke-linecap:butt;stroke-linejoin:miter;stroke-opacity:1\"/>\n",
       "<path class=\"bond-15 atom-15 atom-16\" d=\"M 321.8,181.7 L 305.6,172.5\" style=\"fill:none;fill-rule:evenodd;stroke:#000000;stroke-width:2.0px;stroke-linecap:butt;stroke-linejoin:miter;stroke-opacity:1\"/>\n",
       "<path class=\"bond-16 atom-16 atom-17\" d=\"M 305.6,172.5 L 289.4,181.7\" style=\"fill:none;fill-rule:evenodd;stroke:#000000;stroke-width:2.0px;stroke-linecap:butt;stroke-linejoin:miter;stroke-opacity:1\"/>\n",
       "<path class=\"bond-17 atom-17 atom-18\" d=\"M 289.4,181.7 L 273.3,172.5\" style=\"fill:none;fill-rule:evenodd;stroke:#000000;stroke-width:2.0px;stroke-linecap:butt;stroke-linejoin:miter;stroke-opacity:1\"/>\n",
       "<path class=\"bond-18 atom-18 atom-19\" d=\"M 273.3,172.5 L 257.2,181.6\" style=\"fill:none;fill-rule:evenodd;stroke:#000000;stroke-width:2.0px;stroke-linecap:butt;stroke-linejoin:miter;stroke-opacity:1\"/>\n",
       "<path class=\"bond-19 atom-19 atom-20\" d=\"M 257.2,181.6 L 241.1,172.5\" style=\"fill:none;fill-rule:evenodd;stroke:#000000;stroke-width:2.0px;stroke-linecap:butt;stroke-linejoin:miter;stroke-opacity:1\"/>\n",
       "<path class=\"bond-20 atom-20 atom-21\" d=\"M 241.1,172.5 L 225.2,181.5\" style=\"fill:none;fill-rule:evenodd;stroke:#000000;stroke-width:2.0px;stroke-linecap:butt;stroke-linejoin:miter;stroke-opacity:1\"/>\n",
       "<path class=\"bond-21 atom-21 atom-22\" d=\"M 225.2,181.5 L 209.2,172.5\" style=\"fill:none;fill-rule:evenodd;stroke:#000000;stroke-width:2.0px;stroke-linecap:butt;stroke-linejoin:miter;stroke-opacity:1\"/>\n",
       "<path class=\"bond-22 atom-22 atom-23\" d=\"M 209.2,172.5 L 194.1,181.7\" style=\"fill:none;fill-rule:evenodd;stroke:#000000;stroke-width:2.0px;stroke-linecap:butt;stroke-linejoin:miter;stroke-opacity:1\"/>\n",
       "<path class=\"bond-23 atom-23 atom-24\" d=\"M 194.1,181.7 L 179.4,175.4\" style=\"fill:none;fill-rule:evenodd;stroke:#000000;stroke-width:2.0px;stroke-linecap:butt;stroke-linejoin:miter;stroke-opacity:1\"/>\n",
       "<path class=\"bond-24 atom-24 atom-25\" d=\"M 179.4,175.4 L 165.4,186.6\" style=\"fill:none;fill-rule:evenodd;stroke:#000000;stroke-width:2.0px;stroke-linecap:butt;stroke-linejoin:miter;stroke-opacity:1\"/>\n",
       "<path class=\"bond-25 atom-25 atom-26\" d=\"M 165.4,186.6 L 146.7,169.2\" style=\"fill:none;fill-rule:evenodd;stroke:#000000;stroke-width:2.0px;stroke-linecap:butt;stroke-linejoin:miter;stroke-opacity:1\"/>\n",
       "<path class=\"bond-26 atom-26 atom-27\" d=\"M 146.7,169.2 L 126.5,180.1\" style=\"fill:none;fill-rule:evenodd;stroke:#000000;stroke-width:2.0px;stroke-linecap:butt;stroke-linejoin:miter;stroke-opacity:1\"/>\n",
       "<path class=\"bond-27 atom-27 atom-28\" d=\"M 126.5,180.1 L 124.2,202.3\" style=\"fill:none;fill-rule:evenodd;stroke:#000000;stroke-width:2.0px;stroke-linecap:butt;stroke-linejoin:miter;stroke-opacity:1\"/>\n",
       "<path class=\"bond-27 atom-27 atom-28\" d=\"M 129.2,181.8 L 127.2,200.5\" style=\"fill:none;fill-rule:evenodd;stroke:#000000;stroke-width:2.0px;stroke-linecap:butt;stroke-linejoin:miter;stroke-opacity:1\"/>\n",
       "<path class=\"bond-28 atom-28 atom-29\" d=\"M 124.2,202.3 L 150.4,212.6\" style=\"fill:none;fill-rule:evenodd;stroke:#000000;stroke-width:2.0px;stroke-linecap:butt;stroke-linejoin:miter;stroke-opacity:1\"/>\n",
       "<path class=\"bond-29 atom-29 atom-30\" d=\"M 150.4,212.6 L 147.6,232.0\" style=\"fill:none;fill-rule:evenodd;stroke:#000000;stroke-width:2.0px;stroke-linecap:butt;stroke-linejoin:miter;stroke-opacity:1\"/>\n",
       "<path class=\"bond-30 atom-30 atom-31\" d=\"M 147.6,232.0 L 127.3,241.6\" style=\"fill:none;fill-rule:evenodd;stroke:#000000;stroke-width:2.0px;stroke-linecap:butt;stroke-linejoin:miter;stroke-opacity:1\"/>\n",
       "<path class=\"bond-30 atom-30 atom-31\" d=\"M 145.1,230.1 L 127.5,238.4\" style=\"fill:none;fill-rule:evenodd;stroke:#000000;stroke-width:2.0px;stroke-linecap:butt;stroke-linejoin:miter;stroke-opacity:1\"/>\n",
       "<path class=\"bond-31 atom-31 atom-32\" d=\"M 127.3,241.6 L 109.7,231.0\" style=\"fill:none;fill-rule:evenodd;stroke:#000000;stroke-width:2.0px;stroke-linecap:butt;stroke-linejoin:miter;stroke-opacity:1\"/>\n",
       "<path class=\"bond-32 atom-32 atom-33\" d=\"M 109.7,231.0 L 93.6,239.3\" style=\"fill:none;fill-rule:evenodd;stroke:#000000;stroke-width:2.0px;stroke-linecap:butt;stroke-linejoin:miter;stroke-opacity:1\"/>\n",
       "<path class=\"bond-33 atom-33 atom-34\" d=\"M 93.6,239.3 L 76.3,228.8\" style=\"fill:none;fill-rule:evenodd;stroke:#000000;stroke-width:2.0px;stroke-linecap:butt;stroke-linejoin:miter;stroke-opacity:1\"/>\n",
       "<path class=\"bond-34 atom-34 atom-35\" d=\"M 76.3,228.8 L 60.3,237.5\" style=\"fill:none;fill-rule:evenodd;stroke:#000000;stroke-width:2.0px;stroke-linecap:butt;stroke-linejoin:miter;stroke-opacity:1\"/>\n",
       "<path class=\"bond-35 atom-35 atom-36\" d=\"M 60.3,237.5 L 43.9,228.1\" style=\"fill:none;fill-rule:evenodd;stroke:#000000;stroke-width:2.0px;stroke-linecap:butt;stroke-linejoin:miter;stroke-opacity:1\"/>\n",
       "<path class=\"bond-36 atom-18 atom-37\" d=\"M 273.3,172.5 L 270.2,167.1\" style=\"fill:none;fill-rule:evenodd;stroke:#000000;stroke-width:2.0px;stroke-linecap:butt;stroke-linejoin:miter;stroke-opacity:1\"/>\n",
       "<path class=\"bond-36 atom-18 atom-37\" d=\"M 270.2,167.1 L 267.1,161.6\" style=\"fill:none;fill-rule:evenodd;stroke:#FF0000;stroke-width:2.0px;stroke-linecap:butt;stroke-linejoin:miter;stroke-opacity:1\"/>\n",
       "<path class=\"bond-37 atom-37 atom-38\" d=\"M 267.1,152.2 L 270.4,146.5\" style=\"fill:none;fill-rule:evenodd;stroke:#FF0000;stroke-width:2.0px;stroke-linecap:butt;stroke-linejoin:miter;stroke-opacity:1\"/>\n",
       "<path class=\"bond-37 atom-37 atom-38\" d=\"M 270.4,146.5 L 273.7,140.7\" style=\"fill:none;fill-rule:evenodd;stroke:#000000;stroke-width:2.0px;stroke-linecap:butt;stroke-linejoin:miter;stroke-opacity:1\"/>\n",
       "<path class=\"bond-38 atom-38 atom-39\" d=\"M 272.9,142.1 L 280.5,142.0\" style=\"fill:none;fill-rule:evenodd;stroke:#000000;stroke-width:2.0px;stroke-linecap:butt;stroke-linejoin:miter;stroke-opacity:1\"/>\n",
       "<path class=\"bond-38 atom-38 atom-39\" d=\"M 280.5,142.0 L 288.1,141.9\" style=\"fill:none;fill-rule:evenodd;stroke:#FF0000;stroke-width:2.0px;stroke-linecap:butt;stroke-linejoin:miter;stroke-opacity:1\"/>\n",
       "<path class=\"bond-38 atom-38 atom-39\" d=\"M 272.8,139.3 L 280.5,139.2\" style=\"fill:none;fill-rule:evenodd;stroke:#000000;stroke-width:2.0px;stroke-linecap:butt;stroke-linejoin:miter;stroke-opacity:1\"/>\n",
       "<path class=\"bond-38 atom-38 atom-39\" d=\"M 280.5,139.2 L 288.1,139.1\" style=\"fill:none;fill-rule:evenodd;stroke:#FF0000;stroke-width:2.0px;stroke-linecap:butt;stroke-linejoin:miter;stroke-opacity:1\"/>\n",
       "<path class=\"bond-39 atom-38 atom-40\" d=\"M 273.7,140.7 L 264.0,124.5\" style=\"fill:none;fill-rule:evenodd;stroke:#000000;stroke-width:2.0px;stroke-linecap:butt;stroke-linejoin:miter;stroke-opacity:1\"/>\n",
       "<path class=\"bond-40 atom-40 atom-41\" d=\"M 264.0,124.5 L 273.2,108.1\" style=\"fill:none;fill-rule:evenodd;stroke:#000000;stroke-width:2.0px;stroke-linecap:butt;stroke-linejoin:miter;stroke-opacity:1\"/>\n",
       "<path class=\"bond-41 atom-41 atom-42\" d=\"M 273.2,108.1 L 263.8,91.4\" style=\"fill:none;fill-rule:evenodd;stroke:#000000;stroke-width:2.0px;stroke-linecap:butt;stroke-linejoin:miter;stroke-opacity:1\"/>\n",
       "<path class=\"bond-42 atom-42 atom-43\" d=\"M 263.8,91.4 L 267.2,85.5\" style=\"fill:none;fill-rule:evenodd;stroke:#000000;stroke-width:2.0px;stroke-linecap:butt;stroke-linejoin:miter;stroke-opacity:1\"/>\n",
       "<path class=\"bond-42 atom-42 atom-43\" d=\"M 267.2,85.5 L 270.6,79.6\" style=\"fill:none;fill-rule:evenodd;stroke:#0000FF;stroke-width:2.0px;stroke-linecap:butt;stroke-linejoin:miter;stroke-opacity:1\"/>\n",
       "<path class=\"bond-43 atom-43 atom-44\" d=\"M 270.5,70.4 L 267.0,64.5\" style=\"fill:none;fill-rule:evenodd;stroke:#0000FF;stroke-width:2.0px;stroke-linecap:butt;stroke-linejoin:miter;stroke-opacity:1\"/>\n",
       "<path class=\"bond-43 atom-43 atom-44\" d=\"M 267.0,64.5 L 263.5,58.7\" style=\"fill:none;fill-rule:evenodd;stroke:#000000;stroke-width:2.0px;stroke-linecap:butt;stroke-linejoin:miter;stroke-opacity:1\"/>\n",
       "<path class=\"bond-44 atom-43 atom-45\" d=\"M 276.9,75.0 L 284.6,74.9\" style=\"fill:none;fill-rule:evenodd;stroke:#0000FF;stroke-width:2.0px;stroke-linecap:butt;stroke-linejoin:miter;stroke-opacity:1\"/>\n",
       "<path class=\"bond-44 atom-43 atom-45\" d=\"M 284.6,74.9 L 292.3,74.9\" style=\"fill:none;fill-rule:evenodd;stroke:#000000;stroke-width:2.0px;stroke-linecap:butt;stroke-linejoin:miter;stroke-opacity:1\"/>\n",
       "<path class=\"bond-45 atom-0 atom-46\" d=\"M 401.1,58.5 L 394.3,69.5\" style=\"fill:none;fill-rule:evenodd;stroke:#000000;stroke-width:2.0px;stroke-linecap:butt;stroke-linejoin:miter;stroke-opacity:1\"/>\n",
       "<path class=\"bond-46 atom-0 atom-47\" d=\"M 401.1,58.5 L 386.2,58.3\" style=\"fill:none;fill-rule:evenodd;stroke:#000000;stroke-width:2.0px;stroke-linecap:butt;stroke-linejoin:miter;stroke-opacity:1\"/>\n",
       "<path class=\"bond-47 atom-0 atom-48\" d=\"M 401.1,58.5 L 401.3,44.6\" style=\"fill:none;fill-rule:evenodd;stroke:#000000;stroke-width:2.0px;stroke-linecap:butt;stroke-linejoin:miter;stroke-opacity:1\"/>\n",
       "<path class=\"bond-48 atom-1 atom-49\" d=\"M 417.4,68.0 L 432.0,67.9\" style=\"fill:none;fill-rule:evenodd;stroke:#000000;stroke-width:2.0px;stroke-linecap:butt;stroke-linejoin:miter;stroke-opacity:1\"/>\n",
       "<path class=\"bond-49 atom-1 atom-50\" d=\"M 417.4,68.0 L 424.0,56.7\" style=\"fill:none;fill-rule:evenodd;stroke:#000000;stroke-width:2.0px;stroke-linecap:butt;stroke-linejoin:miter;stroke-opacity:1\"/>\n",
       "<path class=\"bond-50 atom-2 atom-51\" d=\"M 417.9,86.3 L 411.4,96.8\" style=\"fill:none;fill-rule:evenodd;stroke:#000000;stroke-width:2.0px;stroke-linecap:butt;stroke-linejoin:miter;stroke-opacity:1\"/>\n",
       "<path class=\"bond-51 atom-2 atom-52\" d=\"M 417.9,86.3 L 403.2,86.7\" style=\"fill:none;fill-rule:evenodd;stroke:#000000;stroke-width:2.0px;stroke-linecap:butt;stroke-linejoin:miter;stroke-opacity:1\"/>\n",
       "<path class=\"bond-52 atom-3 atom-53\" d=\"M 435.5,96.0 L 450.7,95.7\" style=\"fill:none;fill-rule:evenodd;stroke:#000000;stroke-width:2.0px;stroke-linecap:butt;stroke-linejoin:miter;stroke-opacity:1\"/>\n",
       "<path class=\"bond-53 atom-3 atom-54\" d=\"M 435.5,96.0 L 442.1,84.5\" style=\"fill:none;fill-rule:evenodd;stroke:#000000;stroke-width:2.0px;stroke-linecap:butt;stroke-linejoin:miter;stroke-opacity:1\"/>\n",
       "<path class=\"bond-54 atom-4 atom-55\" d=\"M 436.4,114.7 L 432.0,126.6\" style=\"fill:none;fill-rule:evenodd;stroke:#000000;stroke-width:2.0px;stroke-linecap:butt;stroke-linejoin:miter;stroke-opacity:1\"/>\n",
       "<path class=\"bond-55 atom-4 atom-56\" d=\"M 436.4,114.7 L 418.6,114.9\" style=\"fill:none;fill-rule:evenodd;stroke:#000000;stroke-width:2.0px;stroke-linecap:butt;stroke-linejoin:miter;stroke-opacity:1\"/>\n",
       "<path class=\"bond-56 atom-5 atom-57\" d=\"M 454.4,124.6 L 466.5,117.0\" style=\"fill:none;fill-rule:evenodd;stroke:#000000;stroke-width:2.0px;stroke-linecap:butt;stroke-linejoin:miter;stroke-opacity:1\"/>\n",
       "<path class=\"bond-57 atom-6 atom-58\" d=\"M 455.6,146.5 L 468.2,152.7\" style=\"fill:none;fill-rule:evenodd;stroke:#000000;stroke-width:2.0px;stroke-linecap:butt;stroke-linejoin:miter;stroke-opacity:1\"/>\n",
       "<path class=\"bond-58 atom-7 atom-59\" d=\"M 439.1,157.5 L 430.4,162.5\" style=\"fill:none;fill-rule:evenodd;stroke:#000000;stroke-width:2.0px;stroke-linecap:butt;stroke-linejoin:miter;stroke-opacity:1\"/>\n",
       "<path class=\"bond-59 atom-7 atom-60\" d=\"M 439.1,157.5 L 443.3,170.5\" style=\"fill:none;fill-rule:evenodd;stroke:#000000;stroke-width:2.0px;stroke-linecap:butt;stroke-linejoin:miter;stroke-opacity:1\"/>\n",
       "<path class=\"bond-60 atom-8 atom-61\" d=\"M 418.0,146.6 L 415.8,134.4\" style=\"fill:none;fill-rule:evenodd;stroke:#000000;stroke-width:2.0px;stroke-linecap:butt;stroke-linejoin:miter;stroke-opacity:1\"/>\n",
       "<path class=\"bond-61 atom-9 atom-62\" d=\"M 402.6,156.7 L 391.5,149.7\" style=\"fill:none;fill-rule:evenodd;stroke:#000000;stroke-width:2.0px;stroke-linecap:butt;stroke-linejoin:miter;stroke-opacity:1\"/>\n",
       "<path class=\"bond-62 atom-10 atom-63\" d=\"M 403.8,177.9 L 412.5,187.4\" style=\"fill:none;fill-rule:evenodd;stroke:#000000;stroke-width:2.0px;stroke-linecap:butt;stroke-linejoin:miter;stroke-opacity:1\"/>\n",
       "<path class=\"bond-63 atom-10 atom-64\" d=\"M 403.8,177.9 L 412.6,172.8\" style=\"fill:none;fill-rule:evenodd;stroke:#000000;stroke-width:2.0px;stroke-linecap:butt;stroke-linejoin:miter;stroke-opacity:1\"/>\n",
       "<path class=\"bond-64 atom-11 atom-65\" d=\"M 387.7,186.1 L 380.8,196.6\" style=\"fill:none;fill-rule:evenodd;stroke:#000000;stroke-width:2.0px;stroke-linecap:butt;stroke-linejoin:miter;stroke-opacity:1\"/>\n",
       "<path class=\"bond-65 atom-11 atom-66\" d=\"M 387.7,186.1 L 393.7,197.7\" style=\"fill:none;fill-rule:evenodd;stroke:#000000;stroke-width:2.0px;stroke-linecap:butt;stroke-linejoin:miter;stroke-opacity:1\"/>\n",
       "<path class=\"bond-66 atom-12 atom-67\" d=\"M 370.1,174.4 L 364.1,162.3\" style=\"fill:none;fill-rule:evenodd;stroke:#000000;stroke-width:2.0px;stroke-linecap:butt;stroke-linejoin:miter;stroke-opacity:1\"/>\n",
       "<path class=\"bond-67 atom-12 atom-68\" d=\"M 370.1,174.4 L 376.1,163.8\" style=\"fill:none;fill-rule:evenodd;stroke:#000000;stroke-width:2.0px;stroke-linecap:butt;stroke-linejoin:miter;stroke-opacity:1\"/>\n",
       "<path class=\"bond-68 atom-13 atom-69\" d=\"M 354.4,182.3 L 348.0,193.4\" style=\"fill:none;fill-rule:evenodd;stroke:#000000;stroke-width:2.0px;stroke-linecap:butt;stroke-linejoin:miter;stroke-opacity:1\"/>\n",
       "<path class=\"bond-69 atom-13 atom-70\" d=\"M 354.4,182.3 L 360.6,193.8\" style=\"fill:none;fill-rule:evenodd;stroke:#000000;stroke-width:2.0px;stroke-linecap:butt;stroke-linejoin:miter;stroke-opacity:1\"/>\n",
       "<path class=\"bond-70 atom-14 atom-71\" d=\"M 338.0,172.6 L 331.8,161.1\" style=\"fill:none;fill-rule:evenodd;stroke:#000000;stroke-width:2.0px;stroke-linecap:butt;stroke-linejoin:miter;stroke-opacity:1\"/>\n",
       "<path class=\"bond-71 atom-14 atom-72\" d=\"M 338.0,172.6 L 344.3,161.2\" style=\"fill:none;fill-rule:evenodd;stroke:#000000;stroke-width:2.0px;stroke-linecap:butt;stroke-linejoin:miter;stroke-opacity:1\"/>\n",
       "<path class=\"bond-72 atom-15 atom-73\" d=\"M 321.8,181.7 L 315.6,193.1\" style=\"fill:none;fill-rule:evenodd;stroke:#000000;stroke-width:2.0px;stroke-linecap:butt;stroke-linejoin:miter;stroke-opacity:1\"/>\n",
       "<path class=\"bond-73 atom-15 atom-74\" d=\"M 321.8,181.7 L 328.0,193.1\" style=\"fill:none;fill-rule:evenodd;stroke:#000000;stroke-width:2.0px;stroke-linecap:butt;stroke-linejoin:miter;stroke-opacity:1\"/>\n",
       "<path class=\"bond-74 atom-16 atom-75\" d=\"M 305.6,172.5 L 299.3,161.1\" style=\"fill:none;fill-rule:evenodd;stroke:#000000;stroke-width:2.0px;stroke-linecap:butt;stroke-linejoin:miter;stroke-opacity:1\"/>\n",
       "<path class=\"bond-75 atom-16 atom-76\" d=\"M 305.6,172.5 L 311.8,161.1\" style=\"fill:none;fill-rule:evenodd;stroke:#000000;stroke-width:2.0px;stroke-linecap:butt;stroke-linejoin:miter;stroke-opacity:1\"/>\n",
       "<path class=\"bond-76 atom-17 atom-77\" d=\"M 289.4,181.7 L 283.2,193.0\" style=\"fill:none;fill-rule:evenodd;stroke:#000000;stroke-width:2.0px;stroke-linecap:butt;stroke-linejoin:miter;stroke-opacity:1\"/>\n",
       "<path class=\"bond-77 atom-17 atom-78\" d=\"M 289.4,181.7 L 295.6,193.0\" style=\"fill:none;fill-rule:evenodd;stroke:#000000;stroke-width:2.0px;stroke-linecap:butt;stroke-linejoin:miter;stroke-opacity:1\"/>\n",
       "<path class=\"bond-78 atom-18 atom-79\" d=\"M 273.3,172.5 L 279.4,161.2\" style=\"fill:none;fill-rule:evenodd;stroke:#000000;stroke-width:2.0px;stroke-linecap:butt;stroke-linejoin:miter;stroke-opacity:1\"/>\n",
       "<path class=\"bond-79 atom-19 atom-80\" d=\"M 257.2,181.6 L 263.3,193.0\" style=\"fill:none;fill-rule:evenodd;stroke:#000000;stroke-width:2.0px;stroke-linecap:butt;stroke-linejoin:miter;stroke-opacity:1\"/>\n",
       "<path class=\"bond-80 atom-19 atom-81\" d=\"M 257.2,181.6 L 251.1,193.0\" style=\"fill:none;fill-rule:evenodd;stroke:#000000;stroke-width:2.0px;stroke-linecap:butt;stroke-linejoin:miter;stroke-opacity:1\"/>\n",
       "<path class=\"bond-81 atom-20 atom-82\" d=\"M 241.1,172.5 L 247.1,160.8\" style=\"fill:none;fill-rule:evenodd;stroke:#000000;stroke-width:2.0px;stroke-linecap:butt;stroke-linejoin:miter;stroke-opacity:1\"/>\n",
       "<path class=\"bond-82 atom-20 atom-83\" d=\"M 241.1,172.5 L 234.8,161.3\" style=\"fill:none;fill-rule:evenodd;stroke:#000000;stroke-width:2.0px;stroke-linecap:butt;stroke-linejoin:miter;stroke-opacity:1\"/>\n",
       "<path class=\"bond-83 atom-21 atom-84\" d=\"M 225.2,181.5 L 231.2,192.9\" style=\"fill:none;fill-rule:evenodd;stroke:#000000;stroke-width:2.0px;stroke-linecap:butt;stroke-linejoin:miter;stroke-opacity:1\"/>\n",
       "<path class=\"bond-84 atom-21 atom-85\" d=\"M 225.2,181.5 L 219.0,192.9\" style=\"fill:none;fill-rule:evenodd;stroke:#000000;stroke-width:2.0px;stroke-linecap:butt;stroke-linejoin:miter;stroke-opacity:1\"/>\n",
       "<path class=\"bond-85 atom-22 atom-86\" d=\"M 209.2,172.5 L 215.0,161.2\" style=\"fill:none;fill-rule:evenodd;stroke:#000000;stroke-width:2.0px;stroke-linecap:butt;stroke-linejoin:miter;stroke-opacity:1\"/>\n",
       "<path class=\"bond-86 atom-22 atom-87\" d=\"M 209.2,172.5 L 202.8,161.4\" style=\"fill:none;fill-rule:evenodd;stroke:#000000;stroke-width:2.0px;stroke-linecap:butt;stroke-linejoin:miter;stroke-opacity:1\"/>\n",
       "<path class=\"bond-87 atom-23 atom-88\" d=\"M 194.1,181.7 L 199.3,192.1\" style=\"fill:none;fill-rule:evenodd;stroke:#000000;stroke-width:2.0px;stroke-linecap:butt;stroke-linejoin:miter;stroke-opacity:1\"/>\n",
       "<path class=\"bond-88 atom-23 atom-89\" d=\"M 194.1,181.7 L 189.2,192.5\" style=\"fill:none;fill-rule:evenodd;stroke:#000000;stroke-width:2.0px;stroke-linecap:butt;stroke-linejoin:miter;stroke-opacity:1\"/>\n",
       "<path class=\"bond-89 atom-24 atom-90\" d=\"M 179.4,175.4 L 183.7,162.5\" style=\"fill:none;fill-rule:evenodd;stroke:#000000;stroke-width:2.0px;stroke-linecap:butt;stroke-linejoin:miter;stroke-opacity:1\"/>\n",
       "<path class=\"bond-90 atom-24 atom-91\" d=\"M 179.4,175.4 L 171.6,164.8\" style=\"fill:none;fill-rule:evenodd;stroke:#000000;stroke-width:2.0px;stroke-linecap:butt;stroke-linejoin:miter;stroke-opacity:1\"/>\n",
       "<path class=\"bond-91 atom-25 atom-92\" d=\"M 165.4,186.6 L 169.2,192.5\" style=\"fill:none;fill-rule:evenodd;stroke:#000000;stroke-width:2.0px;stroke-linecap:butt;stroke-linejoin:miter;stroke-opacity:1\"/>\n",
       "<path class=\"bond-92 atom-25 atom-93\" d=\"M 165.4,186.6 L 147.1,196.2\" style=\"fill:none;fill-rule:evenodd;stroke:#000000;stroke-width:2.0px;stroke-linecap:butt;stroke-linejoin:miter;stroke-opacity:1\"/>\n",
       "<path class=\"bond-93 atom-26 atom-94\" d=\"M 146.7,169.2 L 151.8,159.7\" style=\"fill:none;fill-rule:evenodd;stroke:#000000;stroke-width:2.0px;stroke-linecap:butt;stroke-linejoin:miter;stroke-opacity:1\"/>\n",
       "<path class=\"bond-94 atom-26 atom-95\" d=\"M 146.7,169.2 L 139.5,158.4\" style=\"fill:none;fill-rule:evenodd;stroke:#000000;stroke-width:2.0px;stroke-linecap:butt;stroke-linejoin:miter;stroke-opacity:1\"/>\n",
       "<path class=\"bond-95 atom-27 atom-96\" d=\"M 126.5,180.1 L 114.7,172.3\" style=\"fill:none;fill-rule:evenodd;stroke:#000000;stroke-width:2.0px;stroke-linecap:butt;stroke-linejoin:miter;stroke-opacity:1\"/>\n",
       "<path class=\"bond-96 atom-28 atom-97\" d=\"M 124.2,202.3 L 116.0,204.0\" style=\"fill:none;fill-rule:evenodd;stroke:#000000;stroke-width:2.0px;stroke-linecap:butt;stroke-linejoin:miter;stroke-opacity:1\"/>\n",
       "<path class=\"bond-97 atom-29 atom-98\" d=\"M 150.4,212.6 L 149.8,192.1\" style=\"fill:none;fill-rule:evenodd;stroke:#000000;stroke-width:2.0px;stroke-linecap:butt;stroke-linejoin:miter;stroke-opacity:1\"/>\n",
       "<path class=\"bond-98 atom-29 atom-99\" d=\"M 150.4,212.6 L 160.7,213.0\" style=\"fill:none;fill-rule:evenodd;stroke:#000000;stroke-width:2.0px;stroke-linecap:butt;stroke-linejoin:miter;stroke-opacity:1\"/>\n",
       "<path class=\"bond-99 atom-30 atom-100\" d=\"M 147.6,232.0 L 158.2,239.6\" style=\"fill:none;fill-rule:evenodd;stroke:#000000;stroke-width:2.0px;stroke-linecap:butt;stroke-linejoin:miter;stroke-opacity:1\"/>\n",
       "<path class=\"bond-100 atom-31 atom-101\" d=\"M 127.3,241.6 L 126.8,255.4\" style=\"fill:none;fill-rule:evenodd;stroke:#000000;stroke-width:2.0px;stroke-linecap:butt;stroke-linejoin:miter;stroke-opacity:1\"/>\n",
       "<path class=\"bond-101 atom-32 atom-102\" d=\"M 109.7,231.0 L 117.9,222.1\" style=\"fill:none;fill-rule:evenodd;stroke:#000000;stroke-width:2.0px;stroke-linecap:butt;stroke-linejoin:miter;stroke-opacity:1\"/>\n",
       "<path class=\"bond-102 atom-32 atom-103\" d=\"M 109.7,231.0 L 101.8,216.7\" style=\"fill:none;fill-rule:evenodd;stroke:#000000;stroke-width:2.0px;stroke-linecap:butt;stroke-linejoin:miter;stroke-opacity:1\"/>\n",
       "<path class=\"bond-103 atom-33 atom-104\" d=\"M 93.6,239.3 L 100.2,251.1\" style=\"fill:none;fill-rule:evenodd;stroke:#000000;stroke-width:2.0px;stroke-linecap:butt;stroke-linejoin:miter;stroke-opacity:1\"/>\n",
       "<path class=\"bond-104 atom-33 atom-105\" d=\"M 93.6,239.3 L 87.1,250.6\" style=\"fill:none;fill-rule:evenodd;stroke:#000000;stroke-width:2.0px;stroke-linecap:butt;stroke-linejoin:miter;stroke-opacity:1\"/>\n",
       "<path class=\"bond-105 atom-34 atom-106\" d=\"M 76.3,228.8 L 82.0,217.7\" style=\"fill:none;fill-rule:evenodd;stroke:#000000;stroke-width:2.0px;stroke-linecap:butt;stroke-linejoin:miter;stroke-opacity:1\"/>\n",
       "<path class=\"bond-106 atom-34 atom-107\" d=\"M 76.3,228.8 L 70.1,217.2\" style=\"fill:none;fill-rule:evenodd;stroke:#000000;stroke-width:2.0px;stroke-linecap:butt;stroke-linejoin:miter;stroke-opacity:1\"/>\n",
       "<path class=\"bond-107 atom-35 atom-108\" d=\"M 60.3,237.5 L 66.9,248.8\" style=\"fill:none;fill-rule:evenodd;stroke:#000000;stroke-width:2.0px;stroke-linecap:butt;stroke-linejoin:miter;stroke-opacity:1\"/>\n",
       "<path class=\"bond-108 atom-35 atom-109\" d=\"M 60.3,237.5 L 53.9,248.9\" style=\"fill:none;fill-rule:evenodd;stroke:#000000;stroke-width:2.0px;stroke-linecap:butt;stroke-linejoin:miter;stroke-opacity:1\"/>\n",
       "<path class=\"bond-109 atom-36 atom-110\" d=\"M 43.9,228.1 L 50.2,216.5\" style=\"fill:none;fill-rule:evenodd;stroke:#000000;stroke-width:2.0px;stroke-linecap:butt;stroke-linejoin:miter;stroke-opacity:1\"/>\n",
       "<path class=\"bond-110 atom-36 atom-111\" d=\"M 43.9,228.1 L 37.2,216.7\" style=\"fill:none;fill-rule:evenodd;stroke:#000000;stroke-width:2.0px;stroke-linecap:butt;stroke-linejoin:miter;stroke-opacity:1\"/>\n",
       "<path class=\"bond-111 atom-36 atom-112\" d=\"M 43.9,228.1 L 31.8,235.3\" style=\"fill:none;fill-rule:evenodd;stroke:#000000;stroke-width:2.0px;stroke-linecap:butt;stroke-linejoin:miter;stroke-opacity:1\"/>\n",
       "<path class=\"bond-112 atom-40 atom-113\" d=\"M 264.0,124.5 L 251.6,131.8\" style=\"fill:none;fill-rule:evenodd;stroke:#000000;stroke-width:2.0px;stroke-linecap:butt;stroke-linejoin:miter;stroke-opacity:1\"/>\n",
       "<path class=\"bond-113 atom-40 atom-114\" d=\"M 264.0,124.5 L 251.4,117.5\" style=\"fill:none;fill-rule:evenodd;stroke:#000000;stroke-width:2.0px;stroke-linecap:butt;stroke-linejoin:miter;stroke-opacity:1\"/>\n",
       "<path class=\"bond-114 atom-41 atom-115\" d=\"M 273.2,108.1 L 285.6,115.3\" style=\"fill:none;fill-rule:evenodd;stroke:#000000;stroke-width:2.0px;stroke-linecap:butt;stroke-linejoin:miter;stroke-opacity:1\"/>\n",
       "<path class=\"bond-115 atom-41 atom-116\" d=\"M 273.2,108.1 L 285.5,101.2\" style=\"fill:none;fill-rule:evenodd;stroke:#000000;stroke-width:2.0px;stroke-linecap:butt;stroke-linejoin:miter;stroke-opacity:1\"/>\n",
       "<path class=\"bond-116 atom-42 atom-117\" d=\"M 263.8,91.4 L 251.2,98.4\" style=\"fill:none;fill-rule:evenodd;stroke:#000000;stroke-width:2.0px;stroke-linecap:butt;stroke-linejoin:miter;stroke-opacity:1\"/>\n",
       "<path class=\"bond-117 atom-42 atom-118\" d=\"M 263.8,91.4 L 251.4,84.1\" style=\"fill:none;fill-rule:evenodd;stroke:#000000;stroke-width:2.0px;stroke-linecap:butt;stroke-linejoin:miter;stroke-opacity:1\"/>\n",
       "<path class=\"bond-118 atom-44 atom-119\" d=\"M 263.5,58.7 L 275.6,51.3\" style=\"fill:none;fill-rule:evenodd;stroke:#000000;stroke-width:2.0px;stroke-linecap:butt;stroke-linejoin:miter;stroke-opacity:1\"/>\n",
       "<path class=\"bond-119 atom-44 atom-120\" d=\"M 263.5,58.7 L 263.3,44.6\" style=\"fill:none;fill-rule:evenodd;stroke:#000000;stroke-width:2.0px;stroke-linecap:butt;stroke-linejoin:miter;stroke-opacity:1\"/>\n",
       "<path class=\"bond-120 atom-44 atom-121\" d=\"M 263.5,58.7 L 248.6,58.9\" style=\"fill:none;fill-rule:evenodd;stroke:#000000;stroke-width:2.0px;stroke-linecap:butt;stroke-linejoin:miter;stroke-opacity:1\"/>\n",
       "<path class=\"bond-121 atom-45 atom-122\" d=\"M 292.3,74.9 L 292.4,60.9\" style=\"fill:none;fill-rule:evenodd;stroke:#000000;stroke-width:2.0px;stroke-linecap:butt;stroke-linejoin:miter;stroke-opacity:1\"/>\n",
       "<path class=\"bond-122 atom-45 atom-123\" d=\"M 292.3,74.9 L 304.8,67.7\" style=\"fill:none;fill-rule:evenodd;stroke:#000000;stroke-width:2.0px;stroke-linecap:butt;stroke-linejoin:miter;stroke-opacity:1\"/>\n",
       "<path class=\"bond-123 atom-45 atom-124\" d=\"M 292.3,74.9 L 298.9,86.1\" style=\"fill:none;fill-rule:evenodd;stroke:#000000;stroke-width:2.0px;stroke-linecap:butt;stroke-linejoin:miter;stroke-opacity:1\"/>\n",
       "<path d=\"M 273.5,141.0 L 273.7,140.7 L 273.2,139.9\" style=\"fill:none;stroke:#000000;stroke-width:2.0px;stroke-linecap:butt;stroke-linejoin:miter;stroke-opacity:1;\"/>\n",
       "<path class=\"atom-37\" d=\"M 260.8 156.9 Q 260.8 155.0, 261.7 153.9 Q 262.7 152.8, 264.4 152.8 Q 266.2 152.8, 267.1 153.9 Q 268.1 155.0, 268.1 156.9 Q 268.1 158.8, 267.1 159.9 Q 266.2 161.0, 264.4 161.0 Q 262.7 161.0, 261.7 159.9 Q 260.8 158.8, 260.8 156.9 M 264.4 160.1 Q 265.6 160.1, 266.3 159.3 Q 266.9 158.5, 266.9 156.9 Q 266.9 155.3, 266.3 154.5 Q 265.6 153.7, 264.4 153.7 Q 263.2 153.7, 262.5 154.5 Q 261.9 155.3, 261.9 156.9 Q 261.9 158.5, 262.5 159.3 Q 263.2 160.1, 264.4 160.1 \" fill=\"#FF0000\"/>\n",
       "<path class=\"atom-39\" d=\"M 288.7 140.5 Q 288.7 138.6, 289.6 137.5 Q 290.6 136.5, 292.3 136.5 Q 294.1 136.5, 295.0 137.5 Q 296.0 138.6, 296.0 140.5 Q 296.0 142.5, 295.0 143.6 Q 294.1 144.6, 292.3 144.6 Q 290.6 144.6, 289.6 143.6 Q 288.7 142.5, 288.7 140.5 M 292.3 143.7 Q 293.6 143.7, 294.2 142.9 Q 294.9 142.1, 294.9 140.5 Q 294.9 139.0, 294.2 138.2 Q 293.6 137.4, 292.3 137.4 Q 291.1 137.4, 290.5 138.2 Q 289.8 139.0, 289.8 140.5 Q 289.8 142.1, 290.5 142.9 Q 291.1 143.7, 292.3 143.7 \" fill=\"#FF0000\"/>\n",
       "<path class=\"atom-43\" d=\"M 271.5 71.0 L 274.1 75.2 Q 274.4 75.6, 274.8 76.4 Q 275.2 77.1, 275.2 77.2 L 275.2 71.0 L 276.3 71.0 L 276.3 78.9 L 275.2 78.9 L 272.4 74.3 Q 272.1 73.8, 271.7 73.2 Q 271.4 72.6, 271.3 72.4 L 271.3 78.9 L 270.2 78.9 L 270.2 71.0 L 271.5 71.0 \" fill=\"#0000FF\"/>\n",
       "<path class=\"atom-46\" d=\"M 388.3 70.1 L 389.4 70.1 L 389.4 73.5 L 393.5 73.5 L 393.5 70.1 L 394.5 70.1 L 394.5 78.1 L 393.5 78.1 L 393.5 74.4 L 389.4 74.4 L 389.4 78.1 L 388.3 78.1 L 388.3 70.1 \" fill=\"#000000\"/>\n",
       "<path class=\"atom-47\" d=\"M 379.4 54.2 L 380.4 54.2 L 380.4 57.6 L 384.5 57.6 L 384.5 54.2 L 385.6 54.2 L 385.6 62.2 L 384.5 62.2 L 384.5 58.5 L 380.4 58.5 L 380.4 62.2 L 379.4 62.2 L 379.4 54.2 \" fill=\"#000000\"/>\n",
       "<path class=\"atom-48\" d=\"M 398.2 36.0 L 399.3 36.0 L 399.3 39.4 L 403.4 39.4 L 403.4 36.0 L 404.4 36.0 L 404.4 43.9 L 403.4 43.9 L 403.4 40.3 L 399.3 40.3 L 399.3 43.9 L 398.2 43.9 L 398.2 36.0 \" fill=\"#000000\"/>\n",
       "<path class=\"atom-49\" d=\"M 432.7 63.9 L 433.7 63.9 L 433.7 67.3 L 437.8 67.3 L 437.8 63.9 L 438.9 63.9 L 438.9 71.9 L 437.8 71.9 L 437.8 68.2 L 433.7 68.2 L 433.7 71.9 L 432.7 71.9 L 432.7 63.9 \" fill=\"#000000\"/>\n",
       "<path class=\"atom-50\" d=\"M 423.6 48.1 L 424.7 48.1 L 424.7 51.5 L 428.8 51.5 L 428.8 48.1 L 429.8 48.1 L 429.8 56.0 L 428.8 56.0 L 428.8 52.4 L 424.7 52.4 L 424.7 56.0 L 423.6 56.0 L 423.6 48.1 \" fill=\"#000000\"/>\n",
       "<path class=\"atom-51\" d=\"M 405.4 97.4 L 406.5 97.4 L 406.5 100.8 L 410.5 100.8 L 410.5 97.4 L 411.6 97.4 L 411.6 105.4 L 410.5 105.4 L 410.5 101.7 L 406.5 101.7 L 406.5 105.4 L 405.4 105.4 L 405.4 97.4 \" fill=\"#000000\"/>\n",
       "<path class=\"atom-52\" d=\"M 396.4 82.8 L 397.4 82.8 L 397.4 86.1 L 401.5 86.1 L 401.5 82.8 L 402.6 82.8 L 402.6 90.7 L 401.5 90.7 L 401.5 87.0 L 397.4 87.0 L 397.4 90.7 L 396.4 90.7 L 396.4 82.8 \" fill=\"#000000\"/>\n",
       "<path class=\"atom-53\" d=\"M 451.3 91.6 L 452.4 91.6 L 452.4 95.0 L 456.4 95.0 L 456.4 91.6 L 457.5 91.6 L 457.5 99.6 L 456.4 99.6 L 456.4 95.9 L 452.4 95.9 L 452.4 99.6 L 451.3 99.6 L 451.3 91.6 \" fill=\"#000000\"/>\n",
       "<path class=\"atom-54\" d=\"M 441.6 76.0 L 442.7 76.0 L 442.7 79.3 L 446.7 79.3 L 446.7 76.0 L 447.8 76.0 L 447.8 83.9 L 446.7 83.9 L 446.7 80.2 L 442.7 80.2 L 442.7 83.9 L 441.6 83.9 L 441.6 76.0 \" fill=\"#000000\"/>\n",
       "<path class=\"atom-55\" d=\"M 427.2 127.2 L 428.3 127.2 L 428.3 130.6 L 432.3 130.6 L 432.3 127.2 L 433.4 127.2 L 433.4 135.1 L 432.3 135.1 L 432.3 131.5 L 428.3 131.5 L 428.3 135.1 L 427.2 135.1 L 427.2 127.2 \" fill=\"#000000\"/>\n",
       "<path class=\"atom-56\" d=\"M 411.8 110.9 L 412.9 110.9 L 412.9 114.3 L 416.9 114.3 L 416.9 110.9 L 418.0 110.9 L 418.0 118.9 L 416.9 118.9 L 416.9 115.2 L 412.9 115.2 L 412.9 118.9 L 411.8 118.9 L 411.8 110.9 \" fill=\"#000000\"/>\n",
       "<path class=\"atom-57\" d=\"M 467.1 110.7 L 468.2 110.7 L 468.2 114.1 L 472.3 114.1 L 472.3 110.7 L 473.3 110.7 L 473.3 118.6 L 472.3 118.6 L 472.3 115.0 L 468.2 115.0 L 468.2 118.6 L 467.1 118.6 L 467.1 110.7 \" fill=\"#000000\"/>\n",
       "<path class=\"atom-58\" d=\"M 468.8 150.6 L 469.9 150.6 L 469.9 154.0 L 473.9 154.0 L 473.9 150.6 L 475.0 150.6 L 475.0 158.6 L 473.9 158.6 L 473.9 154.9 L 469.9 154.9 L 469.9 158.6 L 468.8 158.6 L 468.8 150.6 \" fill=\"#000000\"/>\n",
       "<path class=\"atom-59\" d=\"M 423.6 160.7 L 424.6 160.7 L 424.6 164.1 L 428.7 164.1 L 428.7 160.7 L 429.8 160.7 L 429.8 168.6 L 428.7 168.6 L 428.7 165.0 L 424.6 165.0 L 424.6 168.6 L 423.6 168.6 L 423.6 160.7 \" fill=\"#000000\"/>\n",
       "<path class=\"atom-60\" d=\"M 441.6 171.1 L 442.7 171.1 L 442.7 174.5 L 446.7 174.5 L 446.7 171.1 L 447.8 171.1 L 447.8 179.0 L 446.7 179.0 L 446.7 175.4 L 442.7 175.4 L 442.7 179.0 L 441.6 179.0 L 441.6 171.1 \" fill=\"#000000\"/>\n",
       "<path class=\"atom-61\" d=\"M 411.8 125.9 L 412.9 125.9 L 412.9 129.3 L 417.0 129.3 L 417.0 125.9 L 418.0 125.9 L 418.0 133.8 L 417.0 133.8 L 417.0 130.2 L 412.9 130.2 L 412.9 133.8 L 411.8 133.8 L 411.8 125.9 \" fill=\"#000000\"/>\n",
       "<path class=\"atom-62\" d=\"M 384.7 143.4 L 385.8 143.4 L 385.8 146.8 L 389.8 146.8 L 389.8 143.4 L 390.9 143.4 L 390.9 151.3 L 389.8 151.3 L 389.8 147.7 L 385.8 147.7 L 385.8 151.3 L 384.7 151.3 L 384.7 143.4 \" fill=\"#000000\"/>\n",
       "<path class=\"atom-63\" d=\"M 413.2 187.5 L 414.2 187.5 L 414.2 190.8 L 418.3 190.8 L 418.3 187.5 L 419.4 187.5 L 419.4 195.4 L 418.3 195.4 L 418.3 191.7 L 414.2 191.7 L 414.2 195.4 L 413.2 195.4 L 413.2 187.5 \" fill=\"#000000\"/>\n",
       "<path class=\"atom-64\" d=\"M 413.2 166.7 L 414.3 166.7 L 414.3 170.1 L 418.3 170.1 L 418.3 166.7 L 419.4 166.7 L 419.4 174.6 L 418.3 174.6 L 418.3 170.9 L 414.3 170.9 L 414.3 174.6 L 413.2 174.6 L 413.2 166.7 \" fill=\"#000000\"/>\n",
       "<path class=\"atom-65\" d=\"M 374.7 197.2 L 375.8 197.2 L 375.8 200.5 L 379.8 200.5 L 379.8 197.2 L 380.9 197.2 L 380.9 205.1 L 379.8 205.1 L 379.8 201.4 L 375.8 201.4 L 375.8 205.1 L 374.7 205.1 L 374.7 197.2 \" fill=\"#000000\"/>\n",
       "<path class=\"atom-66\" d=\"M 392.9 198.4 L 394.0 198.4 L 394.0 201.7 L 398.0 201.7 L 398.0 198.4 L 399.1 198.4 L 399.1 206.3 L 398.0 206.3 L 398.0 202.6 L 394.0 202.6 L 394.0 206.3 L 392.9 206.3 L 392.9 198.4 \" fill=\"#000000\"/>\n",
       "<path class=\"atom-67\" d=\"M 358.7 153.7 L 359.7 153.7 L 359.7 157.1 L 363.8 157.1 L 363.8 153.7 L 364.9 153.7 L 364.9 161.6 L 363.8 161.6 L 363.8 158.0 L 359.7 158.0 L 359.7 161.6 L 358.7 161.6 L 358.7 153.7 \" fill=\"#000000\"/>\n",
       "<path class=\"atom-68\" d=\"M 375.6 155.3 L 376.7 155.3 L 376.7 158.6 L 380.8 158.6 L 380.8 155.3 L 381.8 155.3 L 381.8 163.2 L 380.8 163.2 L 380.8 159.5 L 376.7 159.5 L 376.7 163.2 L 375.6 163.2 L 375.6 155.3 \" fill=\"#000000\"/>\n",
       "<path class=\"atom-69\" d=\"M 342.3 194.0 L 343.4 194.0 L 343.4 197.4 L 347.5 197.4 L 347.5 194.0 L 348.5 194.0 L 348.5 202.0 L 347.5 202.0 L 347.5 198.3 L 343.4 198.3 L 343.4 202.0 L 342.3 202.0 L 342.3 194.0 \" fill=\"#000000\"/>\n",
       "<path class=\"atom-70\" d=\"M 360.0 194.4 L 361.0 194.4 L 361.0 197.8 L 365.1 197.8 L 365.1 194.4 L 366.2 194.4 L 366.2 202.4 L 365.1 202.4 L 365.1 198.7 L 361.0 198.7 L 361.0 202.4 L 360.0 202.4 L 360.0 194.4 \" fill=\"#000000\"/>\n",
       "<path class=\"atom-71\" d=\"M 326.1 152.6 L 327.2 152.6 L 327.2 156.0 L 331.3 156.0 L 331.3 152.6 L 332.4 152.6 L 332.4 160.5 L 331.3 160.5 L 331.3 156.9 L 327.2 156.9 L 327.2 160.5 L 326.1 160.5 L 326.1 152.6 \" fill=\"#000000\"/>\n",
       "<path class=\"atom-72\" d=\"M 343.8 152.7 L 344.9 152.7 L 344.9 156.0 L 348.9 156.0 L 348.9 152.7 L 350.0 152.7 L 350.0 160.6 L 348.9 160.6 L 348.9 156.9 L 344.9 156.9 L 344.9 160.6 L 343.8 160.6 L 343.8 152.7 \" fill=\"#000000\"/>\n",
       "<path class=\"atom-73\" d=\"M 310.0 193.7 L 311.0 193.7 L 311.0 197.0 L 315.1 197.0 L 315.1 193.7 L 316.2 193.7 L 316.2 201.6 L 315.1 201.6 L 315.1 197.9 L 311.0 197.9 L 311.0 201.6 L 310.0 201.6 L 310.0 193.7 \" fill=\"#000000\"/>\n",
       "<path class=\"atom-74\" d=\"M 327.4 193.7 L 328.5 193.7 L 328.5 197.1 L 332.5 197.1 L 332.5 193.7 L 333.6 193.7 L 333.6 201.6 L 332.5 201.6 L 332.5 198.0 L 328.5 198.0 L 328.5 201.6 L 327.4 201.6 L 327.4 193.7 \" fill=\"#000000\"/>\n",
       "<path class=\"atom-75\" d=\"M 293.7 152.6 L 294.8 152.6 L 294.8 156.0 L 298.9 156.0 L 298.9 152.6 L 299.9 152.6 L 299.9 160.5 L 298.9 160.5 L 298.9 156.9 L 294.8 156.9 L 294.8 160.5 L 293.7 160.5 L 293.7 152.6 \" fill=\"#000000\"/>\n",
       "<path class=\"atom-76\" d=\"M 311.2 152.6 L 312.3 152.6 L 312.3 155.9 L 316.3 155.9 L 316.3 152.6 L 317.4 152.6 L 317.4 160.5 L 316.3 160.5 L 316.3 156.8 L 312.3 156.8 L 312.3 160.5 L 311.2 160.5 L 311.2 152.6 \" fill=\"#000000\"/>\n",
       "<path class=\"atom-77\" d=\"M 277.6 193.7 L 278.7 193.7 L 278.7 197.0 L 282.8 197.0 L 282.8 193.7 L 283.8 193.7 L 283.8 201.6 L 282.8 201.6 L 282.8 197.9 L 278.7 197.9 L 278.7 201.6 L 277.6 201.6 L 277.6 193.7 \" fill=\"#000000\"/>\n",
       "<path class=\"atom-78\" d=\"M 295.0 193.7 L 296.0 193.7 L 296.0 197.0 L 300.1 197.0 L 300.1 193.7 L 301.2 193.7 L 301.2 201.6 L 300.1 201.6 L 300.1 197.9 L 296.0 197.9 L 296.0 201.6 L 295.0 201.6 L 295.0 193.7 \" fill=\"#000000\"/>\n",
       "<path class=\"atom-79\" d=\"M 278.8 152.6 L 279.8 152.6 L 279.8 156.0 L 283.9 156.0 L 283.9 152.6 L 285.0 152.6 L 285.0 160.6 L 283.9 160.6 L 283.9 156.9 L 279.8 156.9 L 279.8 160.6 L 278.8 160.6 L 278.8 152.6 \" fill=\"#000000\"/>\n",
       "<path class=\"atom-80\" d=\"M 262.7 193.6 L 263.8 193.6 L 263.8 197.0 L 267.9 197.0 L 267.9 193.6 L 268.9 193.6 L 268.9 201.5 L 267.9 201.5 L 267.9 197.9 L 263.8 197.9 L 263.8 201.5 L 262.7 201.5 L 262.7 193.6 \" fill=\"#000000\"/>\n",
       "<path class=\"atom-81\" d=\"M 245.5 193.6 L 246.5 193.6 L 246.5 196.9 L 250.6 196.9 L 250.6 193.6 L 251.7 193.6 L 251.7 201.5 L 250.6 201.5 L 250.6 197.8 L 246.5 197.8 L 246.5 201.5 L 245.5 201.5 L 245.5 193.6 \" fill=\"#000000\"/>\n",
       "<path class=\"atom-82\" d=\"M 246.4 152.3 L 247.4 152.3 L 247.4 155.6 L 251.5 155.6 L 251.5 152.3 L 252.6 152.3 L 252.6 160.2 L 251.5 160.2 L 251.5 156.5 L 247.4 156.5 L 247.4 160.2 L 246.4 160.2 L 246.4 152.3 \" fill=\"#000000\"/>\n",
       "<path class=\"atom-83\" d=\"M 229.2 152.7 L 230.2 152.7 L 230.2 156.1 L 234.3 156.1 L 234.3 152.7 L 235.4 152.7 L 235.4 160.7 L 234.3 160.7 L 234.3 157.0 L 230.2 157.0 L 230.2 160.7 L 229.2 160.7 L 229.2 152.7 \" fill=\"#000000\"/>\n",
       "<path class=\"atom-84\" d=\"M 230.5 193.5 L 231.6 193.5 L 231.6 196.9 L 235.7 196.9 L 235.7 193.5 L 236.7 193.5 L 236.7 201.4 L 235.7 201.4 L 235.7 197.8 L 231.6 197.8 L 231.6 201.4 L 230.5 201.4 L 230.5 193.5 \" fill=\"#000000\"/>\n",
       "<path class=\"atom-85\" d=\"M 213.4 193.5 L 214.5 193.5 L 214.5 196.9 L 218.5 196.9 L 218.5 193.5 L 219.6 193.5 L 219.6 201.5 L 218.5 201.5 L 218.5 197.8 L 214.5 197.8 L 214.5 201.5 L 213.4 201.5 L 213.4 193.5 \" fill=\"#000000\"/>\n",
       "<path class=\"atom-86\" d=\"M 214.2 152.6 L 215.3 152.6 L 215.3 156.0 L 219.4 156.0 L 219.4 152.6 L 220.4 152.6 L 220.4 160.6 L 219.4 160.6 L 219.4 156.9 L 215.3 156.9 L 215.3 160.6 L 214.2 160.6 L 214.2 152.6 \" fill=\"#000000\"/>\n",
       "<path class=\"atom-87\" d=\"M 197.0 152.8 L 198.1 152.8 L 198.1 156.2 L 202.2 156.2 L 202.2 152.8 L 203.3 152.8 L 203.3 160.8 L 202.2 160.8 L 202.2 157.1 L 198.1 157.1 L 198.1 160.8 L 197.0 160.8 L 197.0 152.8 \" fill=\"#000000\"/>\n",
       "<path class=\"atom-88\" d=\"M 198.5 192.7 L 199.6 192.7 L 199.6 196.1 L 203.6 196.1 L 203.6 192.7 L 204.7 192.7 L 204.7 200.7 L 203.6 200.7 L 203.6 197.0 L 199.6 197.0 L 199.6 200.7 L 198.5 200.7 L 198.5 192.7 \" fill=\"#000000\"/>\n",
       "<path class=\"atom-89\" d=\"M 184.0 193.1 L 185.1 193.1 L 185.1 196.5 L 189.2 196.5 L 189.2 193.1 L 190.2 193.1 L 190.2 201.1 L 189.2 201.1 L 189.2 197.4 L 185.1 197.4 L 185.1 201.1 L 184.0 201.1 L 184.0 193.1 \" fill=\"#000000\"/>\n",
       "<path class=\"atom-90\" d=\"M 182.2 153.9 L 183.2 153.9 L 183.2 157.3 L 187.3 157.3 L 187.3 153.9 L 188.4 153.9 L 188.4 161.8 L 187.3 161.8 L 187.3 158.2 L 183.2 158.2 L 183.2 161.8 L 182.2 161.8 L 182.2 153.9 \" fill=\"#000000\"/>\n",
       "<path class=\"atom-91\" d=\"M 165.2 156.2 L 166.2 156.2 L 166.2 159.6 L 170.3 159.6 L 170.3 156.2 L 171.4 156.2 L 171.4 164.2 L 170.3 164.2 L 170.3 160.5 L 166.2 160.5 L 166.2 164.2 L 165.2 164.2 L 165.2 156.2 \" fill=\"#000000\"/>\n",
       "<path class=\"atom-92\" d=\"M 169.0 193.1 L 170.1 193.1 L 170.1 196.5 L 174.2 196.5 L 174.2 193.1 L 175.3 193.1 L 175.3 201.0 L 174.2 201.0 L 174.2 197.4 L 170.1 197.4 L 170.1 201.0 L 169.0 201.0 L 169.0 193.1 \" fill=\"#000000\"/>\n",
       "<path class=\"atom-93\" d=\"M 140.3 194.2 L 141.4 194.2 L 141.4 197.5 L 145.4 197.5 L 145.4 194.2 L 146.5 194.2 L 146.5 202.1 L 145.4 202.1 L 145.4 198.4 L 141.4 198.4 L 141.4 202.1 L 140.3 202.1 L 140.3 194.2 \" fill=\"#000000\"/>\n",
       "<path class=\"atom-94\" d=\"M 151.1 151.2 L 152.2 151.2 L 152.2 154.5 L 156.2 154.5 L 156.2 151.2 L 157.3 151.2 L 157.3 159.1 L 156.2 159.1 L 156.2 155.4 L 152.2 155.4 L 152.2 159.1 L 151.1 159.1 L 151.1 151.2 \" fill=\"#000000\"/>\n",
       "<path class=\"atom-95\" d=\"M 133.4 149.8 L 134.5 149.8 L 134.5 153.2 L 138.5 153.2 L 138.5 149.8 L 139.6 149.8 L 139.6 157.8 L 138.5 157.8 L 138.5 154.1 L 134.5 154.1 L 134.5 157.8 L 133.4 157.8 L 133.4 149.8 \" fill=\"#000000\"/>\n",
       "<path class=\"atom-96\" d=\"M 107.8 165.9 L 108.9 165.9 L 108.9 169.3 L 113.0 169.3 L 113.0 165.9 L 114.0 165.9 L 114.0 173.9 L 113.0 173.9 L 113.0 170.2 L 108.9 170.2 L 108.9 173.9 L 107.8 173.9 L 107.8 165.9 \" fill=\"#000000\"/>\n",
       "<path class=\"atom-97\" d=\"M 109.1 200.9 L 110.2 200.9 L 110.2 204.2 L 114.3 204.2 L 114.3 200.9 L 115.3 200.9 L 115.3 208.8 L 114.3 208.8 L 114.3 205.1 L 110.2 205.1 L 110.2 208.8 L 109.1 208.8 L 109.1 200.9 \" fill=\"#000000\"/>\n",
       "<path class=\"atom-98\" d=\"M 146.6 183.6 L 147.6 183.6 L 147.6 187.0 L 151.7 187.0 L 151.7 183.6 L 152.8 183.6 L 152.8 191.5 L 151.7 191.5 L 151.7 187.9 L 147.6 187.9 L 147.6 191.5 L 146.6 191.5 L 146.6 183.6 \" fill=\"#000000\"/>\n",
       "<path class=\"atom-99\" d=\"M 161.3 209.1 L 162.4 209.1 L 162.4 212.5 L 166.4 212.5 L 166.4 209.1 L 167.5 209.1 L 167.5 217.1 L 166.4 217.1 L 166.4 213.4 L 162.4 213.4 L 162.4 217.1 L 161.3 217.1 L 161.3 209.1 \" fill=\"#000000\"/>\n",
       "<path class=\"atom-100\" d=\"M 158.8 238.4 L 159.8 238.4 L 159.8 241.7 L 163.9 241.7 L 163.9 238.4 L 165.0 238.4 L 165.0 246.3 L 163.9 246.3 L 163.9 242.6 L 159.8 242.6 L 159.8 246.3 L 158.8 246.3 L 158.8 238.4 \" fill=\"#000000\"/>\n",
       "<path class=\"atom-101\" d=\"M 123.5 256.1 L 124.6 256.1 L 124.6 259.4 L 128.6 259.4 L 128.6 256.1 L 129.7 256.1 L 129.7 264.0 L 128.6 264.0 L 128.6 260.3 L 124.6 260.3 L 124.6 264.0 L 123.5 264.0 L 123.5 256.1 \" fill=\"#000000\"/>\n",
       "<path class=\"atom-102\" d=\"M 118.5 214.1 L 119.6 214.1 L 119.6 217.5 L 123.6 217.5 L 123.6 214.1 L 124.7 214.1 L 124.7 222.1 L 123.6 222.1 L 123.6 218.4 L 119.6 218.4 L 119.6 222.1 L 118.5 222.1 L 118.5 214.1 \" fill=\"#000000\"/>\n",
       "<path class=\"atom-103\" d=\"M 96.1 208.2 L 97.2 208.2 L 97.2 211.5 L 101.3 211.5 L 101.3 208.2 L 102.4 208.2 L 102.4 216.1 L 101.3 216.1 L 101.3 212.4 L 97.2 212.4 L 97.2 216.1 L 96.1 216.1 L 96.1 208.2 \" fill=\"#000000\"/>\n",
       "<path class=\"atom-104\" d=\"M 99.6 251.7 L 100.7 251.7 L 100.7 255.1 L 104.8 255.1 L 104.8 251.7 L 105.8 251.7 L 105.8 259.7 L 104.8 259.7 L 104.8 256.0 L 100.7 256.0 L 100.7 259.7 L 99.6 259.7 L 99.6 251.7 \" fill=\"#000000\"/>\n",
       "<path class=\"atom-105\" d=\"M 81.3 251.2 L 82.4 251.2 L 82.4 254.6 L 86.4 254.6 L 86.4 251.2 L 87.5 251.2 L 87.5 259.1 L 86.4 259.1 L 86.4 255.5 L 82.4 255.5 L 82.4 259.1 L 81.3 259.1 L 81.3 251.2 \" fill=\"#000000\"/>\n",
       "<path class=\"atom-106\" d=\"M 81.2 209.2 L 82.3 209.2 L 82.3 212.5 L 86.4 212.5 L 86.4 209.2 L 87.5 209.2 L 87.5 217.1 L 86.4 217.1 L 86.4 213.4 L 82.3 213.4 L 82.3 217.1 L 81.2 217.1 L 81.2 209.2 \" fill=\"#000000\"/>\n",
       "<path class=\"atom-107\" d=\"M 64.5 208.7 L 65.6 208.7 L 65.6 212.1 L 69.6 212.1 L 69.6 208.7 L 70.7 208.7 L 70.7 216.6 L 69.6 216.6 L 69.6 213.0 L 65.6 213.0 L 65.6 216.6 L 64.5 216.6 L 64.5 208.7 \" fill=\"#000000\"/>\n",
       "<path class=\"atom-108\" d=\"M 66.4 249.4 L 67.5 249.4 L 67.5 252.8 L 71.5 252.8 L 71.5 249.4 L 72.6 249.4 L 72.6 257.3 L 71.5 257.3 L 71.5 253.7 L 67.5 253.7 L 67.5 257.3 L 66.4 257.3 L 66.4 249.4 \" fill=\"#000000\"/>\n",
       "<path class=\"atom-109\" d=\"M 48.2 249.5 L 49.2 249.5 L 49.2 252.9 L 53.3 252.9 L 53.3 249.5 L 54.4 249.5 L 54.4 257.5 L 53.3 257.5 L 53.3 253.8 L 49.2 253.8 L 49.2 257.5 L 48.2 257.5 L 48.2 249.5 \" fill=\"#000000\"/>\n",
       "<path class=\"atom-110\" d=\"M 49.5 208.0 L 50.6 208.0 L 50.6 211.3 L 54.7 211.3 L 54.7 208.0 L 55.8 208.0 L 55.8 215.9 L 54.7 215.9 L 54.7 212.2 L 50.6 212.2 L 50.6 215.9 L 49.5 215.9 L 49.5 208.0 \" fill=\"#000000\"/>\n",
       "<path class=\"atom-111\" d=\"M 31.3 208.1 L 32.4 208.1 L 32.4 211.5 L 36.5 211.5 L 36.5 208.1 L 37.6 208.1 L 37.6 216.1 L 36.5 216.1 L 36.5 212.4 L 32.4 212.4 L 32.4 216.1 L 31.3 216.1 L 31.3 208.1 \" fill=\"#000000\"/>\n",
       "<path class=\"atom-112\" d=\"M 25.0 233.6 L 26.1 233.6 L 26.1 237.0 L 30.1 237.0 L 30.1 233.6 L 31.2 233.6 L 31.2 241.5 L 30.1 241.5 L 30.1 237.9 L 26.1 237.9 L 26.1 241.5 L 25.0 241.5 L 25.0 233.6 \" fill=\"#000000\"/>\n",
       "<path class=\"atom-113\" d=\"M 244.8 130.1 L 245.9 130.1 L 245.9 133.4 L 249.9 133.4 L 249.9 130.1 L 251.0 130.1 L 251.0 138.0 L 249.9 138.0 L 249.9 134.3 L 245.9 134.3 L 245.9 138.0 L 244.8 138.0 L 244.8 130.1 \" fill=\"#000000\"/>\n",
       "<path class=\"atom-114\" d=\"M 244.6 111.4 L 245.7 111.4 L 245.7 114.8 L 249.7 114.8 L 249.7 111.4 L 250.8 111.4 L 250.8 119.4 L 249.7 119.4 L 249.7 115.7 L 245.7 115.7 L 245.7 119.4 L 244.6 119.4 L 244.6 111.4 \" fill=\"#000000\"/>\n",
       "<path class=\"atom-115\" d=\"M 286.2 113.5 L 287.3 113.5 L 287.3 116.8 L 291.4 116.8 L 291.4 113.5 L 292.5 113.5 L 292.5 121.4 L 291.4 121.4 L 291.4 117.7 L 287.3 117.7 L 287.3 121.4 L 286.2 121.4 L 286.2 113.5 \" fill=\"#000000\"/>\n",
       "<path class=\"atom-116\" d=\"M 286.1 95.1 L 287.2 95.1 L 287.2 98.5 L 291.2 98.5 L 291.2 95.1 L 292.3 95.1 L 292.3 103.1 L 291.2 103.1 L 291.2 99.4 L 287.2 99.4 L 287.2 103.1 L 286.1 103.1 L 286.1 95.1 \" fill=\"#000000\"/>\n",
       "<path class=\"atom-117\" d=\"M 244.4 96.5 L 245.5 96.5 L 245.5 99.8 L 249.5 99.8 L 249.5 96.5 L 250.6 96.5 L 250.6 104.4 L 249.5 104.4 L 249.5 100.7 L 245.5 100.7 L 245.5 104.4 L 244.4 104.4 L 244.4 96.5 \" fill=\"#000000\"/>\n",
       "<path class=\"atom-118\" d=\"M 244.5 77.9 L 245.6 77.9 L 245.6 81.3 L 249.7 81.3 L 249.7 77.9 L 250.8 77.9 L 250.8 85.9 L 249.7 85.9 L 249.7 82.2 L 245.6 82.2 L 245.6 85.9 L 244.5 85.9 L 244.5 77.9 \" fill=\"#000000\"/>\n",
       "<path class=\"atom-119\" d=\"M 276.2 45.1 L 277.3 45.1 L 277.3 48.5 L 281.4 48.5 L 281.4 45.1 L 282.4 45.1 L 282.4 53.0 L 281.4 53.0 L 281.4 49.3 L 277.3 49.3 L 277.3 53.0 L 276.2 53.0 L 276.2 45.1 \" fill=\"#000000\"/>\n",
       "<path class=\"atom-120\" d=\"M 260.1 36.0 L 261.2 36.0 L 261.2 39.4 L 265.2 39.4 L 265.2 36.0 L 266.3 36.0 L 266.3 44.0 L 265.2 44.0 L 265.2 40.3 L 261.2 40.3 L 261.2 44.0 L 260.1 44.0 L 260.1 36.0 \" fill=\"#000000\"/>\n",
       "<path class=\"atom-121\" d=\"M 241.7 55.0 L 242.8 55.0 L 242.8 58.4 L 246.9 58.4 L 246.9 55.0 L 247.9 55.0 L 247.9 63.0 L 246.9 63.0 L 246.9 59.3 L 242.8 59.3 L 242.8 63.0 L 241.7 63.0 L 241.7 55.0 \" fill=\"#000000\"/>\n",
       "<path class=\"atom-122\" d=\"M 289.3 52.4 L 290.4 52.4 L 290.4 55.8 L 294.5 55.8 L 294.5 52.4 L 295.5 52.4 L 295.5 60.3 L 294.5 60.3 L 294.5 56.7 L 290.4 56.7 L 290.4 60.3 L 289.3 60.3 L 289.3 52.4 \" fill=\"#000000\"/>\n",
       "<path class=\"atom-123\" d=\"M 305.4 61.6 L 306.4 61.6 L 306.4 64.9 L 310.5 64.9 L 310.5 61.6 L 311.6 61.6 L 311.6 69.5 L 310.5 69.5 L 310.5 65.8 L 306.4 65.8 L 306.4 69.5 L 305.4 69.5 L 305.4 61.6 \" fill=\"#000000\"/>\n",
       "<path class=\"atom-124\" d=\"M 298.5 86.8 L 299.6 86.8 L 299.6 90.1 L 303.7 90.1 L 303.7 86.8 L 304.7 86.8 L 304.7 94.7 L 303.7 94.7 L 303.7 91.0 L 299.6 91.0 L 299.6 94.7 L 298.5 94.7 L 298.5 86.8 \" fill=\"#000000\"/>\n",
       "</svg>"
      ],
      "text/plain": [
       "<IPython.core.display.SVG object>"
      ]
     },
     "execution_count": 37,
     "metadata": {},
     "output_type": "execute_result"
    }
   ],
   "source": [
    "# Specify lipid you would like to parameterize \"headgroup+tailgroup\" or \"sterol\" (ex. 'POPC' or 'cholesterol') from the library of lipids\n",
    "Lipid_name = 'cholesterol'\n",
    "lipid_smiles, HG_pull_atom = BuildLipid.makeLipidSmiles(Lipid_name, df)\n",
    "\n",
    "\n",
    "# if you want a lipid that is not yet supplied by the library, uncomment the 3 lines below and replace smiles string with your desired lipid,\n",
    "# the pull atom with an atom in the headgroup, and the Lipid name with the common name or the lipid\n",
    "\n",
    "lipid_smiles = 'CCCCC\\C=C/C\\C=C/CCCCCCCCC(CCCCCCCC\\C=C/C\\C=C/CCCCC)OC(=O)CCCN(C)C'\n",
    "HG_pull_atom = 'N1x' #note that atom naming is openff format: atom type + atom number + x\n",
    "Lipid_name = 'MC3'\n",
    "\n",
    "\n",
    "lipid = Molecule.from_smiles(lipid_smiles,allow_undefined_stereo=True)\n",
    "lipid.generate_conformers()\n",
    "lipid.visualize()\n",
    "\n",
    "\n",
    "#note that when making PEG lipids, (\"CCCCCCCCCCCCCC(O[C@@H](COC(NCCC{Q}OC)=O)COC(CCCCCCCCCCCCC)=O)=O\",True, replacements = {'{Q}':'OCC'*45})\n"
   ]
  },
  {
   "cell_type": "code",
   "execution_count": 31,
   "metadata": {},
   "outputs": [
    {
     "data": {
      "text/plain": [
       "'C[C@H](CCCC(C)C)[C@H]1CC[C@@H]2[C@@]1(CC[C@H]3[C@H]2CC=C4[C@@]3(CC[C@@H](C4)O)C)C'"
      ]
     },
     "execution_count": 31,
     "metadata": {},
     "output_type": "execute_result"
    }
   ],
   "source": [
    "lipid_smiles"
   ]
  },
  {
   "cell_type": "code",
   "execution_count": 38,
   "metadata": {},
   "outputs": [
    {
     "name": "stderr",
     "output_type": "stream",
     "text": [
      "/home/julianne/miniconda3/envs/openff_clone/lib/python3.11/site-packages/openff/interchange/interop/gromacs/export/_export.py:48: UserWarning: WARNING: System defined with no box vectors, which GROMACS does not offically support in versions 2020 or newer (see https://gitlab.com/gromacs/gromacs/-/issues/3526). Setting box vectors to a 5  nm cube.\n",
      "  self._write_gro(gro, decimal)\n"
     ]
    }
   ],
   "source": [
    "#parameterize lipid with openff interchange\n",
    "\n",
    "# Assign partial charges via OpenFF NAGL\n",
    "lipid.assign_partial_charges(\"openff-gnn-am1bcc-0.1.0-rc.3.pt\", toolkit_registry=NAGLToolkitWrapper())\n",
    "lipid.partial_charges\n",
    "\n",
    "\n",
    "lipid.name = Lipid_name\n",
    "for i, atom in enumerate(lipid.atoms, 0):\n",
    "    atom.metadata[\"residue_name\"] = Lipid_name\n",
    "lipid.generate_unique_atom_names() \n",
    "topology = Topology.from_molecules([lipid])\n",
    "\n",
    "# Specify forcefield\n",
    "forcefield = ForceField(\"openff-2.2.0.offxml\")\n",
    "\n",
    "interchange = Interchange.from_smirnoff(\n",
    "    force_field=forcefield,\n",
    "    topology=topology,\n",
    "    charge_from_molecules = [lipid]\n",
    ")\n",
    "interchange  \n",
    "\n",
    "interchange.to_top(f\"{Lipid_name}.top\") #, decimal = 3, hydrogen_mass = 3) #for hygrogen mass repartitioning.. probably need another topology file filder for HMR\n",
    "# or is there from grompp option to change topology file that can be used downstream?\n",
    "interchange.to_gro(f\"{Lipid_name}.gro\")"
   ]
  },
  {
   "cell_type": "code",
   "execution_count": null,
   "metadata": {},
   "outputs": [],
   "source": [
    "#build a water model and parameterize with openff interchange\n",
    "\n",
    "water_model = 'TIP3P'\n",
    "water = Molecule.from_smiles('O')\n",
    "water.generate_conformers()\n",
    "water.name = water_model\n",
    "\n",
    "for i, atom in enumerate(water.atoms, 3):\n",
    "    atom.metadata[\"residue_name\"] = water_model\n",
    "water.generate_unique_atom_names() \n",
    "topology = Topology.from_molecules([water])\n",
    "\n",
    "\n",
    "interchange = Interchange.from_smirnoff(\n",
    "    force_field=forcefield,\n",
    "    topology=topology,\n",
    ")\n",
    "interchange\n",
    "\n",
    "# PDB structure for Packmol\n",
    "interchange.to_pdb(f\"{water_model}.pdb\")\n",
    "interchange.to_top(f\"{water_model}.top\")"
   ]
  },
  {
   "cell_type": "code",
   "execution_count": 39,
   "metadata": {},
   "outputs": [
    {
     "name": "stderr",
     "output_type": "stream",
     "text": [
      "                     :-) GROMACS - gmx make_ndx, 2023.1 (-:\n",
      "\n",
      "Executable:   /home/julianne/pkgs/gromacs-2023.1/bin/gmx\n",
      "Data prefix:  /home/julianne/pkgs/gromacs-2023.1\n",
      "Working dir:  /media/julianne/DATA/Lipids/OpenFFLipid/Workflow\n",
      "Command line:\n",
      "  gmx make_ndx -f MC3.gro -o N1x.ndx\n",
      "\n",
      "\n",
      "Reading structure file\n",
      "\n",
      "GROMACS reminds you: \"I tend to consider myself as a scientist.\" (Emmanuelle Charpentier, when asked about the importance of two women sharing the Nobel Prize for Chemistry)\n",
      "\n",
      "                      :-) GROMACS - gmx grompp, 2023.1 (-:\n",
      "\n",
      "Executable:   /home/julianne/pkgs/gromacs-2023.1/bin/gmx\n",
      "Data prefix:  /home/julianne/pkgs/gromacs-2023.1\n",
      "Working dir:  /media/julianne/DATA/Lipids/OpenFFLipid/Workflow\n",
      "Command line:\n",
      "  gmx grompp -f scripts/runPull.mdp -c MC3.gro -p MC3.top -n N1x.ndx -o pull.tpr -maxwarn 2\n",
      "\n",
      "Generating 1-4 interactions: fudge = 0.5\n",
      "Pull group 1 'pull_atom' has 1 atoms\n",
      "Number of degrees of freedom in T-Coupling group System is 293.00\n",
      "\n",
      "NOTE 1 [file scripts/runPull.mdp]:\n",
      "  You are using geometric combination rules in LJ-PME, but your non-bonded\n",
      "  C6 parameters do not follow these rules. This will introduce very small\n",
      "  errors in the forces and energies in your simulations. Dispersion\n",
      "  correction will correct total energy and/or pressure for isotropic\n",
      "  systems, but not forces or surface tensions.\n",
      "\n",
      "\n",
      "WARNING 1 [file scripts/runPull.mdp]:\n",
      "  You are using an absolute reference for pulling, but the rest of the\n",
      "  system does not have an absolute reference. This will lead to artifacts.\n",
      "\n",
      "Pull group  natoms  pbc atom  distance at start  reference at t=0\n",
      "       0         0         0\n",
      "       1         1         0      -1.022 nm         -1.022 nm\n",
      "\n",
      "NOTE 2 [file scripts/runPull.mdp]:\n",
      "  The optimal PME mesh load for parallel simulations is below 0.5\n",
      "  and for highly parallel simulations between 0.25 and 0.33,\n",
      "  for higher performance, increase the cut-off and the PME grid spacing.\n",
      "\n",
      "\n",
      "\n",
      "There were 2 NOTEs\n",
      "\n",
      "There was 1 WARNING\n",
      "\n",
      "GROMACS reminds you: \"I tend to consider myself as a scientist.\" (Emmanuelle Charpentier, when asked about the importance of two women sharing the Nobel Prize for Chemistry)\n",
      "\n",
      "                      :-) GROMACS - gmx mdrun, 2023.1 (-:\n",
      "\n",
      "Executable:   /home/julianne/pkgs/gromacs-2023.1/bin/gmx\n",
      "Data prefix:  /home/julianne/pkgs/gromacs-2023.1\n",
      "Working dir:  /media/julianne/DATA/Lipids/OpenFFLipid/Workflow\n",
      "Command line:\n",
      "  gmx mdrun -deffnm pull\n",
      "\n",
      "Reading file pull.tpr, VERSION 2023.1 (single precision)\n",
      "Changing nstlist from 40 to 100, rlist from 1 to 1\n",
      "\n",
      "Update groups can not be used for this system because atoms that are (in)directly constrained together are interdispersed with other atoms\n",
      "\n",
      "Using 1 MPI thread\n",
      "Using 16 OpenMP threads \n",
      "\n"
     ]
    },
    {
     "name": "stdout",
     "output_type": "stream",
     "text": [
      "Going to read 0 old index file(s)\n",
      "Analysing residue names:\n",
      "There are:     1      Other residues\n",
      "Analysing residues not classified as Protein/DNA/RNA/Water and splitting into groups...\n",
      "\n",
      "  0 System              :   125 atoms\n",
      "  1 Other               :   125 atoms\n",
      "  2 MC3                 :   125 atoms\n",
      "\n",
      " nr : group      '!': not  'name' nr name   'splitch' nr    Enter: list groups\n",
      " 'a': atom       '&': and  'del' nr         'splitres' nr   'l': list residues\n",
      " 't': atom type  '|': or   'keep' nr        'splitat' nr    'h': help\n",
      " 'r': residue              'res' nr         'chain' char\n",
      " \"name\": group             'case': case sensitive           'q': save and quit\n",
      " 'ri': residue index\n",
      "\n",
      "> \n",
      "Found 1 atoms with name N1X\n",
      "\n",
      "> \n",
      "\n",
      "> \n",
      "Setting the LD random seed to 1045348323\n",
      "\n",
      "Generated 7875 of the 7875 non-bonded parameter combinations\n",
      "\n",
      "Generated 7875 of the 7875 1-4 parameter combinations\n",
      "\n",
      "Excluding 3 bonded neighbours molecule type 'MC3'\n",
      "\n",
      "turning H bonds into constraints...\n",
      "\n",
      "Setting gen_seed to -713056329\n",
      "\n",
      "Velocities were taken from a Maxwell distribution at 300 K\n",
      "\n",
      "The largest distance between excluded atoms is 0.396 nm between atom 19 and 22\n",
      "\n",
      "Determining Verlet buffer for a tolerance of 0.005 kJ/mol/ps at 300 K\n",
      "\n",
      "Calculated rlist for 1x1 atom pair-list as 1.000 nm, buffer size 0.000 nm\n",
      "\n",
      "Set rlist, assuming 4x4 atom pair-list, to 1.000 nm, buffer size 0.000 nm\n",
      "\n",
      "Note that mdrun will redetermine rlist based on the actual pair-list setup\n",
      "Calculating fourier grid dimensions for X Y Z\n",
      "Using a fourier grid of 42x42x42, spacing 0.119 0.119 0.119\n",
      "\n",
      "Estimate for the relative computational load of the PME mesh part: 0.99\n",
      "\n",
      "This run will generate roughly 0 Mb of data\n"
     ]
    },
    {
     "name": "stderr",
     "output_type": "stream",
     "text": [
      "starting mdrun 'FOO'\n",
      "25000 steps,     50.0 ps.\n"
     ]
    },
    {
     "name": "stdout",
     "output_type": "stream",
     "text": [
      "Note that major changes are planned in future for editconf, to improve usability and utility.\n",
      "Read 125 atoms\n",
      "Volume: 125 nm^3, corresponds to roughly 56200 electrons\n",
      "Velocities found\n"
     ]
    },
    {
     "name": "stderr",
     "output_type": "stream",
     "text": [
      "\n",
      "Writing final coordinates.\n",
      "\n",
      "               Core t (s)   Wall t (s)        (%)\n",
      "       Time:      274.540       17.159     1599.9\n",
      "                 (ns/day)    (hour/ns)\n",
      "Performance:      251.767        0.095\n",
      "\n",
      "GROMACS reminds you: \"A method is more important than a discovery, since the right method will lead to new and even more important discoveries.\" (Lev Landau)\n",
      "\n",
      "                     :-) GROMACS - gmx editconf, 2023.1 (-:\n",
      "\n",
      "Executable:   /home/julianne/pkgs/gromacs-2023.1/bin/gmx\n",
      "Data prefix:  /home/julianne/pkgs/gromacs-2023.1\n",
      "Working dir:  /media/julianne/DATA/Lipids/OpenFFLipid/Workflow\n",
      "Command line:\n",
      "  gmx editconf -f pull.gro -o MC3.pdb\n",
      "\n",
      "\n",
      "Back Off! I just backed up MC3.pdb to ./#MC3.pdb.1#\n",
      "\n",
      "GROMACS reminds you: \"A method is more important than a discovery, since the right method will lead to new and even more important discoveries.\" (Lev Landau)\n",
      "\n"
     ]
    }
   ],
   "source": [
    "# the lipid is not in an optimal packing configuration, run code to \"straighten out\" lipid\n",
    "\n",
    "pull_new_lipid(f'{Lipid_name}', HG_pull_atom)"
   ]
  },
  {
   "cell_type": "code",
   "execution_count": 40,
   "metadata": {},
   "outputs": [
    {
     "name": "stdout",
     "output_type": "stream",
     "text": [
      "MC3.pdb saved to /media/julianne/DATA/Lipids/OpenFFLipid/Workflow/Dictionary/lipids_parameterized/MC3/MC3.pdb\n",
      "MC3.top saved to /media/julianne/DATA/Lipids/OpenFFLipid/Workflow/Dictionary/lipids_parameterized/MC3/MC3.top\n"
     ]
    }
   ],
   "source": [
    "# save the pulled lipid pdb to folder, creates a folder for specific lipid if it doesnt already exist\n",
    "\n",
    "file_paths = [f'{Lipid_name}.pdb', f'{Lipid_name}.top'] \n",
    "saveInterchange(Lipid_name, file_paths)\n",
    "\n",
    "# once we have a large enough library of pulled lipids, we will no longer have to run pulling commmands for each lipid"
   ]
  },
  {
   "cell_type": "markdown",
   "metadata": {},
   "source": [
    "### Use trjconv to produce a pdb of the lipid after pull code. Visualize with nglview to confirm \n"
   ]
  },
  {
   "cell_type": "code",
   "execution_count": 9,
   "metadata": {
    "scrolled": true
   },
   "outputs": [
    {
     "data": {
      "application/vnd.jupyter.widget-view+json": {
       "model_id": "12c35888568f4005a03977e708b5a9f6",
       "version_major": 2,
       "version_minor": 0
      },
      "text/plain": [
       "NGLWidget()"
      ]
     },
     "metadata": {},
     "output_type": "display_data"
    }
   ],
   "source": [
    "#visualize the pulled lipid using ngl view\n",
    "view = nglview.show_structure_file(f'Dictionary/lipids_parameterized/{Lipid_name}/{Lipid_name}.pdb')\n",
    "view\n"
   ]
  },
  {
   "cell_type": "code",
   "execution_count": 41,
   "metadata": {},
   "outputs": [
    {
     "name": "stdout",
     "output_type": "stream",
     "text": [
      "/media/julianne/DATA/Lipids/OpenFFLipid/Workflow/Dictionary/lipids_parameterized/MC3/MC3.pdb\n"
     ]
    },
    {
     "name": "stderr",
     "output_type": "stream",
     "text": [
      "/home/julianne/miniconda3/envs/openff_clone/lib/python3.11/site-packages/MDAnalysis/topology/PDBParser.py:331: UserWarning: Element information is missing, elements attribute will not be populated. If needed these can be guessed using MDAnalysis.topology.guessers.\n",
      "  warnings.warn(\"Element information is missing, elements attribute \"\n"
     ]
    }
   ],
   "source": [
    "# save the pulled lipid data to a csv. YOU WILL NEED TO MANUALLY FIND A TERMINAL ATOM IN THE LIPID TAIL (last carbon in sn1 or sn2)\n",
    "lipid = Lipid(\n",
    "    name=Lipid_name,\n",
    "    headgroup_atom=HG_pull_atom,  \n",
    "    headgroup_atom_index=None, \n",
    "    tailgroup_atom='C37x',  # this needs to be changed for every simulation\n",
    "    tailgroup_atom_index=None,\n",
    "    distance=None,  \n",
    "    experimental_density=None,  # Example value in g/cm^3, not necessary but may be helpful in the future?\n",
    "    smiles_string = lipid_smiles\n",
    ")\n",
    "\n",
    "# Calculate lipid length (distance between headgroup and tailgroup)\n",
    "calcLipidLength(lipid, Lipid_name)\n",
    "\n",
    "# # Save the lipid to the CSV file with all its corresponding information\n",
    "# saveLipidCsv(lipid)"
   ]
  },
  {
   "cell_type": "code",
   "execution_count": 42,
   "metadata": {},
   "outputs": [
    {
     "name": "stdout",
     "output_type": "stream",
     "text": [
      "Lipid 'MC3' saved to CSV location: Dictionary/PulledLipid.csv.\n"
     ]
    }
   ],
   "source": [
    "# Save the lipid to the CSV file with all its corresponding information\n",
    "saveLipidCsv(lipid)"
   ]
  },
  {
   "cell_type": "code",
   "execution_count": null,
   "metadata": {},
   "outputs": [],
   "source": []
  }
 ],
 "metadata": {
  "kernelspec": {
   "display_name": "openff_clone",
   "language": "python",
   "name": "python3"
  },
  "language_info": {
   "codemirror_mode": {
    "name": "ipython",
    "version": 3
   },
   "file_extension": ".py",
   "mimetype": "text/x-python",
   "name": "python",
   "nbconvert_exporter": "python",
   "pygments_lexer": "ipython3",
   "version": "3.11.7"
  }
 },
 "nbformat": 4,
 "nbformat_minor": 4
}
