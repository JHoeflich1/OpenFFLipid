{
 "cells": [
  {
   "cell_type": "markdown",
   "metadata": {},
   "source": [
    "### This notebook will walk you through how to build a lipid bilayer with OpenFF"
   ]
  },
  {
   "cell_type": "code",
   "execution_count": 1,
   "metadata": {},
   "outputs": [
    {
     "name": "stderr",
     "output_type": "stream",
     "text": [
      "/home/julianne/miniconda3/envs/openff_clone/lib/python3.11/site-packages/Bio/__init__.py:138: BiopythonWarning: You may be importing Biopython from inside the source tree. This is bad practice and might lead to downstream issues. In particular, you might encounter ImportErrors due to missing compiled C extensions. We recommend that you try running your code from outside the source tree. If you are outside the source tree then you have a setup.py file in an unexpected directory: /home/julianne/miniconda3/envs/openff_clone/lib/python3.11/site-packages\n",
      "  warnings.warn(\n"
     ]
    },
    {
     "data": {
      "application/vnd.jupyter.widget-view+json": {
       "model_id": "cf97880a00d447b89466976bfec358ac",
       "version_major": 2,
       "version_minor": 0
      },
      "text/plain": []
     },
     "metadata": {},
     "output_type": "display_data"
    }
   ],
   "source": [
    "# Import all dependencies \n",
    "\n",
    "# from io import StringIO\n",
    "# from typing import Iterable\n",
    "import numpy as np\n",
    "# import matplotlib.pyplot as plt\n",
    "\n",
    "# from rdkit import Chem\n",
    "import MDAnalysis as mda\n",
    "from MDAnalysis.analysis import distances\n",
    "from openff.toolkit import ForceField, Molecule, Topology\n",
    "# from openff.toolkit.utils.toolkits import OpenEyeToolkitWrapper\n",
    "\n",
    "from openff.units import Quantity, unit\n",
    "# from openmm import unit as openmm_unit\n",
    "from openff.interchange import Interchange\n",
    "from openff.toolkit.utils.nagl_wrapper import NAGLToolkitWrapper #assign charges with NAGL\n",
    "\n",
    "import nglview\n",
    "import mdtraj\n",
    "import sys\n",
    "import os\n",
    "import shutil\n",
    "from pathlib import Path\n",
    "\n",
    "scripts_path = os.path.join(os.getcwd(), 'scripts')\n",
    "sys.path.insert(0, scripts_path)\n",
    "\n",
    "from postPull import pull_new_lipid\n",
    "import BuildLipid\n",
    "from saveLipids import saveInterchange, Lipid, calcLipidLength, saveLipidCsv\n",
    "from packmol import _build_input_file, runPackmol"
   ]
  },
  {
   "cell_type": "code",
   "execution_count": 2,
   "metadata": {},
   "outputs": [
    {
     "data": {
      "text/plain": [
       "[PosixPath('/home/julianne/miniconda3/envs/openff_clone/lib/python3.11/site-packages/openff/nagl_models/models/am1bcc/openff-gnn-am1bcc-0.0.1-alpha.1.pt'),\n",
       " PosixPath('/home/julianne/miniconda3/envs/openff_clone/lib/python3.11/site-packages/openff/nagl_models/models/am1bcc/openff-gnn-am1bcc-0.1.0-rc.1.pt'),\n",
       " PosixPath('/home/julianne/miniconda3/envs/openff_clone/lib/python3.11/site-packages/openff/nagl_models/models/am1bcc/openff-gnn-am1bcc-0.1.0-rc.2.pt'),\n",
       " PosixPath('/home/julianne/miniconda3/envs/openff_clone/lib/python3.11/site-packages/openff/nagl_models/models/am1bcc/openff-gnn-am1bcc-0.1.0-rc.3.pt')]"
      ]
     },
     "execution_count": 2,
     "metadata": {},
     "output_type": "execute_result"
    }
   ],
   "source": [
    "from openff.nagl_models import list_available_nagl_models\n",
    "\n",
    "list_available_nagl_models()"
   ]
  },
  {
   "cell_type": "markdown",
   "metadata": {},
   "source": [
    "Available lipids are located in BuildLipid module, which constructs lipids in a modular fashion {sn1} + {hg} + {sn2}.\n",
    "load_dataframe() to load in lipid library\n",
    "list_available_lipids() will return a list of available headgroups, tailgroups, and sterols"
   ]
  },
  {
   "cell_type": "code",
   "execution_count": 2,
   "metadata": {},
   "outputs": [
    {
     "name": "stdout",
     "output_type": "stream",
     "text": [
      "Available headgroups:  ['PA', 'PC', 'PE', 'PG', 'PP', 'PS']\n",
      "Available tailgroups:  ['DC', 'DD', 'DL', 'DM', 'DO', 'DP', 'DR', 'DS', 'PE', 'PL', 'PO', 'PS', 'SL', 'SO']\n",
      "Available sterols:  ['aldosterone', 'beta-Sitosterol', 'beta-estradiol', 'cholesterol', 'corticosterone', 'cortisol', 'ergosterol', 'estradiol', 'progesterone', 'stigmasterol', 'testosterone']\n"
     ]
    }
   ],
   "source": [
    "# load in openFF's library of lipids and return a list of availablee lipid headgroups,tailgroups, and sterols to choose from\n",
    "df = BuildLipid.load_dataframe()\n",
    "BuildLipid.list_available_lipids(df) "
   ]
  },
  {
   "cell_type": "code",
   "execution_count": 6,
   "metadata": {},
   "outputs": [
    {
     "name": "stderr",
     "output_type": "stream",
     "text": [
      "Warning: : Failed due to unspecified stereochemistry\n"
     ]
    },
    {
     "data": {
      "image/svg+xml": [
       "<svg xmlns=\"http://www.w3.org/2000/svg\" xmlns:rdkit=\"http://www.rdkit.org/xml\" xmlns:xlink=\"http://www.w3.org/1999/xlink\" version=\"1.1\" baseProfile=\"full\" xml:space=\"preserve\" width=\"500px\" height=\"300px\" viewBox=\"0 0 500 300\">\n",
       "<!-- END OF HEADER -->\n",
       "<rect style=\"opacity:1.0;fill:#FFFFFF;stroke:none\" width=\"500.0\" height=\"300.0\" x=\"0.0\" y=\"0.0\"> </rect>\n",
       "<path class=\"bond-0 atom-0 atom-1\" d=\"M 352.9,60.3 L 357.5,60.4\" style=\"fill:none;fill-rule:evenodd;stroke:#FF0000;stroke-width:2.0px;stroke-linecap:butt;stroke-linejoin:miter;stroke-opacity:1\"/>\n",
       "<path class=\"bond-0 atom-0 atom-1\" d=\"M 357.5,60.4 L 362.0,60.6\" style=\"fill:none;fill-rule:evenodd;stroke:#FF7F00;stroke-width:2.0px;stroke-linecap:butt;stroke-linejoin:miter;stroke-opacity:1\"/>\n",
       "<path class=\"bond-1 atom-1 atom-2\" d=\"M 364.6,56.9 L 364.6,53.6\" style=\"fill:none;fill-rule:evenodd;stroke:#FF7F00;stroke-width:2.0px;stroke-linecap:butt;stroke-linejoin:miter;stroke-opacity:1\"/>\n",
       "<path class=\"bond-1 atom-1 atom-2\" d=\"M 364.6,53.6 L 364.6,50.2\" style=\"fill:none;fill-rule:evenodd;stroke:#FF0000;stroke-width:2.0px;stroke-linecap:butt;stroke-linejoin:miter;stroke-opacity:1\"/>\n",
       "<path class=\"bond-2 atom-1 atom-3\" d=\"M 367.1,60.6 L 371.6,60.5\" style=\"fill:none;fill-rule:evenodd;stroke:#FF7F00;stroke-width:2.0px;stroke-linecap:butt;stroke-linejoin:miter;stroke-opacity:1\"/>\n",
       "<path class=\"bond-2 atom-1 atom-3\" d=\"M 371.6,60.5 L 376.2,60.4\" style=\"fill:none;fill-rule:evenodd;stroke:#FF0000;stroke-width:2.0px;stroke-linecap:butt;stroke-linejoin:miter;stroke-opacity:1\"/>\n",
       "<path class=\"bond-3 atom-3 atom-4\" d=\"M 381.8,56.6 L 384.5,51.7\" style=\"fill:none;fill-rule:evenodd;stroke:#FF0000;stroke-width:2.0px;stroke-linecap:butt;stroke-linejoin:miter;stroke-opacity:1\"/>\n",
       "<path class=\"bond-3 atom-3 atom-4\" d=\"M 384.5,51.7 L 387.2,46.8\" style=\"fill:none;fill-rule:evenodd;stroke:#000000;stroke-width:2.0px;stroke-linecap:butt;stroke-linejoin:miter;stroke-opacity:1\"/>\n",
       "<path class=\"bond-4 atom-4 atom-5\" d=\"M 387.2,46.8 L 402.3,46.7\" style=\"fill:none;fill-rule:evenodd;stroke:#000000;stroke-width:2.0px;stroke-linecap:butt;stroke-linejoin:miter;stroke-opacity:1\"/>\n",
       "<path class=\"bond-5 atom-5 atom-6\" d=\"M 402.3,46.7 L 405.1,41.9\" style=\"fill:none;fill-rule:evenodd;stroke:#000000;stroke-width:2.0px;stroke-linecap:butt;stroke-linejoin:miter;stroke-opacity:1\"/>\n",
       "<path class=\"bond-5 atom-5 atom-6\" d=\"M 405.1,41.9 L 407.9,37.1\" style=\"fill:none;fill-rule:evenodd;stroke:#0000FF;stroke-width:2.0px;stroke-linecap:butt;stroke-linejoin:miter;stroke-opacity:1\"/>\n",
       "<path class=\"bond-6 atom-1 atom-7\" d=\"M 363.4,64.4 L 363.3,68.2\" style=\"fill:none;fill-rule:evenodd;stroke:#FF7F00;stroke-width:2.0px;stroke-linecap:butt;stroke-linejoin:miter;stroke-opacity:1\"/>\n",
       "<path class=\"bond-6 atom-1 atom-7\" d=\"M 363.3,68.2 L 363.3,72.0\" style=\"fill:none;fill-rule:evenodd;stroke:#FF0000;stroke-width:2.0px;stroke-linecap:butt;stroke-linejoin:miter;stroke-opacity:1\"/>\n",
       "<path class=\"bond-6 atom-1 atom-7\" d=\"M 365.6,64.4 L 365.6,68.2\" style=\"fill:none;fill-rule:evenodd;stroke:#FF7F00;stroke-width:2.0px;stroke-linecap:butt;stroke-linejoin:miter;stroke-opacity:1\"/>\n",
       "<path class=\"bond-6 atom-1 atom-7\" d=\"M 365.6,68.2 L 365.6,72.1\" style=\"fill:none;fill-rule:evenodd;stroke:#FF0000;stroke-width:2.0px;stroke-linecap:butt;stroke-linejoin:miter;stroke-opacity:1\"/>\n",
       "<path class=\"bond-7 atom-0 atom-8\" d=\"M 347.4,56.4 L 344.7,51.4\" style=\"fill:none;fill-rule:evenodd;stroke:#FF0000;stroke-width:2.0px;stroke-linecap:butt;stroke-linejoin:miter;stroke-opacity:1\"/>\n",
       "<path class=\"bond-7 atom-0 atom-8\" d=\"M 344.7,51.4 L 342.0,46.5\" style=\"fill:none;fill-rule:evenodd;stroke:#000000;stroke-width:2.0px;stroke-linecap:butt;stroke-linejoin:miter;stroke-opacity:1\"/>\n",
       "<path class=\"bond-8 atom-8 atom-9\" d=\"M 342.0,46.5 L 325.3,46.4\" style=\"fill:none;fill-rule:evenodd;stroke:#000000;stroke-width:2.0px;stroke-linecap:butt;stroke-linejoin:miter;stroke-opacity:1\"/>\n",
       "<path class=\"bond-9 atom-9 atom-10\" d=\"M 326.3,43.2 L 327.0,43.5\" style=\"fill:none;fill-rule:evenodd;stroke:#000000;stroke-width:1.0px;stroke-linecap:butt;stroke-linejoin:miter;stroke-opacity:1\"/>\n",
       "<path class=\"bond-9 atom-9 atom-10\" d=\"M 327.2,40.1 L 328.6,40.7\" style=\"fill:none;fill-rule:evenodd;stroke:#000000;stroke-width:1.0px;stroke-linecap:butt;stroke-linejoin:miter;stroke-opacity:1\"/>\n",
       "<path class=\"bond-9 atom-9 atom-10\" d=\"M 328.2,36.9 L 330.3,37.8\" style=\"fill:none;fill-rule:evenodd;stroke:#000000;stroke-width:1.0px;stroke-linecap:butt;stroke-linejoin:miter;stroke-opacity:1\"/>\n",
       "<path class=\"bond-10 atom-9 atom-11\" d=\"M 325.3,46.4 L 312.2,39.4\" style=\"fill:none;fill-rule:evenodd;stroke:#000000;stroke-width:2.0px;stroke-linecap:butt;stroke-linejoin:miter;stroke-opacity:1\"/>\n",
       "<path class=\"bond-11 atom-11 atom-12\" d=\"M 312.2,39.4 L 307.6,42.2\" style=\"fill:none;fill-rule:evenodd;stroke:#000000;stroke-width:2.0px;stroke-linecap:butt;stroke-linejoin:miter;stroke-opacity:1\"/>\n",
       "<path class=\"bond-11 atom-11 atom-12\" d=\"M 307.6,42.2 L 303.0,45.0\" style=\"fill:none;fill-rule:evenodd;stroke:#FF0000;stroke-width:2.0px;stroke-linecap:butt;stroke-linejoin:miter;stroke-opacity:1\"/>\n",
       "<path class=\"bond-12 atom-12 atom-13\" d=\"M 296.0,45.1 L 291.3,42.4\" style=\"fill:none;fill-rule:evenodd;stroke:#FF0000;stroke-width:2.0px;stroke-linecap:butt;stroke-linejoin:miter;stroke-opacity:1\"/>\n",
       "<path class=\"bond-12 atom-12 atom-13\" d=\"M 291.3,42.4 L 286.6,39.7\" style=\"fill:none;fill-rule:evenodd;stroke:#000000;stroke-width:2.0px;stroke-linecap:butt;stroke-linejoin:miter;stroke-opacity:1\"/>\n",
       "<path class=\"bond-13 atom-13 atom-14\" d=\"M 287.7,40.3 L 287.6,34.3\" style=\"fill:none;fill-rule:evenodd;stroke:#000000;stroke-width:2.0px;stroke-linecap:butt;stroke-linejoin:miter;stroke-opacity:1\"/>\n",
       "<path class=\"bond-13 atom-13 atom-14\" d=\"M 287.6,34.3 L 287.6,28.3\" style=\"fill:none;fill-rule:evenodd;stroke:#FF0000;stroke-width:2.0px;stroke-linecap:butt;stroke-linejoin:miter;stroke-opacity:1\"/>\n",
       "<path class=\"bond-13 atom-13 atom-14\" d=\"M 285.4,40.3 L 285.4,34.3\" style=\"fill:none;fill-rule:evenodd;stroke:#000000;stroke-width:2.0px;stroke-linecap:butt;stroke-linejoin:miter;stroke-opacity:1\"/>\n",
       "<path class=\"bond-13 atom-13 atom-14\" d=\"M 285.4,34.3 L 285.3,28.3\" style=\"fill:none;fill-rule:evenodd;stroke:#FF0000;stroke-width:2.0px;stroke-linecap:butt;stroke-linejoin:miter;stroke-opacity:1\"/>\n",
       "<path class=\"bond-14 atom-13 atom-15\" d=\"M 286.6,39.7 L 273.9,47.2\" style=\"fill:none;fill-rule:evenodd;stroke:#000000;stroke-width:2.0px;stroke-linecap:butt;stroke-linejoin:miter;stroke-opacity:1\"/>\n",
       "<path class=\"bond-15 atom-15 atom-16\" d=\"M 273.9,47.2 L 260.8,39.7\" style=\"fill:none;fill-rule:evenodd;stroke:#000000;stroke-width:2.0px;stroke-linecap:butt;stroke-linejoin:miter;stroke-opacity:1\"/>\n",
       "<path class=\"bond-16 atom-16 atom-17\" d=\"M 260.8,39.7 L 247.4,47.3\" style=\"fill:none;fill-rule:evenodd;stroke:#000000;stroke-width:2.0px;stroke-linecap:butt;stroke-linejoin:miter;stroke-opacity:1\"/>\n",
       "<path class=\"bond-17 atom-17 atom-18\" d=\"M 247.4,47.3 L 234.1,39.6\" style=\"fill:none;fill-rule:evenodd;stroke:#000000;stroke-width:2.0px;stroke-linecap:butt;stroke-linejoin:miter;stroke-opacity:1\"/>\n",
       "<path class=\"bond-18 atom-18 atom-19\" d=\"M 234.1,39.6 L 220.7,47.2\" style=\"fill:none;fill-rule:evenodd;stroke:#000000;stroke-width:2.0px;stroke-linecap:butt;stroke-linejoin:miter;stroke-opacity:1\"/>\n",
       "<path class=\"bond-19 atom-19 atom-20\" d=\"M 220.7,47.2 L 207.5,39.6\" style=\"fill:none;fill-rule:evenodd;stroke:#000000;stroke-width:2.0px;stroke-linecap:butt;stroke-linejoin:miter;stroke-opacity:1\"/>\n",
       "<path class=\"bond-20 atom-20 atom-21\" d=\"M 207.5,39.6 L 194.2,47.2\" style=\"fill:none;fill-rule:evenodd;stroke:#000000;stroke-width:2.0px;stroke-linecap:butt;stroke-linejoin:miter;stroke-opacity:1\"/>\n",
       "<path class=\"bond-21 atom-21 atom-22\" d=\"M 194.2,47.2 L 181.0,39.6\" style=\"fill:none;fill-rule:evenodd;stroke:#000000;stroke-width:2.0px;stroke-linecap:butt;stroke-linejoin:miter;stroke-opacity:1\"/>\n",
       "<path class=\"bond-22 atom-22 atom-23\" d=\"M 181.0,39.6 L 167.7,47.2\" style=\"fill:none;fill-rule:evenodd;stroke:#000000;stroke-width:2.0px;stroke-linecap:butt;stroke-linejoin:miter;stroke-opacity:1\"/>\n",
       "<path class=\"bond-23 atom-23 atom-24\" d=\"M 167.7,47.2 L 154.4,39.7\" style=\"fill:none;fill-rule:evenodd;stroke:#000000;stroke-width:2.0px;stroke-linecap:butt;stroke-linejoin:miter;stroke-opacity:1\"/>\n",
       "<path class=\"bond-24 atom-24 atom-25\" d=\"M 154.4,39.7 L 141.2,47.3\" style=\"fill:none;fill-rule:evenodd;stroke:#000000;stroke-width:2.0px;stroke-linecap:butt;stroke-linejoin:miter;stroke-opacity:1\"/>\n",
       "<path class=\"bond-25 atom-25 atom-26\" d=\"M 141.2,47.3 L 127.8,39.7\" style=\"fill:none;fill-rule:evenodd;stroke:#000000;stroke-width:2.0px;stroke-linecap:butt;stroke-linejoin:miter;stroke-opacity:1\"/>\n",
       "<path class=\"bond-26 atom-26 atom-27\" d=\"M 127.8,39.7 L 114.5,47.4\" style=\"fill:none;fill-rule:evenodd;stroke:#000000;stroke-width:2.0px;stroke-linecap:butt;stroke-linejoin:miter;stroke-opacity:1\"/>\n",
       "<path class=\"bond-27 atom-27 atom-28\" d=\"M 114.5,47.4 L 101.0,39.8\" style=\"fill:none;fill-rule:evenodd;stroke:#000000;stroke-width:2.0px;stroke-linecap:butt;stroke-linejoin:miter;stroke-opacity:1\"/>\n",
       "<path class=\"bond-28 atom-28 atom-29\" d=\"M 101.0,39.8 L 87.8,47.4\" style=\"fill:none;fill-rule:evenodd;stroke:#000000;stroke-width:2.0px;stroke-linecap:butt;stroke-linejoin:miter;stroke-opacity:1\"/>\n",
       "<path class=\"bond-29 atom-9 atom-30\" d=\"M 325.3,46.4 L 325.4,52.1\" style=\"fill:none;fill-rule:evenodd;stroke:#000000;stroke-width:2.0px;stroke-linecap:butt;stroke-linejoin:miter;stroke-opacity:1\"/>\n",
       "<path class=\"bond-29 atom-9 atom-30\" d=\"M 325.4,52.1 L 325.5,57.8\" style=\"fill:none;fill-rule:evenodd;stroke:#FF0000;stroke-width:2.0px;stroke-linecap:butt;stroke-linejoin:miter;stroke-opacity:1\"/>\n",
       "<path class=\"bond-30 atom-30 atom-31\" d=\"M 322.1,63.7 L 317.3,66.6\" style=\"fill:none;fill-rule:evenodd;stroke:#FF0000;stroke-width:2.0px;stroke-linecap:butt;stroke-linejoin:miter;stroke-opacity:1\"/>\n",
       "<path class=\"bond-30 atom-30 atom-31\" d=\"M 317.3,66.6 L 312.6,69.5\" style=\"fill:none;fill-rule:evenodd;stroke:#000000;stroke-width:2.0px;stroke-linecap:butt;stroke-linejoin:miter;stroke-opacity:1\"/>\n",
       "<path class=\"bond-31 atom-31 atom-32\" d=\"M 313.7,68.8 L 308.4,65.9\" style=\"fill:none;fill-rule:evenodd;stroke:#000000;stroke-width:2.0px;stroke-linecap:butt;stroke-linejoin:miter;stroke-opacity:1\"/>\n",
       "<path class=\"bond-31 atom-31 atom-32\" d=\"M 308.4,65.9 L 303.2,63.1\" style=\"fill:none;fill-rule:evenodd;stroke:#FF0000;stroke-width:2.0px;stroke-linecap:butt;stroke-linejoin:miter;stroke-opacity:1\"/>\n",
       "<path class=\"bond-31 atom-31 atom-32\" d=\"M 312.6,70.8 L 307.4,67.9\" style=\"fill:none;fill-rule:evenodd;stroke:#000000;stroke-width:2.0px;stroke-linecap:butt;stroke-linejoin:miter;stroke-opacity:1\"/>\n",
       "<path class=\"bond-31 atom-31 atom-32\" d=\"M 307.4,67.9 L 302.1,65.1\" style=\"fill:none;fill-rule:evenodd;stroke:#FF0000;stroke-width:2.0px;stroke-linecap:butt;stroke-linejoin:miter;stroke-opacity:1\"/>\n",
       "<path class=\"bond-32 atom-31 atom-33\" d=\"M 312.6,69.5 L 313.0,84.5\" style=\"fill:none;fill-rule:evenodd;stroke:#000000;stroke-width:2.0px;stroke-linecap:butt;stroke-linejoin:miter;stroke-opacity:1\"/>\n",
       "<path class=\"bond-33 atom-33 atom-34\" d=\"M 313.0,84.5 L 299.9,92.2\" style=\"fill:none;fill-rule:evenodd;stroke:#000000;stroke-width:2.0px;stroke-linecap:butt;stroke-linejoin:miter;stroke-opacity:1\"/>\n",
       "<path class=\"bond-34 atom-34 atom-35\" d=\"M 299.9,92.2 L 299.7,107.7\" style=\"fill:none;fill-rule:evenodd;stroke:#000000;stroke-width:2.0px;stroke-linecap:butt;stroke-linejoin:miter;stroke-opacity:1\"/>\n",
       "<path class=\"bond-35 atom-35 atom-36\" d=\"M 299.7,107.7 L 286.1,115.3\" style=\"fill:none;fill-rule:evenodd;stroke:#000000;stroke-width:2.0px;stroke-linecap:butt;stroke-linejoin:miter;stroke-opacity:1\"/>\n",
       "<path class=\"bond-36 atom-36 atom-37\" d=\"M 286.1,115.3 L 285.1,130.1\" style=\"fill:none;fill-rule:evenodd;stroke:#000000;stroke-width:2.0px;stroke-linecap:butt;stroke-linejoin:miter;stroke-opacity:1\"/>\n",
       "<path class=\"bond-37 atom-37 atom-38\" d=\"M 285.1,130.1 L 269.1,137.4\" style=\"fill:none;fill-rule:evenodd;stroke:#000000;stroke-width:2.0px;stroke-linecap:butt;stroke-linejoin:miter;stroke-opacity:1\"/>\n",
       "<path class=\"bond-38 atom-38 atom-39\" d=\"M 269.1,137.4 L 267.4,152.2\" style=\"fill:none;fill-rule:evenodd;stroke:#000000;stroke-width:2.0px;stroke-linecap:butt;stroke-linejoin:miter;stroke-opacity:1\"/>\n",
       "<path class=\"bond-39 atom-39 atom-40\" d=\"M 267.4,152.2 L 284.0,161.1\" style=\"fill:none;fill-rule:evenodd;stroke:#000000;stroke-width:2.0px;stroke-linecap:butt;stroke-linejoin:miter;stroke-opacity:1\"/>\n",
       "<path class=\"bond-40 atom-40 atom-41\" d=\"M 284.0,161.1 L 284.2,178.3\" style=\"fill:none;fill-rule:evenodd;stroke:#000000;stroke-width:2.0px;stroke-linecap:butt;stroke-linejoin:miter;stroke-opacity:1\"/>\n",
       "<path class=\"bond-40 atom-40 atom-41\" d=\"M 281.7,162.4 L 282.0,176.9\" style=\"fill:none;fill-rule:evenodd;stroke:#000000;stroke-width:2.0px;stroke-linecap:butt;stroke-linejoin:miter;stroke-opacity:1\"/>\n",
       "<path class=\"bond-41 atom-41 atom-42\" d=\"M 284.2,178.3 L 270.5,185.4\" style=\"fill:none;fill-rule:evenodd;stroke:#000000;stroke-width:2.0px;stroke-linecap:butt;stroke-linejoin:miter;stroke-opacity:1\"/>\n",
       "<path class=\"bond-42 atom-42 atom-43\" d=\"M 270.5,185.4 L 270.8,199.2\" style=\"fill:none;fill-rule:evenodd;stroke:#000000;stroke-width:2.0px;stroke-linecap:butt;stroke-linejoin:miter;stroke-opacity:1\"/>\n",
       "<path class=\"bond-43 atom-43 atom-44\" d=\"M 270.8,199.2 L 259.2,206.9\" style=\"fill:none;fill-rule:evenodd;stroke:#000000;stroke-width:2.0px;stroke-linecap:butt;stroke-linejoin:miter;stroke-opacity:1\"/>\n",
       "<path class=\"bond-44 atom-44 atom-45\" d=\"M 259.2,206.9 L 259.6,222.4\" style=\"fill:none;fill-rule:evenodd;stroke:#000000;stroke-width:2.0px;stroke-linecap:butt;stroke-linejoin:miter;stroke-opacity:1\"/>\n",
       "<path class=\"bond-45 atom-45 atom-46\" d=\"M 259.6,222.4 L 246.7,230.3\" style=\"fill:none;fill-rule:evenodd;stroke:#000000;stroke-width:2.0px;stroke-linecap:butt;stroke-linejoin:miter;stroke-opacity:1\"/>\n",
       "<path class=\"bond-46 atom-46 atom-47\" d=\"M 246.7,230.3 L 246.7,245.5\" style=\"fill:none;fill-rule:evenodd;stroke:#000000;stroke-width:2.0px;stroke-linecap:butt;stroke-linejoin:miter;stroke-opacity:1\"/>\n",
       "<path class=\"bond-47 atom-47 atom-48\" d=\"M 246.7,245.5 L 233.4,253.4\" style=\"fill:none;fill-rule:evenodd;stroke:#000000;stroke-width:2.0px;stroke-linecap:butt;stroke-linejoin:miter;stroke-opacity:1\"/>\n",
       "<path class=\"bond-48 atom-48 atom-49\" d=\"M 233.4,253.4 L 233.4,268.6\" style=\"fill:none;fill-rule:evenodd;stroke:#000000;stroke-width:2.0px;stroke-linecap:butt;stroke-linejoin:miter;stroke-opacity:1\"/>\n",
       "<path class=\"bond-49 atom-4 atom-50\" d=\"M 387.2,46.8 L 377.5,41.1\" style=\"fill:none;fill-rule:evenodd;stroke:#000000;stroke-width:2.0px;stroke-linecap:butt;stroke-linejoin:miter;stroke-opacity:1\"/>\n",
       "<path class=\"bond-50 atom-4 atom-51\" d=\"M 387.2,46.8 L 387.0,35.6\" style=\"fill:none;fill-rule:evenodd;stroke:#000000;stroke-width:2.0px;stroke-linecap:butt;stroke-linejoin:miter;stroke-opacity:1\"/>\n",
       "<path class=\"bond-51 atom-5 atom-52\" d=\"M 402.3,46.7 L 402.2,58.2\" style=\"fill:none;fill-rule:evenodd;stroke:#000000;stroke-width:2.0px;stroke-linecap:butt;stroke-linejoin:miter;stroke-opacity:1\"/>\n",
       "<path class=\"bond-52 atom-5 atom-53\" d=\"M 402.3,46.7 L 412.3,52.6\" style=\"fill:none;fill-rule:evenodd;stroke:#000000;stroke-width:2.0px;stroke-linecap:butt;stroke-linejoin:miter;stroke-opacity:1\"/>\n",
       "<path class=\"bond-53 atom-6 atom-54\" d=\"M 407.2,31.6 L 403.8,29.5\" style=\"fill:none;fill-rule:evenodd;stroke:#0000FF;stroke-width:2.0px;stroke-linecap:butt;stroke-linejoin:miter;stroke-opacity:1\"/>\n",
       "<path class=\"bond-53 atom-6 atom-54\" d=\"M 403.8,29.5 L 400.3,27.4\" style=\"fill:none;fill-rule:evenodd;stroke:#000000;stroke-width:2.0px;stroke-linecap:butt;stroke-linejoin:miter;stroke-opacity:1\"/>\n",
       "<path class=\"bond-54 atom-6 atom-55\" d=\"M 410.2,29.7 L 410.2,25.8\" style=\"fill:none;fill-rule:evenodd;stroke:#0000FF;stroke-width:2.0px;stroke-linecap:butt;stroke-linejoin:miter;stroke-opacity:1\"/>\n",
       "<path class=\"bond-54 atom-6 atom-55\" d=\"M 410.2,25.8 L 410.3,22.0\" style=\"fill:none;fill-rule:evenodd;stroke:#000000;stroke-width:2.0px;stroke-linecap:butt;stroke-linejoin:miter;stroke-opacity:1\"/>\n",
       "<path class=\"bond-55 atom-6 atom-56\" d=\"M 415.8,33.5 L 419.0,33.5\" style=\"fill:none;fill-rule:evenodd;stroke:#0000FF;stroke-width:2.0px;stroke-linecap:butt;stroke-linejoin:miter;stroke-opacity:1\"/>\n",
       "<path class=\"bond-55 atom-6 atom-56\" d=\"M 419.0,33.5 L 422.2,33.6\" style=\"fill:none;fill-rule:evenodd;stroke:#000000;stroke-width:2.0px;stroke-linecap:butt;stroke-linejoin:miter;stroke-opacity:1\"/>\n",
       "<path class=\"bond-56 atom-8 atom-57\" d=\"M 342.0,46.5 L 343.0,35.2\" style=\"fill:none;fill-rule:evenodd;stroke:#000000;stroke-width:2.0px;stroke-linecap:butt;stroke-linejoin:miter;stroke-opacity:1\"/>\n",
       "<path class=\"bond-57 atom-8 atom-58\" d=\"M 342.0,46.5 L 351.7,41.1\" style=\"fill:none;fill-rule:evenodd;stroke:#000000;stroke-width:2.0px;stroke-linecap:butt;stroke-linejoin:miter;stroke-opacity:1\"/>\n",
       "<path class=\"bond-58 atom-11 atom-59\" d=\"M 312.2,39.4 L 306.6,30.1\" style=\"fill:none;fill-rule:evenodd;stroke:#000000;stroke-width:2.0px;stroke-linecap:butt;stroke-linejoin:miter;stroke-opacity:1\"/>\n",
       "<path class=\"bond-59 atom-11 atom-60\" d=\"M 312.2,39.4 L 317.4,29.8\" style=\"fill:none;fill-rule:evenodd;stroke:#000000;stroke-width:2.0px;stroke-linecap:butt;stroke-linejoin:miter;stroke-opacity:1\"/>\n",
       "<path class=\"bond-60 atom-15 atom-61\" d=\"M 273.9,47.2 L 268.8,56.6\" style=\"fill:none;fill-rule:evenodd;stroke:#000000;stroke-width:2.0px;stroke-linecap:butt;stroke-linejoin:miter;stroke-opacity:1\"/>\n",
       "<path class=\"bond-61 atom-15 atom-62\" d=\"M 273.9,47.2 L 279.5,56.5\" style=\"fill:none;fill-rule:evenodd;stroke:#000000;stroke-width:2.0px;stroke-linecap:butt;stroke-linejoin:miter;stroke-opacity:1\"/>\n",
       "<path class=\"bond-62 atom-16 atom-63\" d=\"M 260.8,39.7 L 255.6,30.3\" style=\"fill:none;fill-rule:evenodd;stroke:#000000;stroke-width:2.0px;stroke-linecap:butt;stroke-linejoin:miter;stroke-opacity:1\"/>\n",
       "<path class=\"bond-63 atom-16 atom-64\" d=\"M 260.8,39.7 L 266.3,30.3\" style=\"fill:none;fill-rule:evenodd;stroke:#000000;stroke-width:2.0px;stroke-linecap:butt;stroke-linejoin:miter;stroke-opacity:1\"/>\n",
       "<path class=\"bond-64 atom-17 atom-65\" d=\"M 247.4,47.3 L 242.2,56.5\" style=\"fill:none;fill-rule:evenodd;stroke:#000000;stroke-width:2.0px;stroke-linecap:butt;stroke-linejoin:miter;stroke-opacity:1\"/>\n",
       "<path class=\"bond-65 atom-17 atom-66\" d=\"M 247.4,47.3 L 252.5,56.6\" style=\"fill:none;fill-rule:evenodd;stroke:#000000;stroke-width:2.0px;stroke-linecap:butt;stroke-linejoin:miter;stroke-opacity:1\"/>\n",
       "<path class=\"bond-66 atom-18 atom-67\" d=\"M 234.1,39.6 L 228.9,30.3\" style=\"fill:none;fill-rule:evenodd;stroke:#000000;stroke-width:2.0px;stroke-linecap:butt;stroke-linejoin:miter;stroke-opacity:1\"/>\n",
       "<path class=\"bond-67 atom-18 atom-68\" d=\"M 234.1,39.6 L 239.3,30.3\" style=\"fill:none;fill-rule:evenodd;stroke:#000000;stroke-width:2.0px;stroke-linecap:butt;stroke-linejoin:miter;stroke-opacity:1\"/>\n",
       "<path class=\"bond-68 atom-19 atom-69\" d=\"M 220.7,47.2 L 215.6,56.5\" style=\"fill:none;fill-rule:evenodd;stroke:#000000;stroke-width:2.0px;stroke-linecap:butt;stroke-linejoin:miter;stroke-opacity:1\"/>\n",
       "<path class=\"bond-69 atom-19 atom-70\" d=\"M 220.7,47.2 L 225.8,56.5\" style=\"fill:none;fill-rule:evenodd;stroke:#000000;stroke-width:2.0px;stroke-linecap:butt;stroke-linejoin:miter;stroke-opacity:1\"/>\n",
       "<path class=\"bond-70 atom-20 atom-71\" d=\"M 207.5,39.6 L 202.4,30.4\" style=\"fill:none;fill-rule:evenodd;stroke:#000000;stroke-width:2.0px;stroke-linecap:butt;stroke-linejoin:miter;stroke-opacity:1\"/>\n",
       "<path class=\"bond-71 atom-20 atom-72\" d=\"M 207.5,39.6 L 212.6,30.4\" style=\"fill:none;fill-rule:evenodd;stroke:#000000;stroke-width:2.0px;stroke-linecap:butt;stroke-linejoin:miter;stroke-opacity:1\"/>\n",
       "<path class=\"bond-72 atom-21 atom-73\" d=\"M 194.2,47.2 L 189.1,56.4\" style=\"fill:none;fill-rule:evenodd;stroke:#000000;stroke-width:2.0px;stroke-linecap:butt;stroke-linejoin:miter;stroke-opacity:1\"/>\n",
       "<path class=\"bond-73 atom-21 atom-74\" d=\"M 194.2,47.2 L 199.3,56.4\" style=\"fill:none;fill-rule:evenodd;stroke:#000000;stroke-width:2.0px;stroke-linecap:butt;stroke-linejoin:miter;stroke-opacity:1\"/>\n",
       "<path class=\"bond-74 atom-22 atom-75\" d=\"M 181.0,39.6 L 186.1,30.4\" style=\"fill:none;fill-rule:evenodd;stroke:#000000;stroke-width:2.0px;stroke-linecap:butt;stroke-linejoin:miter;stroke-opacity:1\"/>\n",
       "<path class=\"bond-75 atom-22 atom-76\" d=\"M 181.0,39.6 L 175.9,30.4\" style=\"fill:none;fill-rule:evenodd;stroke:#000000;stroke-width:2.0px;stroke-linecap:butt;stroke-linejoin:miter;stroke-opacity:1\"/>\n",
       "<path class=\"bond-76 atom-23 atom-77\" d=\"M 167.7,47.2 L 172.9,56.4\" style=\"fill:none;fill-rule:evenodd;stroke:#000000;stroke-width:2.0px;stroke-linecap:butt;stroke-linejoin:miter;stroke-opacity:1\"/>\n",
       "<path class=\"bond-77 atom-23 atom-78\" d=\"M 167.7,47.2 L 162.7,56.5\" style=\"fill:none;fill-rule:evenodd;stroke:#000000;stroke-width:2.0px;stroke-linecap:butt;stroke-linejoin:miter;stroke-opacity:1\"/>\n",
       "<path class=\"bond-78 atom-24 atom-79\" d=\"M 154.4,39.7 L 159.6,30.4\" style=\"fill:none;fill-rule:evenodd;stroke:#000000;stroke-width:2.0px;stroke-linecap:butt;stroke-linejoin:miter;stroke-opacity:1\"/>\n",
       "<path class=\"bond-79 atom-24 atom-80\" d=\"M 154.4,39.7 L 149.3,30.4\" style=\"fill:none;fill-rule:evenodd;stroke:#000000;stroke-width:2.0px;stroke-linecap:butt;stroke-linejoin:miter;stroke-opacity:1\"/>\n",
       "<path class=\"bond-80 atom-25 atom-81\" d=\"M 141.2,47.3 L 146.3,56.5\" style=\"fill:none;fill-rule:evenodd;stroke:#000000;stroke-width:2.0px;stroke-linecap:butt;stroke-linejoin:miter;stroke-opacity:1\"/>\n",
       "<path class=\"bond-81 atom-25 atom-82\" d=\"M 141.2,47.3 L 136.1,56.5\" style=\"fill:none;fill-rule:evenodd;stroke:#000000;stroke-width:2.0px;stroke-linecap:butt;stroke-linejoin:miter;stroke-opacity:1\"/>\n",
       "<path class=\"bond-82 atom-26 atom-83\" d=\"M 127.8,39.7 L 133.0,30.4\" style=\"fill:none;fill-rule:evenodd;stroke:#000000;stroke-width:2.0px;stroke-linecap:butt;stroke-linejoin:miter;stroke-opacity:1\"/>\n",
       "<path class=\"bond-83 atom-26 atom-84\" d=\"M 127.8,39.7 L 122.6,30.4\" style=\"fill:none;fill-rule:evenodd;stroke:#000000;stroke-width:2.0px;stroke-linecap:butt;stroke-linejoin:miter;stroke-opacity:1\"/>\n",
       "<path class=\"bond-84 atom-27 atom-85\" d=\"M 114.5,47.4 L 119.8,56.6\" style=\"fill:none;fill-rule:evenodd;stroke:#000000;stroke-width:2.0px;stroke-linecap:butt;stroke-linejoin:miter;stroke-opacity:1\"/>\n",
       "<path class=\"bond-85 atom-27 atom-86\" d=\"M 114.5,47.4 L 109.4,56.7\" style=\"fill:none;fill-rule:evenodd;stroke:#000000;stroke-width:2.0px;stroke-linecap:butt;stroke-linejoin:miter;stroke-opacity:1\"/>\n",
       "<path class=\"bond-86 atom-28 atom-87\" d=\"M 101.0,39.8 L 106.3,30.4\" style=\"fill:none;fill-rule:evenodd;stroke:#000000;stroke-width:2.0px;stroke-linecap:butt;stroke-linejoin:miter;stroke-opacity:1\"/>\n",
       "<path class=\"bond-87 atom-28 atom-88\" d=\"M 101.0,39.8 L 95.6,30.4\" style=\"fill:none;fill-rule:evenodd;stroke:#000000;stroke-width:2.0px;stroke-linecap:butt;stroke-linejoin:miter;stroke-opacity:1\"/>\n",
       "<path class=\"bond-88 atom-29 atom-89\" d=\"M 87.8,47.4 L 93.1,56.8\" style=\"fill:none;fill-rule:evenodd;stroke:#000000;stroke-width:2.0px;stroke-linecap:butt;stroke-linejoin:miter;stroke-opacity:1\"/>\n",
       "<path class=\"bond-89 atom-29 atom-90\" d=\"M 87.8,47.4 L 82.4,56.8\" style=\"fill:none;fill-rule:evenodd;stroke:#000000;stroke-width:2.0px;stroke-linecap:butt;stroke-linejoin:miter;stroke-opacity:1\"/>\n",
       "<path class=\"bond-90 atom-29 atom-91\" d=\"M 87.8,47.4 L 77.8,41.6\" style=\"fill:none;fill-rule:evenodd;stroke:#000000;stroke-width:2.0px;stroke-linecap:butt;stroke-linejoin:miter;stroke-opacity:1\"/>\n",
       "<path class=\"bond-91 atom-33 atom-92\" d=\"M 313.0,84.5 L 325.1,84.2\" style=\"fill:none;fill-rule:evenodd;stroke:#000000;stroke-width:2.0px;stroke-linecap:butt;stroke-linejoin:miter;stroke-opacity:1\"/>\n",
       "<path class=\"bond-92 atom-33 atom-93\" d=\"M 313.0,84.5 L 318.6,93.7\" style=\"fill:none;fill-rule:evenodd;stroke:#000000;stroke-width:2.0px;stroke-linecap:butt;stroke-linejoin:miter;stroke-opacity:1\"/>\n",
       "<path class=\"bond-93 atom-34 atom-94\" d=\"M 299.9,92.2 L 294.5,82.8\" style=\"fill:none;fill-rule:evenodd;stroke:#000000;stroke-width:2.0px;stroke-linecap:butt;stroke-linejoin:miter;stroke-opacity:1\"/>\n",
       "<path class=\"bond-94 atom-34 atom-95\" d=\"M 299.9,92.2 L 288.0,92.0\" style=\"fill:none;fill-rule:evenodd;stroke:#000000;stroke-width:2.0px;stroke-linecap:butt;stroke-linejoin:miter;stroke-opacity:1\"/>\n",
       "<path class=\"bond-95 atom-35 atom-96\" d=\"M 299.7,107.7 L 311.8,107.9\" style=\"fill:none;fill-rule:evenodd;stroke:#000000;stroke-width:2.0px;stroke-linecap:butt;stroke-linejoin:miter;stroke-opacity:1\"/>\n",
       "<path class=\"bond-96 atom-35 atom-97\" d=\"M 299.7,107.7 L 305.1,117.0\" style=\"fill:none;fill-rule:evenodd;stroke:#000000;stroke-width:2.0px;stroke-linecap:butt;stroke-linejoin:miter;stroke-opacity:1\"/>\n",
       "<path class=\"bond-97 atom-36 atom-98\" d=\"M 286.1,115.3 L 280.8,106.1\" style=\"fill:none;fill-rule:evenodd;stroke:#000000;stroke-width:2.0px;stroke-linecap:butt;stroke-linejoin:miter;stroke-opacity:1\"/>\n",
       "<path class=\"bond-98 atom-36 atom-99\" d=\"M 286.1,115.3 L 274.1,115.0\" style=\"fill:none;fill-rule:evenodd;stroke:#000000;stroke-width:2.0px;stroke-linecap:butt;stroke-linejoin:miter;stroke-opacity:1\"/>\n",
       "<path class=\"bond-99 atom-37 atom-100\" d=\"M 285.1,130.1 L 297.5,130.7\" style=\"fill:none;fill-rule:evenodd;stroke:#000000;stroke-width:2.0px;stroke-linecap:butt;stroke-linejoin:miter;stroke-opacity:1\"/>\n",
       "<path class=\"bond-100 atom-37 atom-101\" d=\"M 285.1,130.1 L 290.2,139.2\" style=\"fill:none;fill-rule:evenodd;stroke:#000000;stroke-width:2.0px;stroke-linecap:butt;stroke-linejoin:miter;stroke-opacity:1\"/>\n",
       "<path class=\"bond-101 atom-38 atom-102\" d=\"M 269.1,137.4 L 264.9,127.9\" style=\"fill:none;fill-rule:evenodd;stroke:#000000;stroke-width:2.0px;stroke-linecap:butt;stroke-linejoin:miter;stroke-opacity:1\"/>\n",
       "<path class=\"bond-102 atom-38 atom-103\" d=\"M 269.1,137.4 L 257.8,136.5\" style=\"fill:none;fill-rule:evenodd;stroke:#000000;stroke-width:2.0px;stroke-linecap:butt;stroke-linejoin:miter;stroke-opacity:1\"/>\n",
       "<path class=\"bond-103 atom-39 atom-104\" d=\"M 267.4,152.2 L 256.6,154.5\" style=\"fill:none;fill-rule:evenodd;stroke:#000000;stroke-width:2.0px;stroke-linecap:butt;stroke-linejoin:miter;stroke-opacity:1\"/>\n",
       "<path class=\"bond-104 atom-39 atom-105\" d=\"M 267.4,152.2 L 267.4,160.2\" style=\"fill:none;fill-rule:evenodd;stroke:#000000;stroke-width:2.0px;stroke-linecap:butt;stroke-linejoin:miter;stroke-opacity:1\"/>\n",
       "<path class=\"bond-105 atom-40 atom-106\" d=\"M 284.0,161.1 L 294.1,155.6\" style=\"fill:none;fill-rule:evenodd;stroke:#000000;stroke-width:2.0px;stroke-linecap:butt;stroke-linejoin:miter;stroke-opacity:1\"/>\n",
       "<path class=\"bond-106 atom-41 atom-107\" d=\"M 284.2,178.3 L 294.3,184.1\" style=\"fill:none;fill-rule:evenodd;stroke:#000000;stroke-width:2.0px;stroke-linecap:butt;stroke-linejoin:miter;stroke-opacity:1\"/>\n",
       "<path class=\"bond-107 atom-42 atom-108\" d=\"M 270.5,185.4 L 270.5,177.4\" style=\"fill:none;fill-rule:evenodd;stroke:#000000;stroke-width:2.0px;stroke-linecap:butt;stroke-linejoin:miter;stroke-opacity:1\"/>\n",
       "<path class=\"bond-108 atom-42 atom-109\" d=\"M 270.5,185.4 L 258.4,182.7\" style=\"fill:none;fill-rule:evenodd;stroke:#000000;stroke-width:2.0px;stroke-linecap:butt;stroke-linejoin:miter;stroke-opacity:1\"/>\n",
       "<path class=\"bond-109 atom-43 atom-110\" d=\"M 270.8,199.2 L 282.9,198.2\" style=\"fill:none;fill-rule:evenodd;stroke:#000000;stroke-width:2.0px;stroke-linecap:butt;stroke-linejoin:miter;stroke-opacity:1\"/>\n",
       "<path class=\"bond-110 atom-43 atom-111\" d=\"M 270.8,199.2 L 276.9,207.5\" style=\"fill:none;fill-rule:evenodd;stroke:#000000;stroke-width:2.0px;stroke-linecap:butt;stroke-linejoin:miter;stroke-opacity:1\"/>\n",
       "<path class=\"bond-111 atom-44 atom-112\" d=\"M 259.2,206.9 L 253.6,197.9\" style=\"fill:none;fill-rule:evenodd;stroke:#000000;stroke-width:2.0px;stroke-linecap:butt;stroke-linejoin:miter;stroke-opacity:1\"/>\n",
       "<path class=\"bond-112 atom-44 atom-113\" d=\"M 259.2,206.9 L 247.7,206.9\" style=\"fill:none;fill-rule:evenodd;stroke:#000000;stroke-width:2.0px;stroke-linecap:butt;stroke-linejoin:miter;stroke-opacity:1\"/>\n",
       "<path class=\"bond-113 atom-45 atom-114\" d=\"M 259.6,222.4 L 271.6,222.3\" style=\"fill:none;fill-rule:evenodd;stroke:#000000;stroke-width:2.0px;stroke-linecap:butt;stroke-linejoin:miter;stroke-opacity:1\"/>\n",
       "<path class=\"bond-114 atom-45 atom-115\" d=\"M 259.6,222.4 L 265.3,231.2\" style=\"fill:none;fill-rule:evenodd;stroke:#000000;stroke-width:2.0px;stroke-linecap:butt;stroke-linejoin:miter;stroke-opacity:1\"/>\n",
       "<path class=\"bond-115 atom-46 atom-116\" d=\"M 246.7,230.3 L 241.2,221.4\" style=\"fill:none;fill-rule:evenodd;stroke:#000000;stroke-width:2.0px;stroke-linecap:butt;stroke-linejoin:miter;stroke-opacity:1\"/>\n",
       "<path class=\"bond-116 atom-46 atom-117\" d=\"M 246.7,230.3 L 234.9,230.1\" style=\"fill:none;fill-rule:evenodd;stroke:#000000;stroke-width:2.0px;stroke-linecap:butt;stroke-linejoin:miter;stroke-opacity:1\"/>\n",
       "<path class=\"bond-117 atom-47 atom-118\" d=\"M 246.7,245.5 L 258.6,245.5\" style=\"fill:none;fill-rule:evenodd;stroke:#000000;stroke-width:2.0px;stroke-linecap:butt;stroke-linejoin:miter;stroke-opacity:1\"/>\n",
       "<path class=\"bond-118 atom-47 atom-119\" d=\"M 246.7,245.5 L 252.2,254.5\" style=\"fill:none;fill-rule:evenodd;stroke:#000000;stroke-width:2.0px;stroke-linecap:butt;stroke-linejoin:miter;stroke-opacity:1\"/>\n",
       "<path class=\"bond-119 atom-48 atom-120\" d=\"M 233.4,253.4 L 227.9,244.3\" style=\"fill:none;fill-rule:evenodd;stroke:#000000;stroke-width:2.0px;stroke-linecap:butt;stroke-linejoin:miter;stroke-opacity:1\"/>\n",
       "<path class=\"bond-120 atom-48 atom-121\" d=\"M 233.4,253.4 L 221.3,253.5\" style=\"fill:none;fill-rule:evenodd;stroke:#000000;stroke-width:2.0px;stroke-linecap:butt;stroke-linejoin:miter;stroke-opacity:1\"/>\n",
       "<path class=\"bond-121 atom-49 atom-122\" d=\"M 233.4,268.6 L 245.4,268.8\" style=\"fill:none;fill-rule:evenodd;stroke:#000000;stroke-width:2.0px;stroke-linecap:butt;stroke-linejoin:miter;stroke-opacity:1\"/>\n",
       "<path class=\"bond-122 atom-49 atom-123\" d=\"M 233.4,268.6 L 238.8,278.0\" style=\"fill:none;fill-rule:evenodd;stroke:#000000;stroke-width:2.0px;stroke-linecap:butt;stroke-linejoin:miter;stroke-opacity:1\"/>\n",
       "<path class=\"bond-123 atom-49 atom-124\" d=\"M 233.4,268.6 L 223.3,274.4\" style=\"fill:none;fill-rule:evenodd;stroke:#000000;stroke-width:2.0px;stroke-linecap:butt;stroke-linejoin:miter;stroke-opacity:1\"/>\n",
       "<path d=\"M 286.8,39.8 L 286.6,39.7 L 285.9,40.0\" style=\"fill:none;stroke:#000000;stroke-width:2.0px;stroke-linecap:butt;stroke-linejoin:miter;stroke-opacity:1;\"/>\n",
       "<path d=\"M 312.8,69.3 L 312.6,69.5 L 312.6,70.2\" style=\"fill:none;stroke:#000000;stroke-width:2.0px;stroke-linecap:butt;stroke-linejoin:miter;stroke-opacity:1;\"/>\n",
       "<path class=\"atom-0\" d=\"M 346.5 60.2 Q 346.5 58.6, 347.3 57.8 Q 348.0 56.9, 349.5 56.9 Q 350.9 56.9, 351.7 57.8 Q 352.4 58.6, 352.4 60.2 Q 352.4 61.7, 351.7 62.6 Q 350.9 63.5, 349.5 63.5 Q 348.0 63.5, 347.3 62.6 Q 346.5 61.7, 346.5 60.2 M 349.5 62.8 Q 350.5 62.8, 351.0 62.1 Q 351.5 61.5, 351.5 60.2 Q 351.5 58.9, 351.0 58.3 Q 350.5 57.6, 349.5 57.6 Q 348.5 57.6, 347.9 58.3 Q 347.4 58.9, 347.4 60.2 Q 347.4 61.5, 347.9 62.1 Q 348.5 62.8, 349.5 62.8 \" fill=\"#FF0000\"/>\n",
       "<path class=\"atom-1\" d=\"M 364.4 57.4 Q 365.5 57.4, 366.1 57.9 Q 366.6 58.4, 366.6 59.3 Q 366.6 60.2, 366.0 60.7 Q 365.5 61.2, 364.4 61.2 L 363.4 61.2 L 363.4 63.9 L 362.5 63.9 L 362.5 57.4 L 364.4 57.4 M 364.4 60.5 Q 365.0 60.5, 365.4 60.2 Q 365.7 59.9, 365.7 59.3 Q 365.7 58.7, 365.4 58.4 Q 365.0 58.1, 364.4 58.1 L 363.4 58.1 L 363.4 60.5 L 364.4 60.5 \" fill=\"#FF7F00\"/>\n",
       "<path class=\"atom-2\" d=\"M 361.6 46.4 Q 361.6 44.9, 362.4 44.0 Q 363.2 43.1, 364.6 43.1 Q 366.0 43.1, 366.8 44.0 Q 367.6 44.9, 367.6 46.4 Q 367.6 48.0, 366.8 48.9 Q 366.0 49.8, 364.6 49.8 Q 363.2 49.8, 362.4 48.9 Q 361.6 48.0, 361.6 46.4 M 364.6 49.0 Q 365.6 49.0, 366.1 48.4 Q 366.7 47.7, 366.7 46.4 Q 366.7 45.1, 366.1 44.5 Q 365.6 43.8, 364.6 43.8 Q 363.6 43.8, 363.1 44.5 Q 362.6 45.1, 362.6 46.4 Q 362.6 47.7, 363.1 48.4 Q 363.6 49.0, 364.6 49.0 \" fill=\"#FF0000\"/>\n",
       "<path class=\"atom-2\" d=\"M 368.5 44.2 L 370.7 44.2 L 370.7 44.7 L 368.5 44.7 L 368.5 44.2 \" fill=\"#FF0000\"/>\n",
       "<path class=\"atom-3\" d=\"M 376.7 60.4 Q 376.7 58.9, 377.5 58.0 Q 378.2 57.1, 379.7 57.1 Q 381.1 57.1, 381.9 58.0 Q 382.6 58.9, 382.6 60.4 Q 382.6 62.0, 381.8 62.9 Q 381.1 63.8, 379.7 63.8 Q 378.2 63.8, 377.5 62.9 Q 376.7 62.0, 376.7 60.4 M 379.7 63.0 Q 380.6 63.0, 381.2 62.4 Q 381.7 61.7, 381.7 60.4 Q 381.7 59.1, 381.2 58.5 Q 380.6 57.9, 379.7 57.9 Q 378.7 57.9, 378.1 58.5 Q 377.6 59.1, 377.6 60.4 Q 377.6 61.7, 378.1 62.4 Q 378.7 63.0, 379.7 63.0 \" fill=\"#FF0000\"/>\n",
       "<path class=\"atom-6\" d=\"M 408.7 30.2 L 410.8 33.6 Q 411.0 33.9, 411.4 34.6 Q 411.7 35.2, 411.7 35.2 L 411.7 30.2 L 412.6 30.2 L 412.6 36.6 L 411.7 36.6 L 409.4 32.9 Q 409.2 32.5, 408.9 32.0 Q 408.6 31.5, 408.5 31.3 L 408.5 36.6 L 407.7 36.6 L 407.7 30.2 L 408.7 30.2 \" fill=\"#0000FF\"/>\n",
       "<path class=\"atom-6\" d=\"M 413.8 31.3 L 414.9 31.3 L 414.9 30.1 L 415.4 30.1 L 415.4 31.3 L 416.6 31.3 L 416.6 31.8 L 415.4 31.8 L 415.4 33.0 L 414.9 33.0 L 414.9 31.8 L 413.8 31.8 L 413.8 31.3 \" fill=\"#0000FF\"/>\n",
       "<path class=\"atom-7\" d=\"M 361.4 75.8 Q 361.4 74.3, 362.2 73.4 Q 363.0 72.5, 364.4 72.5 Q 365.8 72.5, 366.6 73.4 Q 367.4 74.3, 367.4 75.8 Q 367.4 77.4, 366.6 78.3 Q 365.8 79.2, 364.4 79.2 Q 363.0 79.2, 362.2 78.3 Q 361.4 77.4, 361.4 75.8 M 364.4 78.5 Q 365.4 78.5, 365.9 77.8 Q 366.5 77.1, 366.5 75.8 Q 366.5 74.6, 365.9 73.9 Q 365.4 73.3, 364.4 73.3 Q 363.4 73.3, 362.9 73.9 Q 362.3 74.6, 362.3 75.8 Q 362.3 77.1, 362.9 77.8 Q 363.4 78.5, 364.4 78.5 \" fill=\"#FF0000\"/>\n",
       "<path class=\"atom-10\" d=\"M 328.5 29.9 L 329.4 29.9 L 329.4 32.6 L 332.7 32.6 L 332.7 29.9 L 333.6 29.9 L 333.6 36.4 L 332.7 36.4 L 332.7 33.4 L 329.4 33.4 L 329.4 36.4 L 328.5 36.4 L 328.5 29.9 \" fill=\"#000000\"/>\n",
       "<path class=\"atom-12\" d=\"M 296.5 47.1 Q 296.5 45.5, 297.3 44.7 Q 298.1 43.8, 299.5 43.8 Q 300.9 43.8, 301.7 44.7 Q 302.5 45.5, 302.5 47.1 Q 302.5 48.7, 301.7 49.6 Q 300.9 50.4, 299.5 50.4 Q 298.1 50.4, 297.3 49.6 Q 296.5 48.7, 296.5 47.1 M 299.5 49.7 Q 300.5 49.7, 301.0 49.0 Q 301.6 48.4, 301.6 47.1 Q 301.6 45.8, 301.0 45.2 Q 300.5 44.5, 299.5 44.5 Q 298.5 44.5, 298.0 45.2 Q 297.4 45.8, 297.4 47.1 Q 297.4 48.4, 298.0 49.0 Q 298.5 49.7, 299.5 49.7 \" fill=\"#FF0000\"/>\n",
       "<path class=\"atom-14\" d=\"M 283.4 24.4 Q 283.4 22.9, 284.2 22.0 Q 285.0 21.2, 286.4 21.2 Q 287.8 21.2, 288.6 22.0 Q 289.4 22.9, 289.4 24.4 Q 289.4 26.0, 288.6 26.9 Q 287.8 27.8, 286.4 27.8 Q 285.0 27.8, 284.2 26.9 Q 283.4 26.0, 283.4 24.4 M 286.4 27.1 Q 287.4 27.1, 287.9 26.4 Q 288.4 25.7, 288.4 24.4 Q 288.4 23.2, 287.9 22.5 Q 287.4 21.9, 286.4 21.9 Q 285.4 21.9, 284.9 22.5 Q 284.3 23.2, 284.3 24.4 Q 284.3 25.8, 284.9 26.4 Q 285.4 27.1, 286.4 27.1 \" fill=\"#FF0000\"/>\n",
       "<path class=\"atom-30\" d=\"M 322.6 61.6 Q 322.6 60.1, 323.4 59.2 Q 324.1 58.3, 325.6 58.3 Q 327.0 58.3, 327.8 59.2 Q 328.5 60.1, 328.5 61.6 Q 328.5 63.2, 327.8 64.1 Q 327.0 65.0, 325.6 65.0 Q 324.1 65.0, 323.4 64.1 Q 322.6 63.2, 322.6 61.6 M 325.6 64.2 Q 326.5 64.2, 327.1 63.6 Q 327.6 62.9, 327.6 61.6 Q 327.6 60.4, 327.1 59.7 Q 326.5 59.1, 325.6 59.1 Q 324.6 59.1, 324.0 59.7 Q 323.5 60.3, 323.5 61.6 Q 323.5 62.9, 324.0 63.6 Q 324.6 64.2, 325.6 64.2 \" fill=\"#FF0000\"/>\n",
       "<path class=\"atom-32\" d=\"M 296.2 62.2 Q 296.2 60.7, 297.0 59.8 Q 297.7 58.9, 299.2 58.9 Q 300.6 58.9, 301.4 59.8 Q 302.1 60.7, 302.1 62.2 Q 302.1 63.8, 301.4 64.7 Q 300.6 65.6, 299.2 65.6 Q 297.8 65.6, 297.0 64.7 Q 296.2 63.8, 296.2 62.2 M 299.2 64.9 Q 300.2 64.9, 300.7 64.2 Q 301.2 63.5, 301.2 62.2 Q 301.2 61.0, 300.7 60.3 Q 300.2 59.7, 299.2 59.7 Q 298.2 59.7, 297.7 60.3 Q 297.1 61.0, 297.1 62.2 Q 297.1 63.5, 297.7 64.2 Q 298.2 64.9, 299.2 64.9 \" fill=\"#FF0000\"/>\n",
       "<path class=\"atom-50\" d=\"M 372.0 36.0 L 372.8 36.0 L 372.8 38.8 L 376.1 38.8 L 376.1 36.0 L 377.0 36.0 L 377.0 42.5 L 376.1 42.5 L 376.1 39.5 L 372.8 39.5 L 372.8 42.5 L 372.0 42.5 L 372.0 36.0 \" fill=\"#000000\"/>\n",
       "<path class=\"atom-51\" d=\"M 384.4 28.6 L 385.3 28.6 L 385.3 31.4 L 388.6 31.4 L 388.6 28.6 L 389.4 28.6 L 389.4 35.1 L 388.6 35.1 L 388.6 32.1 L 385.3 32.1 L 385.3 35.1 L 384.4 35.1 L 384.4 28.6 \" fill=\"#000000\"/>\n",
       "<path class=\"atom-52\" d=\"M 399.7 58.7 L 400.6 58.7 L 400.6 61.4 L 403.9 61.4 L 403.9 58.7 L 404.7 58.7 L 404.7 65.1 L 403.9 65.1 L 403.9 62.2 L 400.6 62.2 L 400.6 65.1 L 399.7 65.1 L 399.7 58.7 \" fill=\"#000000\"/>\n",
       "<path class=\"atom-53\" d=\"M 412.8 51.2 L 413.7 51.2 L 413.7 53.9 L 417.0 53.9 L 417.0 51.2 L 417.9 51.2 L 417.9 57.6 L 417.0 57.6 L 417.0 54.7 L 413.7 54.7 L 413.7 57.6 L 412.8 57.6 L 412.8 51.2 \" fill=\"#000000\"/>\n",
       "<path class=\"atom-54\" d=\"M 394.8 22.4 L 395.7 22.4 L 395.7 25.1 L 399.0 25.1 L 399.0 22.4 L 399.8 22.4 L 399.8 28.8 L 399.0 28.8 L 399.0 25.8 L 395.7 25.8 L 395.7 28.8 L 394.8 28.8 L 394.8 22.4 \" fill=\"#000000\"/>\n",
       "<path class=\"atom-55\" d=\"M 407.8 15.0 L 408.7 15.0 L 408.7 17.7 L 412.0 17.7 L 412.0 15.0 L 412.9 15.0 L 412.9 21.5 L 412.0 21.5 L 412.0 18.5 L 408.7 18.5 L 408.7 21.5 L 407.8 21.5 L 407.8 15.0 \" fill=\"#000000\"/>\n",
       "<path class=\"atom-56\" d=\"M 422.7 30.4 L 423.6 30.4 L 423.6 33.1 L 426.9 33.1 L 426.9 30.4 L 427.8 30.4 L 427.8 36.8 L 426.9 36.8 L 426.9 33.8 L 423.6 33.8 L 423.6 36.8 L 422.7 36.8 L 422.7 30.4 \" fill=\"#000000\"/>\n",
       "<path class=\"atom-57\" d=\"M 340.8 28.2 L 341.7 28.2 L 341.7 30.9 L 345.0 30.9 L 345.0 28.2 L 345.9 28.2 L 345.9 34.7 L 345.0 34.7 L 345.0 31.7 L 341.7 31.7 L 341.7 34.7 L 340.8 34.7 L 340.8 28.2 \" fill=\"#000000\"/>\n",
       "<path class=\"atom-58\" d=\"M 352.2 36.1 L 353.0 36.1 L 353.0 38.9 L 356.4 38.9 L 356.4 36.1 L 357.2 36.1 L 357.2 42.6 L 356.4 42.6 L 356.4 39.6 L 353.0 39.6 L 353.0 42.6 L 352.2 42.6 L 352.2 36.1 \" fill=\"#000000\"/>\n",
       "<path class=\"atom-59\" d=\"M 301.8 23.1 L 302.7 23.1 L 302.7 25.9 L 306.0 25.9 L 306.0 23.1 L 306.8 23.1 L 306.8 29.6 L 306.0 29.6 L 306.0 26.6 L 302.7 26.6 L 302.7 29.6 L 301.8 29.6 L 301.8 23.1 \" fill=\"#000000\"/>\n",
       "<path class=\"atom-60\" d=\"M 317.0 22.8 L 317.8 22.8 L 317.8 25.6 L 321.1 25.6 L 321.1 22.8 L 322.0 22.8 L 322.0 29.3 L 321.1 29.3 L 321.1 26.3 L 317.8 26.3 L 317.8 29.3 L 317.0 29.3 L 317.0 22.8 \" fill=\"#000000\"/>\n",
       "<path class=\"atom-61\" d=\"M 264.2 57.1 L 265.1 57.1 L 265.1 59.9 L 268.4 59.9 L 268.4 57.1 L 269.3 57.1 L 269.3 63.6 L 268.4 63.6 L 268.4 60.6 L 265.1 60.6 L 265.1 63.6 L 264.2 63.6 L 264.2 57.1 \" fill=\"#000000\"/>\n",
       "<path class=\"atom-62\" d=\"M 279.2 57.0 L 280.0 57.0 L 280.0 59.7 L 283.3 59.7 L 283.3 57.0 L 284.2 57.0 L 284.2 63.5 L 283.3 63.5 L 283.3 60.5 L 280.0 60.5 L 280.0 63.5 L 279.2 63.5 L 279.2 57.0 \" fill=\"#000000\"/>\n",
       "<path class=\"atom-63\" d=\"M 251.0 23.3 L 251.9 23.3 L 251.9 26.1 L 255.2 26.1 L 255.2 23.3 L 256.1 23.3 L 256.1 29.8 L 255.2 29.8 L 255.2 26.8 L 251.9 26.8 L 251.9 29.8 L 251.0 29.8 L 251.0 23.3 \" fill=\"#000000\"/>\n",
       "<path class=\"atom-64\" d=\"M 265.9 23.4 L 266.8 23.4 L 266.8 26.1 L 270.1 26.1 L 270.1 23.4 L 271.0 23.4 L 271.0 29.8 L 270.1 29.8 L 270.1 26.9 L 266.8 26.9 L 266.8 29.8 L 265.9 29.8 L 265.9 23.4 \" fill=\"#000000\"/>\n",
       "<path class=\"atom-65\" d=\"M 237.5 57.0 L 238.4 57.0 L 238.4 59.7 L 241.7 59.7 L 241.7 57.0 L 242.6 57.0 L 242.6 63.4 L 241.7 63.4 L 241.7 60.5 L 238.4 60.5 L 238.4 63.4 L 237.5 63.4 L 237.5 57.0 \" fill=\"#000000\"/>\n",
       "<path class=\"atom-66\" d=\"M 252.0 57.1 L 252.9 57.1 L 252.9 59.8 L 256.2 59.8 L 256.2 57.1 L 257.1 57.1 L 257.1 63.6 L 256.2 63.6 L 256.2 60.6 L 252.9 60.6 L 252.9 63.6 L 252.0 63.6 L 252.0 57.1 \" fill=\"#000000\"/>\n",
       "<path class=\"atom-67\" d=\"M 224.3 23.4 L 225.2 23.4 L 225.2 26.1 L 228.5 26.1 L 228.5 23.4 L 229.4 23.4 L 229.4 29.8 L 228.5 29.8 L 228.5 26.8 L 225.2 26.8 L 225.2 29.8 L 224.3 29.8 L 224.3 23.4 \" fill=\"#000000\"/>\n",
       "<path class=\"atom-68\" d=\"M 238.9 23.4 L 239.8 23.4 L 239.8 26.1 L 243.1 26.1 L 243.1 23.4 L 243.9 23.4 L 243.9 29.8 L 243.1 29.8 L 243.1 26.8 L 239.8 26.8 L 239.8 29.8 L 238.9 29.8 L 238.9 23.4 \" fill=\"#000000\"/>\n",
       "<path class=\"atom-69\" d=\"M 211.0 57.0 L 211.9 57.0 L 211.9 59.7 L 215.2 59.7 L 215.2 57.0 L 216.1 57.0 L 216.1 63.4 L 215.2 63.4 L 215.2 60.4 L 211.9 60.4 L 211.9 63.4 L 211.0 63.4 L 211.0 57.0 \" fill=\"#000000\"/>\n",
       "<path class=\"atom-70\" d=\"M 225.4 57.0 L 226.2 57.0 L 226.2 59.7 L 229.5 59.7 L 229.5 57.0 L 230.4 57.0 L 230.4 63.4 L 229.5 63.4 L 229.5 60.5 L 226.2 60.5 L 226.2 63.4 L 225.4 63.4 L 225.4 57.0 \" fill=\"#000000\"/>\n",
       "<path class=\"atom-71\" d=\"M 197.8 23.4 L 198.7 23.4 L 198.7 26.2 L 202.0 26.2 L 202.0 23.4 L 202.8 23.4 L 202.8 29.9 L 202.0 29.9 L 202.0 26.9 L 198.7 26.9 L 198.7 29.9 L 197.8 29.9 L 197.8 23.4 \" fill=\"#000000\"/>\n",
       "<path class=\"atom-72\" d=\"M 212.2 23.4 L 213.0 23.4 L 213.0 26.2 L 216.3 26.2 L 216.3 23.4 L 217.2 23.4 L 217.2 29.9 L 216.3 29.9 L 216.3 26.9 L 213.0 26.9 L 213.0 29.9 L 212.2 29.9 L 212.2 23.4 \" fill=\"#000000\"/>\n",
       "<path class=\"atom-73\" d=\"M 184.5 56.9 L 185.4 56.9 L 185.4 59.7 L 188.7 59.7 L 188.7 56.9 L 189.6 56.9 L 189.6 63.4 L 188.7 63.4 L 188.7 60.4 L 185.4 60.4 L 185.4 63.4 L 184.5 63.4 L 184.5 56.9 \" fill=\"#000000\"/>\n",
       "<path class=\"atom-74\" d=\"M 198.9 56.9 L 199.7 56.9 L 199.7 59.7 L 203.0 59.7 L 203.0 56.9 L 203.9 56.9 L 203.9 63.4 L 203.0 63.4 L 203.0 60.4 L 199.7 60.4 L 199.7 63.4 L 198.9 63.4 L 198.9 56.9 \" fill=\"#000000\"/>\n",
       "<path class=\"atom-75\" d=\"M 185.6 23.4 L 186.5 23.4 L 186.5 26.2 L 189.8 26.2 L 189.8 23.4 L 190.6 23.4 L 190.6 29.9 L 189.8 29.9 L 189.8 26.9 L 186.5 26.9 L 186.5 29.9 L 185.6 29.9 L 185.6 23.4 \" fill=\"#000000\"/>\n",
       "<path class=\"atom-76\" d=\"M 171.3 23.5 L 172.2 23.5 L 172.2 26.2 L 175.5 26.2 L 175.5 23.5 L 176.3 23.5 L 176.3 29.9 L 175.5 29.9 L 175.5 26.9 L 172.2 26.9 L 172.2 29.9 L 171.3 29.9 L 171.3 23.5 \" fill=\"#000000\"/>\n",
       "<path class=\"atom-77\" d=\"M 172.4 56.9 L 173.3 56.9 L 173.3 59.7 L 176.6 59.7 L 176.6 56.9 L 177.4 56.9 L 177.4 63.4 L 176.6 63.4 L 176.6 60.4 L 173.3 60.4 L 173.3 63.4 L 172.4 63.4 L 172.4 56.9 \" fill=\"#000000\"/>\n",
       "<path class=\"atom-78\" d=\"M 158.1 57.0 L 159.0 57.0 L 159.0 59.7 L 162.3 59.7 L 162.3 57.0 L 163.2 57.0 L 163.2 63.4 L 162.3 63.4 L 162.3 60.4 L 159.0 60.4 L 159.0 63.4 L 158.1 63.4 L 158.1 57.0 \" fill=\"#000000\"/>\n",
       "<path class=\"atom-79\" d=\"M 159.1 23.5 L 160.0 23.5 L 160.0 26.2 L 163.3 26.2 L 163.3 23.5 L 164.2 23.5 L 164.2 29.9 L 163.3 29.9 L 163.3 26.9 L 160.0 26.9 L 160.0 29.9 L 159.1 29.9 L 159.1 23.5 \" fill=\"#000000\"/>\n",
       "<path class=\"atom-80\" d=\"M 144.7 23.5 L 145.6 23.5 L 145.6 26.2 L 148.9 26.2 L 148.9 23.5 L 149.8 23.5 L 149.8 29.9 L 148.9 29.9 L 148.9 26.9 L 145.6 26.9 L 145.6 29.9 L 144.7 29.9 L 144.7 23.5 \" fill=\"#000000\"/>\n",
       "<path class=\"atom-81\" d=\"M 145.9 57.0 L 146.8 57.0 L 146.8 59.7 L 150.1 59.7 L 150.1 57.0 L 151.0 57.0 L 151.0 63.4 L 150.1 63.4 L 150.1 60.5 L 146.8 60.5 L 146.8 63.4 L 145.9 63.4 L 145.9 57.0 \" fill=\"#000000\"/>\n",
       "<path class=\"atom-82\" d=\"M 131.6 57.0 L 132.4 57.0 L 132.4 59.8 L 135.7 59.8 L 135.7 57.0 L 136.6 57.0 L 136.6 63.5 L 135.7 63.5 L 135.7 60.5 L 132.4 60.5 L 132.4 63.5 L 131.6 63.5 L 131.6 57.0 \" fill=\"#000000\"/>\n",
       "<path class=\"atom-83\" d=\"M 132.6 23.4 L 133.4 23.4 L 133.4 26.2 L 136.7 26.2 L 136.7 23.4 L 137.6 23.4 L 137.6 29.9 L 136.7 29.9 L 136.7 26.9 L 133.4 26.9 L 133.4 29.9 L 132.6 29.9 L 132.6 23.4 \" fill=\"#000000\"/>\n",
       "<path class=\"atom-84\" d=\"M 118.0 23.4 L 118.9 23.4 L 118.9 26.2 L 122.2 26.2 L 122.2 23.4 L 123.1 23.4 L 123.1 29.9 L 122.2 29.9 L 122.2 26.9 L 118.9 26.9 L 118.9 29.9 L 118.0 29.9 L 118.0 23.4 \" fill=\"#000000\"/>\n",
       "<path class=\"atom-85\" d=\"M 119.4 57.1 L 120.2 57.1 L 120.2 59.8 L 123.5 59.8 L 123.5 57.1 L 124.4 57.1 L 124.4 63.5 L 123.5 63.5 L 123.5 60.6 L 120.2 60.6 L 120.2 63.5 L 119.4 63.5 L 119.4 57.1 \" fill=\"#000000\"/>\n",
       "<path class=\"atom-86\" d=\"M 104.8 57.2 L 105.7 57.2 L 105.7 60.0 L 109.0 60.0 L 109.0 57.2 L 109.9 57.2 L 109.9 63.7 L 109.0 63.7 L 109.0 60.7 L 105.7 60.7 L 105.7 63.7 L 104.8 63.7 L 104.8 57.2 \" fill=\"#000000\"/>\n",
       "<path class=\"atom-87\" d=\"M 105.8 23.4 L 106.7 23.4 L 106.7 26.1 L 110.0 26.1 L 110.0 23.4 L 110.8 23.4 L 110.8 29.9 L 110.0 29.9 L 110.0 26.9 L 106.7 26.9 L 106.7 29.9 L 105.8 29.9 L 105.8 23.4 \" fill=\"#000000\"/>\n",
       "<path class=\"atom-88\" d=\"M 90.9 23.5 L 91.8 23.5 L 91.8 26.2 L 95.1 26.2 L 95.1 23.5 L 95.9 23.5 L 95.9 29.9 L 95.1 29.9 L 95.1 26.9 L 91.8 26.9 L 91.8 29.9 L 90.9 29.9 L 90.9 23.5 \" fill=\"#000000\"/>\n",
       "<path class=\"atom-89\" d=\"M 92.6 57.3 L 93.5 57.3 L 93.5 60.0 L 96.8 60.0 L 96.8 57.3 L 97.7 57.3 L 97.7 63.7 L 96.8 63.7 L 96.8 60.8 L 93.5 60.8 L 93.5 63.7 L 92.6 63.7 L 92.6 57.3 \" fill=\"#000000\"/>\n",
       "<path class=\"atom-90\" d=\"M 77.7 57.3 L 78.6 57.3 L 78.6 60.0 L 81.9 60.0 L 81.9 57.3 L 82.7 57.3 L 82.7 63.8 L 81.9 63.8 L 81.9 60.8 L 78.6 60.8 L 78.6 63.8 L 77.7 63.8 L 77.7 57.3 \" fill=\"#000000\"/>\n",
       "<path class=\"atom-91\" d=\"M 72.2 36.6 L 73.1 36.6 L 73.1 39.3 L 76.4 39.3 L 76.4 36.6 L 77.3 36.6 L 77.3 43.0 L 76.4 43.0 L 76.4 40.0 L 73.1 40.0 L 73.1 43.0 L 72.2 43.0 L 72.2 36.6 \" fill=\"#000000\"/>\n",
       "<path class=\"atom-92\" d=\"M 325.6 80.9 L 326.5 80.9 L 326.5 83.7 L 329.8 83.7 L 329.8 80.9 L 330.7 80.9 L 330.7 87.4 L 329.8 87.4 L 329.8 84.4 L 326.5 84.4 L 326.5 87.4 L 325.6 87.4 L 325.6 80.9 \" fill=\"#000000\"/>\n",
       "<path class=\"atom-93\" d=\"M 318.3 94.1 L 319.2 94.1 L 319.2 96.9 L 322.5 96.9 L 322.5 94.1 L 323.4 94.1 L 323.4 100.6 L 322.5 100.6 L 322.5 97.6 L 319.2 97.6 L 319.2 100.6 L 318.3 100.6 L 318.3 94.1 \" fill=\"#000000\"/>\n",
       "<path class=\"atom-94\" d=\"M 289.8 75.8 L 290.7 75.8 L 290.7 78.6 L 294.0 78.6 L 294.0 75.8 L 294.9 75.8 L 294.9 82.3 L 294.0 82.3 L 294.0 79.3 L 290.7 79.3 L 290.7 82.3 L 289.8 82.3 L 289.8 75.8 \" fill=\"#000000\"/>\n",
       "<path class=\"atom-95\" d=\"M 282.4 88.7 L 283.3 88.7 L 283.3 91.4 L 286.6 91.4 L 286.6 88.7 L 287.5 88.7 L 287.5 95.1 L 286.6 95.1 L 286.6 92.2 L 283.3 92.2 L 283.3 95.1 L 282.4 95.1 L 282.4 88.7 \" fill=\"#000000\"/>\n",
       "<path class=\"atom-96\" d=\"M 312.3 104.7 L 313.1 104.7 L 313.1 107.5 L 316.4 107.5 L 316.4 104.7 L 317.3 104.7 L 317.3 111.2 L 316.4 111.2 L 316.4 108.2 L 313.1 108.2 L 313.1 111.2 L 312.3 111.2 L 312.3 104.7 \" fill=\"#000000\"/>\n",
       "<path class=\"atom-97\" d=\"M 304.7 117.5 L 305.6 117.5 L 305.6 120.2 L 308.9 120.2 L 308.9 117.5 L 309.8 117.5 L 309.8 124.0 L 308.9 124.0 L 308.9 121.0 L 305.6 121.0 L 305.6 124.0 L 304.7 124.0 L 304.7 117.5 \" fill=\"#000000\"/>\n",
       "<path class=\"atom-98\" d=\"M 276.2 99.2 L 277.1 99.2 L 277.1 101.9 L 280.4 101.9 L 280.4 99.2 L 281.2 99.2 L 281.2 105.6 L 280.4 105.6 L 280.4 102.7 L 277.1 102.7 L 277.1 105.6 L 276.2 105.6 L 276.2 99.2 \" fill=\"#000000\"/>\n",
       "<path class=\"atom-99\" d=\"M 268.6 111.6 L 269.5 111.6 L 269.5 114.4 L 272.8 114.4 L 272.8 111.6 L 273.6 111.6 L 273.6 118.1 L 272.8 118.1 L 272.8 115.1 L 269.5 115.1 L 269.5 118.1 L 268.6 118.1 L 268.6 111.6 \" fill=\"#000000\"/>\n",
       "<path class=\"atom-100\" d=\"M 298.0 127.6 L 298.8 127.6 L 298.8 130.4 L 302.1 130.4 L 302.1 127.6 L 303.0 127.6 L 303.0 134.1 L 302.1 134.1 L 302.1 131.1 L 298.8 131.1 L 298.8 134.1 L 298.0 134.1 L 298.0 127.6 \" fill=\"#000000\"/>\n",
       "<path class=\"atom-101\" d=\"M 289.8 139.7 L 290.7 139.7 L 290.7 142.4 L 294.0 142.4 L 294.0 139.7 L 294.9 139.7 L 294.9 146.2 L 294.0 146.2 L 294.0 143.2 L 290.7 143.2 L 290.7 146.2 L 289.8 146.2 L 289.8 139.7 \" fill=\"#000000\"/>\n",
       "<path class=\"atom-102\" d=\"M 260.7 120.9 L 261.6 120.9 L 261.6 123.7 L 264.9 123.7 L 264.9 120.9 L 265.7 120.9 L 265.7 127.4 L 264.9 127.4 L 264.9 124.4 L 261.6 124.4 L 261.6 127.4 L 260.7 127.4 L 260.7 120.9 \" fill=\"#000000\"/>\n",
       "<path class=\"atom-103\" d=\"M 252.3 133.0 L 253.1 133.0 L 253.1 135.7 L 256.4 135.7 L 256.4 133.0 L 257.3 133.0 L 257.3 139.4 L 256.4 139.4 L 256.4 136.5 L 253.1 136.5 L 253.1 139.4 L 252.3 139.4 L 252.3 133.0 \" fill=\"#000000\"/>\n",
       "<path class=\"atom-104\" d=\"M 251.1 151.9 L 252.0 151.9 L 252.0 154.7 L 255.3 154.7 L 255.3 151.9 L 256.1 151.9 L 256.1 158.4 L 255.3 158.4 L 255.3 155.4 L 252.0 155.4 L 252.0 158.4 L 251.1 158.4 L 251.1 151.9 \" fill=\"#000000\"/>\n",
       "<path class=\"atom-105\" d=\"M 264.9 160.7 L 265.8 160.7 L 265.8 163.5 L 269.1 163.5 L 269.1 160.7 L 269.9 160.7 L 269.9 167.2 L 269.1 167.2 L 269.1 164.2 L 265.8 164.2 L 265.8 167.2 L 264.9 167.2 L 264.9 160.7 \" fill=\"#000000\"/>\n",
       "<path class=\"atom-106\" d=\"M 294.6 150.8 L 295.5 150.8 L 295.5 153.6 L 298.8 153.6 L 298.8 150.8 L 299.7 150.8 L 299.7 157.3 L 298.8 157.3 L 298.8 154.3 L 295.5 154.3 L 295.5 157.3 L 294.6 157.3 L 294.6 150.8 \" fill=\"#000000\"/>\n",
       "<path class=\"atom-107\" d=\"M 294.8 182.6 L 295.7 182.6 L 295.7 185.4 L 299.0 185.4 L 299.0 182.6 L 299.9 182.6 L 299.9 189.1 L 299.0 189.1 L 299.0 186.1 L 295.7 186.1 L 295.7 189.1 L 294.8 189.1 L 294.8 182.6 \" fill=\"#000000\"/>\n",
       "<path class=\"atom-108\" d=\"M 268.0 170.5 L 268.9 170.5 L 268.9 173.2 L 272.2 173.2 L 272.2 170.5 L 273.0 170.5 L 273.0 176.9 L 272.2 176.9 L 272.2 173.9 L 268.9 173.9 L 268.9 176.9 L 268.0 176.9 L 268.0 170.5 \" fill=\"#000000\"/>\n",
       "<path class=\"atom-109\" d=\"M 252.8 178.8 L 253.7 178.8 L 253.7 181.5 L 257.0 181.5 L 257.0 178.8 L 257.9 178.8 L 257.9 185.3 L 257.0 185.3 L 257.0 182.3 L 253.7 182.3 L 253.7 185.3 L 252.8 185.3 L 252.8 178.8 \" fill=\"#000000\"/>\n",
       "<path class=\"atom-110\" d=\"M 283.4 194.7 L 284.2 194.7 L 284.2 197.4 L 287.5 197.4 L 287.5 194.7 L 288.4 194.7 L 288.4 201.1 L 287.5 201.1 L 287.5 198.2 L 284.2 198.2 L 284.2 201.1 L 283.4 201.1 L 283.4 194.7 \" fill=\"#000000\"/>\n",
       "<path class=\"atom-111\" d=\"M 277.1 208.0 L 278.0 208.0 L 278.0 210.7 L 281.3 210.7 L 281.3 208.0 L 282.1 208.0 L 282.1 214.4 L 281.3 214.4 L 281.3 211.5 L 278.0 211.5 L 278.0 214.4 L 277.1 214.4 L 277.1 208.0 \" fill=\"#000000\"/>\n",
       "<path class=\"atom-112\" d=\"M 248.8 190.9 L 249.7 190.9 L 249.7 193.7 L 253.0 193.7 L 253.0 190.9 L 253.8 190.9 L 253.8 197.4 L 253.0 197.4 L 253.0 194.4 L 249.7 194.4 L 249.7 197.4 L 248.8 197.4 L 248.8 190.9 \" fill=\"#000000\"/>\n",
       "<path class=\"atom-113\" d=\"M 242.1 203.7 L 243.0 203.7 L 243.0 206.4 L 246.3 206.4 L 246.3 203.7 L 247.2 203.7 L 247.2 210.2 L 246.3 210.2 L 246.3 207.2 L 243.0 207.2 L 243.0 210.2 L 242.1 210.2 L 242.1 203.7 \" fill=\"#000000\"/>\n",
       "<path class=\"atom-114\" d=\"M 272.1 219.1 L 273.0 219.1 L 273.0 221.8 L 276.3 221.8 L 276.3 219.1 L 277.1 219.1 L 277.1 225.5 L 276.3 225.5 L 276.3 222.6 L 273.0 222.6 L 273.0 225.5 L 272.1 225.5 L 272.1 219.1 \" fill=\"#000000\"/>\n",
       "<path class=\"atom-115\" d=\"M 265.1 231.7 L 266.0 231.7 L 266.0 234.5 L 269.3 234.5 L 269.3 231.7 L 270.2 231.7 L 270.2 238.2 L 269.3 238.2 L 269.3 235.2 L 266.0 235.2 L 266.0 238.2 L 265.1 238.2 L 265.1 231.7 \" fill=\"#000000\"/>\n",
       "<path class=\"atom-116\" d=\"M 236.4 214.4 L 237.3 214.4 L 237.3 217.2 L 240.6 217.2 L 240.6 214.4 L 241.5 214.4 L 241.5 220.9 L 240.6 220.9 L 240.6 217.9 L 237.3 217.9 L 237.3 220.9 L 236.4 220.9 L 236.4 214.4 \" fill=\"#000000\"/>\n",
       "<path class=\"atom-117\" d=\"M 229.3 226.9 L 230.2 226.9 L 230.2 229.6 L 233.5 229.6 L 233.5 226.9 L 234.4 226.9 L 234.4 233.3 L 233.5 233.3 L 233.5 230.3 L 230.2 230.3 L 230.2 233.3 L 229.3 233.3 L 229.3 226.9 \" fill=\"#000000\"/>\n",
       "<path class=\"atom-118\" d=\"M 259.1 242.3 L 260.0 242.3 L 260.0 245.1 L 263.3 245.1 L 263.3 242.3 L 264.2 242.3 L 264.2 248.8 L 263.3 248.8 L 263.3 245.8 L 260.0 245.8 L 260.0 248.8 L 259.1 248.8 L 259.1 242.3 \" fill=\"#000000\"/>\n",
       "<path class=\"atom-119\" d=\"M 252.0 255.0 L 252.9 255.0 L 252.9 257.8 L 256.2 257.8 L 256.2 255.0 L 257.0 255.0 L 257.0 261.5 L 256.2 261.5 L 256.2 258.5 L 252.9 258.5 L 252.9 261.5 L 252.0 261.5 L 252.0 255.0 \" fill=\"#000000\"/>\n",
       "<path class=\"atom-120\" d=\"M 223.1 237.4 L 224.0 237.4 L 224.0 240.1 L 227.3 240.1 L 227.3 237.4 L 228.2 237.4 L 228.2 243.8 L 227.3 243.8 L 227.3 240.8 L 224.0 240.8 L 224.0 243.8 L 223.1 243.8 L 223.1 237.4 \" fill=\"#000000\"/>\n",
       "<path class=\"atom-121\" d=\"M 215.8 250.3 L 216.6 250.3 L 216.6 253.0 L 219.9 253.0 L 219.9 250.3 L 220.8 250.3 L 220.8 256.7 L 219.9 256.7 L 219.9 253.7 L 216.6 253.7 L 216.6 256.7 L 215.8 256.7 L 215.8 250.3 \" fill=\"#000000\"/>\n",
       "<path class=\"atom-122\" d=\"M 245.9 265.6 L 246.8 265.6 L 246.8 268.3 L 250.1 268.3 L 250.1 265.6 L 251.0 265.6 L 251.0 272.0 L 250.1 272.0 L 250.1 269.0 L 246.8 269.0 L 246.8 272.0 L 245.9 272.0 L 245.9 265.6 \" fill=\"#000000\"/>\n",
       "<path class=\"atom-123\" d=\"M 238.5 278.5 L 239.3 278.5 L 239.3 281.3 L 242.6 281.3 L 242.6 278.5 L 243.5 278.5 L 243.5 285.0 L 242.6 285.0 L 242.6 282.0 L 239.3 282.0 L 239.3 285.0 L 238.5 285.0 L 238.5 278.5 \" fill=\"#000000\"/>\n",
       "<path class=\"atom-124\" d=\"M 217.8 272.9 L 218.7 272.9 L 218.7 275.7 L 222.0 275.7 L 222.0 272.9 L 222.8 272.9 L 222.8 279.4 L 222.0 279.4 L 222.0 276.4 L 218.7 276.4 L 218.7 279.4 L 217.8 279.4 L 217.8 272.9 \" fill=\"#000000\"/>\n",
       "</svg>"
      ],
      "text/plain": [
       "<IPython.core.display.SVG object>"
      ]
     },
     "execution_count": 6,
     "metadata": {},
     "output_type": "execute_result"
    }
   ],
   "source": [
    "# Specify lipid you would like to parameterize \"headgroup+tailgroup\" or \"sterol\" (ex. 'POPC' or 'cholesterol') from the library of lipids\n",
    "Lipid_name = 'POPE'\n",
    "lipid_smiles, HG_pull_atom = BuildLipid.makeLipidSmiles(Lipid_name, df)\n",
    "\n",
    "\n",
    "# if you want a lipid that is not yet supplied by the library, uncomment the 3 lines below and replace smiles string with your desired lipid,\n",
    "# the pull atom with an atom in the headgroup, and the Lipid name with the common name or the lipid\n",
    "\n",
    "# lipid_smiles = 'CCCCCCCCCCCCCCCC(=O)OC[C@H](COP(=O)([O-])OCC[N+](C)(C)C)OC(=O)CCCCCCC/C=C\\CCCCCCCC'\n",
    "# HG_pull_atom = 'N1x' #note that atom naming is openff format: atom type + atom number + x\n",
    "# Lipid_name = 'POPC'\n",
    "\n",
    "\n",
    "lipid = Molecule.from_smiles(lipid_smiles,allow_undefined_stereo=True)\n",
    "lipid.generate_conformers()\n",
    "lipid.visualize()"
   ]
  },
  {
   "cell_type": "code",
   "execution_count": 7,
   "metadata": {},
   "outputs": [
    {
     "data": {
      "text/plain": [
       "'O([P@@]([O-])(OC[C@@H]([NH3+])(C(=O)([O-])))(=O))C[C@H](COC(=O)CCCCCCCCCCCCCCC)(OC(=O)CCCCCCC\\\\C=C/CCCCCCCC)'"
      ]
     },
     "execution_count": 7,
     "metadata": {},
     "output_type": "execute_result"
    }
   ],
   "source": [
    "lipid_smiles"
   ]
  },
  {
   "cell_type": "code",
   "execution_count": 13,
   "metadata": {},
   "outputs": [],
   "source": [
    "#parameterize lipid with openff interchange\n",
    "\n",
    "# Assign partial charges via OpenFF NAGL\n",
    "lipid.assign_partial_charges(\"openff-gnn-am1bcc-0.1.0-rc.3.pt\", toolkit_registry=NAGLToolkitWrapper())\n",
    "lipid.partial_charges\n",
    "\n",
    "\n",
    "lipid.name = Lipid_name\n",
    "for i, atom in enumerate(lipid.atoms, 0):\n",
    "    atom.metadata[\"residue_name\"] = Lipid_name\n",
    "lipid.generate_unique_atom_names() \n",
    "topology = Topology.from_molecules([lipid])\n",
    "\n",
    "# Specify forcefield\n",
    "forcefield = ForceField(\"openff-2.2.0.offxml\")\n",
    "\n",
    "interchange = Interchange.from_smirnoff(\n",
    "    force_field=forcefield,\n",
    "    topology=topology,\n",
    "    charge_from_molecules = [lipid]\n",
    ")\n",
    "interchange  \n",
    "\n",
    "interchange.to_top(f\"{Lipid_name}.top\") #, decimal = 3, hydrogen_mass = 3) #for hygrogen mass repartitioning.. probably need another topology file filder for HMR\n",
    "# or is there from grompp option to change topology file that can be used downstream?\n",
    "interchange.to_gro(f\"{Lipid_name}.gro\")"
   ]
  },
  {
   "cell_type": "code",
   "execution_count": null,
   "metadata": {},
   "outputs": [],
   "source": [
    "#build a water model and parameterize with openff interchange\n",
    "\n",
    "water_model = 'TIP3P'\n",
    "water = Molecule.from_smiles('O')\n",
    "water.generate_conformers()\n",
    "water.name = water_model\n",
    "\n",
    "for i, atom in enumerate(water.atoms, 3):\n",
    "    atom.metadata[\"residue_name\"] = water_model\n",
    "water.generate_unique_atom_names() \n",
    "topology = Topology.from_molecules([water])\n",
    "\n",
    "\n",
    "interchange = Interchange.from_smirnoff(\n",
    "    force_field=forcefield,\n",
    "    topology=topology,\n",
    ")\n",
    "interchange\n",
    "\n",
    "# PDB structure for Packmol\n",
    "interchange.to_pdb(f\"{water_model}.pdb\")\n",
    "interchange.to_top(f\"{water_model}.top\")"
   ]
  },
  {
   "cell_type": "code",
   "execution_count": 14,
   "metadata": {},
   "outputs": [
    {
     "name": "stderr",
     "output_type": "stream",
     "text": [
      "                     :-) GROMACS - gmx make_ndx, 2023.1 (-:\n",
      "\n",
      "Executable:   /home/julianne/pkgs/gromacs-2023.1/bin/gmx\n",
      "Data prefix:  /home/julianne/pkgs/gromacs-2023.1\n",
      "Working dir:  /media/julianne/DATA/Lipids/OpenFFLipid/Workflow\n",
      "Command line:\n",
      "  gmx make_ndx -f POPS.gro -o N1x.ndx\n",
      "\n",
      "\n",
      "Reading structure file\n",
      "\n",
      "GROMACS reminds you: \"And I Will Strike Down Upon Thee With Great Vengeance and With Furious Anger Those Who Attempt to Poison and Destroy My Brothers.\" (Pulp Fiction)\n",
      "\n",
      "                      :-) GROMACS - gmx grompp, 2023.1 (-:\n",
      "\n",
      "Executable:   /home/julianne/pkgs/gromacs-2023.1/bin/gmx\n",
      "Data prefix:  /home/julianne/pkgs/gromacs-2023.1\n",
      "Working dir:  /media/julianne/DATA/Lipids/OpenFFLipid/Workflow\n",
      "Command line:\n",
      "  gmx grompp -f scripts/runPull.mdp -c POPS.gro -p POPS.top -n N1x.ndx -o pull.tpr -maxwarn 2\n",
      "\n",
      "Generating 1-4 interactions: fudge = 0.5\n",
      "\n",
      "NOTE 1 [file POPS.top, line 1432]:\n",
      "  System has non-zero total charge: -1.000000\n",
      "  Total charge should normally be an integer. See\n",
      "  http://www.gromacs.org/Documentation/Floating_Point_Arithmetic\n",
      "  for discussion on how close it should be to an integer.\n",
      "\n",
      "\n",
      "\n",
      "\n",
      "WARNING 1 [file POPS.top, line 1432]:\n",
      "  You are using Ewald electrostatics in a system with net charge. This can\n",
      "  lead to severe artifacts, such as ions moving into regions with low\n",
      "  dielectric, due to the uniform background charge. We suggest to\n",
      "  neutralize your system with counter ions, possibly in combination with a\n",
      "  physiological salt concentration.\n",
      "\n",
      "Pull group 1 'pull_atom' has 1 atoms\n",
      "Number of degrees of freedom in T-Coupling group System is 303.00\n",
      "\n",
      "NOTE 2 [file scripts/runPull.mdp]:\n",
      "  You are using geometric combination rules in LJ-PME, but your non-bonded\n",
      "  C6 parameters do not follow these rules. This will introduce very small\n",
      "  errors in the forces and energies in your simulations. Dispersion\n",
      "  correction will correct total energy and/or pressure for isotropic\n",
      "  systems, but not forces or surface tensions.\n",
      "\n",
      "\n",
      "WARNING 2 [file scripts/runPull.mdp]:\n",
      "  You are using an absolute reference for pulling, but the rest of the\n",
      "  system does not have an absolute reference. This will lead to artifacts.\n",
      "\n",
      "Pull group  natoms  pbc atom  distance at start  reference at t=0\n",
      "       0         0         0\n",
      "       1         1         0       0.209 nm          0.209 nm\n",
      "\n",
      "NOTE 3 [file scripts/runPull.mdp]:\n",
      "  The optimal PME mesh load for parallel simulations is below 0.5\n",
      "  and for highly parallel simulations between 0.25 and 0.33,\n",
      "  for higher performance, increase the cut-off and the PME grid spacing.\n",
      "\n",
      "\n",
      "\n",
      "There were 3 NOTEs\n",
      "\n",
      "There were 2 WARNINGs\n",
      "\n",
      "GROMACS reminds you: \"Years of calculations and the stress, My science is waiting, nearly complete\" (Midlake)\n",
      "\n",
      "                      :-) GROMACS - gmx mdrun, 2023.1 (-:\n",
      "\n",
      "Executable:   /home/julianne/pkgs/gromacs-2023.1/bin/gmx\n",
      "Data prefix:  /home/julianne/pkgs/gromacs-2023.1\n",
      "Working dir:  /media/julianne/DATA/Lipids/OpenFFLipid/Workflow\n",
      "Command line:\n",
      "  gmx mdrun -deffnm pull\n",
      "\n",
      "Reading file pull.tpr, VERSION 2023.1 (single precision)\n",
      "Changing nstlist from 40 to 100, rlist from 1 to 1\n",
      "\n",
      "Update groups can not be used for this system because atoms that are (in)directly constrained together are interdispersed with other atoms\n",
      "\n",
      "Using 1 MPI thread\n",
      "Using 16 OpenMP threads \n",
      "\n"
     ]
    },
    {
     "name": "stdout",
     "output_type": "stream",
     "text": [
      "Going to read 0 old index file(s)\n",
      "Analysing residue names:\n",
      "There are:     1      Other residues\n",
      "Analysing residues not classified as Protein/DNA/RNA/Water and splitting into groups...\n",
      "\n",
      "  0 System              :   127 atoms\n",
      "  1 Other               :   127 atoms\n",
      "  2 POPS                :   127 atoms\n",
      "\n",
      " nr : group      '!': not  'name' nr name   'splitch' nr    Enter: list groups\n",
      " 'a': atom       '&': and  'del' nr         'splitres' nr   'l': list residues\n",
      " 't': atom type  '|': or   'keep' nr        'splitat' nr    'h': help\n",
      " 'r': residue              'res' nr         'chain' char\n",
      " \"name\": group             'case': case sensitive           'q': save and quit\n",
      " 'ri': residue index\n",
      "\n",
      "> \n",
      "Found 1 atoms with name N1X\n",
      "\n",
      "> \n",
      "\n",
      "> \n",
      "Setting the LD random seed to 2099241915\n",
      "\n",
      "Generated 8128 of the 8128 non-bonded parameter combinations\n",
      "\n",
      "Generated 8128 of the 8128 1-4 parameter combinations\n",
      "\n",
      "Excluding 3 bonded neighbours molecule type 'POPS'\n",
      "\n",
      "turning H bonds into constraints...\n",
      "\n",
      "++++ PLEASE READ AND CITE THE FOLLOWING REFERENCE ++++\n",
      "J. S. Hub, B. L. de Groot, H. Grubmueller, G. Groenhof\n",
      "Quantifying Artifacts in Ewald Simulations of Inhomogeneous Systems with a Net\n",
      "Charge\n",
      "J. Chem. Theory Comput. 10 (2014) pp. 381-393\n",
      "-------- -------- --- Thank You --- -------- --------\n",
      "\n",
      "\n",
      "Setting gen_seed to 2142764921\n",
      "\n",
      "Velocities were taken from a Maxwell distribution at 300 K\n",
      "\n",
      "The largest distance between excluded atoms is 0.396 nm between atom 49 and 52\n",
      "\n",
      "Determining Verlet buffer for a tolerance of 0.005 kJ/mol/ps at 300 K\n",
      "\n",
      "Calculated rlist for 1x1 atom pair-list as 1.022 nm, buffer size 0.022 nm\n",
      "\n",
      "Set rlist, assuming 4x4 atom pair-list, to 1.000 nm, buffer size 0.000 nm\n",
      "\n",
      "Note that mdrun will redetermine rlist based on the actual pair-list setup\n",
      "Calculating fourier grid dimensions for X Y Z\n",
      "Using a fourier grid of 42x42x42, spacing 0.119 0.119 0.119\n",
      "\n",
      "Estimate for the relative computational load of the PME mesh part: 0.99\n",
      "\n",
      "This run will generate roughly 0 Mb of data\n"
     ]
    },
    {
     "name": "stderr",
     "output_type": "stream",
     "text": [
      "starting mdrun 'FOO'\n",
      "25000 steps,     50.0 ps.\n"
     ]
    },
    {
     "name": "stdout",
     "output_type": "stream",
     "text": [
      "Note that major changes are planned in future for editconf, to improve usability and utility.\n",
      "Read 127 atoms\n",
      "Volume: 125 nm^3, corresponds to roughly 56200 electrons\n",
      "Velocities found\n"
     ]
    },
    {
     "name": "stderr",
     "output_type": "stream",
     "text": [
      "\n",
      "Writing final coordinates.\n",
      "\n",
      "               Core t (s)   Wall t (s)        (%)\n",
      "       Time:      279.198       17.451     1599.9\n",
      "                 (ns/day)    (hour/ns)\n",
      "Performance:      247.562        0.097\n",
      "\n",
      "GROMACS reminds you: \"Pretend That You're Hercule Poirot\" (TeX)\n",
      "\n",
      "                     :-) GROMACS - gmx editconf, 2023.1 (-:\n",
      "\n",
      "Executable:   /home/julianne/pkgs/gromacs-2023.1/bin/gmx\n",
      "Data prefix:  /home/julianne/pkgs/gromacs-2023.1\n",
      "Working dir:  /media/julianne/DATA/Lipids/OpenFFLipid/Workflow\n",
      "Command line:\n",
      "  gmx editconf -f pull.gro -o POPS.pdb\n",
      "\n",
      "\n",
      "Back Off! I just backed up POPS.pdb to ./#POPS.pdb.1#\n",
      "\n",
      "GROMACS reminds you: \"Pretend That You're Hercule Poirot\" (TeX)\n",
      "\n"
     ]
    }
   ],
   "source": [
    "# the lipid is not in an optimal packing configuration, run code to \"straighten out\" lipid\n",
    "\n",
    "pull_new_lipid(f'{Lipid_name}', HG_pull_atom)"
   ]
  },
  {
   "cell_type": "code",
   "execution_count": 7,
   "metadata": {},
   "outputs": [
    {
     "name": "stdout",
     "output_type": "stream",
     "text": [
      "POPS.pdb saved to /media/julianne/DATA/Lipids/OpenFFLipid/Workflow/Dictionary/lipids_parameterized/POPS/POPS.pdb\n",
      "POPS.top saved to /media/julianne/DATA/Lipids/OpenFFLipid/Workflow/Dictionary/lipids_parameterized/POPS/POPS.top\n"
     ]
    }
   ],
   "source": [
    "# save the pulled lipid pdb to folder, creates a folder for specific lipid if it doesnt already exist\n",
    "\n",
    "file_paths = [f'{Lipid_name}.pdb', f'{Lipid_name}.top'] \n",
    "saveInterchange(Lipid_name, file_paths)\n",
    "\n",
    "# once we have a large enough library of pulled lipids, we will no longer have to run pulling commmands for each lipid"
   ]
  },
  {
   "cell_type": "markdown",
   "metadata": {},
   "source": [
    "### Use trjconv to produce a pdb of the lipid after pull code. Visualize with nglview to confirm \n"
   ]
  },
  {
   "cell_type": "code",
   "execution_count": 7,
   "metadata": {
    "scrolled": true
   },
   "outputs": [
    {
     "data": {
      "application/vnd.jupyter.widget-view+json": {
       "model_id": "9d96937eb7d041ff8eac6e2552b5acf3",
       "version_major": 2,
       "version_minor": 0
      },
      "text/plain": [
       "NGLWidget()"
      ]
     },
     "metadata": {},
     "output_type": "display_data"
    }
   ],
   "source": [
    "#visualize the pulled lipid using ngl view\n",
    "view = nglview.show_structure_file(f'Dictionary/lipids_parameterized/{Lipid_name}/{Lipid_name}.pdb')\n",
    "view\n"
   ]
  },
  {
   "cell_type": "code",
   "execution_count": 8,
   "metadata": {},
   "outputs": [
    {
     "name": "stdout",
     "output_type": "stream",
     "text": [
      "/media/julianne/DATA/Lipids/OpenFFLipid/Workflow/Dictionary/lipids_parameterized/POPE/POPE.pdb\n"
     ]
    },
    {
     "name": "stderr",
     "output_type": "stream",
     "text": [
      "/home/julianne/miniconda3/envs/openff_clone/lib/python3.11/site-packages/MDAnalysis/topology/PDBParser.py:331: UserWarning: Element information is missing, elements attribute will not be populated. If needed these can be guessed using MDAnalysis.topology.guessers.\n",
      "  warnings.warn(\"Element information is missing, elements attribute \"\n"
     ]
    }
   ],
   "source": [
    "# save the pulled lipid data to a csv. YOU WILL NEED TO MANUALLY FIND A TERMINAL ATOM IN THE LIPID TAIL (last carbon in sn1 or sn2)\n",
    "lipid = Lipid(\n",
    "    name=Lipid_name,\n",
    "    headgroup_atom=HG_pull_atom,  \n",
    "    headgroup_atom_index=None, \n",
    "    tailgroup_atom='C39x',  # this needs to be changed for every simulation\n",
    "    tailgroup_atom_index=None,\n",
    "    distance=None,  \n",
    "    experimental_density=None  # Example value in g/cm^3, not necessary but may be helpful in the future?\n",
    ")\n",
    "\n",
    "# Calculate lipid length (distance between headgroup and tailgroup)\n",
    "calcLipidLength(lipid, Lipid_name)\n",
    "\n",
    "# # Save the lipid to the CSV file with all its corresponding information\n",
    "# saveLipidCsv(lipid)"
   ]
  },
  {
   "cell_type": "code",
   "execution_count": 9,
   "metadata": {},
   "outputs": [
    {
     "name": "stdout",
     "output_type": "stream",
     "text": [
      "Lipid 'POPE' saved to CSV location: Dictionary/PulledLipid.csv.\n"
     ]
    }
   ],
   "source": [
    "# Save the lipid to the CSV file with all its corresponding information\n",
    "saveLipidCsv(lipid)"
   ]
  },
  {
   "cell_type": "code",
   "execution_count": null,
   "metadata": {},
   "outputs": [],
   "source": []
  }
 ],
 "metadata": {
  "kernelspec": {
   "display_name": "openff_clone",
   "language": "python",
   "name": "python3"
  },
  "language_info": {
   "codemirror_mode": {
    "name": "ipython",
    "version": 3
   },
   "file_extension": ".py",
   "mimetype": "text/x-python",
   "name": "python",
   "nbconvert_exporter": "python",
   "pygments_lexer": "ipython3",
   "version": "3.11.7"
  }
 },
 "nbformat": 4,
 "nbformat_minor": 4
}
