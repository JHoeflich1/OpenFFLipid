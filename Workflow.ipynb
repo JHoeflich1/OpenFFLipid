{
 "cells": [
  {
   "cell_type": "markdown",
   "metadata": {},
   "source": [
    "### This notebook will walk you through how to build a lipid bilayer, starting from any arbitrary smiles string using OpenFF's interchange\n",
    "\n",
    "Import all dependencies "
   ]
  },
  {
   "cell_type": "code",
   "execution_count": 3,
   "metadata": {},
   "outputs": [],
   "source": [
    "from io import StringIO\n",
    "from typing import Iterable\n",
    "import numpy as np\n",
    "import matplotlib.pyplot as plt\n",
    "\n",
    "from rdkit import Chem\n",
    "import MDAnalysis as mda\n",
    "from MDAnalysis.analysis import distances\n",
    "from openff.toolkit import ForceField, Molecule, Topology\n",
    "from openff.toolkit.utils.toolkits import OpenEyeToolkitWrapper\n",
    "\n",
    "import openff.nagl\n",
    "from openff.nagl import GNNModel \n",
    "from openff.nagl_models import list_available_nagl_models\n",
    "# If ypu want a diff toolkit wrapper check out https://docs.openforcefield.org/projects/nagl/en/latest/toolkit_wrappers.html\n",
    "from openff.units import Quantity, unit\n",
    "from openmm import unit as openmm_unit\n",
    "from openff.interchange import Interchange\n",
    "\n",
    "import nglview"
   ]
  },
  {
   "cell_type": "code",
   "execution_count": 5,
   "metadata": {},
   "outputs": [],
   "source": [
    "import subprocess"
   ]
  },
  {
   "cell_type": "markdown",
   "metadata": {},
   "source": [
    "To use NAGL to assign charges, first make sure you have the correct model dowloaded. List all models and specify the path"
   ]
  },
  {
   "cell_type": "code",
   "execution_count": 2,
   "metadata": {},
   "outputs": [
    {
     "data": {
      "text/plain": [
       "[PosixPath('/home/julianne/miniconda3/envs/openff_clone/lib/python3.11/site-packages/openff/nagl_models/models/am1bcc/openff-gnn-am1bcc-0.0.1-alpha.1.pt'),\n",
       " PosixPath('/home/julianne/miniconda3/envs/openff_clone/lib/python3.11/site-packages/openff/nagl_models/models/am1bcc/openff-gnn-am1bcc-0.1.0-rc.1.pt'),\n",
       " PosixPath('/home/julianne/miniconda3/envs/openff_clone/lib/python3.11/site-packages/openff/nagl_models/models/am1bcc/openff-gnn-am1bcc-0.1.0-rc.2.pt')]"
      ]
     },
     "execution_count": 2,
     "metadata": {},
     "output_type": "execute_result"
    }
   ],
   "source": [
    "list_available_nagl_models()"
   ]
  },
  {
   "cell_type": "code",
   "execution_count": 4,
   "metadata": {},
   "outputs": [],
   "source": [
    "model_path = '/home/julianne/miniconda3/envs/openff_clone/lib/python3.11/site-packages/openff/nagl_models/models/am1bcc/openff-gnn-am1bcc-0.1.0-rc.2.pt'\n",
    "# Change model_path to your folder\n",
    "model = GNNModel.load(model_path)"
   ]
  },
  {
   "cell_type": "markdown",
   "metadata": {},
   "source": [
    "### Build lipid and water from smiles string and use OpenFF Interchange to parameterize\n",
    "\n",
    "Think about making a dictionary of smiles strings so user only has to specify the lipid name"
   ]
  },
  {
   "cell_type": "code",
   "execution_count": 15,
   "metadata": {},
   "outputs": [
    {
     "name": "stdout",
     "output_type": "stream",
     "text": [
      "CCCCCCCCCCCCCCCC(=O)OC[C@H](OC(=O)CCCCCCC\\C=C/CCCCCCCC)(CO[P@@]([O-])(OCC[NH3+])(=O))\n"
     ]
    }
   ],
   "source": [
    "Lipid = 'POPE'\n",
    "result = subprocess.run([\"python3\", \"BuildLipid.py\", \"--lipid\", Lipid], capture_output=True, text=True)\n",
    "\n",
    "# Capture and strip the result to remove any extra whitespace or newline characters\n",
    "smiles = result.stdout.strip()\n",
    "\n",
    "print(smiles)"
   ]
  },
  {
   "cell_type": "code",
   "execution_count": null,
   "metadata": {},
   "outputs": [],
   "source": []
  },
  {
   "cell_type": "code",
   "execution_count": 16,
   "metadata": {},
   "outputs": [
    {
     "name": "stderr",
     "output_type": "stream",
     "text": [
      "Warning: Cannot perform Hydrogen sampling with GPU-Omega: GPU-Omega disabled.\n",
      "Warning: : Failed due to unspecified stereochemistry\n"
     ]
    },
    {
     "data": {
      "image/svg+xml": [
       "<svg xmlns=\"http://www.w3.org/2000/svg\" xmlns:rdkit=\"http://www.rdkit.org/xml\" xmlns:xlink=\"http://www.w3.org/1999/xlink\" version=\"1.1\" baseProfile=\"full\" xml:space=\"preserve\" width=\"500px\" height=\"300px\" viewBox=\"0 0 500 300\">\n",
       "<!-- END OF HEADER -->\n",
       "<rect style=\"opacity:1.0;fill:#FFFFFF;stroke:none\" width=\"500.0\" height=\"300.0\" x=\"0.0\" y=\"0.0\"> </rect>\n",
       "<path class=\"bond-0 atom-0 atom-1\" d=\"M 87.8,47.4 L 101.0,39.8\" style=\"fill:none;fill-rule:evenodd;stroke:#000000;stroke-width:2.0px;stroke-linecap:butt;stroke-linejoin:miter;stroke-opacity:1\"/>\n",
       "<path class=\"bond-1 atom-1 atom-2\" d=\"M 101.0,39.8 L 114.5,47.4\" style=\"fill:none;fill-rule:evenodd;stroke:#000000;stroke-width:2.0px;stroke-linecap:butt;stroke-linejoin:miter;stroke-opacity:1\"/>\n",
       "<path class=\"bond-2 atom-2 atom-3\" d=\"M 114.5,47.4 L 127.8,39.7\" style=\"fill:none;fill-rule:evenodd;stroke:#000000;stroke-width:2.0px;stroke-linecap:butt;stroke-linejoin:miter;stroke-opacity:1\"/>\n",
       "<path class=\"bond-3 atom-3 atom-4\" d=\"M 127.8,39.7 L 141.2,47.3\" style=\"fill:none;fill-rule:evenodd;stroke:#000000;stroke-width:2.0px;stroke-linecap:butt;stroke-linejoin:miter;stroke-opacity:1\"/>\n",
       "<path class=\"bond-4 atom-4 atom-5\" d=\"M 141.2,47.3 L 154.4,39.7\" style=\"fill:none;fill-rule:evenodd;stroke:#000000;stroke-width:2.0px;stroke-linecap:butt;stroke-linejoin:miter;stroke-opacity:1\"/>\n",
       "<path class=\"bond-5 atom-5 atom-6\" d=\"M 154.4,39.7 L 167.7,47.2\" style=\"fill:none;fill-rule:evenodd;stroke:#000000;stroke-width:2.0px;stroke-linecap:butt;stroke-linejoin:miter;stroke-opacity:1\"/>\n",
       "<path class=\"bond-6 atom-6 atom-7\" d=\"M 167.7,47.2 L 181.0,39.6\" style=\"fill:none;fill-rule:evenodd;stroke:#000000;stroke-width:2.0px;stroke-linecap:butt;stroke-linejoin:miter;stroke-opacity:1\"/>\n",
       "<path class=\"bond-7 atom-7 atom-8\" d=\"M 181.0,39.6 L 194.2,47.2\" style=\"fill:none;fill-rule:evenodd;stroke:#000000;stroke-width:2.0px;stroke-linecap:butt;stroke-linejoin:miter;stroke-opacity:1\"/>\n",
       "<path class=\"bond-8 atom-8 atom-9\" d=\"M 194.2,47.2 L 207.5,39.6\" style=\"fill:none;fill-rule:evenodd;stroke:#000000;stroke-width:2.0px;stroke-linecap:butt;stroke-linejoin:miter;stroke-opacity:1\"/>\n",
       "<path class=\"bond-9 atom-9 atom-10\" d=\"M 207.5,39.6 L 220.7,47.2\" style=\"fill:none;fill-rule:evenodd;stroke:#000000;stroke-width:2.0px;stroke-linecap:butt;stroke-linejoin:miter;stroke-opacity:1\"/>\n",
       "<path class=\"bond-10 atom-10 atom-11\" d=\"M 220.7,47.2 L 234.1,39.6\" style=\"fill:none;fill-rule:evenodd;stroke:#000000;stroke-width:2.0px;stroke-linecap:butt;stroke-linejoin:miter;stroke-opacity:1\"/>\n",
       "<path class=\"bond-11 atom-11 atom-12\" d=\"M 234.1,39.6 L 247.4,47.3\" style=\"fill:none;fill-rule:evenodd;stroke:#000000;stroke-width:2.0px;stroke-linecap:butt;stroke-linejoin:miter;stroke-opacity:1\"/>\n",
       "<path class=\"bond-12 atom-12 atom-13\" d=\"M 247.4,47.3 L 260.8,39.7\" style=\"fill:none;fill-rule:evenodd;stroke:#000000;stroke-width:2.0px;stroke-linecap:butt;stroke-linejoin:miter;stroke-opacity:1\"/>\n",
       "<path class=\"bond-13 atom-13 atom-14\" d=\"M 260.8,39.7 L 273.9,47.2\" style=\"fill:none;fill-rule:evenodd;stroke:#000000;stroke-width:2.0px;stroke-linecap:butt;stroke-linejoin:miter;stroke-opacity:1\"/>\n",
       "<path class=\"bond-14 atom-14 atom-15\" d=\"M 273.9,47.2 L 286.6,39.7\" style=\"fill:none;fill-rule:evenodd;stroke:#000000;stroke-width:2.0px;stroke-linecap:butt;stroke-linejoin:miter;stroke-opacity:1\"/>\n",
       "<path class=\"bond-15 atom-15 atom-16\" d=\"M 287.7,40.3 L 287.6,34.3\" style=\"fill:none;fill-rule:evenodd;stroke:#000000;stroke-width:2.0px;stroke-linecap:butt;stroke-linejoin:miter;stroke-opacity:1\"/>\n",
       "<path class=\"bond-15 atom-15 atom-16\" d=\"M 287.6,34.3 L 287.6,28.3\" style=\"fill:none;fill-rule:evenodd;stroke:#FF0000;stroke-width:2.0px;stroke-linecap:butt;stroke-linejoin:miter;stroke-opacity:1\"/>\n",
       "<path class=\"bond-15 atom-15 atom-16\" d=\"M 285.4,40.3 L 285.4,34.3\" style=\"fill:none;fill-rule:evenodd;stroke:#000000;stroke-width:2.0px;stroke-linecap:butt;stroke-linejoin:miter;stroke-opacity:1\"/>\n",
       "<path class=\"bond-15 atom-15 atom-16\" d=\"M 285.4,34.3 L 285.3,28.3\" style=\"fill:none;fill-rule:evenodd;stroke:#FF0000;stroke-width:2.0px;stroke-linecap:butt;stroke-linejoin:miter;stroke-opacity:1\"/>\n",
       "<path class=\"bond-16 atom-15 atom-17\" d=\"M 286.6,39.7 L 291.3,42.4\" style=\"fill:none;fill-rule:evenodd;stroke:#000000;stroke-width:2.0px;stroke-linecap:butt;stroke-linejoin:miter;stroke-opacity:1\"/>\n",
       "<path class=\"bond-16 atom-15 atom-17\" d=\"M 291.3,42.4 L 296.0,45.1\" style=\"fill:none;fill-rule:evenodd;stroke:#FF0000;stroke-width:2.0px;stroke-linecap:butt;stroke-linejoin:miter;stroke-opacity:1\"/>\n",
       "<path class=\"bond-17 atom-17 atom-18\" d=\"M 303.0,45.0 L 307.6,42.2\" style=\"fill:none;fill-rule:evenodd;stroke:#FF0000;stroke-width:2.0px;stroke-linecap:butt;stroke-linejoin:miter;stroke-opacity:1\"/>\n",
       "<path class=\"bond-17 atom-17 atom-18\" d=\"M 307.6,42.2 L 312.2,39.4\" style=\"fill:none;fill-rule:evenodd;stroke:#000000;stroke-width:2.0px;stroke-linecap:butt;stroke-linejoin:miter;stroke-opacity:1\"/>\n",
       "<path class=\"bond-18 atom-18 atom-19\" d=\"M 312.2,39.4 L 325.3,46.4\" style=\"fill:none;fill-rule:evenodd;stroke:#000000;stroke-width:2.0px;stroke-linecap:butt;stroke-linejoin:miter;stroke-opacity:1\"/>\n",
       "<path class=\"bond-19 atom-19 atom-20\" d=\"M 326.3,43.2 L 327.0,43.5\" style=\"fill:none;fill-rule:evenodd;stroke:#000000;stroke-width:1.0px;stroke-linecap:butt;stroke-linejoin:miter;stroke-opacity:1\"/>\n",
       "<path class=\"bond-19 atom-19 atom-20\" d=\"M 327.2,40.1 L 328.6,40.7\" style=\"fill:none;fill-rule:evenodd;stroke:#000000;stroke-width:1.0px;stroke-linecap:butt;stroke-linejoin:miter;stroke-opacity:1\"/>\n",
       "<path class=\"bond-19 atom-19 atom-20\" d=\"M 328.2,36.9 L 330.3,37.8\" style=\"fill:none;fill-rule:evenodd;stroke:#000000;stroke-width:1.0px;stroke-linecap:butt;stroke-linejoin:miter;stroke-opacity:1\"/>\n",
       "<path class=\"bond-20 atom-19 atom-21\" d=\"M 325.3,46.4 L 325.4,52.1\" style=\"fill:none;fill-rule:evenodd;stroke:#000000;stroke-width:2.0px;stroke-linecap:butt;stroke-linejoin:miter;stroke-opacity:1\"/>\n",
       "<path class=\"bond-20 atom-19 atom-21\" d=\"M 325.4,52.1 L 325.5,57.8\" style=\"fill:none;fill-rule:evenodd;stroke:#FF0000;stroke-width:2.0px;stroke-linecap:butt;stroke-linejoin:miter;stroke-opacity:1\"/>\n",
       "<path class=\"bond-21 atom-21 atom-22\" d=\"M 322.1,63.7 L 317.3,66.6\" style=\"fill:none;fill-rule:evenodd;stroke:#FF0000;stroke-width:2.0px;stroke-linecap:butt;stroke-linejoin:miter;stroke-opacity:1\"/>\n",
       "<path class=\"bond-21 atom-21 atom-22\" d=\"M 317.3,66.6 L 312.6,69.5\" style=\"fill:none;fill-rule:evenodd;stroke:#000000;stroke-width:2.0px;stroke-linecap:butt;stroke-linejoin:miter;stroke-opacity:1\"/>\n",
       "<path class=\"bond-22 atom-22 atom-23\" d=\"M 313.7,68.8 L 308.4,65.9\" style=\"fill:none;fill-rule:evenodd;stroke:#000000;stroke-width:2.0px;stroke-linecap:butt;stroke-linejoin:miter;stroke-opacity:1\"/>\n",
       "<path class=\"bond-22 atom-22 atom-23\" d=\"M 308.4,65.9 L 303.2,63.1\" style=\"fill:none;fill-rule:evenodd;stroke:#FF0000;stroke-width:2.0px;stroke-linecap:butt;stroke-linejoin:miter;stroke-opacity:1\"/>\n",
       "<path class=\"bond-22 atom-22 atom-23\" d=\"M 312.6,70.8 L 307.4,67.9\" style=\"fill:none;fill-rule:evenodd;stroke:#000000;stroke-width:2.0px;stroke-linecap:butt;stroke-linejoin:miter;stroke-opacity:1\"/>\n",
       "<path class=\"bond-22 atom-22 atom-23\" d=\"M 307.4,67.9 L 302.1,65.1\" style=\"fill:none;fill-rule:evenodd;stroke:#FF0000;stroke-width:2.0px;stroke-linecap:butt;stroke-linejoin:miter;stroke-opacity:1\"/>\n",
       "<path class=\"bond-23 atom-22 atom-24\" d=\"M 312.6,69.5 L 313.0,84.5\" style=\"fill:none;fill-rule:evenodd;stroke:#000000;stroke-width:2.0px;stroke-linecap:butt;stroke-linejoin:miter;stroke-opacity:1\"/>\n",
       "<path class=\"bond-24 atom-24 atom-25\" d=\"M 313.0,84.5 L 299.9,92.2\" style=\"fill:none;fill-rule:evenodd;stroke:#000000;stroke-width:2.0px;stroke-linecap:butt;stroke-linejoin:miter;stroke-opacity:1\"/>\n",
       "<path class=\"bond-25 atom-25 atom-26\" d=\"M 299.9,92.2 L 299.7,107.7\" style=\"fill:none;fill-rule:evenodd;stroke:#000000;stroke-width:2.0px;stroke-linecap:butt;stroke-linejoin:miter;stroke-opacity:1\"/>\n",
       "<path class=\"bond-26 atom-26 atom-27\" d=\"M 299.7,107.7 L 286.1,115.3\" style=\"fill:none;fill-rule:evenodd;stroke:#000000;stroke-width:2.0px;stroke-linecap:butt;stroke-linejoin:miter;stroke-opacity:1\"/>\n",
       "<path class=\"bond-27 atom-27 atom-28\" d=\"M 286.1,115.3 L 285.1,130.1\" style=\"fill:none;fill-rule:evenodd;stroke:#000000;stroke-width:2.0px;stroke-linecap:butt;stroke-linejoin:miter;stroke-opacity:1\"/>\n",
       "<path class=\"bond-28 atom-28 atom-29\" d=\"M 285.1,130.1 L 269.1,137.4\" style=\"fill:none;fill-rule:evenodd;stroke:#000000;stroke-width:2.0px;stroke-linecap:butt;stroke-linejoin:miter;stroke-opacity:1\"/>\n",
       "<path class=\"bond-29 atom-29 atom-30\" d=\"M 269.1,137.4 L 267.4,152.2\" style=\"fill:none;fill-rule:evenodd;stroke:#000000;stroke-width:2.0px;stroke-linecap:butt;stroke-linejoin:miter;stroke-opacity:1\"/>\n",
       "<path class=\"bond-30 atom-30 atom-31\" d=\"M 267.4,152.2 L 284.0,161.1\" style=\"fill:none;fill-rule:evenodd;stroke:#000000;stroke-width:2.0px;stroke-linecap:butt;stroke-linejoin:miter;stroke-opacity:1\"/>\n",
       "<path class=\"bond-31 atom-31 atom-32\" d=\"M 284.0,161.1 L 284.2,178.3\" style=\"fill:none;fill-rule:evenodd;stroke:#000000;stroke-width:2.0px;stroke-linecap:butt;stroke-linejoin:miter;stroke-opacity:1\"/>\n",
       "<path class=\"bond-31 atom-31 atom-32\" d=\"M 281.7,162.4 L 282.0,176.9\" style=\"fill:none;fill-rule:evenodd;stroke:#000000;stroke-width:2.0px;stroke-linecap:butt;stroke-linejoin:miter;stroke-opacity:1\"/>\n",
       "<path class=\"bond-32 atom-32 atom-33\" d=\"M 284.2,178.3 L 270.5,185.4\" style=\"fill:none;fill-rule:evenodd;stroke:#000000;stroke-width:2.0px;stroke-linecap:butt;stroke-linejoin:miter;stroke-opacity:1\"/>\n",
       "<path class=\"bond-33 atom-33 atom-34\" d=\"M 270.5,185.4 L 270.8,199.2\" style=\"fill:none;fill-rule:evenodd;stroke:#000000;stroke-width:2.0px;stroke-linecap:butt;stroke-linejoin:miter;stroke-opacity:1\"/>\n",
       "<path class=\"bond-34 atom-34 atom-35\" d=\"M 270.8,199.2 L 259.2,206.9\" style=\"fill:none;fill-rule:evenodd;stroke:#000000;stroke-width:2.0px;stroke-linecap:butt;stroke-linejoin:miter;stroke-opacity:1\"/>\n",
       "<path class=\"bond-35 atom-35 atom-36\" d=\"M 259.2,206.9 L 259.6,222.4\" style=\"fill:none;fill-rule:evenodd;stroke:#000000;stroke-width:2.0px;stroke-linecap:butt;stroke-linejoin:miter;stroke-opacity:1\"/>\n",
       "<path class=\"bond-36 atom-36 atom-37\" d=\"M 259.6,222.4 L 246.7,230.3\" style=\"fill:none;fill-rule:evenodd;stroke:#000000;stroke-width:2.0px;stroke-linecap:butt;stroke-linejoin:miter;stroke-opacity:1\"/>\n",
       "<path class=\"bond-37 atom-37 atom-38\" d=\"M 246.7,230.3 L 246.7,245.5\" style=\"fill:none;fill-rule:evenodd;stroke:#000000;stroke-width:2.0px;stroke-linecap:butt;stroke-linejoin:miter;stroke-opacity:1\"/>\n",
       "<path class=\"bond-38 atom-38 atom-39\" d=\"M 246.7,245.5 L 233.4,253.4\" style=\"fill:none;fill-rule:evenodd;stroke:#000000;stroke-width:2.0px;stroke-linecap:butt;stroke-linejoin:miter;stroke-opacity:1\"/>\n",
       "<path class=\"bond-39 atom-39 atom-40\" d=\"M 233.4,253.4 L 233.4,268.6\" style=\"fill:none;fill-rule:evenodd;stroke:#000000;stroke-width:2.0px;stroke-linecap:butt;stroke-linejoin:miter;stroke-opacity:1\"/>\n",
       "<path class=\"bond-40 atom-19 atom-41\" d=\"M 325.3,46.4 L 342.0,46.5\" style=\"fill:none;fill-rule:evenodd;stroke:#000000;stroke-width:2.0px;stroke-linecap:butt;stroke-linejoin:miter;stroke-opacity:1\"/>\n",
       "<path class=\"bond-41 atom-41 atom-42\" d=\"M 342.0,46.5 L 344.7,51.4\" style=\"fill:none;fill-rule:evenodd;stroke:#000000;stroke-width:2.0px;stroke-linecap:butt;stroke-linejoin:miter;stroke-opacity:1\"/>\n",
       "<path class=\"bond-41 atom-41 atom-42\" d=\"M 344.7,51.4 L 347.4,56.4\" style=\"fill:none;fill-rule:evenodd;stroke:#FF0000;stroke-width:2.0px;stroke-linecap:butt;stroke-linejoin:miter;stroke-opacity:1\"/>\n",
       "<path class=\"bond-42 atom-42 atom-43\" d=\"M 352.9,60.3 L 357.5,60.4\" style=\"fill:none;fill-rule:evenodd;stroke:#FF0000;stroke-width:2.0px;stroke-linecap:butt;stroke-linejoin:miter;stroke-opacity:1\"/>\n",
       "<path class=\"bond-42 atom-42 atom-43\" d=\"M 357.5,60.4 L 362.0,60.6\" style=\"fill:none;fill-rule:evenodd;stroke:#FF7F00;stroke-width:2.0px;stroke-linecap:butt;stroke-linejoin:miter;stroke-opacity:1\"/>\n",
       "<path class=\"bond-43 atom-43 atom-44\" d=\"M 364.6,56.9 L 364.6,53.6\" style=\"fill:none;fill-rule:evenodd;stroke:#FF7F00;stroke-width:2.0px;stroke-linecap:butt;stroke-linejoin:miter;stroke-opacity:1\"/>\n",
       "<path class=\"bond-43 atom-43 atom-44\" d=\"M 364.6,53.6 L 364.6,50.2\" style=\"fill:none;fill-rule:evenodd;stroke:#FF0000;stroke-width:2.0px;stroke-linecap:butt;stroke-linejoin:miter;stroke-opacity:1\"/>\n",
       "<path class=\"bond-44 atom-43 atom-45\" d=\"M 367.1,60.6 L 371.6,60.5\" style=\"fill:none;fill-rule:evenodd;stroke:#FF7F00;stroke-width:2.0px;stroke-linecap:butt;stroke-linejoin:miter;stroke-opacity:1\"/>\n",
       "<path class=\"bond-44 atom-43 atom-45\" d=\"M 371.6,60.5 L 376.2,60.4\" style=\"fill:none;fill-rule:evenodd;stroke:#FF0000;stroke-width:2.0px;stroke-linecap:butt;stroke-linejoin:miter;stroke-opacity:1\"/>\n",
       "<path class=\"bond-45 atom-45 atom-46\" d=\"M 381.8,56.6 L 384.5,51.7\" style=\"fill:none;fill-rule:evenodd;stroke:#FF0000;stroke-width:2.0px;stroke-linecap:butt;stroke-linejoin:miter;stroke-opacity:1\"/>\n",
       "<path class=\"bond-45 atom-45 atom-46\" d=\"M 384.5,51.7 L 387.2,46.8\" style=\"fill:none;fill-rule:evenodd;stroke:#000000;stroke-width:2.0px;stroke-linecap:butt;stroke-linejoin:miter;stroke-opacity:1\"/>\n",
       "<path class=\"bond-46 atom-46 atom-47\" d=\"M 387.2,46.8 L 402.3,46.7\" style=\"fill:none;fill-rule:evenodd;stroke:#000000;stroke-width:2.0px;stroke-linecap:butt;stroke-linejoin:miter;stroke-opacity:1\"/>\n",
       "<path class=\"bond-47 atom-47 atom-48\" d=\"M 402.3,46.7 L 405.1,41.9\" style=\"fill:none;fill-rule:evenodd;stroke:#000000;stroke-width:2.0px;stroke-linecap:butt;stroke-linejoin:miter;stroke-opacity:1\"/>\n",
       "<path class=\"bond-47 atom-47 atom-48\" d=\"M 405.1,41.9 L 407.9,37.1\" style=\"fill:none;fill-rule:evenodd;stroke:#0000FF;stroke-width:2.0px;stroke-linecap:butt;stroke-linejoin:miter;stroke-opacity:1\"/>\n",
       "<path class=\"bond-48 atom-43 atom-49\" d=\"M 363.4,64.4 L 363.3,68.2\" style=\"fill:none;fill-rule:evenodd;stroke:#FF7F00;stroke-width:2.0px;stroke-linecap:butt;stroke-linejoin:miter;stroke-opacity:1\"/>\n",
       "<path class=\"bond-48 atom-43 atom-49\" d=\"M 363.3,68.2 L 363.3,72.0\" style=\"fill:none;fill-rule:evenodd;stroke:#FF0000;stroke-width:2.0px;stroke-linecap:butt;stroke-linejoin:miter;stroke-opacity:1\"/>\n",
       "<path class=\"bond-48 atom-43 atom-49\" d=\"M 365.6,64.4 L 365.6,68.2\" style=\"fill:none;fill-rule:evenodd;stroke:#FF7F00;stroke-width:2.0px;stroke-linecap:butt;stroke-linejoin:miter;stroke-opacity:1\"/>\n",
       "<path class=\"bond-48 atom-43 atom-49\" d=\"M 365.6,68.2 L 365.6,72.1\" style=\"fill:none;fill-rule:evenodd;stroke:#FF0000;stroke-width:2.0px;stroke-linecap:butt;stroke-linejoin:miter;stroke-opacity:1\"/>\n",
       "<path class=\"bond-49 atom-0 atom-50\" d=\"M 87.8,47.4 L 93.1,56.8\" style=\"fill:none;fill-rule:evenodd;stroke:#000000;stroke-width:2.0px;stroke-linecap:butt;stroke-linejoin:miter;stroke-opacity:1\"/>\n",
       "<path class=\"bond-50 atom-0 atom-51\" d=\"M 87.8,47.4 L 82.4,56.8\" style=\"fill:none;fill-rule:evenodd;stroke:#000000;stroke-width:2.0px;stroke-linecap:butt;stroke-linejoin:miter;stroke-opacity:1\"/>\n",
       "<path class=\"bond-51 atom-0 atom-52\" d=\"M 87.8,47.4 L 77.8,41.6\" style=\"fill:none;fill-rule:evenodd;stroke:#000000;stroke-width:2.0px;stroke-linecap:butt;stroke-linejoin:miter;stroke-opacity:1\"/>\n",
       "<path class=\"bond-52 atom-1 atom-53\" d=\"M 101.0,39.8 L 106.3,30.4\" style=\"fill:none;fill-rule:evenodd;stroke:#000000;stroke-width:2.0px;stroke-linecap:butt;stroke-linejoin:miter;stroke-opacity:1\"/>\n",
       "<path class=\"bond-53 atom-1 atom-54\" d=\"M 101.0,39.8 L 95.6,30.4\" style=\"fill:none;fill-rule:evenodd;stroke:#000000;stroke-width:2.0px;stroke-linecap:butt;stroke-linejoin:miter;stroke-opacity:1\"/>\n",
       "<path class=\"bond-54 atom-2 atom-55\" d=\"M 114.5,47.4 L 119.8,56.6\" style=\"fill:none;fill-rule:evenodd;stroke:#000000;stroke-width:2.0px;stroke-linecap:butt;stroke-linejoin:miter;stroke-opacity:1\"/>\n",
       "<path class=\"bond-55 atom-2 atom-56\" d=\"M 114.5,47.4 L 109.4,56.7\" style=\"fill:none;fill-rule:evenodd;stroke:#000000;stroke-width:2.0px;stroke-linecap:butt;stroke-linejoin:miter;stroke-opacity:1\"/>\n",
       "<path class=\"bond-56 atom-3 atom-57\" d=\"M 127.8,39.7 L 133.0,30.4\" style=\"fill:none;fill-rule:evenodd;stroke:#000000;stroke-width:2.0px;stroke-linecap:butt;stroke-linejoin:miter;stroke-opacity:1\"/>\n",
       "<path class=\"bond-57 atom-3 atom-58\" d=\"M 127.8,39.7 L 122.6,30.4\" style=\"fill:none;fill-rule:evenodd;stroke:#000000;stroke-width:2.0px;stroke-linecap:butt;stroke-linejoin:miter;stroke-opacity:1\"/>\n",
       "<path class=\"bond-58 atom-4 atom-59\" d=\"M 141.2,47.3 L 146.3,56.5\" style=\"fill:none;fill-rule:evenodd;stroke:#000000;stroke-width:2.0px;stroke-linecap:butt;stroke-linejoin:miter;stroke-opacity:1\"/>\n",
       "<path class=\"bond-59 atom-4 atom-60\" d=\"M 141.2,47.3 L 136.1,56.5\" style=\"fill:none;fill-rule:evenodd;stroke:#000000;stroke-width:2.0px;stroke-linecap:butt;stroke-linejoin:miter;stroke-opacity:1\"/>\n",
       "<path class=\"bond-60 atom-5 atom-61\" d=\"M 154.4,39.7 L 159.6,30.4\" style=\"fill:none;fill-rule:evenodd;stroke:#000000;stroke-width:2.0px;stroke-linecap:butt;stroke-linejoin:miter;stroke-opacity:1\"/>\n",
       "<path class=\"bond-61 atom-5 atom-62\" d=\"M 154.4,39.7 L 149.3,30.4\" style=\"fill:none;fill-rule:evenodd;stroke:#000000;stroke-width:2.0px;stroke-linecap:butt;stroke-linejoin:miter;stroke-opacity:1\"/>\n",
       "<path class=\"bond-62 atom-6 atom-63\" d=\"M 167.7,47.2 L 172.9,56.4\" style=\"fill:none;fill-rule:evenodd;stroke:#000000;stroke-width:2.0px;stroke-linecap:butt;stroke-linejoin:miter;stroke-opacity:1\"/>\n",
       "<path class=\"bond-63 atom-6 atom-64\" d=\"M 167.7,47.2 L 162.7,56.5\" style=\"fill:none;fill-rule:evenodd;stroke:#000000;stroke-width:2.0px;stroke-linecap:butt;stroke-linejoin:miter;stroke-opacity:1\"/>\n",
       "<path class=\"bond-64 atom-7 atom-65\" d=\"M 181.0,39.6 L 186.1,30.4\" style=\"fill:none;fill-rule:evenodd;stroke:#000000;stroke-width:2.0px;stroke-linecap:butt;stroke-linejoin:miter;stroke-opacity:1\"/>\n",
       "<path class=\"bond-65 atom-7 atom-66\" d=\"M 181.0,39.6 L 175.9,30.4\" style=\"fill:none;fill-rule:evenodd;stroke:#000000;stroke-width:2.0px;stroke-linecap:butt;stroke-linejoin:miter;stroke-opacity:1\"/>\n",
       "<path class=\"bond-66 atom-8 atom-67\" d=\"M 194.2,47.2 L 189.1,56.4\" style=\"fill:none;fill-rule:evenodd;stroke:#000000;stroke-width:2.0px;stroke-linecap:butt;stroke-linejoin:miter;stroke-opacity:1\"/>\n",
       "<path class=\"bond-67 atom-8 atom-68\" d=\"M 194.2,47.2 L 199.3,56.4\" style=\"fill:none;fill-rule:evenodd;stroke:#000000;stroke-width:2.0px;stroke-linecap:butt;stroke-linejoin:miter;stroke-opacity:1\"/>\n",
       "<path class=\"bond-68 atom-9 atom-69\" d=\"M 207.5,39.6 L 202.4,30.4\" style=\"fill:none;fill-rule:evenodd;stroke:#000000;stroke-width:2.0px;stroke-linecap:butt;stroke-linejoin:miter;stroke-opacity:1\"/>\n",
       "<path class=\"bond-69 atom-9 atom-70\" d=\"M 207.5,39.6 L 212.6,30.4\" style=\"fill:none;fill-rule:evenodd;stroke:#000000;stroke-width:2.0px;stroke-linecap:butt;stroke-linejoin:miter;stroke-opacity:1\"/>\n",
       "<path class=\"bond-70 atom-10 atom-71\" d=\"M 220.7,47.2 L 215.6,56.5\" style=\"fill:none;fill-rule:evenodd;stroke:#000000;stroke-width:2.0px;stroke-linecap:butt;stroke-linejoin:miter;stroke-opacity:1\"/>\n",
       "<path class=\"bond-71 atom-10 atom-72\" d=\"M 220.7,47.2 L 225.8,56.5\" style=\"fill:none;fill-rule:evenodd;stroke:#000000;stroke-width:2.0px;stroke-linecap:butt;stroke-linejoin:miter;stroke-opacity:1\"/>\n",
       "<path class=\"bond-72 atom-11 atom-73\" d=\"M 234.1,39.6 L 228.9,30.3\" style=\"fill:none;fill-rule:evenodd;stroke:#000000;stroke-width:2.0px;stroke-linecap:butt;stroke-linejoin:miter;stroke-opacity:1\"/>\n",
       "<path class=\"bond-73 atom-11 atom-74\" d=\"M 234.1,39.6 L 239.3,30.3\" style=\"fill:none;fill-rule:evenodd;stroke:#000000;stroke-width:2.0px;stroke-linecap:butt;stroke-linejoin:miter;stroke-opacity:1\"/>\n",
       "<path class=\"bond-74 atom-12 atom-75\" d=\"M 247.4,47.3 L 242.2,56.5\" style=\"fill:none;fill-rule:evenodd;stroke:#000000;stroke-width:2.0px;stroke-linecap:butt;stroke-linejoin:miter;stroke-opacity:1\"/>\n",
       "<path class=\"bond-75 atom-12 atom-76\" d=\"M 247.4,47.3 L 252.5,56.6\" style=\"fill:none;fill-rule:evenodd;stroke:#000000;stroke-width:2.0px;stroke-linecap:butt;stroke-linejoin:miter;stroke-opacity:1\"/>\n",
       "<path class=\"bond-76 atom-13 atom-77\" d=\"M 260.8,39.7 L 255.6,30.3\" style=\"fill:none;fill-rule:evenodd;stroke:#000000;stroke-width:2.0px;stroke-linecap:butt;stroke-linejoin:miter;stroke-opacity:1\"/>\n",
       "<path class=\"bond-77 atom-13 atom-78\" d=\"M 260.8,39.7 L 266.3,30.3\" style=\"fill:none;fill-rule:evenodd;stroke:#000000;stroke-width:2.0px;stroke-linecap:butt;stroke-linejoin:miter;stroke-opacity:1\"/>\n",
       "<path class=\"bond-78 atom-14 atom-79\" d=\"M 273.9,47.2 L 268.8,56.6\" style=\"fill:none;fill-rule:evenodd;stroke:#000000;stroke-width:2.0px;stroke-linecap:butt;stroke-linejoin:miter;stroke-opacity:1\"/>\n",
       "<path class=\"bond-79 atom-14 atom-80\" d=\"M 273.9,47.2 L 279.5,56.5\" style=\"fill:none;fill-rule:evenodd;stroke:#000000;stroke-width:2.0px;stroke-linecap:butt;stroke-linejoin:miter;stroke-opacity:1\"/>\n",
       "<path class=\"bond-80 atom-18 atom-81\" d=\"M 312.2,39.4 L 306.6,30.1\" style=\"fill:none;fill-rule:evenodd;stroke:#000000;stroke-width:2.0px;stroke-linecap:butt;stroke-linejoin:miter;stroke-opacity:1\"/>\n",
       "<path class=\"bond-81 atom-18 atom-82\" d=\"M 312.2,39.4 L 317.4,29.8\" style=\"fill:none;fill-rule:evenodd;stroke:#000000;stroke-width:2.0px;stroke-linecap:butt;stroke-linejoin:miter;stroke-opacity:1\"/>\n",
       "<path class=\"bond-82 atom-24 atom-83\" d=\"M 313.0,84.5 L 325.1,84.2\" style=\"fill:none;fill-rule:evenodd;stroke:#000000;stroke-width:2.0px;stroke-linecap:butt;stroke-linejoin:miter;stroke-opacity:1\"/>\n",
       "<path class=\"bond-83 atom-24 atom-84\" d=\"M 313.0,84.5 L 318.6,93.7\" style=\"fill:none;fill-rule:evenodd;stroke:#000000;stroke-width:2.0px;stroke-linecap:butt;stroke-linejoin:miter;stroke-opacity:1\"/>\n",
       "<path class=\"bond-84 atom-25 atom-85\" d=\"M 299.9,92.2 L 294.5,82.8\" style=\"fill:none;fill-rule:evenodd;stroke:#000000;stroke-width:2.0px;stroke-linecap:butt;stroke-linejoin:miter;stroke-opacity:1\"/>\n",
       "<path class=\"bond-85 atom-25 atom-86\" d=\"M 299.9,92.2 L 288.0,92.0\" style=\"fill:none;fill-rule:evenodd;stroke:#000000;stroke-width:2.0px;stroke-linecap:butt;stroke-linejoin:miter;stroke-opacity:1\"/>\n",
       "<path class=\"bond-86 atom-26 atom-87\" d=\"M 299.7,107.7 L 311.8,107.9\" style=\"fill:none;fill-rule:evenodd;stroke:#000000;stroke-width:2.0px;stroke-linecap:butt;stroke-linejoin:miter;stroke-opacity:1\"/>\n",
       "<path class=\"bond-87 atom-26 atom-88\" d=\"M 299.7,107.7 L 305.1,117.0\" style=\"fill:none;fill-rule:evenodd;stroke:#000000;stroke-width:2.0px;stroke-linecap:butt;stroke-linejoin:miter;stroke-opacity:1\"/>\n",
       "<path class=\"bond-88 atom-27 atom-89\" d=\"M 286.1,115.3 L 280.8,106.1\" style=\"fill:none;fill-rule:evenodd;stroke:#000000;stroke-width:2.0px;stroke-linecap:butt;stroke-linejoin:miter;stroke-opacity:1\"/>\n",
       "<path class=\"bond-89 atom-27 atom-90\" d=\"M 286.1,115.3 L 274.1,115.0\" style=\"fill:none;fill-rule:evenodd;stroke:#000000;stroke-width:2.0px;stroke-linecap:butt;stroke-linejoin:miter;stroke-opacity:1\"/>\n",
       "<path class=\"bond-90 atom-28 atom-91\" d=\"M 285.1,130.1 L 297.5,130.7\" style=\"fill:none;fill-rule:evenodd;stroke:#000000;stroke-width:2.0px;stroke-linecap:butt;stroke-linejoin:miter;stroke-opacity:1\"/>\n",
       "<path class=\"bond-91 atom-28 atom-92\" d=\"M 285.1,130.1 L 290.2,139.2\" style=\"fill:none;fill-rule:evenodd;stroke:#000000;stroke-width:2.0px;stroke-linecap:butt;stroke-linejoin:miter;stroke-opacity:1\"/>\n",
       "<path class=\"bond-92 atom-29 atom-93\" d=\"M 269.1,137.4 L 264.9,127.9\" style=\"fill:none;fill-rule:evenodd;stroke:#000000;stroke-width:2.0px;stroke-linecap:butt;stroke-linejoin:miter;stroke-opacity:1\"/>\n",
       "<path class=\"bond-93 atom-29 atom-94\" d=\"M 269.1,137.4 L 257.8,136.5\" style=\"fill:none;fill-rule:evenodd;stroke:#000000;stroke-width:2.0px;stroke-linecap:butt;stroke-linejoin:miter;stroke-opacity:1\"/>\n",
       "<path class=\"bond-94 atom-30 atom-95\" d=\"M 267.4,152.2 L 256.6,154.5\" style=\"fill:none;fill-rule:evenodd;stroke:#000000;stroke-width:2.0px;stroke-linecap:butt;stroke-linejoin:miter;stroke-opacity:1\"/>\n",
       "<path class=\"bond-95 atom-30 atom-96\" d=\"M 267.4,152.2 L 267.4,160.2\" style=\"fill:none;fill-rule:evenodd;stroke:#000000;stroke-width:2.0px;stroke-linecap:butt;stroke-linejoin:miter;stroke-opacity:1\"/>\n",
       "<path class=\"bond-96 atom-31 atom-97\" d=\"M 284.0,161.1 L 294.1,155.6\" style=\"fill:none;fill-rule:evenodd;stroke:#000000;stroke-width:2.0px;stroke-linecap:butt;stroke-linejoin:miter;stroke-opacity:1\"/>\n",
       "<path class=\"bond-97 atom-32 atom-98\" d=\"M 284.2,178.3 L 294.3,184.1\" style=\"fill:none;fill-rule:evenodd;stroke:#000000;stroke-width:2.0px;stroke-linecap:butt;stroke-linejoin:miter;stroke-opacity:1\"/>\n",
       "<path class=\"bond-98 atom-33 atom-99\" d=\"M 270.5,185.4 L 270.5,177.4\" style=\"fill:none;fill-rule:evenodd;stroke:#000000;stroke-width:2.0px;stroke-linecap:butt;stroke-linejoin:miter;stroke-opacity:1\"/>\n",
       "<path class=\"bond-99 atom-33 atom-100\" d=\"M 270.5,185.4 L 258.4,182.7\" style=\"fill:none;fill-rule:evenodd;stroke:#000000;stroke-width:2.0px;stroke-linecap:butt;stroke-linejoin:miter;stroke-opacity:1\"/>\n",
       "<path class=\"bond-100 atom-34 atom-101\" d=\"M 270.8,199.2 L 282.9,198.2\" style=\"fill:none;fill-rule:evenodd;stroke:#000000;stroke-width:2.0px;stroke-linecap:butt;stroke-linejoin:miter;stroke-opacity:1\"/>\n",
       "<path class=\"bond-101 atom-34 atom-102\" d=\"M 270.8,199.2 L 276.9,207.5\" style=\"fill:none;fill-rule:evenodd;stroke:#000000;stroke-width:2.0px;stroke-linecap:butt;stroke-linejoin:miter;stroke-opacity:1\"/>\n",
       "<path class=\"bond-102 atom-35 atom-103\" d=\"M 259.2,206.9 L 253.6,197.9\" style=\"fill:none;fill-rule:evenodd;stroke:#000000;stroke-width:2.0px;stroke-linecap:butt;stroke-linejoin:miter;stroke-opacity:1\"/>\n",
       "<path class=\"bond-103 atom-35 atom-104\" d=\"M 259.2,206.9 L 247.7,206.9\" style=\"fill:none;fill-rule:evenodd;stroke:#000000;stroke-width:2.0px;stroke-linecap:butt;stroke-linejoin:miter;stroke-opacity:1\"/>\n",
       "<path class=\"bond-104 atom-36 atom-105\" d=\"M 259.6,222.4 L 271.6,222.3\" style=\"fill:none;fill-rule:evenodd;stroke:#000000;stroke-width:2.0px;stroke-linecap:butt;stroke-linejoin:miter;stroke-opacity:1\"/>\n",
       "<path class=\"bond-105 atom-36 atom-106\" d=\"M 259.6,222.4 L 265.3,231.2\" style=\"fill:none;fill-rule:evenodd;stroke:#000000;stroke-width:2.0px;stroke-linecap:butt;stroke-linejoin:miter;stroke-opacity:1\"/>\n",
       "<path class=\"bond-106 atom-37 atom-107\" d=\"M 246.7,230.3 L 241.2,221.4\" style=\"fill:none;fill-rule:evenodd;stroke:#000000;stroke-width:2.0px;stroke-linecap:butt;stroke-linejoin:miter;stroke-opacity:1\"/>\n",
       "<path class=\"bond-107 atom-37 atom-108\" d=\"M 246.7,230.3 L 234.9,230.1\" style=\"fill:none;fill-rule:evenodd;stroke:#000000;stroke-width:2.0px;stroke-linecap:butt;stroke-linejoin:miter;stroke-opacity:1\"/>\n",
       "<path class=\"bond-108 atom-38 atom-109\" d=\"M 246.7,245.5 L 258.6,245.5\" style=\"fill:none;fill-rule:evenodd;stroke:#000000;stroke-width:2.0px;stroke-linecap:butt;stroke-linejoin:miter;stroke-opacity:1\"/>\n",
       "<path class=\"bond-109 atom-38 atom-110\" d=\"M 246.7,245.5 L 252.2,254.5\" style=\"fill:none;fill-rule:evenodd;stroke:#000000;stroke-width:2.0px;stroke-linecap:butt;stroke-linejoin:miter;stroke-opacity:1\"/>\n",
       "<path class=\"bond-110 atom-39 atom-111\" d=\"M 233.4,253.4 L 227.9,244.3\" style=\"fill:none;fill-rule:evenodd;stroke:#000000;stroke-width:2.0px;stroke-linecap:butt;stroke-linejoin:miter;stroke-opacity:1\"/>\n",
       "<path class=\"bond-111 atom-39 atom-112\" d=\"M 233.4,253.4 L 221.3,253.5\" style=\"fill:none;fill-rule:evenodd;stroke:#000000;stroke-width:2.0px;stroke-linecap:butt;stroke-linejoin:miter;stroke-opacity:1\"/>\n",
       "<path class=\"bond-112 atom-40 atom-113\" d=\"M 233.4,268.6 L 245.4,268.8\" style=\"fill:none;fill-rule:evenodd;stroke:#000000;stroke-width:2.0px;stroke-linecap:butt;stroke-linejoin:miter;stroke-opacity:1\"/>\n",
       "<path class=\"bond-113 atom-40 atom-114\" d=\"M 233.4,268.6 L 238.8,278.0\" style=\"fill:none;fill-rule:evenodd;stroke:#000000;stroke-width:2.0px;stroke-linecap:butt;stroke-linejoin:miter;stroke-opacity:1\"/>\n",
       "<path class=\"bond-114 atom-40 atom-115\" d=\"M 233.4,268.6 L 223.3,274.4\" style=\"fill:none;fill-rule:evenodd;stroke:#000000;stroke-width:2.0px;stroke-linecap:butt;stroke-linejoin:miter;stroke-opacity:1\"/>\n",
       "<path class=\"bond-115 atom-41 atom-116\" d=\"M 342.0,46.5 L 343.0,35.2\" style=\"fill:none;fill-rule:evenodd;stroke:#000000;stroke-width:2.0px;stroke-linecap:butt;stroke-linejoin:miter;stroke-opacity:1\"/>\n",
       "<path class=\"bond-116 atom-41 atom-117\" d=\"M 342.0,46.5 L 351.7,41.1\" style=\"fill:none;fill-rule:evenodd;stroke:#000000;stroke-width:2.0px;stroke-linecap:butt;stroke-linejoin:miter;stroke-opacity:1\"/>\n",
       "<path class=\"bond-117 atom-46 atom-118\" d=\"M 387.2,46.8 L 377.5,41.1\" style=\"fill:none;fill-rule:evenodd;stroke:#000000;stroke-width:2.0px;stroke-linecap:butt;stroke-linejoin:miter;stroke-opacity:1\"/>\n",
       "<path class=\"bond-118 atom-46 atom-119\" d=\"M 387.2,46.8 L 387.0,35.6\" style=\"fill:none;fill-rule:evenodd;stroke:#000000;stroke-width:2.0px;stroke-linecap:butt;stroke-linejoin:miter;stroke-opacity:1\"/>\n",
       "<path class=\"bond-119 atom-47 atom-120\" d=\"M 402.3,46.7 L 402.2,58.2\" style=\"fill:none;fill-rule:evenodd;stroke:#000000;stroke-width:2.0px;stroke-linecap:butt;stroke-linejoin:miter;stroke-opacity:1\"/>\n",
       "<path class=\"bond-120 atom-47 atom-121\" d=\"M 402.3,46.7 L 412.3,52.6\" style=\"fill:none;fill-rule:evenodd;stroke:#000000;stroke-width:2.0px;stroke-linecap:butt;stroke-linejoin:miter;stroke-opacity:1\"/>\n",
       "<path class=\"bond-121 atom-48 atom-122\" d=\"M 407.2,31.6 L 403.8,29.5\" style=\"fill:none;fill-rule:evenodd;stroke:#0000FF;stroke-width:2.0px;stroke-linecap:butt;stroke-linejoin:miter;stroke-opacity:1\"/>\n",
       "<path class=\"bond-121 atom-48 atom-122\" d=\"M 403.8,29.5 L 400.3,27.4\" style=\"fill:none;fill-rule:evenodd;stroke:#000000;stroke-width:2.0px;stroke-linecap:butt;stroke-linejoin:miter;stroke-opacity:1\"/>\n",
       "<path class=\"bond-122 atom-48 atom-123\" d=\"M 410.2,29.7 L 410.2,25.8\" style=\"fill:none;fill-rule:evenodd;stroke:#0000FF;stroke-width:2.0px;stroke-linecap:butt;stroke-linejoin:miter;stroke-opacity:1\"/>\n",
       "<path class=\"bond-122 atom-48 atom-123\" d=\"M 410.2,25.8 L 410.3,22.0\" style=\"fill:none;fill-rule:evenodd;stroke:#000000;stroke-width:2.0px;stroke-linecap:butt;stroke-linejoin:miter;stroke-opacity:1\"/>\n",
       "<path class=\"bond-123 atom-48 atom-124\" d=\"M 415.8,33.5 L 419.0,33.5\" style=\"fill:none;fill-rule:evenodd;stroke:#0000FF;stroke-width:2.0px;stroke-linecap:butt;stroke-linejoin:miter;stroke-opacity:1\"/>\n",
       "<path class=\"bond-123 atom-48 atom-124\" d=\"M 419.0,33.5 L 422.2,33.6\" style=\"fill:none;fill-rule:evenodd;stroke:#000000;stroke-width:2.0px;stroke-linecap:butt;stroke-linejoin:miter;stroke-opacity:1\"/>\n",
       "<path d=\"M 285.9,40.0 L 286.6,39.7 L 286.8,39.8\" style=\"fill:none;stroke:#000000;stroke-width:2.0px;stroke-linecap:butt;stroke-linejoin:miter;stroke-opacity:1;\"/>\n",
       "<path d=\"M 312.8,69.3 L 312.6,69.5 L 312.6,70.2\" style=\"fill:none;stroke:#000000;stroke-width:2.0px;stroke-linecap:butt;stroke-linejoin:miter;stroke-opacity:1;\"/>\n",
       "<path class=\"atom-16\" d=\"M 283.4 24.4 Q 283.4 22.9, 284.2 22.0 Q 285.0 21.2, 286.4 21.2 Q 287.8 21.2, 288.6 22.0 Q 289.4 22.9, 289.4 24.4 Q 289.4 26.0, 288.6 26.9 Q 287.8 27.8, 286.4 27.8 Q 285.0 27.8, 284.2 26.9 Q 283.4 26.0, 283.4 24.4 M 286.4 27.1 Q 287.4 27.1, 287.9 26.4 Q 288.4 25.7, 288.4 24.4 Q 288.4 23.2, 287.9 22.5 Q 287.4 21.9, 286.4 21.9 Q 285.4 21.9, 284.9 22.5 Q 284.3 23.2, 284.3 24.4 Q 284.3 25.8, 284.9 26.4 Q 285.4 27.1, 286.4 27.1 \" fill=\"#FF0000\"/>\n",
       "<path class=\"atom-17\" d=\"M 296.5 47.1 Q 296.5 45.5, 297.3 44.7 Q 298.1 43.8, 299.5 43.8 Q 300.9 43.8, 301.7 44.7 Q 302.5 45.5, 302.5 47.1 Q 302.5 48.7, 301.7 49.6 Q 300.9 50.4, 299.5 50.4 Q 298.1 50.4, 297.3 49.6 Q 296.5 48.7, 296.5 47.1 M 299.5 49.7 Q 300.5 49.7, 301.0 49.0 Q 301.6 48.4, 301.6 47.1 Q 301.6 45.8, 301.0 45.2 Q 300.5 44.5, 299.5 44.5 Q 298.5 44.5, 298.0 45.2 Q 297.4 45.8, 297.4 47.1 Q 297.4 48.4, 298.0 49.0 Q 298.5 49.7, 299.5 49.7 \" fill=\"#FF0000\"/>\n",
       "<path class=\"atom-20\" d=\"M 328.5 29.9 L 329.4 29.9 L 329.4 32.6 L 332.7 32.6 L 332.7 29.9 L 333.6 29.9 L 333.6 36.4 L 332.7 36.4 L 332.7 33.4 L 329.4 33.4 L 329.4 36.4 L 328.5 36.4 L 328.5 29.9 \" fill=\"#000000\"/>\n",
       "<path class=\"atom-21\" d=\"M 322.6 61.6 Q 322.6 60.1, 323.4 59.2 Q 324.1 58.3, 325.6 58.3 Q 327.0 58.3, 327.8 59.2 Q 328.5 60.1, 328.5 61.6 Q 328.5 63.2, 327.8 64.1 Q 327.0 65.0, 325.6 65.0 Q 324.1 65.0, 323.4 64.1 Q 322.6 63.2, 322.6 61.6 M 325.6 64.2 Q 326.5 64.2, 327.1 63.6 Q 327.6 62.9, 327.6 61.6 Q 327.6 60.4, 327.1 59.7 Q 326.5 59.1, 325.6 59.1 Q 324.6 59.1, 324.0 59.7 Q 323.5 60.3, 323.5 61.6 Q 323.5 62.9, 324.0 63.6 Q 324.6 64.2, 325.6 64.2 \" fill=\"#FF0000\"/>\n",
       "<path class=\"atom-23\" d=\"M 296.2 62.2 Q 296.2 60.7, 297.0 59.8 Q 297.7 58.9, 299.2 58.9 Q 300.6 58.9, 301.4 59.8 Q 302.1 60.7, 302.1 62.2 Q 302.1 63.8, 301.4 64.7 Q 300.6 65.6, 299.2 65.6 Q 297.8 65.6, 297.0 64.7 Q 296.2 63.8, 296.2 62.2 M 299.2 64.9 Q 300.2 64.9, 300.7 64.2 Q 301.2 63.5, 301.2 62.2 Q 301.2 61.0, 300.7 60.3 Q 300.2 59.7, 299.2 59.7 Q 298.2 59.7, 297.7 60.3 Q 297.1 61.0, 297.1 62.2 Q 297.1 63.5, 297.7 64.2 Q 298.2 64.9, 299.2 64.9 \" fill=\"#FF0000\"/>\n",
       "<path class=\"atom-42\" d=\"M 346.5 60.2 Q 346.5 58.6, 347.3 57.8 Q 348.0 56.9, 349.5 56.9 Q 350.9 56.9, 351.7 57.8 Q 352.4 58.6, 352.4 60.2 Q 352.4 61.7, 351.7 62.6 Q 350.9 63.5, 349.5 63.5 Q 348.0 63.5, 347.3 62.6 Q 346.5 61.7, 346.5 60.2 M 349.5 62.8 Q 350.5 62.8, 351.0 62.1 Q 351.5 61.5, 351.5 60.2 Q 351.5 58.9, 351.0 58.3 Q 350.5 57.6, 349.5 57.6 Q 348.5 57.6, 347.9 58.3 Q 347.4 58.9, 347.4 60.2 Q 347.4 61.5, 347.9 62.1 Q 348.5 62.8, 349.5 62.8 \" fill=\"#FF0000\"/>\n",
       "<path class=\"atom-43\" d=\"M 364.4 57.4 Q 365.5 57.4, 366.1 57.9 Q 366.6 58.4, 366.6 59.3 Q 366.6 60.2, 366.0 60.7 Q 365.5 61.2, 364.4 61.2 L 363.4 61.2 L 363.4 63.9 L 362.5 63.9 L 362.5 57.4 L 364.4 57.4 M 364.4 60.5 Q 365.0 60.5, 365.4 60.2 Q 365.7 59.9, 365.7 59.3 Q 365.7 58.7, 365.4 58.4 Q 365.0 58.1, 364.4 58.1 L 363.4 58.1 L 363.4 60.5 L 364.4 60.5 \" fill=\"#FF7F00\"/>\n",
       "<path class=\"atom-44\" d=\"M 361.6 46.4 Q 361.6 44.9, 362.4 44.0 Q 363.2 43.1, 364.6 43.1 Q 366.0 43.1, 366.8 44.0 Q 367.6 44.9, 367.6 46.4 Q 367.6 48.0, 366.8 48.9 Q 366.0 49.8, 364.6 49.8 Q 363.2 49.8, 362.4 48.9 Q 361.6 48.0, 361.6 46.4 M 364.6 49.0 Q 365.6 49.0, 366.1 48.4 Q 366.7 47.7, 366.7 46.4 Q 366.7 45.1, 366.1 44.5 Q 365.6 43.8, 364.6 43.8 Q 363.6 43.8, 363.1 44.5 Q 362.6 45.1, 362.6 46.4 Q 362.6 47.7, 363.1 48.4 Q 363.6 49.0, 364.6 49.0 \" fill=\"#FF0000\"/>\n",
       "<path class=\"atom-44\" d=\"M 368.5 44.2 L 370.7 44.2 L 370.7 44.7 L 368.5 44.7 L 368.5 44.2 \" fill=\"#FF0000\"/>\n",
       "<path class=\"atom-45\" d=\"M 376.7 60.4 Q 376.7 58.9, 377.5 58.0 Q 378.2 57.1, 379.7 57.1 Q 381.1 57.1, 381.9 58.0 Q 382.6 58.9, 382.6 60.4 Q 382.6 62.0, 381.8 62.9 Q 381.1 63.8, 379.7 63.8 Q 378.2 63.8, 377.5 62.9 Q 376.7 62.0, 376.7 60.4 M 379.7 63.0 Q 380.6 63.0, 381.2 62.4 Q 381.7 61.7, 381.7 60.4 Q 381.7 59.1, 381.2 58.5 Q 380.6 57.9, 379.7 57.9 Q 378.7 57.9, 378.1 58.5 Q 377.6 59.1, 377.6 60.4 Q 377.6 61.7, 378.1 62.4 Q 378.7 63.0, 379.7 63.0 \" fill=\"#FF0000\"/>\n",
       "<path class=\"atom-48\" d=\"M 408.7 30.2 L 410.8 33.6 Q 411.0 33.9, 411.4 34.6 Q 411.7 35.2, 411.7 35.2 L 411.7 30.2 L 412.6 30.2 L 412.6 36.6 L 411.7 36.6 L 409.4 32.9 Q 409.2 32.5, 408.9 32.0 Q 408.6 31.5, 408.5 31.3 L 408.5 36.6 L 407.7 36.6 L 407.7 30.2 L 408.7 30.2 \" fill=\"#0000FF\"/>\n",
       "<path class=\"atom-48\" d=\"M 413.8 31.3 L 414.9 31.3 L 414.9 30.1 L 415.4 30.1 L 415.4 31.3 L 416.6 31.3 L 416.6 31.8 L 415.4 31.8 L 415.4 33.0 L 414.9 33.0 L 414.9 31.8 L 413.8 31.8 L 413.8 31.3 \" fill=\"#0000FF\"/>\n",
       "<path class=\"atom-49\" d=\"M 361.4 75.8 Q 361.4 74.3, 362.2 73.4 Q 363.0 72.5, 364.4 72.5 Q 365.8 72.5, 366.6 73.4 Q 367.4 74.3, 367.4 75.8 Q 367.4 77.4, 366.6 78.3 Q 365.8 79.2, 364.4 79.2 Q 363.0 79.2, 362.2 78.3 Q 361.4 77.4, 361.4 75.8 M 364.4 78.5 Q 365.4 78.5, 365.9 77.8 Q 366.5 77.1, 366.5 75.8 Q 366.5 74.6, 365.9 73.9 Q 365.4 73.3, 364.4 73.3 Q 363.4 73.3, 362.9 73.9 Q 362.3 74.6, 362.3 75.8 Q 362.3 77.1, 362.9 77.8 Q 363.4 78.5, 364.4 78.5 \" fill=\"#FF0000\"/>\n",
       "<path class=\"atom-50\" d=\"M 92.6 57.3 L 93.5 57.3 L 93.5 60.0 L 96.8 60.0 L 96.8 57.3 L 97.7 57.3 L 97.7 63.7 L 96.8 63.7 L 96.8 60.8 L 93.5 60.8 L 93.5 63.7 L 92.6 63.7 L 92.6 57.3 \" fill=\"#000000\"/>\n",
       "<path class=\"atom-51\" d=\"M 77.7 57.3 L 78.6 57.3 L 78.6 60.0 L 81.9 60.0 L 81.9 57.3 L 82.7 57.3 L 82.7 63.8 L 81.9 63.8 L 81.9 60.8 L 78.6 60.8 L 78.6 63.8 L 77.7 63.8 L 77.7 57.3 \" fill=\"#000000\"/>\n",
       "<path class=\"atom-52\" d=\"M 72.2 36.6 L 73.1 36.6 L 73.1 39.3 L 76.4 39.3 L 76.4 36.6 L 77.3 36.6 L 77.3 43.0 L 76.4 43.0 L 76.4 40.0 L 73.1 40.0 L 73.1 43.0 L 72.2 43.0 L 72.2 36.6 \" fill=\"#000000\"/>\n",
       "<path class=\"atom-53\" d=\"M 105.8 23.4 L 106.7 23.4 L 106.7 26.1 L 110.0 26.1 L 110.0 23.4 L 110.8 23.4 L 110.8 29.9 L 110.0 29.9 L 110.0 26.9 L 106.7 26.9 L 106.7 29.9 L 105.8 29.9 L 105.8 23.4 \" fill=\"#000000\"/>\n",
       "<path class=\"atom-54\" d=\"M 90.9 23.5 L 91.8 23.5 L 91.8 26.2 L 95.1 26.2 L 95.1 23.5 L 95.9 23.5 L 95.9 29.9 L 95.1 29.9 L 95.1 26.9 L 91.8 26.9 L 91.8 29.9 L 90.9 29.9 L 90.9 23.5 \" fill=\"#000000\"/>\n",
       "<path class=\"atom-55\" d=\"M 119.4 57.1 L 120.2 57.1 L 120.2 59.8 L 123.5 59.8 L 123.5 57.1 L 124.4 57.1 L 124.4 63.5 L 123.5 63.5 L 123.5 60.6 L 120.2 60.6 L 120.2 63.5 L 119.4 63.5 L 119.4 57.1 \" fill=\"#000000\"/>\n",
       "<path class=\"atom-56\" d=\"M 104.8 57.2 L 105.7 57.2 L 105.7 60.0 L 109.0 60.0 L 109.0 57.2 L 109.9 57.2 L 109.9 63.7 L 109.0 63.7 L 109.0 60.7 L 105.7 60.7 L 105.7 63.7 L 104.8 63.7 L 104.8 57.2 \" fill=\"#000000\"/>\n",
       "<path class=\"atom-57\" d=\"M 132.6 23.4 L 133.4 23.4 L 133.4 26.2 L 136.7 26.2 L 136.7 23.4 L 137.6 23.4 L 137.6 29.9 L 136.7 29.9 L 136.7 26.9 L 133.4 26.9 L 133.4 29.9 L 132.6 29.9 L 132.6 23.4 \" fill=\"#000000\"/>\n",
       "<path class=\"atom-58\" d=\"M 118.0 23.4 L 118.9 23.4 L 118.9 26.2 L 122.2 26.2 L 122.2 23.4 L 123.1 23.4 L 123.1 29.9 L 122.2 29.9 L 122.2 26.9 L 118.9 26.9 L 118.9 29.9 L 118.0 29.9 L 118.0 23.4 \" fill=\"#000000\"/>\n",
       "<path class=\"atom-59\" d=\"M 145.9 57.0 L 146.8 57.0 L 146.8 59.7 L 150.1 59.7 L 150.1 57.0 L 151.0 57.0 L 151.0 63.4 L 150.1 63.4 L 150.1 60.5 L 146.8 60.5 L 146.8 63.4 L 145.9 63.4 L 145.9 57.0 \" fill=\"#000000\"/>\n",
       "<path class=\"atom-60\" d=\"M 131.6 57.0 L 132.4 57.0 L 132.4 59.8 L 135.7 59.8 L 135.7 57.0 L 136.6 57.0 L 136.6 63.5 L 135.7 63.5 L 135.7 60.5 L 132.4 60.5 L 132.4 63.5 L 131.6 63.5 L 131.6 57.0 \" fill=\"#000000\"/>\n",
       "<path class=\"atom-61\" d=\"M 159.1 23.5 L 160.0 23.5 L 160.0 26.2 L 163.3 26.2 L 163.3 23.5 L 164.2 23.5 L 164.2 29.9 L 163.3 29.9 L 163.3 26.9 L 160.0 26.9 L 160.0 29.9 L 159.1 29.9 L 159.1 23.5 \" fill=\"#000000\"/>\n",
       "<path class=\"atom-62\" d=\"M 144.7 23.5 L 145.6 23.5 L 145.6 26.2 L 148.9 26.2 L 148.9 23.5 L 149.8 23.5 L 149.8 29.9 L 148.9 29.9 L 148.9 26.9 L 145.6 26.9 L 145.6 29.9 L 144.7 29.9 L 144.7 23.5 \" fill=\"#000000\"/>\n",
       "<path class=\"atom-63\" d=\"M 172.4 56.9 L 173.3 56.9 L 173.3 59.7 L 176.6 59.7 L 176.6 56.9 L 177.4 56.9 L 177.4 63.4 L 176.6 63.4 L 176.6 60.4 L 173.3 60.4 L 173.3 63.4 L 172.4 63.4 L 172.4 56.9 \" fill=\"#000000\"/>\n",
       "<path class=\"atom-64\" d=\"M 158.1 57.0 L 159.0 57.0 L 159.0 59.7 L 162.3 59.7 L 162.3 57.0 L 163.2 57.0 L 163.2 63.4 L 162.3 63.4 L 162.3 60.4 L 159.0 60.4 L 159.0 63.4 L 158.1 63.4 L 158.1 57.0 \" fill=\"#000000\"/>\n",
       "<path class=\"atom-65\" d=\"M 185.6 23.4 L 186.5 23.4 L 186.5 26.2 L 189.8 26.2 L 189.8 23.4 L 190.6 23.4 L 190.6 29.9 L 189.8 29.9 L 189.8 26.9 L 186.5 26.9 L 186.5 29.9 L 185.6 29.9 L 185.6 23.4 \" fill=\"#000000\"/>\n",
       "<path class=\"atom-66\" d=\"M 171.3 23.5 L 172.2 23.5 L 172.2 26.2 L 175.5 26.2 L 175.5 23.5 L 176.3 23.5 L 176.3 29.9 L 175.5 29.9 L 175.5 26.9 L 172.2 26.9 L 172.2 29.9 L 171.3 29.9 L 171.3 23.5 \" fill=\"#000000\"/>\n",
       "<path class=\"atom-67\" d=\"M 184.5 56.9 L 185.4 56.9 L 185.4 59.7 L 188.7 59.7 L 188.7 56.9 L 189.6 56.9 L 189.6 63.4 L 188.7 63.4 L 188.7 60.4 L 185.4 60.4 L 185.4 63.4 L 184.5 63.4 L 184.5 56.9 \" fill=\"#000000\"/>\n",
       "<path class=\"atom-68\" d=\"M 198.9 56.9 L 199.7 56.9 L 199.7 59.7 L 203.0 59.7 L 203.0 56.9 L 203.9 56.9 L 203.9 63.4 L 203.0 63.4 L 203.0 60.4 L 199.7 60.4 L 199.7 63.4 L 198.9 63.4 L 198.9 56.9 \" fill=\"#000000\"/>\n",
       "<path class=\"atom-69\" d=\"M 197.8 23.4 L 198.7 23.4 L 198.7 26.2 L 202.0 26.2 L 202.0 23.4 L 202.8 23.4 L 202.8 29.9 L 202.0 29.9 L 202.0 26.9 L 198.7 26.9 L 198.7 29.9 L 197.8 29.9 L 197.8 23.4 \" fill=\"#000000\"/>\n",
       "<path class=\"atom-70\" d=\"M 212.2 23.4 L 213.0 23.4 L 213.0 26.2 L 216.3 26.2 L 216.3 23.4 L 217.2 23.4 L 217.2 29.9 L 216.3 29.9 L 216.3 26.9 L 213.0 26.9 L 213.0 29.9 L 212.2 29.9 L 212.2 23.4 \" fill=\"#000000\"/>\n",
       "<path class=\"atom-71\" d=\"M 211.0 57.0 L 211.9 57.0 L 211.9 59.7 L 215.2 59.7 L 215.2 57.0 L 216.1 57.0 L 216.1 63.4 L 215.2 63.4 L 215.2 60.4 L 211.9 60.4 L 211.9 63.4 L 211.0 63.4 L 211.0 57.0 \" fill=\"#000000\"/>\n",
       "<path class=\"atom-72\" d=\"M 225.4 57.0 L 226.2 57.0 L 226.2 59.7 L 229.5 59.7 L 229.5 57.0 L 230.4 57.0 L 230.4 63.4 L 229.5 63.4 L 229.5 60.5 L 226.2 60.5 L 226.2 63.4 L 225.4 63.4 L 225.4 57.0 \" fill=\"#000000\"/>\n",
       "<path class=\"atom-73\" d=\"M 224.3 23.4 L 225.2 23.4 L 225.2 26.1 L 228.5 26.1 L 228.5 23.4 L 229.4 23.4 L 229.4 29.8 L 228.5 29.8 L 228.5 26.8 L 225.2 26.8 L 225.2 29.8 L 224.3 29.8 L 224.3 23.4 \" fill=\"#000000\"/>\n",
       "<path class=\"atom-74\" d=\"M 238.9 23.4 L 239.8 23.4 L 239.8 26.1 L 243.1 26.1 L 243.1 23.4 L 243.9 23.4 L 243.9 29.8 L 243.1 29.8 L 243.1 26.8 L 239.8 26.8 L 239.8 29.8 L 238.9 29.8 L 238.9 23.4 \" fill=\"#000000\"/>\n",
       "<path class=\"atom-75\" d=\"M 237.5 57.0 L 238.4 57.0 L 238.4 59.7 L 241.7 59.7 L 241.7 57.0 L 242.6 57.0 L 242.6 63.4 L 241.7 63.4 L 241.7 60.5 L 238.4 60.5 L 238.4 63.4 L 237.5 63.4 L 237.5 57.0 \" fill=\"#000000\"/>\n",
       "<path class=\"atom-76\" d=\"M 252.0 57.1 L 252.9 57.1 L 252.9 59.8 L 256.2 59.8 L 256.2 57.1 L 257.1 57.1 L 257.1 63.6 L 256.2 63.6 L 256.2 60.6 L 252.9 60.6 L 252.9 63.6 L 252.0 63.6 L 252.0 57.1 \" fill=\"#000000\"/>\n",
       "<path class=\"atom-77\" d=\"M 251.0 23.3 L 251.9 23.3 L 251.9 26.1 L 255.2 26.1 L 255.2 23.3 L 256.1 23.3 L 256.1 29.8 L 255.2 29.8 L 255.2 26.8 L 251.9 26.8 L 251.9 29.8 L 251.0 29.8 L 251.0 23.3 \" fill=\"#000000\"/>\n",
       "<path class=\"atom-78\" d=\"M 265.9 23.4 L 266.8 23.4 L 266.8 26.1 L 270.1 26.1 L 270.1 23.4 L 271.0 23.4 L 271.0 29.8 L 270.1 29.8 L 270.1 26.9 L 266.8 26.9 L 266.8 29.8 L 265.9 29.8 L 265.9 23.4 \" fill=\"#000000\"/>\n",
       "<path class=\"atom-79\" d=\"M 264.2 57.1 L 265.1 57.1 L 265.1 59.9 L 268.4 59.9 L 268.4 57.1 L 269.3 57.1 L 269.3 63.6 L 268.4 63.6 L 268.4 60.6 L 265.1 60.6 L 265.1 63.6 L 264.2 63.6 L 264.2 57.1 \" fill=\"#000000\"/>\n",
       "<path class=\"atom-80\" d=\"M 279.2 57.0 L 280.0 57.0 L 280.0 59.7 L 283.3 59.7 L 283.3 57.0 L 284.2 57.0 L 284.2 63.5 L 283.3 63.5 L 283.3 60.5 L 280.0 60.5 L 280.0 63.5 L 279.2 63.5 L 279.2 57.0 \" fill=\"#000000\"/>\n",
       "<path class=\"atom-81\" d=\"M 301.8 23.1 L 302.7 23.1 L 302.7 25.9 L 306.0 25.9 L 306.0 23.1 L 306.8 23.1 L 306.8 29.6 L 306.0 29.6 L 306.0 26.6 L 302.7 26.6 L 302.7 29.6 L 301.8 29.6 L 301.8 23.1 \" fill=\"#000000\"/>\n",
       "<path class=\"atom-82\" d=\"M 317.0 22.8 L 317.8 22.8 L 317.8 25.6 L 321.1 25.6 L 321.1 22.8 L 322.0 22.8 L 322.0 29.3 L 321.1 29.3 L 321.1 26.3 L 317.8 26.3 L 317.8 29.3 L 317.0 29.3 L 317.0 22.8 \" fill=\"#000000\"/>\n",
       "<path class=\"atom-83\" d=\"M 325.6 80.9 L 326.5 80.9 L 326.5 83.7 L 329.8 83.7 L 329.8 80.9 L 330.7 80.9 L 330.7 87.4 L 329.8 87.4 L 329.8 84.4 L 326.5 84.4 L 326.5 87.4 L 325.6 87.4 L 325.6 80.9 \" fill=\"#000000\"/>\n",
       "<path class=\"atom-84\" d=\"M 318.3 94.1 L 319.2 94.1 L 319.2 96.9 L 322.5 96.9 L 322.5 94.1 L 323.4 94.1 L 323.4 100.6 L 322.5 100.6 L 322.5 97.6 L 319.2 97.6 L 319.2 100.6 L 318.3 100.6 L 318.3 94.1 \" fill=\"#000000\"/>\n",
       "<path class=\"atom-85\" d=\"M 289.8 75.8 L 290.7 75.8 L 290.7 78.6 L 294.0 78.6 L 294.0 75.8 L 294.9 75.8 L 294.9 82.3 L 294.0 82.3 L 294.0 79.3 L 290.7 79.3 L 290.7 82.3 L 289.8 82.3 L 289.8 75.8 \" fill=\"#000000\"/>\n",
       "<path class=\"atom-86\" d=\"M 282.4 88.7 L 283.3 88.7 L 283.3 91.4 L 286.6 91.4 L 286.6 88.7 L 287.5 88.7 L 287.5 95.1 L 286.6 95.1 L 286.6 92.2 L 283.3 92.2 L 283.3 95.1 L 282.4 95.1 L 282.4 88.7 \" fill=\"#000000\"/>\n",
       "<path class=\"atom-87\" d=\"M 312.3 104.7 L 313.1 104.7 L 313.1 107.5 L 316.4 107.5 L 316.4 104.7 L 317.3 104.7 L 317.3 111.2 L 316.4 111.2 L 316.4 108.2 L 313.1 108.2 L 313.1 111.2 L 312.3 111.2 L 312.3 104.7 \" fill=\"#000000\"/>\n",
       "<path class=\"atom-88\" d=\"M 304.7 117.5 L 305.6 117.5 L 305.6 120.2 L 308.9 120.2 L 308.9 117.5 L 309.8 117.5 L 309.8 124.0 L 308.9 124.0 L 308.9 121.0 L 305.6 121.0 L 305.6 124.0 L 304.7 124.0 L 304.7 117.5 \" fill=\"#000000\"/>\n",
       "<path class=\"atom-89\" d=\"M 276.2 99.2 L 277.1 99.2 L 277.1 101.9 L 280.4 101.9 L 280.4 99.2 L 281.2 99.2 L 281.2 105.6 L 280.4 105.6 L 280.4 102.7 L 277.1 102.7 L 277.1 105.6 L 276.2 105.6 L 276.2 99.2 \" fill=\"#000000\"/>\n",
       "<path class=\"atom-90\" d=\"M 268.6 111.6 L 269.5 111.6 L 269.5 114.4 L 272.8 114.4 L 272.8 111.6 L 273.6 111.6 L 273.6 118.1 L 272.8 118.1 L 272.8 115.1 L 269.5 115.1 L 269.5 118.1 L 268.6 118.1 L 268.6 111.6 \" fill=\"#000000\"/>\n",
       "<path class=\"atom-91\" d=\"M 298.0 127.6 L 298.8 127.6 L 298.8 130.4 L 302.1 130.4 L 302.1 127.6 L 303.0 127.6 L 303.0 134.1 L 302.1 134.1 L 302.1 131.1 L 298.8 131.1 L 298.8 134.1 L 298.0 134.1 L 298.0 127.6 \" fill=\"#000000\"/>\n",
       "<path class=\"atom-92\" d=\"M 289.8 139.7 L 290.7 139.7 L 290.7 142.4 L 294.0 142.4 L 294.0 139.7 L 294.9 139.7 L 294.9 146.2 L 294.0 146.2 L 294.0 143.2 L 290.7 143.2 L 290.7 146.2 L 289.8 146.2 L 289.8 139.7 \" fill=\"#000000\"/>\n",
       "<path class=\"atom-93\" d=\"M 260.7 120.9 L 261.6 120.9 L 261.6 123.7 L 264.9 123.7 L 264.9 120.9 L 265.7 120.9 L 265.7 127.4 L 264.9 127.4 L 264.9 124.4 L 261.6 124.4 L 261.6 127.4 L 260.7 127.4 L 260.7 120.9 \" fill=\"#000000\"/>\n",
       "<path class=\"atom-94\" d=\"M 252.3 133.0 L 253.1 133.0 L 253.1 135.7 L 256.4 135.7 L 256.4 133.0 L 257.3 133.0 L 257.3 139.4 L 256.4 139.4 L 256.4 136.5 L 253.1 136.5 L 253.1 139.4 L 252.3 139.4 L 252.3 133.0 \" fill=\"#000000\"/>\n",
       "<path class=\"atom-95\" d=\"M 251.1 151.9 L 252.0 151.9 L 252.0 154.7 L 255.3 154.7 L 255.3 151.9 L 256.1 151.9 L 256.1 158.4 L 255.3 158.4 L 255.3 155.4 L 252.0 155.4 L 252.0 158.4 L 251.1 158.4 L 251.1 151.9 \" fill=\"#000000\"/>\n",
       "<path class=\"atom-96\" d=\"M 264.9 160.7 L 265.8 160.7 L 265.8 163.5 L 269.1 163.5 L 269.1 160.7 L 269.9 160.7 L 269.9 167.2 L 269.1 167.2 L 269.1 164.2 L 265.8 164.2 L 265.8 167.2 L 264.9 167.2 L 264.9 160.7 \" fill=\"#000000\"/>\n",
       "<path class=\"atom-97\" d=\"M 294.6 150.8 L 295.5 150.8 L 295.5 153.6 L 298.8 153.6 L 298.8 150.8 L 299.7 150.8 L 299.7 157.3 L 298.8 157.3 L 298.8 154.3 L 295.5 154.3 L 295.5 157.3 L 294.6 157.3 L 294.6 150.8 \" fill=\"#000000\"/>\n",
       "<path class=\"atom-98\" d=\"M 294.8 182.6 L 295.7 182.6 L 295.7 185.4 L 299.0 185.4 L 299.0 182.6 L 299.9 182.6 L 299.9 189.1 L 299.0 189.1 L 299.0 186.1 L 295.7 186.1 L 295.7 189.1 L 294.8 189.1 L 294.8 182.6 \" fill=\"#000000\"/>\n",
       "<path class=\"atom-99\" d=\"M 268.0 170.5 L 268.9 170.5 L 268.9 173.2 L 272.2 173.2 L 272.2 170.5 L 273.0 170.5 L 273.0 176.9 L 272.2 176.9 L 272.2 173.9 L 268.9 173.9 L 268.9 176.9 L 268.0 176.9 L 268.0 170.5 \" fill=\"#000000\"/>\n",
       "<path class=\"atom-100\" d=\"M 252.8 178.8 L 253.7 178.8 L 253.7 181.5 L 257.0 181.5 L 257.0 178.8 L 257.9 178.8 L 257.9 185.3 L 257.0 185.3 L 257.0 182.3 L 253.7 182.3 L 253.7 185.3 L 252.8 185.3 L 252.8 178.8 \" fill=\"#000000\"/>\n",
       "<path class=\"atom-101\" d=\"M 283.4 194.7 L 284.2 194.7 L 284.2 197.4 L 287.5 197.4 L 287.5 194.7 L 288.4 194.7 L 288.4 201.1 L 287.5 201.1 L 287.5 198.2 L 284.2 198.2 L 284.2 201.1 L 283.4 201.1 L 283.4 194.7 \" fill=\"#000000\"/>\n",
       "<path class=\"atom-102\" d=\"M 277.1 208.0 L 278.0 208.0 L 278.0 210.7 L 281.3 210.7 L 281.3 208.0 L 282.1 208.0 L 282.1 214.4 L 281.3 214.4 L 281.3 211.5 L 278.0 211.5 L 278.0 214.4 L 277.1 214.4 L 277.1 208.0 \" fill=\"#000000\"/>\n",
       "<path class=\"atom-103\" d=\"M 248.8 190.9 L 249.7 190.9 L 249.7 193.7 L 253.0 193.7 L 253.0 190.9 L 253.8 190.9 L 253.8 197.4 L 253.0 197.4 L 253.0 194.4 L 249.7 194.4 L 249.7 197.4 L 248.8 197.4 L 248.8 190.9 \" fill=\"#000000\"/>\n",
       "<path class=\"atom-104\" d=\"M 242.1 203.7 L 243.0 203.7 L 243.0 206.4 L 246.3 206.4 L 246.3 203.7 L 247.2 203.7 L 247.2 210.2 L 246.3 210.2 L 246.3 207.2 L 243.0 207.2 L 243.0 210.2 L 242.1 210.2 L 242.1 203.7 \" fill=\"#000000\"/>\n",
       "<path class=\"atom-105\" d=\"M 272.1 219.1 L 273.0 219.1 L 273.0 221.8 L 276.3 221.8 L 276.3 219.1 L 277.1 219.1 L 277.1 225.5 L 276.3 225.5 L 276.3 222.6 L 273.0 222.6 L 273.0 225.5 L 272.1 225.5 L 272.1 219.1 \" fill=\"#000000\"/>\n",
       "<path class=\"atom-106\" d=\"M 265.1 231.7 L 266.0 231.7 L 266.0 234.5 L 269.3 234.5 L 269.3 231.7 L 270.2 231.7 L 270.2 238.2 L 269.3 238.2 L 269.3 235.2 L 266.0 235.2 L 266.0 238.2 L 265.1 238.2 L 265.1 231.7 \" fill=\"#000000\"/>\n",
       "<path class=\"atom-107\" d=\"M 236.4 214.4 L 237.3 214.4 L 237.3 217.2 L 240.6 217.2 L 240.6 214.4 L 241.5 214.4 L 241.5 220.9 L 240.6 220.9 L 240.6 217.9 L 237.3 217.9 L 237.3 220.9 L 236.4 220.9 L 236.4 214.4 \" fill=\"#000000\"/>\n",
       "<path class=\"atom-108\" d=\"M 229.3 226.9 L 230.2 226.9 L 230.2 229.6 L 233.5 229.6 L 233.5 226.9 L 234.4 226.9 L 234.4 233.3 L 233.5 233.3 L 233.5 230.3 L 230.2 230.3 L 230.2 233.3 L 229.3 233.3 L 229.3 226.9 \" fill=\"#000000\"/>\n",
       "<path class=\"atom-109\" d=\"M 259.1 242.3 L 260.0 242.3 L 260.0 245.1 L 263.3 245.1 L 263.3 242.3 L 264.2 242.3 L 264.2 248.8 L 263.3 248.8 L 263.3 245.8 L 260.0 245.8 L 260.0 248.8 L 259.1 248.8 L 259.1 242.3 \" fill=\"#000000\"/>\n",
       "<path class=\"atom-110\" d=\"M 252.0 255.0 L 252.9 255.0 L 252.9 257.8 L 256.2 257.8 L 256.2 255.0 L 257.0 255.0 L 257.0 261.5 L 256.2 261.5 L 256.2 258.5 L 252.9 258.5 L 252.9 261.5 L 252.0 261.5 L 252.0 255.0 \" fill=\"#000000\"/>\n",
       "<path class=\"atom-111\" d=\"M 223.1 237.4 L 224.0 237.4 L 224.0 240.1 L 227.3 240.1 L 227.3 237.4 L 228.2 237.4 L 228.2 243.8 L 227.3 243.8 L 227.3 240.8 L 224.0 240.8 L 224.0 243.8 L 223.1 243.8 L 223.1 237.4 \" fill=\"#000000\"/>\n",
       "<path class=\"atom-112\" d=\"M 215.8 250.3 L 216.6 250.3 L 216.6 253.0 L 219.9 253.0 L 219.9 250.3 L 220.8 250.3 L 220.8 256.7 L 219.9 256.7 L 219.9 253.7 L 216.6 253.7 L 216.6 256.7 L 215.8 256.7 L 215.8 250.3 \" fill=\"#000000\"/>\n",
       "<path class=\"atom-113\" d=\"M 245.9 265.6 L 246.8 265.6 L 246.8 268.3 L 250.1 268.3 L 250.1 265.6 L 251.0 265.6 L 251.0 272.0 L 250.1 272.0 L 250.1 269.0 L 246.8 269.0 L 246.8 272.0 L 245.9 272.0 L 245.9 265.6 \" fill=\"#000000\"/>\n",
       "<path class=\"atom-114\" d=\"M 238.5 278.5 L 239.3 278.5 L 239.3 281.3 L 242.6 281.3 L 242.6 278.5 L 243.5 278.5 L 243.5 285.0 L 242.6 285.0 L 242.6 282.0 L 239.3 282.0 L 239.3 285.0 L 238.5 285.0 L 238.5 278.5 \" fill=\"#000000\"/>\n",
       "<path class=\"atom-115\" d=\"M 217.8 272.9 L 218.7 272.9 L 218.7 275.7 L 222.0 275.7 L 222.0 272.9 L 222.8 272.9 L 222.8 279.4 L 222.0 279.4 L 222.0 276.4 L 218.7 276.4 L 218.7 279.4 L 217.8 279.4 L 217.8 272.9 \" fill=\"#000000\"/>\n",
       "<path class=\"atom-116\" d=\"M 340.8 28.2 L 341.7 28.2 L 341.7 30.9 L 345.0 30.9 L 345.0 28.2 L 345.9 28.2 L 345.9 34.7 L 345.0 34.7 L 345.0 31.7 L 341.7 31.7 L 341.7 34.7 L 340.8 34.7 L 340.8 28.2 \" fill=\"#000000\"/>\n",
       "<path class=\"atom-117\" d=\"M 352.2 36.1 L 353.0 36.1 L 353.0 38.9 L 356.4 38.9 L 356.4 36.1 L 357.2 36.1 L 357.2 42.6 L 356.4 42.6 L 356.4 39.6 L 353.0 39.6 L 353.0 42.6 L 352.2 42.6 L 352.2 36.1 \" fill=\"#000000\"/>\n",
       "<path class=\"atom-118\" d=\"M 372.0 36.0 L 372.8 36.0 L 372.8 38.8 L 376.1 38.8 L 376.1 36.0 L 377.0 36.0 L 377.0 42.5 L 376.1 42.5 L 376.1 39.5 L 372.8 39.5 L 372.8 42.5 L 372.0 42.5 L 372.0 36.0 \" fill=\"#000000\"/>\n",
       "<path class=\"atom-119\" d=\"M 384.4 28.6 L 385.3 28.6 L 385.3 31.4 L 388.6 31.4 L 388.6 28.6 L 389.4 28.6 L 389.4 35.1 L 388.6 35.1 L 388.6 32.1 L 385.3 32.1 L 385.3 35.1 L 384.4 35.1 L 384.4 28.6 \" fill=\"#000000\"/>\n",
       "<path class=\"atom-120\" d=\"M 399.7 58.7 L 400.6 58.7 L 400.6 61.4 L 403.9 61.4 L 403.9 58.7 L 404.7 58.7 L 404.7 65.1 L 403.9 65.1 L 403.9 62.2 L 400.6 62.2 L 400.6 65.1 L 399.7 65.1 L 399.7 58.7 \" fill=\"#000000\"/>\n",
       "<path class=\"atom-121\" d=\"M 412.8 51.2 L 413.7 51.2 L 413.7 53.9 L 417.0 53.9 L 417.0 51.2 L 417.9 51.2 L 417.9 57.6 L 417.0 57.6 L 417.0 54.7 L 413.7 54.7 L 413.7 57.6 L 412.8 57.6 L 412.8 51.2 \" fill=\"#000000\"/>\n",
       "<path class=\"atom-122\" d=\"M 394.8 22.4 L 395.7 22.4 L 395.7 25.1 L 399.0 25.1 L 399.0 22.4 L 399.8 22.4 L 399.8 28.8 L 399.0 28.8 L 399.0 25.8 L 395.7 25.8 L 395.7 28.8 L 394.8 28.8 L 394.8 22.4 \" fill=\"#000000\"/>\n",
       "<path class=\"atom-123\" d=\"M 407.8 15.0 L 408.7 15.0 L 408.7 17.7 L 412.0 17.7 L 412.0 15.0 L 412.9 15.0 L 412.9 21.5 L 412.0 21.5 L 412.0 18.5 L 408.7 18.5 L 408.7 21.5 L 407.8 21.5 L 407.8 15.0 \" fill=\"#000000\"/>\n",
       "<path class=\"atom-124\" d=\"M 422.7 30.4 L 423.6 30.4 L 423.6 33.1 L 426.9 33.1 L 426.9 30.4 L 427.8 30.4 L 427.8 36.8 L 426.9 36.8 L 426.9 33.8 L 423.6 33.8 L 423.6 36.8 L 422.7 36.8 L 422.7 30.4 \" fill=\"#000000\"/>\n",
       "</svg>"
      ],
      "text/plain": [
       "<IPython.core.display.SVG object>"
      ]
     },
     "execution_count": 16,
     "metadata": {},
     "output_type": "execute_result"
    }
   ],
   "source": [
    "lipid = Molecule.from_smiles(smiles)\n",
    "lipid.generate_conformers()\n",
    "lipid.visualize()"
   ]
  },
  {
   "cell_type": "code",
   "execution_count": 13,
   "metadata": {},
   "outputs": [
    {
     "name": "stderr",
     "output_type": "stream",
     "text": [
      "Warning: POPE: Failed due to unspecified stereochemistry\n",
      "/home/julianne/miniconda3/envs/openff/lib/python3.11/site-packages/openff/interchange/interop/gromacs/export/_export.py:48: UserWarning: WARNING: System defined with no box vectors, which GROMACS does not offically support in versions 2020 or newer (see https://gitlab.com/gromacs/gromacs/-/issues/3526). Setting box vectors to a 5  nm cube.\n",
      "  self._write_gro(gro, decimal)\n"
     ]
    }
   ],
   "source": [
    "NAGLcharge = model.compute_property(lipid, check_domains = True, error_if_unsupported=True)\n",
    "lipid.partial_charges  = NAGLcharge * unit.elementary_charge #openFF units attached to partial charges property\n",
    "\n",
    "lipid.name = \"POPE\"\n",
    "for i, atom in enumerate(lipid.atoms, 0):\n",
    "    atom.metadata[\"residue_name\"] = \"POPE\"\n",
    "lipid.generate_unique_atom_names() \n",
    "topology = Topology.from_molecules([lipid])\n",
    "\n",
    "forcefield = ForceField(\"openff-2.1.0.offxml\")\n",
    "\n",
    "interchange = Interchange.from_smirnoff(\n",
    "    force_field=forcefield,\n",
    "    topology=topology,\n",
    "    charge_from_molecules = [lipid]\n",
    ")\n",
    "interchange\n",
    "\n",
    "lipid.to_file('lipid.pdb', file_format = 'pdb')\n",
    "interchange.to_top(\"lipid.top\")\n",
    "interchange.to_gro(\"lipid.gro\")"
   ]
  },
  {
   "cell_type": "markdown",
   "metadata": {},
   "source": [
    "Visualize lipid with nglview"
   ]
  },
  {
   "cell_type": "code",
   "execution_count": 15,
   "metadata": {},
   "outputs": [
    {
     "data": {
      "application/vnd.jupyter.widget-view+json": {
       "model_id": "19f9afaca8a7439cad98629f555e8574",
       "version_major": 2,
       "version_minor": 0
      },
      "text/plain": [
       "NGLWidget()"
      ]
     },
     "metadata": {},
     "output_type": "display_data"
    }
   ],
   "source": [
    "model_path = '/home/julianne/Desktop/OpenFFLipid/POPS/lipid.pdb' #change model path\n",
    "\n",
    "view = nglview.show_structure_file(model_path)\n",
    "view\n",
    "#check that angles are all acceptable for POPE"
   ]
  },
  {
   "cell_type": "markdown",
   "metadata": {},
   "source": [
    "If the lipid created is not in an optimal configuration for packing into a bilayer (e.g. tails are splayed), it may be necessary to pull the lipid to strighten it out. If the lipid is already in an okay configuration to pack, skip gmx pull command. "
   ]
  },
  {
   "cell_type": "code",
   "execution_count": 16,
   "metadata": {},
   "outputs": [
    {
     "data": {
      "image/svg+xml": [
       "<svg xmlns=\"http://www.w3.org/2000/svg\" xmlns:rdkit=\"http://www.rdkit.org/xml\" xmlns:xlink=\"http://www.w3.org/1999/xlink\" version=\"1.1\" baseProfile=\"full\" xml:space=\"preserve\" width=\"500px\" height=\"300px\" viewBox=\"0 0 500 300\">\n",
       "<!-- END OF HEADER -->\n",
       "<rect style=\"opacity:1.0;fill:#FFFFFF;stroke:none\" width=\"500.0\" height=\"300.0\" x=\"0.0\" y=\"0.0\"> </rect>\n",
       "<path class=\"bond-0 atom-0 atom-1\" d=\"M 270.3,107.2 L 345.4,150.6\" style=\"fill:none;fill-rule:evenodd;stroke:#FF0000;stroke-width:2.0px;stroke-linecap:butt;stroke-linejoin:miter;stroke-opacity:1\"/>\n",
       "<path class=\"bond-0 atom-0 atom-1\" d=\"M 345.4,150.6 L 420.5,194.1\" style=\"fill:none;fill-rule:evenodd;stroke:#000000;stroke-width:2.0px;stroke-linecap:butt;stroke-linejoin:miter;stroke-opacity:1\"/>\n",
       "<path class=\"bond-1 atom-0 atom-2\" d=\"M 229.9,107.1 L 154.7,150.5\" style=\"fill:none;fill-rule:evenodd;stroke:#FF0000;stroke-width:2.0px;stroke-linecap:butt;stroke-linejoin:miter;stroke-opacity:1\"/>\n",
       "<path class=\"bond-1 atom-0 atom-2\" d=\"M 154.7,150.5 L 79.5,193.8\" style=\"fill:none;fill-rule:evenodd;stroke:#000000;stroke-width:2.0px;stroke-linecap:butt;stroke-linejoin:miter;stroke-opacity:1\"/>\n",
       "<path class=\"atom-0\" d=\"M 237.1 95.6 Q 237.1 88.8, 240.4 85.0 Q 243.8 81.2, 250.1 81.2 Q 256.4 81.2, 259.7 85.0 Q 263.1 88.8, 263.1 95.6 Q 263.1 102.5, 259.7 106.4 Q 256.3 110.3, 250.1 110.3 Q 243.8 110.3, 240.4 106.4 Q 237.1 102.5, 237.1 95.6 M 250.1 107.1 Q 254.4 107.1, 256.7 104.2 Q 259.1 101.3, 259.1 95.6 Q 259.1 90.0, 256.7 87.2 Q 254.4 84.4, 250.1 84.4 Q 245.8 84.4, 243.4 87.2 Q 241.1 90.0, 241.1 95.6 Q 241.1 101.3, 243.4 104.2 Q 245.8 107.1, 250.1 107.1 \" fill=\"#FF0000\"/>\n",
       "<path class=\"atom-1\" d=\"M 427.7 190.5 L 431.5 190.5 L 431.5 202.5 L 446.0 202.5 L 446.0 190.5 L 449.9 190.5 L 449.9 218.8 L 446.0 218.8 L 446.0 205.7 L 431.5 205.7 L 431.5 218.8 L 427.7 218.8 L 427.7 190.5 \" fill=\"#000000\"/>\n",
       "<path class=\"atom-2\" d=\"M 50.1 190.2 L 54.0 190.2 L 54.0 202.2 L 68.5 202.2 L 68.5 190.2 L 72.3 190.2 L 72.3 218.5 L 68.5 218.5 L 68.5 205.4 L 54.0 205.4 L 54.0 218.5 L 50.1 218.5 L 50.1 190.2 \" fill=\"#000000\"/>\n",
       "</svg>"
      ],
      "text/plain": [
       "<IPython.core.display.SVG object>"
      ]
     },
     "execution_count": 16,
     "metadata": {},
     "output_type": "execute_result"
    }
   ],
   "source": [
    "water = Molecule.from_smiles(\"O\")\n",
    "water.generate_conformers()\n",
    "water.visualize()"
   ]
  },
  {
   "cell_type": "code",
   "execution_count": 17,
   "metadata": {},
   "outputs": [],
   "source": [
    "NAGLcharge = model.compute_property(water, check_domains = True, error_if_unsupported=True)\n",
    "water.partial_charges  = NAGLcharge * unit.elementary_charge\n",
    "\n",
    "water.name = \"TIP3P\"\n",
    "\n",
    "for i, atom in enumerate(water.atoms, 3):\n",
    "    atom.metadata[\"residue_name\"] = \"TIP3P\"\n",
    "water.generate_unique_atom_names() \n",
    "topology = Topology.from_molecules([water])\n",
    "\n",
    "\n",
    "interchange = Interchange.from_smirnoff(\n",
    "    force_field=forcefield,\n",
    "    topology=topology,\n",
    "    charge_from_molecules = [water]\n",
    ")\n",
    "interchange\n",
    "\n",
    "# PDB structure for Packmol\n",
    "interchange.to_pdb(\"water.pdb\")\n",
    "interchange.to_top(\"water.top\")"
   ]
  },
  {
   "cell_type": "markdown",
   "metadata": {},
   "source": [
    "If the lipid is not in a propper configuration, running a pull script to straighten lipid out is necessary. \n",
    "\n",
    "First, create an index group for an atom in the lipid headgroup"
   ]
  },
  {
   "cell_type": "code",
   "execution_count": null,
   "metadata": {},
   "outputs": [],
   "source": [
    "# The nitrogen from POPC is used here since it is the furthest core atom\n",
    "# For more complicated structures, you can specificy multiple atoms and link them (reference 'specific_pull.mdp' in this repo)\n",
    "\n",
    "$ gmx make_ndx -f lipid.gro -o N1x.ndx\n",
    "\n",
    "# Input for this index\n",
    "$ a 48 # Warning: check index in lipid.gro file to make sure that the index is correct.\n",
    "$ name 3 N1x # Creates an atom group (3) with your selected atom\n",
    "$ q\n",
    "\n",
    "#this will create a file, 'N1x.ndx'"
   ]
  },
  {
   "cell_type": "markdown",
   "metadata": {},
   "source": [
    "Run the pulling simulation in gromacs to straighten out the lipid. This script grabs the atom in the index file, and pulls it in the z direction.\n"
   ]
  },
  {
   "cell_type": "code",
   "execution_count": null,
   "metadata": {},
   "outputs": [],
   "source": [
    "$ gmx grompp -f pull_nvt.mdp -c lipid.gro -p lipid.top -n A48.ndx -o pull.tpr -maxwarn 1 # Warning: Update pull_nvt.mdp with atom name\n",
    "$ gmx mdrun -deffnm pull"
   ]
  },
  {
   "cell_type": "markdown",
   "metadata": {},
   "source": [
    "### Use trjconv to produce a pdb of the lipid after pull code. Visualize with nglview to confirm \n"
   ]
  },
  {
   "cell_type": "code",
   "execution_count": null,
   "metadata": {},
   "outputs": [],
   "source": [
    "$ gmx trjconv -f pull.xtc -s pull.tpr -pbc mol -o POPE.pdb -dump 50 # Where '50' is the best frame\n",
    "$ 0\n",
    "#Please note that choosing the last frame may retult in distorted hydrogen bonding when visualizing below. \n",
    "# If this problem occurs choose an earlier frame\n",
    "\n",
    "# If the GRO output is good enough at the end, use this:\n",
    "$ gmx editconf -f pull.gro -o POPC.pdb"
   ]
  },
  {
   "cell_type": "code",
   "execution_count": 27,
   "metadata": {
    "scrolled": true
   },
   "outputs": [
    {
     "data": {
      "application/vnd.jupyter.widget-view+json": {
       "model_id": "e9ae835a571f49088f784d5f5ac963a2",
       "version_major": 2,
       "version_minor": 0
      },
      "text/plain": [
       "NGLWidget()"
      ]
     },
     "metadata": {},
     "output_type": "display_data"
    }
   ],
   "source": [
    "#visualize the pulled lipid using ngl view\n",
    "\n",
    "model_path = '/home/julianne/Desktop/OpenFFLipid/POPS/POPS.pdb' #change model path\n",
    "\n",
    "view = nglview.show_structure_file(model_path)\n",
    "view\n"
   ]
  },
  {
   "cell_type": "markdown",
   "metadata": {},
   "source": [
    "### Run packmol with the dumped PDB\n",
    "You may have to modify the .inp structure file in packmol to fit your \"pulled\" lipid. Use MDAnalysis below to caluclate distance parameters based on your lipid for packing "
   ]
  },
  {
   "cell_type": "code",
   "execution_count": 33,
   "metadata": {},
   "outputs": [
    {
     "name": "stdout",
     "output_type": "stream",
     "text": [
      "Length of lipid from head group to tail group is:\n",
      " ~ 30.1 Angstrom\n"
     ]
    }
   ],
   "source": [
    "u = mda.Universe('POPE.pdb')\n",
    "\n",
    "head_group = u.select_atoms('name N1x') #select atom in head group, in this case Nitrogen\n",
    "tail_group = u.select_atoms('name C28x') #select atom in tail group, in this case last carbon in unsaturated tail\n",
    "\n",
    "distance = distances.distance_array(head_group.positions,tail_group.positions)\n",
    "print(\"Length of lipid from head group to tail group is:\\n\",\"~\",round(distance[0][0],2),'Angstrom') \n",
    "#this will tell you the full length of your lipid \n"
   ]
  },
  {
   "cell_type": "markdown",
   "metadata": {},
   "source": [
    "Estimate the desired number of lipids or membrane size in x y diresction when area per lipid is roughly known \\\n",
    "$ N_I = \\frac{2 L_x L_y}{a_I}$  \\\n",
    "where $N_I$ = total # lipids\\\n",
    "$L_x , L_y$ = lateral box dimensions\\\n",
    "$a_I$ = area per lipid in units $Å^{2}$"
   ]
  },
  {
   "cell_type": "code",
   "execution_count": 34,
   "metadata": {},
   "outputs": [
    {
     "name": "stdout",
     "output_type": "stream",
     "text": [
      "64.5 angstrom dimensions for Length\n"
     ]
    }
   ],
   "source": [
    "# POPC ~ 65 Å^2\n",
    "#For a square box:\n",
    "N = 128\n",
    "a = 65\n",
    "L = np.sqrt(N * a /2)\n",
    "print(round(L,1), \"angstrom dimensions for Length\")"
   ]
  },
  {
   "cell_type": "code",
   "execution_count": null,
   "metadata": {},
   "outputs": [],
   "source": [
    "#modify .inp file if necessary with propper length and atom names \n",
    "$ packmol < bilayer-comment.inp\n",
    "#if you have errors after running packmol make your box bigger \n",
    "# this returns a bilayer.pdb file that can be visualized below "
   ]
  },
  {
   "cell_type": "code",
   "execution_count": 3,
   "metadata": {},
   "outputs": [
    {
     "data": {
      "application/vnd.jupyter.widget-view+json": {
       "model_id": "f09dc1ddcd8249e280e4f26b734f9779",
       "version_major": 2,
       "version_minor": 0
      },
      "text/plain": [
       "NGLWidget()"
      ]
     },
     "metadata": {},
     "output_type": "display_data"
    }
   ],
   "source": [
    "model_path = '/home/julianne/Desktop/Run_feb8/Compressed/bilayer.pdb' #change model path\n",
    "\n",
    "view = nglview.show_structure_file(model_path)\n",
    "view"
   ]
  },
  {
   "cell_type": "markdown",
   "metadata": {},
   "source": [
    "### Build topology file from system interchange and get .gro file from .pdb"
   ]
  },
  {
   "cell_type": "code",
   "execution_count": null,
   "metadata": {},
   "outputs": [],
   "source": [
    "$ cp POPC.top topol.top\n",
    "$ cp POPC.top POPC.itp\n",
    "$ cp water.top TIP3P.itp\n",
    "# delete defaults, atom types, and molecules tables from .itp files\n",
    "# remove all force field parameters from topol.top, add TIP3P atom types, changes molecules:\n",
    "# [ molecules ]\n",
    "# ; Compound\t#mols\n",
    "# TIP3P  \t        5120  \n",
    "# POPC  \t         128\n",
    "\n",
    "#Convert pdb into .gro file\n",
    "$ gmx editconf -f bilayer.pdb -o bilayer.gro -box 7.5 7.5 8.0"
   ]
  },
  {
   "cell_type": "markdown",
   "metadata": {},
   "source": [
    "Files are now ready to be run using Gromacs.\n",
    "\n",
    "Min, NVT, NPT, MD production run"
   ]
  },
  {
   "cell_type": "code",
   "execution_count": null,
   "metadata": {},
   "outputs": [],
   "source": [
    "$ gmx grompp -f min.mdp -p topol.top -c bilayer.gro -o min.tpr\n",
    "$ gmx mdrun -deffnm min\n",
    "\n",
    "$ gmx grompp -p topol.top -f nvt.mdp -c min.gro -o nvt.tpr\n",
    "$ gmx mdrun -deffnm nvt\n",
    "\n",
    "$ gmx grompp -f npt.mdp -p topol.top -c nvt.gro -o npt.tpr -maxwarn 1\n",
    "$ gmx mdrun -deffnm npt\n",
    "\n",
    "$ gmx grompp -f md.mdp -c npt.gro -t npt.cpt -p topol.top -o md.tpr\n",
    "$ gmx mdrun -deffnm md\n",
    "# Checkpoint run for completion\n",
    "$ gmx mdrun -deffnm md -cpi md.cpt"
   ]
  }
 ],
 "metadata": {
  "kernelspec": {
   "display_name": "Python 3 (ipykernel)",
   "language": "python",
   "name": "python3"
  },
  "language_info": {
   "codemirror_mode": {
    "name": "ipython",
    "version": 3
   },
   "file_extension": ".py",
   "mimetype": "text/x-python",
   "name": "python",
   "nbconvert_exporter": "python",
   "pygments_lexer": "ipython3",
   "version": "3.11.7"
  }
 },
 "nbformat": 4,
 "nbformat_minor": 4
}
