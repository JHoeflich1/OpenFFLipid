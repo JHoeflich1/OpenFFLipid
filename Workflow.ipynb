{
 "cells": [
  {
   "cell_type": "markdown",
   "metadata": {},
   "source": [
    "### This notebook will walk you through how to build a lipid bilayer, starting from any arbitrary smiles string using OpenFF's interchange\n",
    "\n",
    "Import all dependencies "
   ]
  },
  {
   "cell_type": "code",
   "execution_count": 1,
   "metadata": {},
   "outputs": [
    {
     "name": "stderr",
     "output_type": "stream",
     "text": [
      "/home/julianne/miniconda3/envs/openff_clone/lib/python3.11/site-packages/Bio/__init__.py:138: BiopythonWarning: You may be importing Biopython from inside the source tree. This is bad practice and might lead to downstream issues. In particular, you might encounter ImportErrors due to missing compiled C extensions. We recommend that you try running your code from outside the source tree. If you are outside the source tree then you have a setup.py file in an unexpected directory: /home/julianne/miniconda3/envs/openff_clone/lib/python3.11/site-packages\n",
      "  warnings.warn(\n"
     ]
    },
    {
     "data": {
      "application/vnd.jupyter.widget-view+json": {
       "model_id": "8ccc7693d45e4831a3bd4a65f511ea47",
       "version_major": 2,
       "version_minor": 0
      },
      "text/plain": []
     },
     "metadata": {},
     "output_type": "display_data"
    }
   ],
   "source": [
    "from io import StringIO\n",
    "from typing import Iterable\n",
    "import numpy as np\n",
    "import matplotlib.pyplot as plt\n",
    "\n",
    "from rdkit import Chem\n",
    "import MDAnalysis as mda\n",
    "from MDAnalysis.analysis import distances\n",
    "from openff.toolkit import ForceField, Molecule, Topology\n",
    "from openff.toolkit.utils.toolkits import OpenEyeToolkitWrapper\n",
    "\n",
    "import openff.nagl\n",
    "from openff.nagl import GNNModel \n",
    "from openff.nagl_models import list_available_nagl_models\n",
    "# If ypu want a diff toolkit wrapper check out https://docs.openforcefield.org/projects/nagl/en/latest/toolkit_wrappers.html\n",
    "from openff.units import Quantity, unit\n",
    "from openmm import unit as openmm_unit\n",
    "from openff.interchange import Interchange\n",
    "\n",
    "import BuildLipid\n",
    "import nglview"
   ]
  },
  {
   "cell_type": "markdown",
   "metadata": {},
   "source": [
    "To use NAGL to assign charges, first make sure you have the correct model dowloaded. List all models and specify the path"
   ]
  },
  {
   "cell_type": "code",
   "execution_count": 2,
   "metadata": {},
   "outputs": [
    {
     "data": {
      "text/plain": [
       "[PosixPath('/home/julianne/miniconda3/envs/openff_clone/lib/python3.11/site-packages/openff/nagl_models/models/am1bcc/openff-gnn-am1bcc-0.0.1-alpha.1.pt'),\n",
       " PosixPath('/home/julianne/miniconda3/envs/openff_clone/lib/python3.11/site-packages/openff/nagl_models/models/am1bcc/openff-gnn-am1bcc-0.1.0-rc.1.pt'),\n",
       " PosixPath('/home/julianne/miniconda3/envs/openff_clone/lib/python3.11/site-packages/openff/nagl_models/models/am1bcc/openff-gnn-am1bcc-0.1.0-rc.2.pt')]"
      ]
     },
     "execution_count": 2,
     "metadata": {},
     "output_type": "execute_result"
    }
   ],
   "source": [
    "list_available_nagl_models()"
   ]
  },
  {
   "cell_type": "code",
   "execution_count": 4,
   "metadata": {},
   "outputs": [],
   "source": [
    "model_path = '/home/julianne/miniconda3/envs/openff_clone/lib/python3.11/site-packages/openff/nagl_models/models/am1bcc/openff-gnn-am1bcc-0.1.0-rc.2.pt'\n",
    "# Change model_path to your folder\n",
    "model = GNNModel.load(model_path)"
   ]
  },
  {
   "cell_type": "markdown",
   "metadata": {},
   "source": [
    "### Build lipid and water from smiles string and use OpenFF Interchange to parameterize\n",
    "\n",
    "Think about making a dictionary of smiles strings so user only has to specify the lipid name"
   ]
  },
  {
   "cell_type": "code",
   "execution_count": 2,
   "metadata": {},
   "outputs": [],
   "source": [
    "Lipid = 'POPE'"
   ]
  },
  {
   "cell_type": "code",
   "execution_count": 3,
   "metadata": {},
   "outputs": [],
   "source": [
    "df = BuildLipid.load_dataframe()"
   ]
  },
  {
   "cell_type": "code",
   "execution_count": 20,
   "metadata": {},
   "outputs": [
    {
     "name": "stdout",
     "output_type": "stream",
     "text": [
      "CCCCCCCC\\C=C/CCCCCCCC(=O)OC[C@H](OC(=O)CCCCCCC\\C=C/CCCCCCCC)(CO[P@@]([O-])(OCC[NH3+])(=O))\n"
     ]
    }
   ],
   "source": [
    "lipid_smiles = BuildLipid.makeLipidSmiles('DOPE', df)\n",
    "print(lipid_smiles)"
   ]
  },
  {
   "cell_type": "code",
   "execution_count": 21,
   "metadata": {},
   "outputs": [
    {
     "name": "stderr",
     "output_type": "stream",
     "text": [
      "Warning: : Failed due to unspecified stereochemistry\n"
     ]
    },
    {
     "data": {
      "image/svg+xml": [
       "<svg xmlns=\"http://www.w3.org/2000/svg\" xmlns:rdkit=\"http://www.rdkit.org/xml\" xmlns:xlink=\"http://www.w3.org/1999/xlink\" version=\"1.1\" baseProfile=\"full\" xml:space=\"preserve\" width=\"500px\" height=\"300px\" viewBox=\"0 0 500 300\">\n",
       "<!-- END OF HEADER -->\n",
       "<rect style=\"opacity:1.0;fill:#FFFFFF;stroke:none\" width=\"500.0\" height=\"300.0\" x=\"0.0\" y=\"0.0\"> </rect>\n",
       "<path class=\"bond-0 atom-0 atom-1\" d=\"M 461.5,156.2 L 450.1,162.7\" style=\"fill:none;fill-rule:evenodd;stroke:#000000;stroke-width:2.0px;stroke-linecap:butt;stroke-linejoin:miter;stroke-opacity:1\"/>\n",
       "<path class=\"bond-1 atom-1 atom-2\" d=\"M 450.1,162.7 L 438.5,156.2\" style=\"fill:none;fill-rule:evenodd;stroke:#000000;stroke-width:2.0px;stroke-linecap:butt;stroke-linejoin:miter;stroke-opacity:1\"/>\n",
       "<path class=\"bond-2 atom-2 atom-3\" d=\"M 438.5,156.2 L 427.1,162.9\" style=\"fill:none;fill-rule:evenodd;stroke:#000000;stroke-width:2.0px;stroke-linecap:butt;stroke-linejoin:miter;stroke-opacity:1\"/>\n",
       "<path class=\"bond-3 atom-3 atom-4\" d=\"M 427.1,162.9 L 415.5,156.6\" style=\"fill:none;fill-rule:evenodd;stroke:#000000;stroke-width:2.0px;stroke-linecap:butt;stroke-linejoin:miter;stroke-opacity:1\"/>\n",
       "<path class=\"bond-4 atom-4 atom-5\" d=\"M 415.5,156.6 L 404.2,163.7\" style=\"fill:none;fill-rule:evenodd;stroke:#000000;stroke-width:2.0px;stroke-linecap:butt;stroke-linejoin:miter;stroke-opacity:1\"/>\n",
       "<path class=\"bond-5 atom-5 atom-6\" d=\"M 404.2,163.7 L 393.4,158.3\" style=\"fill:none;fill-rule:evenodd;stroke:#000000;stroke-width:2.0px;stroke-linecap:butt;stroke-linejoin:miter;stroke-opacity:1\"/>\n",
       "<path class=\"bond-6 atom-6 atom-7\" d=\"M 393.4,158.3 L 383.1,164.5\" style=\"fill:none;fill-rule:evenodd;stroke:#000000;stroke-width:2.0px;stroke-linecap:butt;stroke-linejoin:miter;stroke-opacity:1\"/>\n",
       "<path class=\"bond-7 atom-7 atom-8\" d=\"M 383.1,164.5 L 371.9,157.3\" style=\"fill:none;fill-rule:evenodd;stroke:#000000;stroke-width:2.0px;stroke-linecap:butt;stroke-linejoin:miter;stroke-opacity:1\"/>\n",
       "<path class=\"bond-8 atom-8 atom-9\" d=\"M 371.9,157.3 L 359.1,165.0\" style=\"fill:none;fill-rule:evenodd;stroke:#000000;stroke-width:2.0px;stroke-linecap:butt;stroke-linejoin:miter;stroke-opacity:1\"/>\n",
       "<path class=\"bond-8 atom-8 atom-9\" d=\"M 371.8,159.6 L 361.1,166.0\" style=\"fill:none;fill-rule:evenodd;stroke:#000000;stroke-width:2.0px;stroke-linecap:butt;stroke-linejoin:miter;stroke-opacity:1\"/>\n",
       "<path class=\"bond-9 atom-9 atom-10\" d=\"M 359.1,165.0 L 359.7,181.2\" style=\"fill:none;fill-rule:evenodd;stroke:#000000;stroke-width:2.0px;stroke-linecap:butt;stroke-linejoin:miter;stroke-opacity:1\"/>\n",
       "<path class=\"bond-10 atom-10 atom-11\" d=\"M 359.7,181.2 L 347.8,186.3\" style=\"fill:none;fill-rule:evenodd;stroke:#000000;stroke-width:2.0px;stroke-linecap:butt;stroke-linejoin:miter;stroke-opacity:1\"/>\n",
       "<path class=\"bond-11 atom-11 atom-12\" d=\"M 347.8,186.3 L 335.3,177.5\" style=\"fill:none;fill-rule:evenodd;stroke:#000000;stroke-width:2.0px;stroke-linecap:butt;stroke-linejoin:miter;stroke-opacity:1\"/>\n",
       "<path class=\"bond-12 atom-12 atom-13\" d=\"M 335.3,177.5 L 323.9,183.3\" style=\"fill:none;fill-rule:evenodd;stroke:#000000;stroke-width:2.0px;stroke-linecap:butt;stroke-linejoin:miter;stroke-opacity:1\"/>\n",
       "<path class=\"bond-13 atom-13 atom-14\" d=\"M 323.9,183.3 L 312.2,176.5\" style=\"fill:none;fill-rule:evenodd;stroke:#000000;stroke-width:2.0px;stroke-linecap:butt;stroke-linejoin:miter;stroke-opacity:1\"/>\n",
       "<path class=\"bond-14 atom-14 atom-15\" d=\"M 312.2,176.5 L 300.6,183.4\" style=\"fill:none;fill-rule:evenodd;stroke:#000000;stroke-width:2.0px;stroke-linecap:butt;stroke-linejoin:miter;stroke-opacity:1\"/>\n",
       "<path class=\"bond-15 atom-15 atom-16\" d=\"M 300.6,183.4 L 289.1,177.6\" style=\"fill:none;fill-rule:evenodd;stroke:#000000;stroke-width:2.0px;stroke-linecap:butt;stroke-linejoin:miter;stroke-opacity:1\"/>\n",
       "<path class=\"bond-16 atom-16 atom-17\" d=\"M 289.1,177.6 L 277.8,185.0\" style=\"fill:none;fill-rule:evenodd;stroke:#000000;stroke-width:2.0px;stroke-linecap:butt;stroke-linejoin:miter;stroke-opacity:1\"/>\n",
       "<path class=\"bond-17 atom-17 atom-18\" d=\"M 276.8,184.5 L 277.0,189.7\" style=\"fill:none;fill-rule:evenodd;stroke:#000000;stroke-width:2.0px;stroke-linecap:butt;stroke-linejoin:miter;stroke-opacity:1\"/>\n",
       "<path class=\"bond-17 atom-17 atom-18\" d=\"M 277.0,189.7 L 277.2,194.9\" style=\"fill:none;fill-rule:evenodd;stroke:#FF0000;stroke-width:2.0px;stroke-linecap:butt;stroke-linejoin:miter;stroke-opacity:1\"/>\n",
       "<path class=\"bond-17 atom-17 atom-18\" d=\"M 278.8,184.4 L 279.0,189.6\" style=\"fill:none;fill-rule:evenodd;stroke:#000000;stroke-width:2.0px;stroke-linecap:butt;stroke-linejoin:miter;stroke-opacity:1\"/>\n",
       "<path class=\"bond-17 atom-17 atom-18\" d=\"M 279.0,189.6 L 279.2,194.8\" style=\"fill:none;fill-rule:evenodd;stroke:#FF0000;stroke-width:2.0px;stroke-linecap:butt;stroke-linejoin:miter;stroke-opacity:1\"/>\n",
       "<path class=\"bond-18 atom-17 atom-19\" d=\"M 277.8,185.0 L 273.9,182.9\" style=\"fill:none;fill-rule:evenodd;stroke:#000000;stroke-width:2.0px;stroke-linecap:butt;stroke-linejoin:miter;stroke-opacity:1\"/>\n",
       "<path class=\"bond-18 atom-17 atom-19\" d=\"M 273.9,182.9 L 269.9,180.7\" style=\"fill:none;fill-rule:evenodd;stroke:#FF0000;stroke-width:2.0px;stroke-linecap:butt;stroke-linejoin:miter;stroke-opacity:1\"/>\n",
       "<path class=\"bond-19 atom-19 atom-20\" d=\"M 263.9,180.6 L 260.2,182.6\" style=\"fill:none;fill-rule:evenodd;stroke:#FF0000;stroke-width:2.0px;stroke-linecap:butt;stroke-linejoin:miter;stroke-opacity:1\"/>\n",
       "<path class=\"bond-19 atom-19 atom-20\" d=\"M 260.2,182.6 L 256.4,184.6\" style=\"fill:none;fill-rule:evenodd;stroke:#000000;stroke-width:2.0px;stroke-linecap:butt;stroke-linejoin:miter;stroke-opacity:1\"/>\n",
       "<path class=\"bond-20 atom-20 atom-21\" d=\"M 256.4,184.6 L 245.0,176.9\" style=\"fill:none;fill-rule:evenodd;stroke:#000000;stroke-width:2.0px;stroke-linecap:butt;stroke-linejoin:miter;stroke-opacity:1\"/>\n",
       "<path class=\"bond-21 atom-21 atom-22\" d=\"M 245.0,176.9 L 239.6,169.6 L 241.3,168.6 Z\" style=\"fill:#000000;fill-rule:evenodd;fill-opacity:1;stroke:#000000;stroke-width:0.5px;stroke-linecap:butt;stroke-linejoin:miter;stroke-opacity:1;\"/>\n",
       "<path class=\"bond-22 atom-21 atom-23\" d=\"M 245.0,176.9 L 240.7,179.2\" style=\"fill:none;fill-rule:evenodd;stroke:#000000;stroke-width:2.0px;stroke-linecap:butt;stroke-linejoin:miter;stroke-opacity:1\"/>\n",
       "<path class=\"bond-22 atom-21 atom-23\" d=\"M 240.7,179.2 L 236.4,181.6\" style=\"fill:none;fill-rule:evenodd;stroke:#FF0000;stroke-width:2.0px;stroke-linecap:butt;stroke-linejoin:miter;stroke-opacity:1\"/>\n",
       "<path class=\"bond-23 atom-23 atom-24\" d=\"M 230.4,181.4 L 226.2,179.0\" style=\"fill:none;fill-rule:evenodd;stroke:#FF0000;stroke-width:2.0px;stroke-linecap:butt;stroke-linejoin:miter;stroke-opacity:1\"/>\n",
       "<path class=\"bond-23 atom-23 atom-24\" d=\"M 226.2,179.0 L 222.0,176.5\" style=\"fill:none;fill-rule:evenodd;stroke:#000000;stroke-width:2.0px;stroke-linecap:butt;stroke-linejoin:miter;stroke-opacity:1\"/>\n",
       "<path class=\"bond-24 atom-24 atom-25\" d=\"M 223.0,177.1 L 223.0,171.9\" style=\"fill:none;fill-rule:evenodd;stroke:#000000;stroke-width:2.0px;stroke-linecap:butt;stroke-linejoin:miter;stroke-opacity:1\"/>\n",
       "<path class=\"bond-24 atom-24 atom-25\" d=\"M 223.0,171.9 L 223.0,166.7\" style=\"fill:none;fill-rule:evenodd;stroke:#FF0000;stroke-width:2.0px;stroke-linecap:butt;stroke-linejoin:miter;stroke-opacity:1\"/>\n",
       "<path class=\"bond-24 atom-24 atom-25\" d=\"M 221.1,177.1 L 221.0,171.9\" style=\"fill:none;fill-rule:evenodd;stroke:#000000;stroke-width:2.0px;stroke-linecap:butt;stroke-linejoin:miter;stroke-opacity:1\"/>\n",
       "<path class=\"bond-24 atom-24 atom-25\" d=\"M 221.0,171.9 L 221.0,166.7\" style=\"fill:none;fill-rule:evenodd;stroke:#FF0000;stroke-width:2.0px;stroke-linecap:butt;stroke-linejoin:miter;stroke-opacity:1\"/>\n",
       "<path class=\"bond-25 atom-24 atom-26\" d=\"M 222.0,176.5 L 210.8,183.1\" style=\"fill:none;fill-rule:evenodd;stroke:#000000;stroke-width:2.0px;stroke-linecap:butt;stroke-linejoin:miter;stroke-opacity:1\"/>\n",
       "<path class=\"bond-26 atom-26 atom-27\" d=\"M 210.8,183.1 L 199.4,176.6\" style=\"fill:none;fill-rule:evenodd;stroke:#000000;stroke-width:2.0px;stroke-linecap:butt;stroke-linejoin:miter;stroke-opacity:1\"/>\n",
       "<path class=\"bond-27 atom-27 atom-28\" d=\"M 199.4,176.6 L 187.6,183.1\" style=\"fill:none;fill-rule:evenodd;stroke:#000000;stroke-width:2.0px;stroke-linecap:butt;stroke-linejoin:miter;stroke-opacity:1\"/>\n",
       "<path class=\"bond-28 atom-28 atom-29\" d=\"M 187.6,183.1 L 176.1,176.2\" style=\"fill:none;fill-rule:evenodd;stroke:#000000;stroke-width:2.0px;stroke-linecap:butt;stroke-linejoin:miter;stroke-opacity:1\"/>\n",
       "<path class=\"bond-29 atom-29 atom-30\" d=\"M 176.1,176.2 L 164.6,181.9\" style=\"fill:none;fill-rule:evenodd;stroke:#000000;stroke-width:2.0px;stroke-linecap:butt;stroke-linejoin:miter;stroke-opacity:1\"/>\n",
       "<path class=\"bond-30 atom-30 atom-31\" d=\"M 164.6,181.9 L 152.1,173.1\" style=\"fill:none;fill-rule:evenodd;stroke:#000000;stroke-width:2.0px;stroke-linecap:butt;stroke-linejoin:miter;stroke-opacity:1\"/>\n",
       "<path class=\"bond-31 atom-31 atom-32\" d=\"M 152.1,173.1 L 140.3,178.2\" style=\"fill:none;fill-rule:evenodd;stroke:#000000;stroke-width:2.0px;stroke-linecap:butt;stroke-linejoin:miter;stroke-opacity:1\"/>\n",
       "<path class=\"bond-32 atom-32 atom-33\" d=\"M 140.3,178.2 L 140.9,194.4\" style=\"fill:none;fill-rule:evenodd;stroke:#000000;stroke-width:2.0px;stroke-linecap:butt;stroke-linejoin:miter;stroke-opacity:1\"/>\n",
       "<path class=\"bond-33 atom-33 atom-34\" d=\"M 140.9,194.4 L 128.1,202.1\" style=\"fill:none;fill-rule:evenodd;stroke:#000000;stroke-width:2.0px;stroke-linecap:butt;stroke-linejoin:miter;stroke-opacity:1\"/>\n",
       "<path class=\"bond-33 atom-33 atom-34\" d=\"M 138.9,193.4 L 128.2,199.8\" style=\"fill:none;fill-rule:evenodd;stroke:#000000;stroke-width:2.0px;stroke-linecap:butt;stroke-linejoin:miter;stroke-opacity:1\"/>\n",
       "<path class=\"bond-34 atom-34 atom-35\" d=\"M 128.1,202.1 L 116.9,194.9\" style=\"fill:none;fill-rule:evenodd;stroke:#000000;stroke-width:2.0px;stroke-linecap:butt;stroke-linejoin:miter;stroke-opacity:1\"/>\n",
       "<path class=\"bond-35 atom-35 atom-36\" d=\"M 116.9,194.9 L 106.6,201.1\" style=\"fill:none;fill-rule:evenodd;stroke:#000000;stroke-width:2.0px;stroke-linecap:butt;stroke-linejoin:miter;stroke-opacity:1\"/>\n",
       "<path class=\"bond-36 atom-36 atom-37\" d=\"M 106.6,201.1 L 95.8,195.7\" style=\"fill:none;fill-rule:evenodd;stroke:#000000;stroke-width:2.0px;stroke-linecap:butt;stroke-linejoin:miter;stroke-opacity:1\"/>\n",
       "<path class=\"bond-37 atom-37 atom-38\" d=\"M 95.8,195.7 L 84.5,202.8\" style=\"fill:none;fill-rule:evenodd;stroke:#000000;stroke-width:2.0px;stroke-linecap:butt;stroke-linejoin:miter;stroke-opacity:1\"/>\n",
       "<path class=\"bond-38 atom-38 atom-39\" d=\"M 84.5,202.8 L 72.9,196.5\" style=\"fill:none;fill-rule:evenodd;stroke:#000000;stroke-width:2.0px;stroke-linecap:butt;stroke-linejoin:miter;stroke-opacity:1\"/>\n",
       "<path class=\"bond-39 atom-39 atom-40\" d=\"M 72.9,196.5 L 61.5,203.2\" style=\"fill:none;fill-rule:evenodd;stroke:#000000;stroke-width:2.0px;stroke-linecap:butt;stroke-linejoin:miter;stroke-opacity:1\"/>\n",
       "<path class=\"bond-40 atom-40 atom-41\" d=\"M 61.5,203.2 L 49.9,196.6\" style=\"fill:none;fill-rule:evenodd;stroke:#000000;stroke-width:2.0px;stroke-linecap:butt;stroke-linejoin:miter;stroke-opacity:1\"/>\n",
       "<path class=\"bond-41 atom-41 atom-42\" d=\"M 49.9,196.6 L 38.5,203.2\" style=\"fill:none;fill-rule:evenodd;stroke:#000000;stroke-width:2.0px;stroke-linecap:butt;stroke-linejoin:miter;stroke-opacity:1\"/>\n",
       "<path class=\"bond-42 atom-21 atom-43\" d=\"M 245.0,176.9 L 252.0,164.1\" style=\"fill:none;fill-rule:evenodd;stroke:#000000;stroke-width:2.0px;stroke-linecap:butt;stroke-linejoin:miter;stroke-opacity:1\"/>\n",
       "<path class=\"bond-43 atom-43 atom-44\" d=\"M 252.0,164.1 L 249.6,160.3\" style=\"fill:none;fill-rule:evenodd;stroke:#000000;stroke-width:2.0px;stroke-linecap:butt;stroke-linejoin:miter;stroke-opacity:1\"/>\n",
       "<path class=\"bond-43 atom-43 atom-44\" d=\"M 249.6,160.3 L 247.2,156.4\" style=\"fill:none;fill-rule:evenodd;stroke:#FF0000;stroke-width:2.0px;stroke-linecap:butt;stroke-linejoin:miter;stroke-opacity:1\"/>\n",
       "<path class=\"bond-44 atom-44 atom-45\" d=\"M 246.8,149.8 L 248.1,147.3\" style=\"fill:none;fill-rule:evenodd;stroke:#FF0000;stroke-width:2.0px;stroke-linecap:butt;stroke-linejoin:miter;stroke-opacity:1\"/>\n",
       "<path class=\"bond-44 atom-44 atom-45\" d=\"M 248.1,147.3 L 249.4,144.7\" style=\"fill:none;fill-rule:evenodd;stroke:#FF7F00;stroke-width:2.0px;stroke-linecap:butt;stroke-linejoin:miter;stroke-opacity:1\"/>\n",
       "<path class=\"bond-45 atom-45 atom-46\" d=\"M 253.3,142.6 L 256.4,144.1\" style=\"fill:none;fill-rule:evenodd;stroke:#FF7F00;stroke-width:2.0px;stroke-linecap:butt;stroke-linejoin:miter;stroke-opacity:1\"/>\n",
       "<path class=\"bond-45 atom-45 atom-46\" d=\"M 256.4,144.1 L 259.6,145.6\" style=\"fill:none;fill-rule:evenodd;stroke:#FF0000;stroke-width:2.0px;stroke-linecap:butt;stroke-linejoin:miter;stroke-opacity:1\"/>\n",
       "<path class=\"bond-46 atom-45 atom-47\" d=\"M 252.8,138.3 L 254.0,135.8\" style=\"fill:none;fill-rule:evenodd;stroke:#FF7F00;stroke-width:2.0px;stroke-linecap:butt;stroke-linejoin:miter;stroke-opacity:1\"/>\n",
       "<path class=\"bond-46 atom-45 atom-47\" d=\"M 254.0,135.8 L 255.3,133.3\" style=\"fill:none;fill-rule:evenodd;stroke:#FF0000;stroke-width:2.0px;stroke-linecap:butt;stroke-linejoin:miter;stroke-opacity:1\"/>\n",
       "<path class=\"bond-47 atom-47 atom-48\" d=\"M 255.1,126.7 L 252.8,122.8\" style=\"fill:none;fill-rule:evenodd;stroke:#FF0000;stroke-width:2.0px;stroke-linecap:butt;stroke-linejoin:miter;stroke-opacity:1\"/>\n",
       "<path class=\"bond-47 atom-47 atom-48\" d=\"M 252.8,122.8 L 250.4,118.9\" style=\"fill:none;fill-rule:evenodd;stroke:#000000;stroke-width:2.0px;stroke-linecap:butt;stroke-linejoin:miter;stroke-opacity:1\"/>\n",
       "<path class=\"bond-48 atom-48 atom-49\" d=\"M 250.4,118.9 L 257.0,107.6\" style=\"fill:none;fill-rule:evenodd;stroke:#000000;stroke-width:2.0px;stroke-linecap:butt;stroke-linejoin:miter;stroke-opacity:1\"/>\n",
       "<path class=\"bond-49 atom-49 atom-50\" d=\"M 257.0,107.6 L 254.7,103.4\" style=\"fill:none;fill-rule:evenodd;stroke:#000000;stroke-width:2.0px;stroke-linecap:butt;stroke-linejoin:miter;stroke-opacity:1\"/>\n",
       "<path class=\"bond-49 atom-49 atom-50\" d=\"M 254.7,103.4 L 252.4,99.2\" style=\"fill:none;fill-rule:evenodd;stroke:#0000FF;stroke-width:2.0px;stroke-linecap:butt;stroke-linejoin:miter;stroke-opacity:1\"/>\n",
       "<path class=\"bond-50 atom-45 atom-51\" d=\"M 249.3,139.5 L 246.1,138.0\" style=\"fill:none;fill-rule:evenodd;stroke:#FF7F00;stroke-width:2.0px;stroke-linecap:butt;stroke-linejoin:miter;stroke-opacity:1\"/>\n",
       "<path class=\"bond-50 atom-45 atom-51\" d=\"M 246.1,138.0 L 243.0,136.5\" style=\"fill:none;fill-rule:evenodd;stroke:#FF0000;stroke-width:2.0px;stroke-linecap:butt;stroke-linejoin:miter;stroke-opacity:1\"/>\n",
       "<path class=\"bond-50 atom-45 atom-51\" d=\"M 248.4,141.3 L 245.3,139.8\" style=\"fill:none;fill-rule:evenodd;stroke:#FF7F00;stroke-width:2.0px;stroke-linecap:butt;stroke-linejoin:miter;stroke-opacity:1\"/>\n",
       "<path class=\"bond-50 atom-45 atom-51\" d=\"M 245.3,139.8 L 242.1,138.2\" style=\"fill:none;fill-rule:evenodd;stroke:#FF0000;stroke-width:2.0px;stroke-linecap:butt;stroke-linejoin:miter;stroke-opacity:1\"/>\n",
       "<path class=\"bond-51 atom-0 atom-52\" d=\"M 461.5,156.2 L 456.9,148.1\" style=\"fill:none;fill-rule:evenodd;stroke:#000000;stroke-width:2.0px;stroke-linecap:butt;stroke-linejoin:miter;stroke-opacity:1\"/>\n",
       "<path class=\"bond-52 atom-0 atom-53\" d=\"M 461.5,156.2 L 466.2,148.0\" style=\"fill:none;fill-rule:evenodd;stroke:#000000;stroke-width:2.0px;stroke-linecap:butt;stroke-linejoin:miter;stroke-opacity:1\"/>\n",
       "<path class=\"bond-53 atom-0 atom-54\" d=\"M 461.5,156.2 L 470.2,161.2\" style=\"fill:none;fill-rule:evenodd;stroke:#000000;stroke-width:2.0px;stroke-linecap:butt;stroke-linejoin:miter;stroke-opacity:1\"/>\n",
       "<path class=\"bond-54 atom-1 atom-55\" d=\"M 450.1,162.7 L 445.7,170.9\" style=\"fill:none;fill-rule:evenodd;stroke:#000000;stroke-width:2.0px;stroke-linecap:butt;stroke-linejoin:miter;stroke-opacity:1\"/>\n",
       "<path class=\"bond-55 atom-1 atom-56\" d=\"M 450.1,162.7 L 454.9,170.8\" style=\"fill:none;fill-rule:evenodd;stroke:#000000;stroke-width:2.0px;stroke-linecap:butt;stroke-linejoin:miter;stroke-opacity:1\"/>\n",
       "<path class=\"bond-56 atom-2 atom-57\" d=\"M 438.5,156.2 L 433.9,148.3\" style=\"fill:none;fill-rule:evenodd;stroke:#000000;stroke-width:2.0px;stroke-linecap:butt;stroke-linejoin:miter;stroke-opacity:1\"/>\n",
       "<path class=\"bond-57 atom-2 atom-58\" d=\"M 438.5,156.2 L 442.9,148.1\" style=\"fill:none;fill-rule:evenodd;stroke:#000000;stroke-width:2.0px;stroke-linecap:butt;stroke-linejoin:miter;stroke-opacity:1\"/>\n",
       "<path class=\"bond-58 atom-3 atom-59\" d=\"M 427.1,162.9 L 422.7,170.9\" style=\"fill:none;fill-rule:evenodd;stroke:#000000;stroke-width:2.0px;stroke-linecap:butt;stroke-linejoin:miter;stroke-opacity:1\"/>\n",
       "<path class=\"bond-59 atom-3 atom-60\" d=\"M 427.1,162.9 L 431.5,170.8\" style=\"fill:none;fill-rule:evenodd;stroke:#000000;stroke-width:2.0px;stroke-linecap:butt;stroke-linejoin:miter;stroke-opacity:1\"/>\n",
       "<path class=\"bond-60 atom-4 atom-61\" d=\"M 415.5,156.6 L 410.9,148.6\" style=\"fill:none;fill-rule:evenodd;stroke:#000000;stroke-width:2.0px;stroke-linecap:butt;stroke-linejoin:miter;stroke-opacity:1\"/>\n",
       "<path class=\"bond-61 atom-4 atom-62\" d=\"M 415.5,156.6 L 419.8,148.4\" style=\"fill:none;fill-rule:evenodd;stroke:#000000;stroke-width:2.0px;stroke-linecap:butt;stroke-linejoin:miter;stroke-opacity:1\"/>\n",
       "<path class=\"bond-62 atom-5 atom-63\" d=\"M 404.2,163.7 L 399.8,171.8\" style=\"fill:none;fill-rule:evenodd;stroke:#000000;stroke-width:2.0px;stroke-linecap:butt;stroke-linejoin:miter;stroke-opacity:1\"/>\n",
       "<path class=\"bond-63 atom-5 atom-64\" d=\"M 404.2,163.7 L 408.6,171.3\" style=\"fill:none;fill-rule:evenodd;stroke:#000000;stroke-width:2.0px;stroke-linecap:butt;stroke-linejoin:miter;stroke-opacity:1\"/>\n",
       "<path class=\"bond-64 atom-6 atom-65\" d=\"M 393.4,158.3 L 388.1,150.8\" style=\"fill:none;fill-rule:evenodd;stroke:#000000;stroke-width:2.0px;stroke-linecap:butt;stroke-linejoin:miter;stroke-opacity:1\"/>\n",
       "<path class=\"bond-65 atom-6 atom-66\" d=\"M 393.4,158.3 L 397.1,149.7\" style=\"fill:none;fill-rule:evenodd;stroke:#000000;stroke-width:2.0px;stroke-linecap:butt;stroke-linejoin:miter;stroke-opacity:1\"/>\n",
       "<path class=\"bond-66 atom-7 atom-67\" d=\"M 383.1,164.5 L 377.0,168.0\" style=\"fill:none;fill-rule:evenodd;stroke:#000000;stroke-width:2.0px;stroke-linecap:butt;stroke-linejoin:miter;stroke-opacity:1\"/>\n",
       "<path class=\"bond-67 atom-7 atom-68\" d=\"M 383.1,164.5 L 386.2,174.0\" style=\"fill:none;fill-rule:evenodd;stroke:#000000;stroke-width:2.0px;stroke-linecap:butt;stroke-linejoin:miter;stroke-opacity:1\"/>\n",
       "<path class=\"bond-68 atom-8 atom-69\" d=\"M 371.9,157.3 L 371.9,147.4\" style=\"fill:none;fill-rule:evenodd;stroke:#000000;stroke-width:2.0px;stroke-linecap:butt;stroke-linejoin:miter;stroke-opacity:1\"/>\n",
       "<path class=\"bond-69 atom-9 atom-70\" d=\"M 359.1,165.0 L 350.8,159.7\" style=\"fill:none;fill-rule:evenodd;stroke:#000000;stroke-width:2.0px;stroke-linecap:butt;stroke-linejoin:miter;stroke-opacity:1\"/>\n",
       "<path class=\"bond-70 atom-10 atom-71\" d=\"M 359.7,181.2 L 365.2,187.3\" style=\"fill:none;fill-rule:evenodd;stroke:#000000;stroke-width:2.0px;stroke-linecap:butt;stroke-linejoin:miter;stroke-opacity:1\"/>\n",
       "<path class=\"bond-71 atom-10 atom-72\" d=\"M 359.7,181.2 L 365.8,177.6\" style=\"fill:none;fill-rule:evenodd;stroke:#000000;stroke-width:2.0px;stroke-linecap:butt;stroke-linejoin:miter;stroke-opacity:1\"/>\n",
       "<path class=\"bond-72 atom-11 atom-73\" d=\"M 347.8,186.3 L 342.8,193.3\" style=\"fill:none;fill-rule:evenodd;stroke:#000000;stroke-width:2.0px;stroke-linecap:butt;stroke-linejoin:miter;stroke-opacity:1\"/>\n",
       "<path class=\"bond-73 atom-11 atom-74\" d=\"M 347.8,186.3 L 351.6,194.3\" style=\"fill:none;fill-rule:evenodd;stroke:#000000;stroke-width:2.0px;stroke-linecap:butt;stroke-linejoin:miter;stroke-opacity:1\"/>\n",
       "<path class=\"bond-74 atom-12 atom-75\" d=\"M 335.3,177.5 L 330.9,168.9\" style=\"fill:none;fill-rule:evenodd;stroke:#000000;stroke-width:2.0px;stroke-linecap:butt;stroke-linejoin:miter;stroke-opacity:1\"/>\n",
       "<path class=\"bond-75 atom-12 atom-76\" d=\"M 335.3,177.5 L 339.9,169.8\" style=\"fill:none;fill-rule:evenodd;stroke:#000000;stroke-width:2.0px;stroke-linecap:butt;stroke-linejoin:miter;stroke-opacity:1\"/>\n",
       "<path class=\"bond-76 atom-13 atom-77\" d=\"M 323.9,183.3 L 319.4,191.1\" style=\"fill:none;fill-rule:evenodd;stroke:#000000;stroke-width:2.0px;stroke-linecap:butt;stroke-linejoin:miter;stroke-opacity:1\"/>\n",
       "<path class=\"bond-77 atom-13 atom-78\" d=\"M 323.9,183.3 L 328.4,191.4\" style=\"fill:none;fill-rule:evenodd;stroke:#000000;stroke-width:2.0px;stroke-linecap:butt;stroke-linejoin:miter;stroke-opacity:1\"/>\n",
       "<path class=\"bond-78 atom-14 atom-79\" d=\"M 312.2,176.5 L 307.5,168.3\" style=\"fill:none;fill-rule:evenodd;stroke:#000000;stroke-width:2.0px;stroke-linecap:butt;stroke-linejoin:miter;stroke-opacity:1\"/>\n",
       "<path class=\"bond-79 atom-14 atom-80\" d=\"M 312.2,176.5 L 316.9,168.3\" style=\"fill:none;fill-rule:evenodd;stroke:#000000;stroke-width:2.0px;stroke-linecap:butt;stroke-linejoin:miter;stroke-opacity:1\"/>\n",
       "<path class=\"bond-80 atom-15 atom-81\" d=\"M 300.6,183.4 L 296.1,191.6\" style=\"fill:none;fill-rule:evenodd;stroke:#000000;stroke-width:2.0px;stroke-linecap:butt;stroke-linejoin:miter;stroke-opacity:1\"/>\n",
       "<path class=\"bond-81 atom-15 atom-82\" d=\"M 300.6,183.4 L 305.2,191.3\" style=\"fill:none;fill-rule:evenodd;stroke:#000000;stroke-width:2.0px;stroke-linecap:butt;stroke-linejoin:miter;stroke-opacity:1\"/>\n",
       "<path class=\"bond-82 atom-16 atom-83\" d=\"M 289.1,177.6 L 284.0,169.6\" style=\"fill:none;fill-rule:evenodd;stroke:#000000;stroke-width:2.0px;stroke-linecap:butt;stroke-linejoin:miter;stroke-opacity:1\"/>\n",
       "<path class=\"bond-83 atom-16 atom-84\" d=\"M 289.1,177.6 L 293.5,169.0\" style=\"fill:none;fill-rule:evenodd;stroke:#000000;stroke-width:2.0px;stroke-linecap:butt;stroke-linejoin:miter;stroke-opacity:1\"/>\n",
       "<path class=\"bond-84 atom-20 atom-85\" d=\"M 256.4,184.6 L 251.4,192.4\" style=\"fill:none;fill-rule:evenodd;stroke:#000000;stroke-width:2.0px;stroke-linecap:butt;stroke-linejoin:miter;stroke-opacity:1\"/>\n",
       "<path class=\"bond-85 atom-20 atom-86\" d=\"M 256.4,184.6 L 260.9,193.0\" style=\"fill:none;fill-rule:evenodd;stroke:#000000;stroke-width:2.0px;stroke-linecap:butt;stroke-linejoin:miter;stroke-opacity:1\"/>\n",
       "<path class=\"bond-86 atom-26 atom-87\" d=\"M 210.8,183.1 L 206.3,191.3\" style=\"fill:none;fill-rule:evenodd;stroke:#000000;stroke-width:2.0px;stroke-linecap:butt;stroke-linejoin:miter;stroke-opacity:1\"/>\n",
       "<path class=\"bond-87 atom-26 atom-88\" d=\"M 210.8,183.1 L 215.6,191.2\" style=\"fill:none;fill-rule:evenodd;stroke:#000000;stroke-width:2.0px;stroke-linecap:butt;stroke-linejoin:miter;stroke-opacity:1\"/>\n",
       "<path class=\"bond-88 atom-27 atom-89\" d=\"M 199.4,176.6 L 194.9,168.4\" style=\"fill:none;fill-rule:evenodd;stroke:#000000;stroke-width:2.0px;stroke-linecap:butt;stroke-linejoin:miter;stroke-opacity:1\"/>\n",
       "<path class=\"bond-89 atom-27 atom-90\" d=\"M 199.4,176.6 L 204.1,168.5\" style=\"fill:none;fill-rule:evenodd;stroke:#000000;stroke-width:2.0px;stroke-linecap:butt;stroke-linejoin:miter;stroke-opacity:1\"/>\n",
       "<path class=\"bond-90 atom-28 atom-91\" d=\"M 187.6,183.1 L 183.0,191.1\" style=\"fill:none;fill-rule:evenodd;stroke:#000000;stroke-width:2.0px;stroke-linecap:butt;stroke-linejoin:miter;stroke-opacity:1\"/>\n",
       "<path class=\"bond-91 atom-28 atom-92\" d=\"M 187.6,183.1 L 192.2,191.3\" style=\"fill:none;fill-rule:evenodd;stroke:#000000;stroke-width:2.0px;stroke-linecap:butt;stroke-linejoin:miter;stroke-opacity:1\"/>\n",
       "<path class=\"bond-92 atom-29 atom-93\" d=\"M 176.1,176.2 L 180.7,168.3\" style=\"fill:none;fill-rule:evenodd;stroke:#000000;stroke-width:2.0px;stroke-linecap:butt;stroke-linejoin:miter;stroke-opacity:1\"/>\n",
       "<path class=\"bond-93 atom-29 atom-94\" d=\"M 176.1,176.2 L 171.6,168.0\" style=\"fill:none;fill-rule:evenodd;stroke:#000000;stroke-width:2.0px;stroke-linecap:butt;stroke-linejoin:miter;stroke-opacity:1\"/>\n",
       "<path class=\"bond-94 atom-30 atom-95\" d=\"M 164.6,181.9 L 169.0,190.5\" style=\"fill:none;fill-rule:evenodd;stroke:#000000;stroke-width:2.0px;stroke-linecap:butt;stroke-linejoin:miter;stroke-opacity:1\"/>\n",
       "<path class=\"bond-95 atom-30 atom-96\" d=\"M 164.6,181.9 L 160.0,189.6\" style=\"fill:none;fill-rule:evenodd;stroke:#000000;stroke-width:2.0px;stroke-linecap:butt;stroke-linejoin:miter;stroke-opacity:1\"/>\n",
       "<path class=\"bond-96 atom-31 atom-97\" d=\"M 152.1,173.1 L 157.2,166.1\" style=\"fill:none;fill-rule:evenodd;stroke:#000000;stroke-width:2.0px;stroke-linecap:butt;stroke-linejoin:miter;stroke-opacity:1\"/>\n",
       "<path class=\"bond-97 atom-31 atom-98\" d=\"M 152.1,173.1 L 148.4,165.1\" style=\"fill:none;fill-rule:evenodd;stroke:#000000;stroke-width:2.0px;stroke-linecap:butt;stroke-linejoin:miter;stroke-opacity:1\"/>\n",
       "<path class=\"bond-98 atom-32 atom-99\" d=\"M 140.3,178.2 L 134.8,172.1\" style=\"fill:none;fill-rule:evenodd;stroke:#000000;stroke-width:2.0px;stroke-linecap:butt;stroke-linejoin:miter;stroke-opacity:1\"/>\n",
       "<path class=\"bond-99 atom-32 atom-100\" d=\"M 140.3,178.2 L 134.2,181.8\" style=\"fill:none;fill-rule:evenodd;stroke:#000000;stroke-width:2.0px;stroke-linecap:butt;stroke-linejoin:miter;stroke-opacity:1\"/>\n",
       "<path class=\"bond-100 atom-33 atom-101\" d=\"M 140.9,194.4 L 149.2,199.6\" style=\"fill:none;fill-rule:evenodd;stroke:#000000;stroke-width:2.0px;stroke-linecap:butt;stroke-linejoin:miter;stroke-opacity:1\"/>\n",
       "<path class=\"bond-101 atom-34 atom-102\" d=\"M 128.1,202.1 L 128.1,212.0\" style=\"fill:none;fill-rule:evenodd;stroke:#000000;stroke-width:2.0px;stroke-linecap:butt;stroke-linejoin:miter;stroke-opacity:1\"/>\n",
       "<path class=\"bond-102 atom-35 atom-103\" d=\"M 116.9,194.9 L 123.0,191.4\" style=\"fill:none;fill-rule:evenodd;stroke:#000000;stroke-width:2.0px;stroke-linecap:butt;stroke-linejoin:miter;stroke-opacity:1\"/>\n",
       "<path class=\"bond-103 atom-35 atom-104\" d=\"M 116.9,194.9 L 113.8,185.3\" style=\"fill:none;fill-rule:evenodd;stroke:#000000;stroke-width:2.0px;stroke-linecap:butt;stroke-linejoin:miter;stroke-opacity:1\"/>\n",
       "<path class=\"bond-104 atom-36 atom-105\" d=\"M 106.6,201.1 L 111.9,208.6\" style=\"fill:none;fill-rule:evenodd;stroke:#000000;stroke-width:2.0px;stroke-linecap:butt;stroke-linejoin:miter;stroke-opacity:1\"/>\n",
       "<path class=\"bond-105 atom-36 atom-106\" d=\"M 106.6,201.1 L 102.9,209.7\" style=\"fill:none;fill-rule:evenodd;stroke:#000000;stroke-width:2.0px;stroke-linecap:butt;stroke-linejoin:miter;stroke-opacity:1\"/>\n",
       "<path class=\"bond-106 atom-37 atom-107\" d=\"M 95.8,195.7 L 100.2,187.6\" style=\"fill:none;fill-rule:evenodd;stroke:#000000;stroke-width:2.0px;stroke-linecap:butt;stroke-linejoin:miter;stroke-opacity:1\"/>\n",
       "<path class=\"bond-107 atom-37 atom-108\" d=\"M 95.8,195.7 L 91.4,188.1\" style=\"fill:none;fill-rule:evenodd;stroke:#000000;stroke-width:2.0px;stroke-linecap:butt;stroke-linejoin:miter;stroke-opacity:1\"/>\n",
       "<path class=\"bond-108 atom-38 atom-109\" d=\"M 84.5,202.8 L 89.1,210.7\" style=\"fill:none;fill-rule:evenodd;stroke:#000000;stroke-width:2.0px;stroke-linecap:butt;stroke-linejoin:miter;stroke-opacity:1\"/>\n",
       "<path class=\"bond-109 atom-38 atom-110\" d=\"M 84.5,202.8 L 80.2,211.0\" style=\"fill:none;fill-rule:evenodd;stroke:#000000;stroke-width:2.0px;stroke-linecap:butt;stroke-linejoin:miter;stroke-opacity:1\"/>\n",
       "<path class=\"bond-110 atom-39 atom-111\" d=\"M 72.9,196.5 L 77.3,188.5\" style=\"fill:none;fill-rule:evenodd;stroke:#000000;stroke-width:2.0px;stroke-linecap:butt;stroke-linejoin:miter;stroke-opacity:1\"/>\n",
       "<path class=\"bond-111 atom-39 atom-112\" d=\"M 72.9,196.5 L 68.5,188.6\" style=\"fill:none;fill-rule:evenodd;stroke:#000000;stroke-width:2.0px;stroke-linecap:butt;stroke-linejoin:miter;stroke-opacity:1\"/>\n",
       "<path class=\"bond-112 atom-40 atom-113\" d=\"M 61.5,203.2 L 66.1,211.1\" style=\"fill:none;fill-rule:evenodd;stroke:#000000;stroke-width:2.0px;stroke-linecap:butt;stroke-linejoin:miter;stroke-opacity:1\"/>\n",
       "<path class=\"bond-113 atom-40 atom-114\" d=\"M 61.5,203.2 L 57.2,211.3\" style=\"fill:none;fill-rule:evenodd;stroke:#000000;stroke-width:2.0px;stroke-linecap:butt;stroke-linejoin:miter;stroke-opacity:1\"/>\n",
       "<path class=\"bond-114 atom-41 atom-115\" d=\"M 49.9,196.6 L 54.3,188.5\" style=\"fill:none;fill-rule:evenodd;stroke:#000000;stroke-width:2.0px;stroke-linecap:butt;stroke-linejoin:miter;stroke-opacity:1\"/>\n",
       "<path class=\"bond-115 atom-41 atom-116\" d=\"M 49.9,196.6 L 45.1,188.5\" style=\"fill:none;fill-rule:evenodd;stroke:#000000;stroke-width:2.0px;stroke-linecap:butt;stroke-linejoin:miter;stroke-opacity:1\"/>\n",
       "<path class=\"bond-116 atom-42 atom-117\" d=\"M 38.5,203.2 L 43.1,211.3\" style=\"fill:none;fill-rule:evenodd;stroke:#000000;stroke-width:2.0px;stroke-linecap:butt;stroke-linejoin:miter;stroke-opacity:1\"/>\n",
       "<path class=\"bond-117 atom-42 atom-118\" d=\"M 38.5,203.2 L 33.8,211.3\" style=\"fill:none;fill-rule:evenodd;stroke:#000000;stroke-width:2.0px;stroke-linecap:butt;stroke-linejoin:miter;stroke-opacity:1\"/>\n",
       "<path class=\"bond-118 atom-42 atom-119\" d=\"M 38.5,203.2 L 29.8,198.2\" style=\"fill:none;fill-rule:evenodd;stroke:#000000;stroke-width:2.0px;stroke-linecap:butt;stroke-linejoin:miter;stroke-opacity:1\"/>\n",
       "<path class=\"bond-119 atom-43 atom-120\" d=\"M 252.0,164.1 L 260.7,168.0\" style=\"fill:none;fill-rule:evenodd;stroke:#000000;stroke-width:2.0px;stroke-linecap:butt;stroke-linejoin:miter;stroke-opacity:1\"/>\n",
       "<path class=\"bond-120 atom-43 atom-121\" d=\"M 252.0,164.1 L 260.2,159.1\" style=\"fill:none;fill-rule:evenodd;stroke:#000000;stroke-width:2.0px;stroke-linecap:butt;stroke-linejoin:miter;stroke-opacity:1\"/>\n",
       "<path class=\"bond-121 atom-48 atom-122\" d=\"M 250.4,118.9 L 241.9,123.8\" style=\"fill:none;fill-rule:evenodd;stroke:#000000;stroke-width:2.0px;stroke-linecap:butt;stroke-linejoin:miter;stroke-opacity:1\"/>\n",
       "<path class=\"bond-122 atom-48 atom-123\" d=\"M 250.4,118.9 L 241.8,114.2\" style=\"fill:none;fill-rule:evenodd;stroke:#000000;stroke-width:2.0px;stroke-linecap:butt;stroke-linejoin:miter;stroke-opacity:1\"/>\n",
       "<path class=\"bond-123 atom-49 atom-124\" d=\"M 257.0,107.6 L 265.7,112.8\" style=\"fill:none;fill-rule:evenodd;stroke:#000000;stroke-width:2.0px;stroke-linecap:butt;stroke-linejoin:miter;stroke-opacity:1\"/>\n",
       "<path class=\"bond-124 atom-49 atom-125\" d=\"M 257.0,107.6 L 265.9,102.7\" style=\"fill:none;fill-rule:evenodd;stroke:#000000;stroke-width:2.0px;stroke-linecap:butt;stroke-linejoin:miter;stroke-opacity:1\"/>\n",
       "<path class=\"bond-125 atom-50 atom-126\" d=\"M 248.0,97.4 L 244.9,99.1\" style=\"fill:none;fill-rule:evenodd;stroke:#0000FF;stroke-width:2.0px;stroke-linecap:butt;stroke-linejoin:miter;stroke-opacity:1\"/>\n",
       "<path class=\"bond-125 atom-50 atom-126\" d=\"M 244.9,99.1 L 241.8,100.8\" style=\"fill:none;fill-rule:evenodd;stroke:#000000;stroke-width:2.0px;stroke-linecap:butt;stroke-linejoin:miter;stroke-opacity:1\"/>\n",
       "<path class=\"bond-126 atom-50 atom-127\" d=\"M 248.0,94.5 L 245.0,92.7\" style=\"fill:none;fill-rule:evenodd;stroke:#0000FF;stroke-width:2.0px;stroke-linecap:butt;stroke-linejoin:miter;stroke-opacity:1\"/>\n",
       "<path class=\"bond-126 atom-50 atom-127\" d=\"M 245.0,92.7 L 242.0,90.9\" style=\"fill:none;fill-rule:evenodd;stroke:#000000;stroke-width:2.0px;stroke-linecap:butt;stroke-linejoin:miter;stroke-opacity:1\"/>\n",
       "<path class=\"bond-127 atom-50 atom-128\" d=\"M 252.5,92.8 L 254.0,90.4\" style=\"fill:none;fill-rule:evenodd;stroke:#0000FF;stroke-width:2.0px;stroke-linecap:butt;stroke-linejoin:miter;stroke-opacity:1\"/>\n",
       "<path class=\"bond-127 atom-50 atom-128\" d=\"M 254.0,90.4 L 255.4,88.0\" style=\"fill:none;fill-rule:evenodd;stroke:#000000;stroke-width:2.0px;stroke-linecap:butt;stroke-linejoin:miter;stroke-opacity:1\"/>\n",
       "<path d=\"M 278.4,184.7 L 277.8,185.0 L 277.6,184.9\" style=\"fill:none;stroke:#000000;stroke-width:2.0px;stroke-linecap:butt;stroke-linejoin:miter;stroke-opacity:1;\"/>\n",
       "<path d=\"M 222.2,176.7 L 222.0,176.5 L 221.5,176.9\" style=\"fill:none;stroke:#000000;stroke-width:2.0px;stroke-linecap:butt;stroke-linejoin:miter;stroke-opacity:1;\"/>\n",
       "<path class=\"atom-18\" d=\"M 275.7 198.1 Q 275.7 196.8, 276.4 196.0 Q 277.1 195.3, 278.3 195.3 Q 279.5 195.3, 280.2 196.0 Q 280.9 196.8, 280.9 198.1 Q 280.9 199.5, 280.2 200.2 Q 279.5 201.0, 278.3 201.0 Q 277.1 201.0, 276.4 200.2 Q 275.7 199.5, 275.7 198.1 M 278.3 200.4 Q 279.2 200.4, 279.6 199.8 Q 280.1 199.2, 280.1 198.1 Q 280.1 197.0, 279.6 196.5 Q 279.2 195.9, 278.3 195.9 Q 277.5 195.9, 277.0 196.4 Q 276.5 197.0, 276.5 198.1 Q 276.5 199.2, 277.0 199.8 Q 277.5 200.4, 278.3 200.4 \" fill=\"#FF0000\"/>\n",
       "<path class=\"atom-19\" d=\"M 264.4 179.0 Q 264.4 177.7, 265.0 176.9 Q 265.7 176.2, 266.9 176.2 Q 268.2 176.2, 268.8 176.9 Q 269.5 177.7, 269.5 179.0 Q 269.5 180.4, 268.8 181.2 Q 268.2 181.9, 266.9 181.9 Q 265.7 181.9, 265.0 181.2 Q 264.4 180.4, 264.4 179.0 M 266.9 181.3 Q 267.8 181.3, 268.2 180.7 Q 268.7 180.1, 268.7 179.0 Q 268.7 177.9, 268.2 177.4 Q 267.8 176.8, 266.9 176.8 Q 266.1 176.8, 265.6 177.4 Q 265.2 177.9, 265.2 179.0 Q 265.2 180.1, 265.6 180.7 Q 266.1 181.3, 266.9 181.3 \" fill=\"#FF0000\"/>\n",
       "<path class=\"atom-22\" d=\"M 236.2 162.6 L 236.9 162.6 L 236.9 165.0 L 239.8 165.0 L 239.8 162.6 L 240.5 162.6 L 240.5 168.2 L 239.8 168.2 L 239.8 165.7 L 236.9 165.7 L 236.9 168.2 L 236.2 168.2 L 236.2 162.6 \" fill=\"#000000\"/>\n",
       "<path class=\"atom-23\" d=\"M 230.8 183.2 Q 230.8 181.8, 231.5 181.1 Q 232.2 180.3, 233.4 180.3 Q 234.6 180.3, 235.3 181.1 Q 236.0 181.8, 236.0 183.2 Q 236.0 184.5, 235.3 185.3 Q 234.6 186.1, 233.4 186.1 Q 232.2 186.1, 231.5 185.3 Q 230.8 184.6, 230.8 183.2 M 233.4 185.5 Q 234.2 185.5, 234.7 184.9 Q 235.2 184.3, 235.2 183.2 Q 235.2 182.1, 234.7 181.5 Q 234.2 181.0, 233.4 181.0 Q 232.5 181.0, 232.1 181.5 Q 231.6 182.1, 231.6 183.2 Q 231.6 184.3, 232.1 184.9 Q 232.5 185.5, 233.4 185.5 \" fill=\"#FF0000\"/>\n",
       "<path class=\"atom-25\" d=\"M 219.4 163.4 Q 219.4 162.0, 220.1 161.3 Q 220.7 160.5, 222.0 160.5 Q 223.2 160.5, 223.9 161.3 Q 224.5 162.0, 224.5 163.4 Q 224.5 164.7, 223.9 165.5 Q 223.2 166.3, 222.0 166.3 Q 220.7 166.3, 220.1 165.5 Q 219.4 164.7, 219.4 163.4 M 222.0 165.6 Q 222.8 165.6, 223.3 165.1 Q 223.7 164.5, 223.7 163.4 Q 223.7 162.3, 223.3 161.7 Q 222.8 161.2, 222.0 161.2 Q 221.1 161.2, 220.6 161.7 Q 220.2 162.3, 220.2 163.4 Q 220.2 164.5, 220.6 165.1 Q 221.1 165.6, 222.0 165.6 \" fill=\"#FF0000\"/>\n",
       "<path class=\"atom-44\" d=\"M 242.6 153.1 Q 242.6 151.8, 243.2 151.0 Q 243.9 150.3, 245.1 150.3 Q 246.4 150.3, 247.1 151.0 Q 247.7 151.8, 247.7 153.1 Q 247.7 154.5, 247.0 155.2 Q 246.4 156.0, 245.1 156.0 Q 243.9 156.0, 243.2 155.2 Q 242.6 154.5, 242.6 153.1 M 245.1 155.4 Q 246.0 155.4, 246.5 154.8 Q 246.9 154.2, 246.9 153.1 Q 246.9 152.0, 246.5 151.5 Q 246.0 150.9, 245.1 150.9 Q 244.3 150.9, 243.8 151.5 Q 243.4 152.0, 243.4 153.1 Q 243.4 154.2, 243.8 154.8 Q 244.3 155.4, 245.1 155.4 \" fill=\"#FF0000\"/>\n",
       "<path class=\"atom-45\" d=\"M 251.0 138.7 Q 251.9 138.7, 252.4 139.1 Q 252.9 139.6, 252.9 140.3 Q 252.9 141.1, 252.4 141.6 Q 251.9 142.0, 251.0 142.0 L 250.1 142.0 L 250.1 144.3 L 249.3 144.3 L 249.3 138.7 L 251.0 138.7 M 251.0 141.4 Q 251.5 141.4, 251.8 141.1 Q 252.1 140.8, 252.1 140.3 Q 252.1 139.8, 251.8 139.6 Q 251.5 139.3, 251.0 139.3 L 250.1 139.3 L 250.1 141.4 L 251.0 141.4 \" fill=\"#FF7F00\"/>\n",
       "<path class=\"atom-46\" d=\"M 260.0 147.0 Q 260.0 145.7, 260.7 144.9 Q 261.4 144.2, 262.6 144.2 Q 263.8 144.2, 264.5 144.9 Q 265.2 145.7, 265.2 147.0 Q 265.2 148.4, 264.5 149.1 Q 263.8 149.9, 262.6 149.9 Q 261.4 149.9, 260.7 149.1 Q 260.0 148.4, 260.0 147.0 M 262.6 149.3 Q 263.4 149.3, 263.9 148.7 Q 264.4 148.1, 264.4 147.0 Q 264.4 145.9, 263.9 145.4 Q 263.4 144.8, 262.6 144.8 Q 261.7 144.8, 261.3 145.4 Q 260.8 145.9, 260.8 147.0 Q 260.8 148.1, 261.3 148.7 Q 261.7 149.3, 262.6 149.3 \" fill=\"#FF0000\"/>\n",
       "<path class=\"atom-46\" d=\"M 266.0 145.1 L 267.9 145.1 L 267.9 145.5 L 266.0 145.5 L 266.0 145.1 \" fill=\"#FF0000\"/>\n",
       "<path class=\"atom-47\" d=\"M 254.5 130.0 Q 254.5 128.7, 255.2 127.9 Q 255.8 127.2, 257.1 127.2 Q 258.3 127.2, 259.0 127.9 Q 259.6 128.7, 259.6 130.0 Q 259.6 131.4, 259.0 132.1 Q 258.3 132.9, 257.1 132.9 Q 255.8 132.9, 255.2 132.1 Q 254.5 131.4, 254.5 130.0 M 257.1 132.3 Q 257.9 132.3, 258.4 131.7 Q 258.8 131.1, 258.8 130.0 Q 258.8 128.9, 258.4 128.4 Q 257.9 127.8, 257.1 127.8 Q 256.2 127.8, 255.7 128.3 Q 255.3 128.9, 255.3 130.0 Q 255.3 131.1, 255.7 131.7 Q 256.2 132.3, 257.1 132.3 \" fill=\"#FF0000\"/>\n",
       "<path class=\"atom-50\" d=\"M 249.4 93.2 L 251.2 96.2 Q 251.4 96.5, 251.7 97.0 Q 251.9 97.5, 252.0 97.6 L 252.0 93.2 L 252.7 93.2 L 252.7 98.8 L 251.9 98.8 L 250.0 95.6 Q 249.7 95.2, 249.5 94.8 Q 249.3 94.3, 249.2 94.2 L 249.2 98.8 L 248.5 98.8 L 248.5 93.2 L 249.4 93.2 \" fill=\"#0000FF\"/>\n",
       "<path class=\"atom-50\" d=\"M 253.8 94.2 L 254.7 94.2 L 254.7 93.2 L 255.2 93.2 L 255.2 94.2 L 256.2 94.2 L 256.2 94.6 L 255.2 94.6 L 255.2 95.6 L 254.7 95.6 L 254.7 94.6 L 253.8 94.6 L 253.8 94.2 \" fill=\"#0000FF\"/>\n",
       "<path class=\"atom-51\" d=\"M 237.0 135.9 Q 237.0 134.6, 237.6 133.8 Q 238.3 133.1, 239.5 133.1 Q 240.8 133.1, 241.4 133.8 Q 242.1 134.6, 242.1 135.9 Q 242.1 137.3, 241.4 138.1 Q 240.8 138.8, 239.5 138.8 Q 238.3 138.8, 237.6 138.1 Q 237.0 137.3, 237.0 135.9 M 239.5 138.2 Q 240.4 138.2, 240.9 137.6 Q 241.3 137.1, 241.3 135.9 Q 241.3 134.8, 240.9 134.3 Q 240.4 133.7, 239.5 133.7 Q 238.7 133.7, 238.2 134.3 Q 237.8 134.8, 237.8 135.9 Q 237.8 137.1, 238.2 137.6 Q 238.7 138.2, 239.5 138.2 \" fill=\"#FF0000\"/>\n",
       "<path class=\"atom-52\" d=\"M 452.9 142.1 L 453.7 142.1 L 453.7 144.4 L 456.5 144.4 L 456.5 142.1 L 457.3 142.1 L 457.3 147.6 L 456.5 147.6 L 456.5 145.1 L 453.7 145.1 L 453.7 147.6 L 452.9 147.6 L 452.9 142.1 \" fill=\"#000000\"/>\n",
       "<path class=\"atom-53\" d=\"M 465.9 142.0 L 466.6 142.0 L 466.6 144.4 L 469.5 144.4 L 469.5 142.0 L 470.3 142.0 L 470.3 147.6 L 469.5 147.6 L 469.5 145.0 L 466.6 145.0 L 466.6 147.6 L 465.9 147.6 L 465.9 142.0 \" fill=\"#000000\"/>\n",
       "<path class=\"atom-54\" d=\"M 470.6 159.9 L 471.4 159.9 L 471.4 162.3 L 474.2 162.3 L 474.2 159.9 L 475.0 159.9 L 475.0 165.5 L 474.2 165.5 L 474.2 162.9 L 471.4 162.9 L 471.4 165.5 L 470.6 165.5 L 470.6 159.9 \" fill=\"#000000\"/>\n",
       "<path class=\"atom-55\" d=\"M 441.7 171.3 L 442.5 171.3 L 442.5 173.7 L 445.3 173.7 L 445.3 171.3 L 446.1 171.3 L 446.1 176.9 L 445.3 176.9 L 445.3 174.3 L 442.5 174.3 L 442.5 176.9 L 441.7 176.9 L 441.7 171.3 \" fill=\"#000000\"/>\n",
       "<path class=\"atom-56\" d=\"M 454.6 171.3 L 455.3 171.3 L 455.3 173.7 L 458.2 173.7 L 458.2 171.3 L 458.9 171.3 L 458.9 176.9 L 458.2 176.9 L 458.2 174.3 L 455.3 174.3 L 455.3 176.9 L 454.6 176.9 L 454.6 171.3 \" fill=\"#000000\"/>\n",
       "<path class=\"atom-57\" d=\"M 429.8 142.2 L 430.6 142.2 L 430.6 144.6 L 433.4 144.6 L 433.4 142.2 L 434.2 142.2 L 434.2 147.8 L 433.4 147.8 L 433.4 145.3 L 430.6 145.3 L 430.6 147.8 L 429.8 147.8 L 429.8 142.2 \" fill=\"#000000\"/>\n",
       "<path class=\"atom-58\" d=\"M 442.4 142.1 L 443.2 142.1 L 443.2 144.5 L 446.0 144.5 L 446.0 142.1 L 446.8 142.1 L 446.8 147.7 L 446.0 147.7 L 446.0 145.1 L 443.2 145.1 L 443.2 147.7 L 442.4 147.7 L 442.4 142.1 \" fill=\"#000000\"/>\n",
       "<path class=\"atom-59\" d=\"M 418.8 171.3 L 419.6 171.3 L 419.6 173.7 L 422.4 173.7 L 422.4 171.3 L 423.2 171.3 L 423.2 176.9 L 422.4 176.9 L 422.4 174.3 L 419.6 174.3 L 419.6 176.9 L 418.8 176.9 L 418.8 171.3 \" fill=\"#000000\"/>\n",
       "<path class=\"atom-60\" d=\"M 431.2 171.3 L 431.9 171.3 L 431.9 173.6 L 434.8 173.6 L 434.8 171.3 L 435.5 171.3 L 435.5 176.8 L 434.8 176.8 L 434.8 174.3 L 431.9 174.3 L 431.9 176.8 L 431.2 176.8 L 431.2 171.3 \" fill=\"#000000\"/>\n",
       "<path class=\"atom-61\" d=\"M 406.8 142.6 L 407.6 142.6 L 407.6 145.0 L 410.4 145.0 L 410.4 142.6 L 411.2 142.6 L 411.2 148.2 L 410.4 148.2 L 410.4 145.6 L 407.6 145.6 L 407.6 148.2 L 406.8 148.2 L 406.8 142.6 \" fill=\"#000000\"/>\n",
       "<path class=\"atom-62\" d=\"M 419.3 142.4 L 420.0 142.4 L 420.0 144.7 L 422.9 144.7 L 422.9 142.4 L 423.6 142.4 L 423.6 147.9 L 422.9 147.9 L 422.9 145.4 L 420.0 145.4 L 420.0 147.9 L 419.3 147.9 L 419.3 142.4 \" fill=\"#000000\"/>\n",
       "<path class=\"atom-63\" d=\"M 395.8 172.3 L 396.6 172.3 L 396.6 174.6 L 399.5 174.6 L 399.5 172.3 L 400.2 172.3 L 400.2 177.8 L 399.5 177.8 L 399.5 175.3 L 396.6 175.3 L 396.6 177.8 L 395.8 177.8 L 395.8 172.3 \" fill=\"#000000\"/>\n",
       "<path class=\"atom-64\" d=\"M 408.3 171.7 L 409.0 171.7 L 409.0 174.1 L 411.9 174.1 L 411.9 171.7 L 412.6 171.7 L 412.6 177.3 L 411.9 177.3 L 411.9 174.7 L 409.0 174.7 L 409.0 177.3 L 408.3 177.3 L 408.3 171.7 \" fill=\"#000000\"/>\n",
       "<path class=\"atom-65\" d=\"M 383.7 144.8 L 384.4 144.8 L 384.4 147.1 L 387.3 147.1 L 387.3 144.8 L 388.1 144.8 L 388.1 150.3 L 387.3 150.3 L 387.3 147.8 L 384.4 147.8 L 384.4 150.3 L 383.7 150.3 L 383.7 144.8 \" fill=\"#000000\"/>\n",
       "<path class=\"atom-66\" d=\"M 396.4 143.7 L 397.1 143.7 L 397.1 146.1 L 400.0 146.1 L 400.0 143.7 L 400.7 143.7 L 400.7 149.3 L 400.0 149.3 L 400.0 146.7 L 397.1 146.7 L 397.1 149.3 L 396.4 149.3 L 396.4 143.7 \" fill=\"#000000\"/>\n",
       "<path class=\"atom-67\" d=\"M 372.2 166.7 L 373.0 166.7 L 373.0 169.1 L 375.8 169.1 L 375.8 166.7 L 376.6 166.7 L 376.6 172.3 L 375.8 172.3 L 375.8 169.8 L 373.0 169.8 L 373.0 172.3 L 372.2 172.3 L 372.2 166.7 \" fill=\"#000000\"/>\n",
       "<path class=\"atom-68\" d=\"M 385.0 174.5 L 385.8 174.5 L 385.8 176.9 L 388.6 176.9 L 388.6 174.5 L 389.4 174.5 L 389.4 180.1 L 388.6 180.1 L 388.6 177.5 L 385.8 177.5 L 385.8 180.1 L 385.0 180.1 L 385.0 174.5 \" fill=\"#000000\"/>\n",
       "<path class=\"atom-69\" d=\"M 369.7 141.4 L 370.5 141.4 L 370.5 143.8 L 373.3 143.8 L 373.3 141.4 L 374.1 141.4 L 374.1 147.0 L 373.3 147.0 L 373.3 144.4 L 370.5 144.4 L 370.5 147.0 L 369.7 147.0 L 369.7 141.4 \" fill=\"#000000\"/>\n",
       "<path class=\"atom-70\" d=\"M 346.0 155.3 L 346.7 155.3 L 346.7 157.7 L 349.6 157.7 L 349.6 155.3 L 350.3 155.3 L 350.3 160.9 L 349.6 160.9 L 349.6 158.3 L 346.7 158.3 L 346.7 160.9 L 346.0 160.9 L 346.0 155.3 \" fill=\"#000000\"/>\n",
       "<path class=\"atom-71\" d=\"M 365.7 187.4 L 366.4 187.4 L 366.4 189.8 L 369.3 189.8 L 369.3 187.4 L 370.0 187.4 L 370.0 193.0 L 369.3 193.0 L 369.3 190.4 L 366.4 190.4 L 366.4 193.0 L 365.7 193.0 L 365.7 187.4 \" fill=\"#000000\"/>\n",
       "<path class=\"atom-72\" d=\"M 366.3 173.3 L 367.0 173.3 L 367.0 175.7 L 369.9 175.7 L 369.9 173.3 L 370.6 173.3 L 370.6 178.9 L 369.9 178.9 L 369.9 176.3 L 367.0 176.3 L 367.0 178.9 L 366.3 178.9 L 366.3 173.3 \" fill=\"#000000\"/>\n",
       "<path class=\"atom-73\" d=\"M 338.3 193.7 L 339.1 193.7 L 339.1 196.1 L 341.9 196.1 L 341.9 193.7 L 342.7 193.7 L 342.7 199.3 L 341.9 199.3 L 341.9 196.7 L 339.1 196.7 L 339.1 199.3 L 338.3 199.3 L 338.3 193.7 \" fill=\"#000000\"/>\n",
       "<path class=\"atom-74\" d=\"M 351.0 194.8 L 351.7 194.8 L 351.7 197.1 L 354.6 197.1 L 354.6 194.8 L 355.4 194.8 L 355.4 200.3 L 354.6 200.3 L 354.6 197.8 L 351.7 197.8 L 351.7 200.3 L 351.0 200.3 L 351.0 194.8 \" fill=\"#000000\"/>\n",
       "<path class=\"atom-75\" d=\"M 327.0 162.9 L 327.8 162.9 L 327.8 165.2 L 330.6 165.2 L 330.6 162.9 L 331.4 162.9 L 331.4 168.5 L 330.6 168.5 L 330.6 165.9 L 327.8 165.9 L 327.8 168.5 L 327.0 168.5 L 327.0 162.9 \" fill=\"#000000\"/>\n",
       "<path class=\"atom-76\" d=\"M 339.7 163.7 L 340.4 163.7 L 340.4 166.1 L 343.3 166.1 L 343.3 163.7 L 344.0 163.7 L 344.0 169.3 L 343.3 169.3 L 343.3 166.7 L 340.4 166.7 L 340.4 169.3 L 339.7 169.3 L 339.7 163.7 \" fill=\"#000000\"/>\n",
       "<path class=\"atom-77\" d=\"M 315.4 191.6 L 316.1 191.6 L 316.1 193.9 L 319.0 193.9 L 319.0 191.6 L 319.8 191.6 L 319.8 197.2 L 319.0 197.2 L 319.0 194.6 L 316.1 194.6 L 316.1 197.2 L 315.4 197.2 L 315.4 191.6 \" fill=\"#000000\"/>\n",
       "<path class=\"atom-78\" d=\"M 328.0 191.8 L 328.7 191.8 L 328.7 194.2 L 331.6 194.2 L 331.6 191.8 L 332.3 191.8 L 332.3 197.4 L 331.6 197.4 L 331.6 194.8 L 328.7 194.8 L 328.7 197.4 L 328.0 197.4 L 328.0 191.8 \" fill=\"#000000\"/>\n",
       "<path class=\"atom-79\" d=\"M 303.4 162.3 L 304.2 162.3 L 304.2 164.7 L 307.1 164.7 L 307.1 162.3 L 307.8 162.3 L 307.8 167.9 L 307.1 167.9 L 307.1 165.3 L 304.2 165.3 L 304.2 167.9 L 303.4 167.9 L 303.4 162.3 \" fill=\"#000000\"/>\n",
       "<path class=\"atom-80\" d=\"M 316.5 162.3 L 317.3 162.3 L 317.3 164.6 L 320.1 164.6 L 320.1 162.3 L 320.9 162.3 L 320.9 167.8 L 320.1 167.8 L 320.1 165.3 L 317.3 165.3 L 317.3 167.8 L 316.5 167.8 L 316.5 162.3 \" fill=\"#000000\"/>\n",
       "<path class=\"atom-81\" d=\"M 292.2 192.1 L 292.9 192.1 L 292.9 194.5 L 295.8 194.5 L 295.8 192.1 L 296.5 192.1 L 296.5 197.7 L 295.8 197.7 L 295.8 195.1 L 292.9 195.1 L 292.9 197.7 L 292.2 197.7 L 292.2 192.1 \" fill=\"#000000\"/>\n",
       "<path class=\"atom-82\" d=\"M 304.9 191.7 L 305.6 191.7 L 305.6 194.1 L 308.5 194.1 L 308.5 191.7 L 309.3 191.7 L 309.3 197.3 L 308.5 197.3 L 308.5 194.7 L 305.6 194.7 L 305.6 197.3 L 304.9 197.3 L 304.9 191.7 \" fill=\"#000000\"/>\n",
       "<path class=\"atom-83\" d=\"M 279.8 163.6 L 280.5 163.6 L 280.5 166.0 L 283.4 166.0 L 283.4 163.6 L 284.1 163.6 L 284.1 169.2 L 283.4 169.2 L 283.4 166.6 L 280.5 166.6 L 280.5 169.2 L 279.8 169.2 L 279.8 163.6 \" fill=\"#000000\"/>\n",
       "<path class=\"atom-84\" d=\"M 292.9 163.0 L 293.7 163.0 L 293.7 165.3 L 296.6 165.3 L 296.6 163.0 L 297.3 163.0 L 297.3 168.6 L 296.6 168.6 L 296.6 166.0 L 293.7 166.0 L 293.7 168.6 L 292.9 168.6 L 292.9 163.0 \" fill=\"#000000\"/>\n",
       "<path class=\"atom-85\" d=\"M 247.2 192.8 L 247.9 192.8 L 247.9 195.2 L 250.8 195.2 L 250.8 192.8 L 251.5 192.8 L 251.5 198.4 L 250.8 198.4 L 250.8 195.8 L 247.9 195.8 L 247.9 198.4 L 247.2 198.4 L 247.2 192.8 \" fill=\"#000000\"/>\n",
       "<path class=\"atom-86\" d=\"M 260.4 193.4 L 261.2 193.4 L 261.2 195.8 L 264.0 195.8 L 264.0 193.4 L 264.8 193.4 L 264.8 199.0 L 264.0 199.0 L 264.0 196.4 L 261.2 196.4 L 261.2 199.0 L 260.4 199.0 L 260.4 193.4 \" fill=\"#000000\"/>\n",
       "<path class=\"atom-87\" d=\"M 202.3 191.7 L 203.0 191.7 L 203.0 194.1 L 205.9 194.1 L 205.9 191.7 L 206.6 191.7 L 206.6 197.3 L 205.9 197.3 L 205.9 194.7 L 203.0 194.7 L 203.0 197.3 L 202.3 197.3 L 202.3 191.7 \" fill=\"#000000\"/>\n",
       "<path class=\"atom-88\" d=\"M 215.3 191.6 L 216.0 191.6 L 216.0 194.0 L 218.9 194.0 L 218.9 191.6 L 219.6 191.6 L 219.6 197.2 L 218.9 197.2 L 218.9 194.6 L 216.0 194.6 L 216.0 197.2 L 215.3 197.2 L 215.3 191.6 \" fill=\"#000000\"/>\n",
       "<path class=\"atom-89\" d=\"M 190.9 162.4 L 191.7 162.4 L 191.7 164.8 L 194.5 164.8 L 194.5 162.4 L 195.3 162.4 L 195.3 168.0 L 194.5 168.0 L 194.5 165.4 L 191.7 165.4 L 191.7 168.0 L 190.9 168.0 L 190.9 162.4 \" fill=\"#000000\"/>\n",
       "<path class=\"atom-90\" d=\"M 203.8 162.4 L 204.5 162.4 L 204.5 164.8 L 207.4 164.8 L 207.4 162.4 L 208.2 162.4 L 208.2 168.0 L 207.4 168.0 L 207.4 165.4 L 204.5 165.4 L 204.5 168.0 L 203.8 168.0 L 203.8 162.4 \" fill=\"#000000\"/>\n",
       "<path class=\"atom-91\" d=\"M 179.0 191.6 L 179.7 191.6 L 179.7 193.9 L 182.6 193.9 L 182.6 191.6 L 183.3 191.6 L 183.3 197.2 L 182.6 197.2 L 182.6 194.6 L 179.7 194.6 L 179.7 197.2 L 179.0 197.2 L 179.0 191.6 \" fill=\"#000000\"/>\n",
       "<path class=\"atom-92\" d=\"M 191.8 191.7 L 192.5 191.7 L 192.5 194.1 L 195.4 194.1 L 195.4 191.7 L 196.1 191.7 L 196.1 197.3 L 195.4 197.3 L 195.4 194.7 L 192.5 194.7 L 192.5 197.3 L 191.8 197.3 L 191.8 191.7 \" fill=\"#000000\"/>\n",
       "<path class=\"atom-93\" d=\"M 180.4 162.3 L 181.1 162.3 L 181.1 164.7 L 184.0 164.7 L 184.0 162.3 L 184.7 162.3 L 184.7 167.9 L 184.0 167.9 L 184.0 165.3 L 181.1 165.3 L 181.1 167.9 L 180.4 167.9 L 180.4 162.3 \" fill=\"#000000\"/>\n",
       "<path class=\"atom-94\" d=\"M 167.7 162.0 L 168.5 162.0 L 168.5 164.4 L 171.3 164.4 L 171.3 162.0 L 172.1 162.0 L 172.1 167.6 L 171.3 167.6 L 171.3 165.0 L 168.5 165.0 L 168.5 167.6 L 167.7 167.6 L 167.7 162.0 \" fill=\"#000000\"/>\n",
       "<path class=\"atom-95\" d=\"M 168.4 190.9 L 169.2 190.9 L 169.2 193.3 L 172.1 193.3 L 172.1 190.9 L 172.8 190.9 L 172.8 196.5 L 172.1 196.5 L 172.1 193.9 L 169.2 193.9 L 169.2 196.5 L 168.4 196.5 L 168.4 190.9 \" fill=\"#000000\"/>\n",
       "<path class=\"atom-96\" d=\"M 155.9 190.0 L 156.7 190.0 L 156.7 192.4 L 159.5 192.4 L 159.5 190.0 L 160.3 190.0 L 160.3 195.6 L 159.5 195.6 L 159.5 193.0 L 156.7 193.0 L 156.7 195.6 L 155.9 195.6 L 155.9 190.0 \" fill=\"#000000\"/>\n",
       "<path class=\"atom-97\" d=\"M 157.3 160.1 L 158.1 160.1 L 158.1 162.5 L 161.0 162.5 L 161.0 160.1 L 161.7 160.1 L 161.7 165.7 L 161.0 165.7 L 161.0 163.1 L 158.1 163.1 L 158.1 165.7 L 157.3 165.7 L 157.3 160.1 \" fill=\"#000000\"/>\n",
       "<path class=\"atom-98\" d=\"M 144.7 159.0 L 145.4 159.0 L 145.4 161.4 L 148.3 161.4 L 148.3 159.0 L 149.0 159.0 L 149.0 164.6 L 148.3 164.6 L 148.3 162.1 L 145.4 162.1 L 145.4 164.6 L 144.7 164.6 L 144.7 159.0 \" fill=\"#000000\"/>\n",
       "<path class=\"atom-99\" d=\"M 130.0 166.4 L 130.7 166.4 L 130.7 168.8 L 133.6 168.8 L 133.6 166.4 L 134.3 166.4 L 134.3 172.0 L 133.6 172.0 L 133.6 169.4 L 130.7 169.4 L 130.7 172.0 L 130.0 172.0 L 130.0 166.4 \" fill=\"#000000\"/>\n",
       "<path class=\"atom-100\" d=\"M 129.4 180.5 L 130.1 180.5 L 130.1 182.9 L 133.0 182.9 L 133.0 180.5 L 133.7 180.5 L 133.7 186.1 L 133.0 186.1 L 133.0 183.5 L 130.1 183.5 L 130.1 186.1 L 129.4 186.1 L 129.4 180.5 \" fill=\"#000000\"/>\n",
       "<path class=\"atom-101\" d=\"M 149.7 198.5 L 150.4 198.5 L 150.4 200.9 L 153.3 200.9 L 153.3 198.5 L 154.0 198.5 L 154.0 204.1 L 153.3 204.1 L 153.3 201.5 L 150.4 201.5 L 150.4 204.1 L 149.7 204.1 L 149.7 198.5 \" fill=\"#000000\"/>\n",
       "<path class=\"atom-102\" d=\"M 125.9 212.4 L 126.7 212.4 L 126.7 214.8 L 129.5 214.8 L 129.5 212.4 L 130.3 212.4 L 130.3 218.0 L 129.5 218.0 L 129.5 215.4 L 126.7 215.4 L 126.7 218.0 L 125.9 218.0 L 125.9 212.4 \" fill=\"#000000\"/>\n",
       "<path class=\"atom-103\" d=\"M 123.4 187.1 L 124.2 187.1 L 124.2 189.4 L 127.0 189.4 L 127.0 187.1 L 127.8 187.1 L 127.8 192.6 L 127.0 192.6 L 127.0 190.1 L 124.2 190.1 L 124.2 192.6 L 123.4 192.6 L 123.4 187.1 \" fill=\"#000000\"/>\n",
       "<path class=\"atom-104\" d=\"M 110.6 179.3 L 111.4 179.3 L 111.4 181.7 L 114.2 181.7 L 114.2 179.3 L 115.0 179.3 L 115.0 184.9 L 114.2 184.9 L 114.2 182.3 L 111.4 182.3 L 111.4 184.9 L 110.6 184.9 L 110.6 179.3 \" fill=\"#000000\"/>\n",
       "<path class=\"atom-105\" d=\"M 112.0 209.1 L 112.7 209.1 L 112.7 211.4 L 115.6 211.4 L 115.6 209.1 L 116.3 209.1 L 116.3 214.6 L 115.6 214.6 L 115.6 212.1 L 112.7 212.1 L 112.7 214.6 L 112.0 214.6 L 112.0 209.1 \" fill=\"#000000\"/>\n",
       "<path class=\"atom-106\" d=\"M 99.3 210.1 L 100.1 210.1 L 100.1 212.5 L 102.9 212.5 L 102.9 210.1 L 103.7 210.1 L 103.7 215.7 L 102.9 215.7 L 102.9 213.1 L 100.1 213.1 L 100.1 215.7 L 99.3 215.7 L 99.3 210.1 \" fill=\"#000000\"/>\n",
       "<path class=\"atom-107\" d=\"M 99.8 181.6 L 100.5 181.6 L 100.5 183.9 L 103.4 183.9 L 103.4 181.6 L 104.2 181.6 L 104.2 187.1 L 103.4 187.1 L 103.4 184.6 L 100.5 184.6 L 100.5 187.1 L 99.8 187.1 L 99.8 181.6 \" fill=\"#000000\"/>\n",
       "<path class=\"atom-108\" d=\"M 87.3 182.1 L 88.1 182.1 L 88.1 184.5 L 90.9 184.5 L 90.9 182.1 L 91.7 182.1 L 91.7 187.7 L 90.9 187.7 L 90.9 185.1 L 88.1 185.1 L 88.1 187.7 L 87.3 187.7 L 87.3 182.1 \" fill=\"#000000\"/>\n",
       "<path class=\"atom-109\" d=\"M 88.8 211.2 L 89.6 211.2 L 89.6 213.5 L 92.4 213.5 L 92.4 211.2 L 93.2 211.2 L 93.2 216.8 L 92.4 216.8 L 92.4 214.2 L 89.6 214.2 L 89.6 216.8 L 88.8 216.8 L 88.8 211.2 \" fill=\"#000000\"/>\n",
       "<path class=\"atom-110\" d=\"M 76.3 211.5 L 77.1 211.5 L 77.1 213.8 L 79.9 213.8 L 79.9 211.5 L 80.7 211.5 L 80.7 217.0 L 79.9 217.0 L 79.9 214.5 L 77.1 214.5 L 77.1 217.0 L 76.3 217.0 L 76.3 211.5 \" fill=\"#000000\"/>\n",
       "<path class=\"atom-111\" d=\"M 76.9 182.5 L 77.6 182.5 L 77.6 184.8 L 80.5 184.8 L 80.5 182.5 L 81.2 182.5 L 81.2 188.1 L 80.5 188.1 L 80.5 185.5 L 77.6 185.5 L 77.6 188.1 L 76.9 188.1 L 76.9 182.5 \" fill=\"#000000\"/>\n",
       "<path class=\"atom-112\" d=\"M 64.5 182.5 L 65.2 182.5 L 65.2 184.9 L 68.1 184.9 L 68.1 182.5 L 68.8 182.5 L 68.8 188.1 L 68.1 188.1 L 68.1 185.6 L 65.2 185.6 L 65.2 188.1 L 64.5 188.1 L 64.5 182.5 \" fill=\"#000000\"/>\n",
       "<path class=\"atom-113\" d=\"M 65.8 211.6 L 66.6 211.6 L 66.6 213.9 L 69.4 213.9 L 69.4 211.6 L 70.2 211.6 L 70.2 217.1 L 69.4 217.1 L 69.4 214.6 L 66.6 214.6 L 66.6 217.1 L 65.8 217.1 L 65.8 211.6 \" fill=\"#000000\"/>\n",
       "<path class=\"atom-114\" d=\"M 53.2 211.7 L 54.0 211.7 L 54.0 214.1 L 56.8 214.1 L 56.8 211.7 L 57.6 211.7 L 57.6 217.3 L 56.8 217.3 L 56.8 214.7 L 54.0 214.7 L 54.0 217.3 L 53.2 217.3 L 53.2 211.7 \" fill=\"#000000\"/>\n",
       "<path class=\"atom-115\" d=\"M 53.9 182.5 L 54.7 182.5 L 54.7 184.9 L 57.5 184.9 L 57.5 182.5 L 58.3 182.5 L 58.3 188.1 L 57.5 188.1 L 57.5 185.5 L 54.7 185.5 L 54.7 188.1 L 53.9 188.1 L 53.9 182.5 \" fill=\"#000000\"/>\n",
       "<path class=\"atom-116\" d=\"M 41.1 182.5 L 41.8 182.5 L 41.8 184.9 L 44.7 184.9 L 44.7 182.5 L 45.5 182.5 L 45.5 188.1 L 44.7 188.1 L 44.7 185.5 L 41.8 185.5 L 41.8 188.1 L 41.1 188.1 L 41.1 182.5 \" fill=\"#000000\"/>\n",
       "<path class=\"atom-117\" d=\"M 42.7 211.7 L 43.4 211.7 L 43.4 214.1 L 46.3 214.1 L 46.3 211.7 L 47.1 211.7 L 47.1 217.3 L 46.3 217.3 L 46.3 214.8 L 43.4 214.8 L 43.4 217.3 L 42.7 217.3 L 42.7 211.7 \" fill=\"#000000\"/>\n",
       "<path class=\"atom-118\" d=\"M 29.7 211.8 L 30.5 211.8 L 30.5 214.1 L 33.4 214.1 L 33.4 211.8 L 34.1 211.8 L 34.1 217.4 L 33.4 217.4 L 33.4 214.8 L 30.5 214.8 L 30.5 217.4 L 29.7 217.4 L 29.7 211.8 \" fill=\"#000000\"/>\n",
       "<path class=\"atom-119\" d=\"M 25.0 193.9 L 25.8 193.9 L 25.8 196.2 L 28.6 196.2 L 28.6 193.9 L 29.4 193.9 L 29.4 199.5 L 28.6 199.5 L 28.6 196.9 L 25.8 196.9 L 25.8 199.5 L 25.0 199.5 L 25.0 193.9 \" fill=\"#000000\"/>\n",
       "<path class=\"atom-120\" d=\"M 261.1 166.4 L 261.9 166.4 L 261.9 168.8 L 264.7 168.8 L 264.7 166.4 L 265.5 166.4 L 265.5 172.0 L 264.7 172.0 L 264.7 169.4 L 261.9 169.4 L 261.9 172.0 L 261.1 172.0 L 261.1 166.4 \" fill=\"#000000\"/>\n",
       "<path class=\"atom-121\" d=\"M 260.6 154.7 L 261.3 154.7 L 261.3 157.1 L 264.2 157.1 L 264.2 154.7 L 265.0 154.7 L 265.0 160.3 L 264.2 160.3 L 264.2 157.7 L 261.3 157.7 L 261.3 160.3 L 260.6 160.3 L 260.6 154.7 \" fill=\"#000000\"/>\n",
       "<path class=\"atom-122\" d=\"M 237.1 122.6 L 237.9 122.6 L 237.9 125.0 L 240.7 125.0 L 240.7 122.6 L 241.5 122.6 L 241.5 128.2 L 240.7 128.2 L 240.7 125.6 L 237.9 125.6 L 237.9 128.2 L 237.1 128.2 L 237.1 122.6 \" fill=\"#000000\"/>\n",
       "<path class=\"atom-123\" d=\"M 237.0 109.9 L 237.7 109.9 L 237.7 112.3 L 240.6 112.3 L 240.6 109.9 L 241.3 109.9 L 241.3 115.5 L 240.6 115.5 L 240.6 112.9 L 237.7 112.9 L 237.7 115.5 L 237.0 115.5 L 237.0 109.9 \" fill=\"#000000\"/>\n",
       "<path class=\"atom-124\" d=\"M 266.2 111.6 L 266.9 111.6 L 266.9 113.9 L 269.8 113.9 L 269.8 111.6 L 270.5 111.6 L 270.5 117.1 L 269.8 117.1 L 269.8 114.6 L 266.9 114.6 L 266.9 117.1 L 266.2 117.1 L 266.2 111.6 \" fill=\"#000000\"/>\n",
       "<path class=\"atom-125\" d=\"M 266.3 98.4 L 267.1 98.4 L 267.1 100.8 L 269.9 100.8 L 269.9 98.4 L 270.7 98.4 L 270.7 104.0 L 269.9 104.0 L 269.9 101.5 L 267.1 101.5 L 267.1 104.0 L 266.3 104.0 L 266.3 98.4 \" fill=\"#000000\"/>\n",
       "<path class=\"atom-126\" d=\"M 237.0 99.4 L 237.8 99.4 L 237.8 101.8 L 240.6 101.8 L 240.6 99.4 L 241.4 99.4 L 241.4 105.0 L 240.6 105.0 L 240.6 102.4 L 237.8 102.4 L 237.8 105.0 L 237.0 105.0 L 237.0 99.4 \" fill=\"#000000\"/>\n",
       "<path class=\"atom-127\" d=\"M 237.2 86.5 L 237.9 86.5 L 237.9 88.9 L 240.8 88.9 L 240.8 86.5 L 241.5 86.5 L 241.5 92.1 L 240.8 92.1 L 240.8 89.5 L 237.9 89.5 L 237.9 92.1 L 237.2 92.1 L 237.2 86.5 \" fill=\"#000000\"/>\n",
       "<path class=\"atom-128\" d=\"M 255.1 82.0 L 255.9 82.0 L 255.9 84.4 L 258.8 84.4 L 258.8 82.0 L 259.5 82.0 L 259.5 87.6 L 258.8 87.6 L 258.8 85.0 L 255.9 85.0 L 255.9 87.6 L 255.1 87.6 L 255.1 82.0 \" fill=\"#000000\"/>\n",
       "</svg>"
      ],
      "text/plain": [
       "<IPython.core.display.SVG object>"
      ]
     },
     "execution_count": 21,
     "metadata": {},
     "output_type": "execute_result"
    }
   ],
   "source": [
    "lipid = Molecule.from_smiles(lipid_smiles)\n",
    "lipid.generate_conformers()\n",
    "lipid.visualize()"
   ]
  },
  {
   "cell_type": "code",
   "execution_count": 13,
   "metadata": {},
   "outputs": [
    {
     "name": "stderr",
     "output_type": "stream",
     "text": [
      "Warning: POPE: Failed due to unspecified stereochemistry\n",
      "/home/julianne/miniconda3/envs/openff/lib/python3.11/site-packages/openff/interchange/interop/gromacs/export/_export.py:48: UserWarning: WARNING: System defined with no box vectors, which GROMACS does not offically support in versions 2020 or newer (see https://gitlab.com/gromacs/gromacs/-/issues/3526). Setting box vectors to a 5  nm cube.\n",
      "  self._write_gro(gro, decimal)\n"
     ]
    }
   ],
   "source": [
    "NAGLcharge = model.compute_property(lipid, check_domains = True, error_if_unsupported=True)\n",
    "lipid.partial_charges  = NAGLcharge * unit.elementary_charge #openFF units attached to partial charges property\n",
    "\n",
    "lipid.name = \"POPE\"\n",
    "for i, atom in enumerate(lipid.atoms, 0):\n",
    "    atom.metadata[\"residue_name\"] = \"POPE\"\n",
    "lipid.generate_unique_atom_names() \n",
    "topology = Topology.from_molecules([lipid])\n",
    "\n",
    "forcefield = ForceField(\"openff-2.1.0.offxml\")\n",
    "\n",
    "interchange = Interchange.from_smirnoff(\n",
    "    force_field=forcefield,\n",
    "    topology=topology,\n",
    "    charge_from_molecules = [lipid]\n",
    ")\n",
    "interchange\n",
    "\n",
    "lipid.to_file('lipid.pdb', file_format = 'pdb')\n",
    "interchange.to_top(\"lipid.top\")\n",
    "interchange.to_gro(\"lipid.gro\")"
   ]
  },
  {
   "cell_type": "markdown",
   "metadata": {},
   "source": [
    "Visualize lipid with nglview"
   ]
  },
  {
   "cell_type": "code",
   "execution_count": 15,
   "metadata": {},
   "outputs": [
    {
     "data": {
      "application/vnd.jupyter.widget-view+json": {
       "model_id": "19f9afaca8a7439cad98629f555e8574",
       "version_major": 2,
       "version_minor": 0
      },
      "text/plain": [
       "NGLWidget()"
      ]
     },
     "metadata": {},
     "output_type": "display_data"
    }
   ],
   "source": [
    "model_path = '/home/julianne/Desktop/OpenFFLipid/POPS/lipid.pdb' #change model path\n",
    "\n",
    "view = nglview.show_structure_file(model_path)\n",
    "view\n",
    "#check that angles are all acceptable for POPE"
   ]
  },
  {
   "cell_type": "markdown",
   "metadata": {},
   "source": [
    "If the lipid created is not in an optimal configuration for packing into a bilayer (e.g. tails are splayed), it may be necessary to pull the lipid to strighten it out. If the lipid is already in an okay configuration to pack, skip gmx pull command. "
   ]
  },
  {
   "cell_type": "code",
   "execution_count": 16,
   "metadata": {},
   "outputs": [
    {
     "data": {
      "image/svg+xml": [
       "<svg xmlns=\"http://www.w3.org/2000/svg\" xmlns:rdkit=\"http://www.rdkit.org/xml\" xmlns:xlink=\"http://www.w3.org/1999/xlink\" version=\"1.1\" baseProfile=\"full\" xml:space=\"preserve\" width=\"500px\" height=\"300px\" viewBox=\"0 0 500 300\">\n",
       "<!-- END OF HEADER -->\n",
       "<rect style=\"opacity:1.0;fill:#FFFFFF;stroke:none\" width=\"500.0\" height=\"300.0\" x=\"0.0\" y=\"0.0\"> </rect>\n",
       "<path class=\"bond-0 atom-0 atom-1\" d=\"M 270.3,107.2 L 345.4,150.6\" style=\"fill:none;fill-rule:evenodd;stroke:#FF0000;stroke-width:2.0px;stroke-linecap:butt;stroke-linejoin:miter;stroke-opacity:1\"/>\n",
       "<path class=\"bond-0 atom-0 atom-1\" d=\"M 345.4,150.6 L 420.5,194.1\" style=\"fill:none;fill-rule:evenodd;stroke:#000000;stroke-width:2.0px;stroke-linecap:butt;stroke-linejoin:miter;stroke-opacity:1\"/>\n",
       "<path class=\"bond-1 atom-0 atom-2\" d=\"M 229.9,107.1 L 154.7,150.5\" style=\"fill:none;fill-rule:evenodd;stroke:#FF0000;stroke-width:2.0px;stroke-linecap:butt;stroke-linejoin:miter;stroke-opacity:1\"/>\n",
       "<path class=\"bond-1 atom-0 atom-2\" d=\"M 154.7,150.5 L 79.5,193.8\" style=\"fill:none;fill-rule:evenodd;stroke:#000000;stroke-width:2.0px;stroke-linecap:butt;stroke-linejoin:miter;stroke-opacity:1\"/>\n",
       "<path class=\"atom-0\" d=\"M 237.1 95.6 Q 237.1 88.8, 240.4 85.0 Q 243.8 81.2, 250.1 81.2 Q 256.4 81.2, 259.7 85.0 Q 263.1 88.8, 263.1 95.6 Q 263.1 102.5, 259.7 106.4 Q 256.3 110.3, 250.1 110.3 Q 243.8 110.3, 240.4 106.4 Q 237.1 102.5, 237.1 95.6 M 250.1 107.1 Q 254.4 107.1, 256.7 104.2 Q 259.1 101.3, 259.1 95.6 Q 259.1 90.0, 256.7 87.2 Q 254.4 84.4, 250.1 84.4 Q 245.8 84.4, 243.4 87.2 Q 241.1 90.0, 241.1 95.6 Q 241.1 101.3, 243.4 104.2 Q 245.8 107.1, 250.1 107.1 \" fill=\"#FF0000\"/>\n",
       "<path class=\"atom-1\" d=\"M 427.7 190.5 L 431.5 190.5 L 431.5 202.5 L 446.0 202.5 L 446.0 190.5 L 449.9 190.5 L 449.9 218.8 L 446.0 218.8 L 446.0 205.7 L 431.5 205.7 L 431.5 218.8 L 427.7 218.8 L 427.7 190.5 \" fill=\"#000000\"/>\n",
       "<path class=\"atom-2\" d=\"M 50.1 190.2 L 54.0 190.2 L 54.0 202.2 L 68.5 202.2 L 68.5 190.2 L 72.3 190.2 L 72.3 218.5 L 68.5 218.5 L 68.5 205.4 L 54.0 205.4 L 54.0 218.5 L 50.1 218.5 L 50.1 190.2 \" fill=\"#000000\"/>\n",
       "</svg>"
      ],
      "text/plain": [
       "<IPython.core.display.SVG object>"
      ]
     },
     "execution_count": 16,
     "metadata": {},
     "output_type": "execute_result"
    }
   ],
   "source": [
    "water = Molecule.from_smiles(\"O\")\n",
    "water.generate_conformers()\n",
    "water.visualize()"
   ]
  },
  {
   "cell_type": "code",
   "execution_count": 17,
   "metadata": {},
   "outputs": [],
   "source": [
    "NAGLcharge = model.compute_property(water, check_domains = True, error_if_unsupported=True)\n",
    "water.partial_charges  = NAGLcharge * unit.elementary_charge\n",
    "\n",
    "water.name = \"TIP3P\"\n",
    "\n",
    "for i, atom in enumerate(water.atoms, 3):\n",
    "    atom.metadata[\"residue_name\"] = \"TIP3P\"\n",
    "water.generate_unique_atom_names() \n",
    "topology = Topology.from_molecules([water])\n",
    "\n",
    "\n",
    "interchange = Interchange.from_smirnoff(\n",
    "    force_field=forcefield,\n",
    "    topology=topology,\n",
    "    charge_from_molecules = [water]\n",
    ")\n",
    "interchange\n",
    "\n",
    "# PDB structure for Packmol\n",
    "interchange.to_pdb(\"water.pdb\")\n",
    "interchange.to_top(\"water.top\")"
   ]
  },
  {
   "cell_type": "markdown",
   "metadata": {},
   "source": [
    "If the lipid is not in a propper configuration, running a pull script to straighten lipid out is necessary. \n",
    "\n",
    "First, create an index group for an atom in the lipid headgroup"
   ]
  },
  {
   "cell_type": "code",
   "execution_count": null,
   "metadata": {},
   "outputs": [],
   "source": [
    "# The nitrogen from POPC is used here since it is the furthest core atom\n",
    "# For more complicated structures, you can specificy multiple atoms and link them (reference 'specific_pull.mdp' in this repo)\n",
    "\n",
    "$ gmx make_ndx -f lipid.gro -o N1x.ndx\n",
    "\n",
    "# Input for this index\n",
    "$ a 48 # Warning: check index in lipid.gro file to make sure that the index is correct.\n",
    "$ name 3 N1x # Creates an atom group (3) with your selected atom\n",
    "$ q\n",
    "\n",
    "#this will create a file, 'N1x.ndx'"
   ]
  },
  {
   "cell_type": "markdown",
   "metadata": {},
   "source": [
    "Run the pulling simulation in gromacs to straighten out the lipid. This script grabs the atom in the index file, and pulls it in the z direction.\n"
   ]
  },
  {
   "cell_type": "code",
   "execution_count": null,
   "metadata": {},
   "outputs": [],
   "source": [
    "$ gmx grompp -f pull_nvt.mdp -c lipid.gro -p lipid.top -n A48.ndx -o pull.tpr -maxwarn 1 # Warning: Update pull_nvt.mdp with atom name\n",
    "$ gmx mdrun -deffnm pull"
   ]
  },
  {
   "cell_type": "markdown",
   "metadata": {},
   "source": [
    "### Use trjconv to produce a pdb of the lipid after pull code. Visualize with nglview to confirm \n"
   ]
  },
  {
   "cell_type": "code",
   "execution_count": null,
   "metadata": {},
   "outputs": [],
   "source": [
    "$ gmx trjconv -f pull.xtc -s pull.tpr -pbc mol -o POPE.pdb -dump 50 # Where '50' is the best frame\n",
    "$ 0\n",
    "#Please note that choosing the last frame may retult in distorted hydrogen bonding when visualizing below. \n",
    "# If this problem occurs choose an earlier frame\n",
    "\n",
    "# If the GRO output is good enough at the end, use this:\n",
    "$ gmx editconf -f pull.gro -o POPC.pdb"
   ]
  },
  {
   "cell_type": "code",
   "execution_count": 27,
   "metadata": {
    "scrolled": true
   },
   "outputs": [
    {
     "data": {
      "application/vnd.jupyter.widget-view+json": {
       "model_id": "e9ae835a571f49088f784d5f5ac963a2",
       "version_major": 2,
       "version_minor": 0
      },
      "text/plain": [
       "NGLWidget()"
      ]
     },
     "metadata": {},
     "output_type": "display_data"
    }
   ],
   "source": [
    "#visualize the pulled lipid using ngl view\n",
    "\n",
    "model_path = '/home/julianne/Desktop/OpenFFLipid/POPS/POPS.pdb' #change model path\n",
    "\n",
    "view = nglview.show_structure_file(model_path)\n",
    "view\n"
   ]
  },
  {
   "cell_type": "markdown",
   "metadata": {},
   "source": [
    "### Run packmol with the dumped PDB\n",
    "You may have to modify the .inp structure file in packmol to fit your \"pulled\" lipid. Use MDAnalysis below to caluclate distance parameters based on your lipid for packing "
   ]
  },
  {
   "cell_type": "code",
   "execution_count": 33,
   "metadata": {},
   "outputs": [
    {
     "name": "stdout",
     "output_type": "stream",
     "text": [
      "Length of lipid from head group to tail group is:\n",
      " ~ 30.1 Angstrom\n"
     ]
    }
   ],
   "source": [
    "u = mda.Universe('POPE.pdb')\n",
    "\n",
    "head_group = u.select_atoms('name N1x') #select atom in head group, in this case Nitrogen\n",
    "tail_group = u.select_atoms('name C28x') #select atom in tail group, in this case last carbon in unsaturated tail\n",
    "\n",
    "distance = distances.distance_array(head_group.positions,tail_group.positions)\n",
    "print(\"Length of lipid from head group to tail group is:\\n\",\"~\",round(distance[0][0],2),'Angstrom') \n",
    "#this will tell you the full length of your lipid \n"
   ]
  },
  {
   "cell_type": "markdown",
   "metadata": {},
   "source": [
    "Estimate the desired number of lipids or membrane size in x y diresction when area per lipid is roughly known \\\n",
    "$ N_I = \\frac{2 L_x L_y}{a_I}$  \\\n",
    "where $N_I$ = total # lipids\\\n",
    "$L_x , L_y$ = lateral box dimensions\\\n",
    "$a_I$ = area per lipid in units $Å^{2}$"
   ]
  },
  {
   "cell_type": "code",
   "execution_count": 34,
   "metadata": {},
   "outputs": [
    {
     "name": "stdout",
     "output_type": "stream",
     "text": [
      "64.5 angstrom dimensions for Length\n"
     ]
    }
   ],
   "source": [
    "# POPC ~ 65 Å^2\n",
    "#For a square box:\n",
    "N = 128\n",
    "a = 65\n",
    "L = np.sqrt(N * a /2)\n",
    "print(round(L,1), \"angstrom dimensions for Length\")"
   ]
  },
  {
   "cell_type": "code",
   "execution_count": null,
   "metadata": {},
   "outputs": [],
   "source": [
    "#modify .inp file if necessary with propper length and atom names \n",
    "$ packmol < bilayer-comment.inp\n",
    "#if you have errors after running packmol make your box bigger \n",
    "# this returns a bilayer.pdb file that can be visualized below "
   ]
  },
  {
   "cell_type": "code",
   "execution_count": 3,
   "metadata": {},
   "outputs": [
    {
     "data": {
      "application/vnd.jupyter.widget-view+json": {
       "model_id": "f09dc1ddcd8249e280e4f26b734f9779",
       "version_major": 2,
       "version_minor": 0
      },
      "text/plain": [
       "NGLWidget()"
      ]
     },
     "metadata": {},
     "output_type": "display_data"
    }
   ],
   "source": [
    "model_path = '/home/julianne/Desktop/Run_feb8/Compressed/bilayer.pdb' #change model path\n",
    "\n",
    "view = nglview.show_structure_file(model_path)\n",
    "view"
   ]
  },
  {
   "cell_type": "markdown",
   "metadata": {},
   "source": [
    "### Build topology file from system interchange and get .gro file from .pdb"
   ]
  },
  {
   "cell_type": "code",
   "execution_count": null,
   "metadata": {},
   "outputs": [],
   "source": [
    "$ cp POPC.top topol.top\n",
    "$ cp POPC.top POPC.itp\n",
    "$ cp water.top TIP3P.itp\n",
    "# delete defaults, atom types, and molecules tables from .itp files\n",
    "# remove all force field parameters from topol.top, add TIP3P atom types, changes molecules:\n",
    "# [ molecules ]\n",
    "# ; Compound\t#mols\n",
    "# TIP3P  \t        5120  \n",
    "# POPC  \t         128\n",
    "\n",
    "#Convert pdb into .gro file\n",
    "$ gmx editconf -f bilayer.pdb -o bilayer.gro -box 7.5 7.5 8.0"
   ]
  },
  {
   "cell_type": "markdown",
   "metadata": {},
   "source": [
    "Files are now ready to be run using Gromacs.\n",
    "\n",
    "Min, NVT, NPT, MD production run"
   ]
  },
  {
   "cell_type": "code",
   "execution_count": null,
   "metadata": {},
   "outputs": [],
   "source": [
    "$ gmx grompp -f min.mdp -p topol.top -c bilayer.gro -o min.tpr\n",
    "$ gmx mdrun -deffnm min\n",
    "\n",
    "$ gmx grompp -p topol.top -f nvt.mdp -c min.gro -o nvt.tpr\n",
    "$ gmx mdrun -deffnm nvt\n",
    "\n",
    "$ gmx grompp -f npt.mdp -p topol.top -c nvt.gro -o npt.tpr -maxwarn 1\n",
    "$ gmx mdrun -deffnm npt\n",
    "\n",
    "$ gmx grompp -f md.mdp -c npt.gro -t npt.cpt -p topol.top -o md.tpr\n",
    "$ gmx mdrun -deffnm md\n",
    "# Checkpoint run for completion\n",
    "$ gmx mdrun -deffnm md -cpi md.cpt"
   ]
  }
 ],
 "metadata": {
  "kernelspec": {
   "display_name": "Python 3 (ipykernel)",
   "language": "python",
   "name": "python3"
  },
  "language_info": {
   "codemirror_mode": {
    "name": "ipython",
    "version": 3
   },
   "file_extension": ".py",
   "mimetype": "text/x-python",
   "name": "python",
   "nbconvert_exporter": "python",
   "pygments_lexer": "ipython3",
   "version": "3.11.7"
  }
 },
 "nbformat": 4,
 "nbformat_minor": 4
}
