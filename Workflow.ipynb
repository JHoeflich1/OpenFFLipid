{
 "cells": [
  {
   "cell_type": "markdown",
   "metadata": {},
   "source": [
    "### This notebook will walk you through how to build a lipid bilayer, starting from any arbitrary smiles string using OpenFF's interchange\n",
    "\n",
    "Import all dependencies "
   ]
  },
  {
   "cell_type": "code",
   "execution_count": 1,
   "metadata": {},
   "outputs": [
    {
     "name": "stderr",
     "output_type": "stream",
     "text": [
      "/home/julianne/miniconda3/envs/openff_clone/lib/python3.11/site-packages/Bio/__init__.py:138: BiopythonWarning: You may be importing Biopython from inside the source tree. This is bad practice and might lead to downstream issues. In particular, you might encounter ImportErrors due to missing compiled C extensions. We recommend that you try running your code from outside the source tree. If you are outside the source tree then you have a setup.py file in an unexpected directory: /home/julianne/miniconda3/envs/openff_clone/lib/python3.11/site-packages\n",
      "  warnings.warn(\n"
     ]
    },
    {
     "data": {
      "application/vnd.jupyter.widget-view+json": {
       "model_id": "85c70c5045f043adab2538258e4b00b7",
       "version_major": 2,
       "version_minor": 0
      },
      "text/plain": []
     },
     "metadata": {},
     "output_type": "display_data"
    }
   ],
   "source": [
    "from io import StringIO\n",
    "from typing import Iterable\n",
    "import numpy as np\n",
    "import matplotlib.pyplot as plt\n",
    "\n",
    "from rdkit import Chem\n",
    "import MDAnalysis as mda\n",
    "from MDAnalysis.analysis import distances\n",
    "from openff.toolkit import ForceField, Molecule, Topology\n",
    "from openff.toolkit.utils.toolkits import OpenEyeToolkitWrapper\n",
    "\n",
    "import openff.nagl\n",
    "from openff.nagl import GNNModel \n",
    "from openff.nagl_models import list_available_nagl_models\n",
    "# If ypu want a diff toolkit wrapper check out https://docs.openforcefield.org/projects/nagl/en/latest/toolkit_wrappers.html\n",
    "from openff.units import Quantity, unit\n",
    "from openmm import unit as openmm_unit\n",
    "from openff.interchange import Interchange\n",
    "\n",
    "import nglview"
   ]
  },
  {
   "cell_type": "markdown",
   "metadata": {},
   "source": [
    "To use NAGL to assign charges, first make sure you have the correct model dowloaded. List all models and specify the path"
   ]
  },
  {
   "cell_type": "code",
   "execution_count": 2,
   "metadata": {},
   "outputs": [
    {
     "data": {
      "text/plain": [
       "[PosixPath('/home/julianne/miniconda3/envs/openff_clone/lib/python3.11/site-packages/openff/nagl_models/models/am1bcc/openff-gnn-am1bcc-0.0.1-alpha.1.pt'),\n",
       " PosixPath('/home/julianne/miniconda3/envs/openff_clone/lib/python3.11/site-packages/openff/nagl_models/models/am1bcc/openff-gnn-am1bcc-0.1.0-rc.1.pt'),\n",
       " PosixPath('/home/julianne/miniconda3/envs/openff_clone/lib/python3.11/site-packages/openff/nagl_models/models/am1bcc/openff-gnn-am1bcc-0.1.0-rc.2.pt')]"
      ]
     },
     "execution_count": 2,
     "metadata": {},
     "output_type": "execute_result"
    }
   ],
   "source": [
    "list_available_nagl_models()"
   ]
  },
  {
   "cell_type": "code",
   "execution_count": 4,
   "metadata": {},
   "outputs": [],
   "source": [
    "model_path = '/home/julianne/miniconda3/envs/openff_clone/lib/python3.11/site-packages/openff/nagl_models/models/am1bcc/openff-gnn-am1bcc-0.1.0-rc.2.pt'\n",
    "# Change model_path to your folder\n",
    "model = GNNModel.load(model_path)"
   ]
  },
  {
   "cell_type": "markdown",
   "metadata": {},
   "source": [
    "### Build lipid and water from smiles string and use OpenFF Interchange to parameterize\n",
    "\n",
    "Think about making a dictionary of smiles strings so user only has to specify the lipid name"
   ]
  },
  {
   "cell_type": "code",
   "execution_count": 155,
   "metadata": {},
   "outputs": [
    {
     "data": {
      "image/svg+xml": [
       "<svg xmlns=\"http://www.w3.org/2000/svg\" xmlns:rdkit=\"http://www.rdkit.org/xml\" xmlns:xlink=\"http://www.w3.org/1999/xlink\" version=\"1.1\" baseProfile=\"full\" xml:space=\"preserve\" width=\"500px\" height=\"300px\" viewBox=\"0 0 500 300\">\n",
       "<!-- END OF HEADER -->\n",
       "<rect style=\"opacity:1.0;fill:#FFFFFF;stroke:none\" width=\"500.0\" height=\"300.0\" x=\"0.0\" y=\"0.0\"> </rect>\n",
       "<path class=\"bond-0 atom-0 atom-1\" d=\"M 101.9,63.2 L 115.5,55.3\" style=\"fill:none;fill-rule:evenodd;stroke:#000000;stroke-width:2.0px;stroke-linecap:butt;stroke-linejoin:miter;stroke-opacity:1\"/>\n",
       "<path class=\"bond-1 atom-1 atom-2\" d=\"M 115.5,55.3 L 129.4,63.1\" style=\"fill:none;fill-rule:evenodd;stroke:#000000;stroke-width:2.0px;stroke-linecap:butt;stroke-linejoin:miter;stroke-opacity:1\"/>\n",
       "<path class=\"bond-2 atom-2 atom-3\" d=\"M 129.4,63.1 L 143.2,55.1\" style=\"fill:none;fill-rule:evenodd;stroke:#000000;stroke-width:2.0px;stroke-linecap:butt;stroke-linejoin:miter;stroke-opacity:1\"/>\n",
       "<path class=\"bond-3 atom-3 atom-4\" d=\"M 143.2,55.1 L 157.0,62.9\" style=\"fill:none;fill-rule:evenodd;stroke:#000000;stroke-width:2.0px;stroke-linecap:butt;stroke-linejoin:miter;stroke-opacity:1\"/>\n",
       "<path class=\"bond-4 atom-4 atom-5\" d=\"M 157.0,62.9 L 170.7,55.1\" style=\"fill:none;fill-rule:evenodd;stroke:#000000;stroke-width:2.0px;stroke-linecap:butt;stroke-linejoin:miter;stroke-opacity:1\"/>\n",
       "<path class=\"bond-5 atom-5 atom-6\" d=\"M 170.7,55.1 L 184.4,62.9\" style=\"fill:none;fill-rule:evenodd;stroke:#000000;stroke-width:2.0px;stroke-linecap:butt;stroke-linejoin:miter;stroke-opacity:1\"/>\n",
       "<path class=\"bond-6 atom-6 atom-7\" d=\"M 184.4,62.9 L 198.1,55.0\" style=\"fill:none;fill-rule:evenodd;stroke:#000000;stroke-width:2.0px;stroke-linecap:butt;stroke-linejoin:miter;stroke-opacity:1\"/>\n",
       "<path class=\"bond-7 atom-7 atom-8\" d=\"M 198.1,55.0 L 211.8,62.8\" style=\"fill:none;fill-rule:evenodd;stroke:#000000;stroke-width:2.0px;stroke-linecap:butt;stroke-linejoin:miter;stroke-opacity:1\"/>\n",
       "<path class=\"bond-8 atom-8 atom-9\" d=\"M 211.8,62.8 L 225.6,55.0\" style=\"fill:none;fill-rule:evenodd;stroke:#000000;stroke-width:2.0px;stroke-linecap:butt;stroke-linejoin:miter;stroke-opacity:1\"/>\n",
       "<path class=\"bond-9 atom-9 atom-10\" d=\"M 225.6,55.0 L 239.3,62.8\" style=\"fill:none;fill-rule:evenodd;stroke:#000000;stroke-width:2.0px;stroke-linecap:butt;stroke-linejoin:miter;stroke-opacity:1\"/>\n",
       "<path class=\"bond-10 atom-10 atom-11\" d=\"M 239.3,62.8 L 253.1,54.9\" style=\"fill:none;fill-rule:evenodd;stroke:#000000;stroke-width:2.0px;stroke-linecap:butt;stroke-linejoin:miter;stroke-opacity:1\"/>\n",
       "<path class=\"bond-11 atom-11 atom-12\" d=\"M 253.1,54.9 L 266.8,62.8\" style=\"fill:none;fill-rule:evenodd;stroke:#000000;stroke-width:2.0px;stroke-linecap:butt;stroke-linejoin:miter;stroke-opacity:1\"/>\n",
       "<path class=\"bond-12 atom-12 atom-13\" d=\"M 266.8,62.8 L 280.7,55.0\" style=\"fill:none;fill-rule:evenodd;stroke:#000000;stroke-width:2.0px;stroke-linecap:butt;stroke-linejoin:miter;stroke-opacity:1\"/>\n",
       "<path class=\"bond-13 atom-13 atom-14\" d=\"M 280.7,55.0 L 294.3,62.8\" style=\"fill:none;fill-rule:evenodd;stroke:#000000;stroke-width:2.0px;stroke-linecap:butt;stroke-linejoin:miter;stroke-opacity:1\"/>\n",
       "<path class=\"bond-14 atom-14 atom-15\" d=\"M 294.3,62.8 L 307.7,55.1\" style=\"fill:none;fill-rule:evenodd;stroke:#000000;stroke-width:2.0px;stroke-linecap:butt;stroke-linejoin:miter;stroke-opacity:1\"/>\n",
       "<path class=\"bond-15 atom-15 atom-16\" d=\"M 308.8,55.8 L 308.8,49.6\" style=\"fill:none;fill-rule:evenodd;stroke:#000000;stroke-width:2.0px;stroke-linecap:butt;stroke-linejoin:miter;stroke-opacity:1\"/>\n",
       "<path class=\"bond-15 atom-15 atom-16\" d=\"M 308.8,49.6 L 308.8,43.4\" style=\"fill:none;fill-rule:evenodd;stroke:#FF0000;stroke-width:2.0px;stroke-linecap:butt;stroke-linejoin:miter;stroke-opacity:1\"/>\n",
       "<path class=\"bond-15 atom-15 atom-16\" d=\"M 306.5,55.8 L 306.5,49.6\" style=\"fill:none;fill-rule:evenodd;stroke:#000000;stroke-width:2.0px;stroke-linecap:butt;stroke-linejoin:miter;stroke-opacity:1\"/>\n",
       "<path class=\"bond-15 atom-15 atom-16\" d=\"M 306.5,49.6 L 306.5,43.4\" style=\"fill:none;fill-rule:evenodd;stroke:#FF0000;stroke-width:2.0px;stroke-linecap:butt;stroke-linejoin:miter;stroke-opacity:1\"/>\n",
       "<path class=\"bond-16 atom-15 atom-17\" d=\"M 307.7,55.1 L 312.6,58.0\" style=\"fill:none;fill-rule:evenodd;stroke:#000000;stroke-width:2.0px;stroke-linecap:butt;stroke-linejoin:miter;stroke-opacity:1\"/>\n",
       "<path class=\"bond-16 atom-15 atom-17\" d=\"M 312.6,58.0 L 317.5,60.9\" style=\"fill:none;fill-rule:evenodd;stroke:#FF0000;stroke-width:2.0px;stroke-linecap:butt;stroke-linejoin:miter;stroke-opacity:1\"/>\n",
       "<path class=\"bond-17 atom-17 atom-18\" d=\"M 324.7,61.0 L 329.6,58.3\" style=\"fill:none;fill-rule:evenodd;stroke:#FF0000;stroke-width:2.0px;stroke-linecap:butt;stroke-linejoin:miter;stroke-opacity:1\"/>\n",
       "<path class=\"bond-17 atom-17 atom-18\" d=\"M 329.6,58.3 L 334.6,55.5\" style=\"fill:none;fill-rule:evenodd;stroke:#000000;stroke-width:2.0px;stroke-linecap:butt;stroke-linejoin:miter;stroke-opacity:1\"/>\n",
       "<path class=\"bond-18 atom-18 atom-19\" d=\"M 334.6,55.5 L 348.0,63.4\" style=\"fill:none;fill-rule:evenodd;stroke:#000000;stroke-width:2.0px;stroke-linecap:butt;stroke-linejoin:miter;stroke-opacity:1\"/>\n",
       "<path class=\"bond-19 atom-19 atom-20\" d=\"M 348.0,63.4 L 348.1,69.1\" style=\"fill:none;fill-rule:evenodd;stroke:#000000;stroke-width:2.0px;stroke-linecap:butt;stroke-linejoin:miter;stroke-opacity:1\"/>\n",
       "<path class=\"bond-19 atom-19 atom-20\" d=\"M 348.1,69.1 L 348.3,74.7\" style=\"fill:none;fill-rule:evenodd;stroke:#FF0000;stroke-width:2.0px;stroke-linecap:butt;stroke-linejoin:miter;stroke-opacity:1\"/>\n",
       "<path class=\"bond-20 atom-20 atom-21\" d=\"M 344.8,80.7 L 339.9,83.4\" style=\"fill:none;fill-rule:evenodd;stroke:#FF0000;stroke-width:2.0px;stroke-linecap:butt;stroke-linejoin:miter;stroke-opacity:1\"/>\n",
       "<path class=\"bond-20 atom-20 atom-21\" d=\"M 339.9,83.4 L 335.1,86.2\" style=\"fill:none;fill-rule:evenodd;stroke:#000000;stroke-width:2.0px;stroke-linecap:butt;stroke-linejoin:miter;stroke-opacity:1\"/>\n",
       "<path class=\"bond-21 atom-21 atom-22\" d=\"M 336.2,85.5 L 331.0,82.4\" style=\"fill:none;fill-rule:evenodd;stroke:#000000;stroke-width:2.0px;stroke-linecap:butt;stroke-linejoin:miter;stroke-opacity:1\"/>\n",
       "<path class=\"bond-21 atom-21 atom-22\" d=\"M 331.0,82.4 L 325.7,79.3\" style=\"fill:none;fill-rule:evenodd;stroke:#FF0000;stroke-width:2.0px;stroke-linecap:butt;stroke-linejoin:miter;stroke-opacity:1\"/>\n",
       "<path class=\"bond-21 atom-21 atom-22\" d=\"M 335.0,87.5 L 329.8,84.4\" style=\"fill:none;fill-rule:evenodd;stroke:#000000;stroke-width:2.0px;stroke-linecap:butt;stroke-linejoin:miter;stroke-opacity:1\"/>\n",
       "<path class=\"bond-21 atom-21 atom-22\" d=\"M 329.8,84.4 L 324.5,81.3\" style=\"fill:none;fill-rule:evenodd;stroke:#FF0000;stroke-width:2.0px;stroke-linecap:butt;stroke-linejoin:miter;stroke-opacity:1\"/>\n",
       "<path class=\"bond-22 atom-21 atom-23\" d=\"M 335.1,86.2 L 335.0,101.4\" style=\"fill:none;fill-rule:evenodd;stroke:#000000;stroke-width:2.0px;stroke-linecap:butt;stroke-linejoin:miter;stroke-opacity:1\"/>\n",
       "<path class=\"bond-23 atom-23 atom-24\" d=\"M 335.0,101.4 L 321.3,109.2\" style=\"fill:none;fill-rule:evenodd;stroke:#000000;stroke-width:2.0px;stroke-linecap:butt;stroke-linejoin:miter;stroke-opacity:1\"/>\n",
       "<path class=\"bond-24 atom-24 atom-25\" d=\"M 321.3,109.2 L 321.0,125.1\" style=\"fill:none;fill-rule:evenodd;stroke:#000000;stroke-width:2.0px;stroke-linecap:butt;stroke-linejoin:miter;stroke-opacity:1\"/>\n",
       "<path class=\"bond-25 atom-25 atom-26\" d=\"M 321.0,125.1 L 307.3,133.2\" style=\"fill:none;fill-rule:evenodd;stroke:#000000;stroke-width:2.0px;stroke-linecap:butt;stroke-linejoin:miter;stroke-opacity:1\"/>\n",
       "<path class=\"bond-26 atom-26 atom-27\" d=\"M 307.3,133.2 L 307.6,149.4\" style=\"fill:none;fill-rule:evenodd;stroke:#000000;stroke-width:2.0px;stroke-linecap:butt;stroke-linejoin:miter;stroke-opacity:1\"/>\n",
       "<path class=\"bond-27 atom-27 atom-28\" d=\"M 307.6,149.4 L 294.9,157.8\" style=\"fill:none;fill-rule:evenodd;stroke:#000000;stroke-width:2.0px;stroke-linecap:butt;stroke-linejoin:miter;stroke-opacity:1\"/>\n",
       "<path class=\"bond-28 atom-28 atom-29\" d=\"M 294.9,157.8 L 296.6,175.9\" style=\"fill:none;fill-rule:evenodd;stroke:#000000;stroke-width:2.0px;stroke-linecap:butt;stroke-linejoin:miter;stroke-opacity:1\"/>\n",
       "<path class=\"bond-29 atom-29 atom-30\" d=\"M 296.6,175.9 L 284.3,185.1\" style=\"fill:none;fill-rule:evenodd;stroke:#000000;stroke-width:2.0px;stroke-linecap:butt;stroke-linejoin:miter;stroke-opacity:1\"/>\n",
       "<path class=\"bond-30 atom-30 atom-31\" d=\"M 284.3,185.1 L 267.8,174.9\" style=\"fill:none;fill-rule:evenodd;stroke:#000000;stroke-width:2.0px;stroke-linecap:butt;stroke-linejoin:miter;stroke-opacity:1\"/>\n",
       "<path class=\"bond-31 atom-31 atom-32\" d=\"M 267.8,174.9 L 252.3,183.5\" style=\"fill:none;fill-rule:evenodd;stroke:#000000;stroke-width:2.0px;stroke-linecap:butt;stroke-linejoin:miter;stroke-opacity:1\"/>\n",
       "<path class=\"bond-31 atom-31 atom-32\" d=\"M 267.7,177.6 L 254.7,184.9\" style=\"fill:none;fill-rule:evenodd;stroke:#000000;stroke-width:2.0px;stroke-linecap:butt;stroke-linejoin:miter;stroke-opacity:1\"/>\n",
       "<path class=\"bond-32 atom-32 atom-33\" d=\"M 252.3,183.5 L 253.1,199.5\" style=\"fill:none;fill-rule:evenodd;stroke:#000000;stroke-width:2.0px;stroke-linecap:butt;stroke-linejoin:miter;stroke-opacity:1\"/>\n",
       "<path class=\"bond-33 atom-33 atom-34\" d=\"M 253.1,199.5 L 240.5,206.5\" style=\"fill:none;fill-rule:evenodd;stroke:#000000;stroke-width:2.0px;stroke-linecap:butt;stroke-linejoin:miter;stroke-opacity:1\"/>\n",
       "<path class=\"bond-34 atom-34 atom-35\" d=\"M 240.5,206.5 L 239.7,220.9\" style=\"fill:none;fill-rule:evenodd;stroke:#000000;stroke-width:2.0px;stroke-linecap:butt;stroke-linejoin:miter;stroke-opacity:1\"/>\n",
       "<path class=\"bond-35 atom-35 atom-36\" d=\"M 239.7,220.9 L 225.6,228.6\" style=\"fill:none;fill-rule:evenodd;stroke:#000000;stroke-width:2.0px;stroke-linecap:butt;stroke-linejoin:miter;stroke-opacity:1\"/>\n",
       "<path class=\"bond-36 atom-36 atom-37\" d=\"M 225.6,228.6 L 225.3,244.3\" style=\"fill:none;fill-rule:evenodd;stroke:#000000;stroke-width:2.0px;stroke-linecap:butt;stroke-linejoin:miter;stroke-opacity:1\"/>\n",
       "<path class=\"bond-37 atom-37 atom-38\" d=\"M 225.3,244.3 L 211.7,252.3\" style=\"fill:none;fill-rule:evenodd;stroke:#000000;stroke-width:2.0px;stroke-linecap:butt;stroke-linejoin:miter;stroke-opacity:1\"/>\n",
       "<path class=\"bond-38 atom-38 atom-39\" d=\"M 211.7,252.3 L 211.7,268.1\" style=\"fill:none;fill-rule:evenodd;stroke:#000000;stroke-width:2.0px;stroke-linecap:butt;stroke-linejoin:miter;stroke-opacity:1\"/>\n",
       "<path class=\"bond-39 atom-19 atom-40\" d=\"M 348.0,63.4 L 363.8,62.4\" style=\"fill:none;fill-rule:evenodd;stroke:#000000;stroke-width:2.0px;stroke-linecap:butt;stroke-linejoin:miter;stroke-opacity:1\"/>\n",
       "<path class=\"bond-40 atom-40 atom-41\" d=\"M 363.8,62.4 L 372.0,47.4\" style=\"fill:none;fill-rule:evenodd;stroke:#000000;stroke-width:2.0px;stroke-linecap:butt;stroke-linejoin:miter;stroke-opacity:1\"/>\n",
       "<path class=\"bond-41 atom-41 atom-42\" d=\"M 372.0,47.4 L 387.9,47.3\" style=\"fill:none;fill-rule:evenodd;stroke:#000000;stroke-width:2.0px;stroke-linecap:butt;stroke-linejoin:miter;stroke-opacity:1\"/>\n",
       "<path class=\"bond-42 atom-42 atom-43\" d=\"M 387.9,47.3 L 396.0,33.9\" style=\"fill:none;fill-rule:evenodd;stroke:#000000;stroke-width:2.0px;stroke-linecap:butt;stroke-linejoin:miter;stroke-opacity:1\"/>\n",
       "<path class=\"bond-43 atom-0 atom-44\" d=\"M 101.9,63.2 L 107.3,72.8\" style=\"fill:none;fill-rule:evenodd;stroke:#000000;stroke-width:2.0px;stroke-linecap:butt;stroke-linejoin:miter;stroke-opacity:1\"/>\n",
       "<path class=\"bond-44 atom-0 atom-45\" d=\"M 101.9,63.2 L 96.2,72.9\" style=\"fill:none;fill-rule:evenodd;stroke:#000000;stroke-width:2.0px;stroke-linecap:butt;stroke-linejoin:miter;stroke-opacity:1\"/>\n",
       "<path class=\"bond-45 atom-0 atom-46\" d=\"M 101.9,63.2 L 91.5,57.1\" style=\"fill:none;fill-rule:evenodd;stroke:#000000;stroke-width:2.0px;stroke-linecap:butt;stroke-linejoin:miter;stroke-opacity:1\"/>\n",
       "<path class=\"bond-46 atom-1 atom-47\" d=\"M 115.5,55.3 L 120.9,45.5\" style=\"fill:none;fill-rule:evenodd;stroke:#000000;stroke-width:2.0px;stroke-linecap:butt;stroke-linejoin:miter;stroke-opacity:1\"/>\n",
       "<path class=\"bond-47 atom-1 atom-48\" d=\"M 115.5,55.3 L 109.9,45.6\" style=\"fill:none;fill-rule:evenodd;stroke:#000000;stroke-width:2.0px;stroke-linecap:butt;stroke-linejoin:miter;stroke-opacity:1\"/>\n",
       "<path class=\"bond-48 atom-2 atom-49\" d=\"M 129.4,63.1 L 134.9,72.6\" style=\"fill:none;fill-rule:evenodd;stroke:#000000;stroke-width:2.0px;stroke-linecap:butt;stroke-linejoin:miter;stroke-opacity:1\"/>\n",
       "<path class=\"bond-49 atom-2 atom-50\" d=\"M 129.4,63.1 L 124.2,72.7\" style=\"fill:none;fill-rule:evenodd;stroke:#000000;stroke-width:2.0px;stroke-linecap:butt;stroke-linejoin:miter;stroke-opacity:1\"/>\n",
       "<path class=\"bond-50 atom-3 atom-51\" d=\"M 143.2,55.1 L 148.5,45.5\" style=\"fill:none;fill-rule:evenodd;stroke:#000000;stroke-width:2.0px;stroke-linecap:butt;stroke-linejoin:miter;stroke-opacity:1\"/>\n",
       "<path class=\"bond-51 atom-3 atom-52\" d=\"M 143.2,55.1 L 137.8,45.5\" style=\"fill:none;fill-rule:evenodd;stroke:#000000;stroke-width:2.0px;stroke-linecap:butt;stroke-linejoin:miter;stroke-opacity:1\"/>\n",
       "<path class=\"bond-52 atom-4 atom-53\" d=\"M 157.0,62.9 L 162.4,72.5\" style=\"fill:none;fill-rule:evenodd;stroke:#000000;stroke-width:2.0px;stroke-linecap:butt;stroke-linejoin:miter;stroke-opacity:1\"/>\n",
       "<path class=\"bond-53 atom-4 atom-54\" d=\"M 157.0,62.9 L 151.8,72.5\" style=\"fill:none;fill-rule:evenodd;stroke:#000000;stroke-width:2.0px;stroke-linecap:butt;stroke-linejoin:miter;stroke-opacity:1\"/>\n",
       "<path class=\"bond-54 atom-5 atom-55\" d=\"M 170.7,55.1 L 176.0,45.5\" style=\"fill:none;fill-rule:evenodd;stroke:#000000;stroke-width:2.0px;stroke-linecap:butt;stroke-linejoin:miter;stroke-opacity:1\"/>\n",
       "<path class=\"bond-55 atom-5 atom-56\" d=\"M 170.7,55.1 L 165.4,45.5\" style=\"fill:none;fill-rule:evenodd;stroke:#000000;stroke-width:2.0px;stroke-linecap:butt;stroke-linejoin:miter;stroke-opacity:1\"/>\n",
       "<path class=\"bond-56 atom-6 atom-57\" d=\"M 184.4,62.9 L 189.7,72.4\" style=\"fill:none;fill-rule:evenodd;stroke:#000000;stroke-width:2.0px;stroke-linecap:butt;stroke-linejoin:miter;stroke-opacity:1\"/>\n",
       "<path class=\"bond-57 atom-6 atom-58\" d=\"M 184.4,62.9 L 179.2,72.4\" style=\"fill:none;fill-rule:evenodd;stroke:#000000;stroke-width:2.0px;stroke-linecap:butt;stroke-linejoin:miter;stroke-opacity:1\"/>\n",
       "<path class=\"bond-58 atom-7 atom-59\" d=\"M 198.1,55.0 L 203.4,45.5\" style=\"fill:none;fill-rule:evenodd;stroke:#000000;stroke-width:2.0px;stroke-linecap:butt;stroke-linejoin:miter;stroke-opacity:1\"/>\n",
       "<path class=\"bond-59 atom-7 atom-60\" d=\"M 198.1,55.0 L 192.9,45.5\" style=\"fill:none;fill-rule:evenodd;stroke:#000000;stroke-width:2.0px;stroke-linecap:butt;stroke-linejoin:miter;stroke-opacity:1\"/>\n",
       "<path class=\"bond-60 atom-8 atom-61\" d=\"M 211.8,62.8 L 217.1,72.4\" style=\"fill:none;fill-rule:evenodd;stroke:#000000;stroke-width:2.0px;stroke-linecap:butt;stroke-linejoin:miter;stroke-opacity:1\"/>\n",
       "<path class=\"bond-61 atom-8 atom-62\" d=\"M 211.8,62.8 L 206.6,72.4\" style=\"fill:none;fill-rule:evenodd;stroke:#000000;stroke-width:2.0px;stroke-linecap:butt;stroke-linejoin:miter;stroke-opacity:1\"/>\n",
       "<path class=\"bond-62 atom-9 atom-63\" d=\"M 225.6,55.0 L 230.8,45.4\" style=\"fill:none;fill-rule:evenodd;stroke:#000000;stroke-width:2.0px;stroke-linecap:butt;stroke-linejoin:miter;stroke-opacity:1\"/>\n",
       "<path class=\"bond-63 atom-9 atom-64\" d=\"M 225.6,55.0 L 220.2,45.4\" style=\"fill:none;fill-rule:evenodd;stroke:#000000;stroke-width:2.0px;stroke-linecap:butt;stroke-linejoin:miter;stroke-opacity:1\"/>\n",
       "<path class=\"bond-64 atom-10 atom-65\" d=\"M 239.3,62.8 L 244.6,72.4\" style=\"fill:none;fill-rule:evenodd;stroke:#000000;stroke-width:2.0px;stroke-linecap:butt;stroke-linejoin:miter;stroke-opacity:1\"/>\n",
       "<path class=\"bond-65 atom-10 atom-66\" d=\"M 239.3,62.8 L 233.9,72.3\" style=\"fill:none;fill-rule:evenodd;stroke:#000000;stroke-width:2.0px;stroke-linecap:butt;stroke-linejoin:miter;stroke-opacity:1\"/>\n",
       "<path class=\"bond-66 atom-11 atom-67\" d=\"M 253.1,54.9 L 258.4,45.3\" style=\"fill:none;fill-rule:evenodd;stroke:#000000;stroke-width:2.0px;stroke-linecap:butt;stroke-linejoin:miter;stroke-opacity:1\"/>\n",
       "<path class=\"bond-67 atom-11 atom-68\" d=\"M 253.1,54.9 L 247.7,45.3\" style=\"fill:none;fill-rule:evenodd;stroke:#000000;stroke-width:2.0px;stroke-linecap:butt;stroke-linejoin:miter;stroke-opacity:1\"/>\n",
       "<path class=\"bond-68 atom-12 atom-69\" d=\"M 266.8,62.8 L 272.1,72.4\" style=\"fill:none;fill-rule:evenodd;stroke:#000000;stroke-width:2.0px;stroke-linecap:butt;stroke-linejoin:miter;stroke-opacity:1\"/>\n",
       "<path class=\"bond-69 atom-12 atom-70\" d=\"M 266.8,62.8 L 261.4,72.4\" style=\"fill:none;fill-rule:evenodd;stroke:#000000;stroke-width:2.0px;stroke-linecap:butt;stroke-linejoin:miter;stroke-opacity:1\"/>\n",
       "<path class=\"bond-70 atom-13 atom-71\" d=\"M 280.7,55.0 L 286.4,45.3\" style=\"fill:none;fill-rule:evenodd;stroke:#000000;stroke-width:2.0px;stroke-linecap:butt;stroke-linejoin:miter;stroke-opacity:1\"/>\n",
       "<path class=\"bond-71 atom-13 atom-72\" d=\"M 280.7,55.0 L 275.3,45.2\" style=\"fill:none;fill-rule:evenodd;stroke:#000000;stroke-width:2.0px;stroke-linecap:butt;stroke-linejoin:miter;stroke-opacity:1\"/>\n",
       "<path class=\"bond-72 atom-14 atom-73\" d=\"M 294.3,62.8 L 300.0,72.5\" style=\"fill:none;fill-rule:evenodd;stroke:#000000;stroke-width:2.0px;stroke-linecap:butt;stroke-linejoin:miter;stroke-opacity:1\"/>\n",
       "<path class=\"bond-73 atom-14 atom-74\" d=\"M 294.3,62.8 L 289.0,72.5\" style=\"fill:none;fill-rule:evenodd;stroke:#000000;stroke-width:2.0px;stroke-linecap:butt;stroke-linejoin:miter;stroke-opacity:1\"/>\n",
       "<path class=\"bond-74 atom-18 atom-75\" d=\"M 334.6,55.5 L 340.3,45.7\" style=\"fill:none;fill-rule:evenodd;stroke:#000000;stroke-width:2.0px;stroke-linecap:butt;stroke-linejoin:miter;stroke-opacity:1\"/>\n",
       "<path class=\"bond-75 atom-18 atom-76\" d=\"M 334.6,55.5 L 329.1,45.6\" style=\"fill:none;fill-rule:evenodd;stroke:#000000;stroke-width:2.0px;stroke-linecap:butt;stroke-linejoin:miter;stroke-opacity:1\"/>\n",
       "<path class=\"bond-76 atom-19 atom-77\" d=\"M 349.1,60.7 L 349.8,61.0\" style=\"fill:none;fill-rule:evenodd;stroke:#000000;stroke-width:1.0px;stroke-linecap:butt;stroke-linejoin:miter;stroke-opacity:1\"/>\n",
       "<path class=\"bond-76 atom-19 atom-77\" d=\"M 350.2,57.9 L 351.5,58.7\" style=\"fill:none;fill-rule:evenodd;stroke:#000000;stroke-width:1.0px;stroke-linecap:butt;stroke-linejoin:miter;stroke-opacity:1\"/>\n",
       "<path class=\"bond-76 atom-19 atom-77\" d=\"M 351.3,55.2 L 353.3,56.4\" style=\"fill:none;fill-rule:evenodd;stroke:#000000;stroke-width:1.0px;stroke-linecap:butt;stroke-linejoin:miter;stroke-opacity:1\"/>\n",
       "<path class=\"bond-77 atom-23 atom-78\" d=\"M 335.0,101.4 L 347.5,101.4\" style=\"fill:none;fill-rule:evenodd;stroke:#000000;stroke-width:2.0px;stroke-linecap:butt;stroke-linejoin:miter;stroke-opacity:1\"/>\n",
       "<path class=\"bond-78 atom-23 atom-79\" d=\"M 335.0,101.4 L 340.6,110.8\" style=\"fill:none;fill-rule:evenodd;stroke:#000000;stroke-width:2.0px;stroke-linecap:butt;stroke-linejoin:miter;stroke-opacity:1\"/>\n",
       "<path class=\"bond-79 atom-24 atom-80\" d=\"M 321.3,109.2 L 315.7,99.4\" style=\"fill:none;fill-rule:evenodd;stroke:#000000;stroke-width:2.0px;stroke-linecap:butt;stroke-linejoin:miter;stroke-opacity:1\"/>\n",
       "<path class=\"bond-80 atom-24 atom-81\" d=\"M 321.3,109.2 L 308.8,109.0\" style=\"fill:none;fill-rule:evenodd;stroke:#000000;stroke-width:2.0px;stroke-linecap:butt;stroke-linejoin:miter;stroke-opacity:1\"/>\n",
       "<path class=\"bond-81 atom-25 atom-82\" d=\"M 321.0,125.1 L 333.3,125.4\" style=\"fill:none;fill-rule:evenodd;stroke:#000000;stroke-width:2.0px;stroke-linecap:butt;stroke-linejoin:miter;stroke-opacity:1\"/>\n",
       "<path class=\"bond-82 atom-25 atom-83\" d=\"M 321.0,125.1 L 326.6,134.5\" style=\"fill:none;fill-rule:evenodd;stroke:#000000;stroke-width:2.0px;stroke-linecap:butt;stroke-linejoin:miter;stroke-opacity:1\"/>\n",
       "<path class=\"bond-83 atom-26 atom-84\" d=\"M 307.3,133.2 L 301.7,123.7\" style=\"fill:none;fill-rule:evenodd;stroke:#000000;stroke-width:2.0px;stroke-linecap:butt;stroke-linejoin:miter;stroke-opacity:1\"/>\n",
       "<path class=\"bond-84 atom-26 atom-85\" d=\"M 307.3,133.2 L 294.9,133.2\" style=\"fill:none;fill-rule:evenodd;stroke:#000000;stroke-width:2.0px;stroke-linecap:butt;stroke-linejoin:miter;stroke-opacity:1\"/>\n",
       "<path class=\"bond-85 atom-27 atom-86\" d=\"M 307.6,149.4 L 319.6,149.4\" style=\"fill:none;fill-rule:evenodd;stroke:#000000;stroke-width:2.0px;stroke-linecap:butt;stroke-linejoin:miter;stroke-opacity:1\"/>\n",
       "<path class=\"bond-86 atom-27 atom-87\" d=\"M 307.6,149.4 L 313.3,158.7\" style=\"fill:none;fill-rule:evenodd;stroke:#000000;stroke-width:2.0px;stroke-linecap:butt;stroke-linejoin:miter;stroke-opacity:1\"/>\n",
       "<path class=\"bond-87 atom-28 atom-88\" d=\"M 294.9,157.8 L 288.7,148.3\" style=\"fill:none;fill-rule:evenodd;stroke:#000000;stroke-width:2.0px;stroke-linecap:butt;stroke-linejoin:miter;stroke-opacity:1\"/>\n",
       "<path class=\"bond-88 atom-28 atom-89\" d=\"M 294.9,157.8 L 282.8,157.9\" style=\"fill:none;fill-rule:evenodd;stroke:#000000;stroke-width:2.0px;stroke-linecap:butt;stroke-linejoin:miter;stroke-opacity:1\"/>\n",
       "<path class=\"bond-89 atom-29 atom-90\" d=\"M 296.6,175.9 L 308.3,174.7\" style=\"fill:none;fill-rule:evenodd;stroke:#000000;stroke-width:2.0px;stroke-linecap:butt;stroke-linejoin:miter;stroke-opacity:1\"/>\n",
       "<path class=\"bond-90 atom-29 atom-91\" d=\"M 296.6,175.9 L 302.4,184.3\" style=\"fill:none;fill-rule:evenodd;stroke:#000000;stroke-width:2.0px;stroke-linecap:butt;stroke-linejoin:miter;stroke-opacity:1\"/>\n",
       "<path class=\"bond-91 atom-30 atom-92\" d=\"M 284.3,185.1 L 287.6,195.1\" style=\"fill:none;fill-rule:evenodd;stroke:#000000;stroke-width:2.0px;stroke-linecap:butt;stroke-linejoin:miter;stroke-opacity:1\"/>\n",
       "<path class=\"bond-92 atom-30 atom-93\" d=\"M 284.3,185.1 L 277.0,189.3\" style=\"fill:none;fill-rule:evenodd;stroke:#000000;stroke-width:2.0px;stroke-linecap:butt;stroke-linejoin:miter;stroke-opacity:1\"/>\n",
       "<path class=\"bond-93 atom-31 atom-94\" d=\"M 267.8,174.9 L 267.4,163.3\" style=\"fill:none;fill-rule:evenodd;stroke:#000000;stroke-width:2.0px;stroke-linecap:butt;stroke-linejoin:miter;stroke-opacity:1\"/>\n",
       "<path class=\"bond-94 atom-32 atom-95\" d=\"M 252.3,183.5 L 241.8,177.6\" style=\"fill:none;fill-rule:evenodd;stroke:#000000;stroke-width:2.0px;stroke-linecap:butt;stroke-linejoin:miter;stroke-opacity:1\"/>\n",
       "<path class=\"bond-95 atom-33 atom-96\" d=\"M 253.1,199.5 L 260.4,195.2\" style=\"fill:none;fill-rule:evenodd;stroke:#000000;stroke-width:2.0px;stroke-linecap:butt;stroke-linejoin:miter;stroke-opacity:1\"/>\n",
       "<path class=\"bond-96 atom-33 atom-97\" d=\"M 253.1,199.5 L 260.8,207.9\" style=\"fill:none;fill-rule:evenodd;stroke:#000000;stroke-width:2.0px;stroke-linecap:butt;stroke-linejoin:miter;stroke-opacity:1\"/>\n",
       "<path class=\"bond-97 atom-34 atom-98\" d=\"M 240.5,206.5 L 235.6,196.2\" style=\"fill:none;fill-rule:evenodd;stroke:#000000;stroke-width:2.0px;stroke-linecap:butt;stroke-linejoin:miter;stroke-opacity:1\"/>\n",
       "<path class=\"bond-98 atom-34 atom-99\" d=\"M 240.5,206.5 L 228.3,205.3\" style=\"fill:none;fill-rule:evenodd;stroke:#000000;stroke-width:2.0px;stroke-linecap:butt;stroke-linejoin:miter;stroke-opacity:1\"/>\n",
       "<path class=\"bond-99 atom-35 atom-100\" d=\"M 239.7,220.9 L 252.1,221.2\" style=\"fill:none;fill-rule:evenodd;stroke:#000000;stroke-width:2.0px;stroke-linecap:butt;stroke-linejoin:miter;stroke-opacity:1\"/>\n",
       "<path class=\"bond-100 atom-35 atom-101\" d=\"M 239.7,220.9 L 245.0,230.0\" style=\"fill:none;fill-rule:evenodd;stroke:#000000;stroke-width:2.0px;stroke-linecap:butt;stroke-linejoin:miter;stroke-opacity:1\"/>\n",
       "<path class=\"bond-101 atom-36 atom-102\" d=\"M 225.6,228.6 L 220.0,219.0\" style=\"fill:none;fill-rule:evenodd;stroke:#000000;stroke-width:2.0px;stroke-linecap:butt;stroke-linejoin:miter;stroke-opacity:1\"/>\n",
       "<path class=\"bond-102 atom-36 atom-103\" d=\"M 225.6,228.6 L 213.2,228.2\" style=\"fill:none;fill-rule:evenodd;stroke:#000000;stroke-width:2.0px;stroke-linecap:butt;stroke-linejoin:miter;stroke-opacity:1\"/>\n",
       "<path class=\"bond-103 atom-37 atom-104\" d=\"M 225.3,244.3 L 237.5,244.4\" style=\"fill:none;fill-rule:evenodd;stroke:#000000;stroke-width:2.0px;stroke-linecap:butt;stroke-linejoin:miter;stroke-opacity:1\"/>\n",
       "<path class=\"bond-104 atom-37 atom-105\" d=\"M 225.3,244.3 L 231.0,253.4\" style=\"fill:none;fill-rule:evenodd;stroke:#000000;stroke-width:2.0px;stroke-linecap:butt;stroke-linejoin:miter;stroke-opacity:1\"/>\n",
       "<path class=\"bond-105 atom-38 atom-106\" d=\"M 211.7,252.3 L 206.0,242.8\" style=\"fill:none;fill-rule:evenodd;stroke:#000000;stroke-width:2.0px;stroke-linecap:butt;stroke-linejoin:miter;stroke-opacity:1\"/>\n",
       "<path class=\"bond-106 atom-38 atom-107\" d=\"M 211.7,252.3 L 199.2,252.4\" style=\"fill:none;fill-rule:evenodd;stroke:#000000;stroke-width:2.0px;stroke-linecap:butt;stroke-linejoin:miter;stroke-opacity:1\"/>\n",
       "<path class=\"bond-107 atom-39 atom-108\" d=\"M 211.7,268.1 L 224.0,268.3\" style=\"fill:none;fill-rule:evenodd;stroke:#000000;stroke-width:2.0px;stroke-linecap:butt;stroke-linejoin:miter;stroke-opacity:1\"/>\n",
       "<path class=\"bond-108 atom-39 atom-109\" d=\"M 211.7,268.1 L 217.3,277.8\" style=\"fill:none;fill-rule:evenodd;stroke:#000000;stroke-width:2.0px;stroke-linecap:butt;stroke-linejoin:miter;stroke-opacity:1\"/>\n",
       "<path class=\"bond-109 atom-39 atom-110\" d=\"M 211.7,268.1 L 201.3,274.1\" style=\"fill:none;fill-rule:evenodd;stroke:#000000;stroke-width:2.0px;stroke-linecap:butt;stroke-linejoin:miter;stroke-opacity:1\"/>\n",
       "<path class=\"bond-110 atom-40 atom-111\" d=\"M 363.8,62.4 L 364.3,74.3\" style=\"fill:none;fill-rule:evenodd;stroke:#000000;stroke-width:2.0px;stroke-linecap:butt;stroke-linejoin:miter;stroke-opacity:1\"/>\n",
       "<path class=\"bond-111 atom-40 atom-112\" d=\"M 363.8,62.4 L 374.3,68.2\" style=\"fill:none;fill-rule:evenodd;stroke:#000000;stroke-width:2.0px;stroke-linecap:butt;stroke-linejoin:miter;stroke-opacity:1\"/>\n",
       "<path class=\"bond-112 atom-41 atom-113\" d=\"M 372.0,47.4 L 361.6,41.0\" style=\"fill:none;fill-rule:evenodd;stroke:#000000;stroke-width:2.0px;stroke-linecap:butt;stroke-linejoin:miter;stroke-opacity:1\"/>\n",
       "<path class=\"bond-113 atom-41 atom-114\" d=\"M 372.0,47.4 L 371.9,35.8\" style=\"fill:none;fill-rule:evenodd;stroke:#000000;stroke-width:2.0px;stroke-linecap:butt;stroke-linejoin:miter;stroke-opacity:1\"/>\n",
       "<path class=\"bond-114 atom-42 atom-115\" d=\"M 387.9,47.3 L 387.9,59.0\" style=\"fill:none;fill-rule:evenodd;stroke:#000000;stroke-width:2.0px;stroke-linecap:butt;stroke-linejoin:miter;stroke-opacity:1\"/>\n",
       "<path class=\"bond-115 atom-42 atom-116\" d=\"M 387.9,47.3 L 398.3,53.5\" style=\"fill:none;fill-rule:evenodd;stroke:#000000;stroke-width:2.0px;stroke-linecap:butt;stroke-linejoin:miter;stroke-opacity:1\"/>\n",
       "<path class=\"bond-116 atom-43 atom-117\" d=\"M 396.0,33.9 L 386.0,27.8\" style=\"fill:none;fill-rule:evenodd;stroke:#000000;stroke-width:2.0px;stroke-linecap:butt;stroke-linejoin:miter;stroke-opacity:1\"/>\n",
       "<path class=\"bond-117 atom-43 atom-118\" d=\"M 396.0,33.9 L 396.3,22.2\" style=\"fill:none;fill-rule:evenodd;stroke:#000000;stroke-width:2.0px;stroke-linecap:butt;stroke-linejoin:miter;stroke-opacity:1\"/>\n",
       "<path class=\"bond-118 atom-43 atom-119\" d=\"M 396.0,33.9 L 408.5,34.3\" style=\"fill:none;fill-rule:evenodd;stroke:#000000;stroke-width:2.0px;stroke-linecap:butt;stroke-linejoin:miter;stroke-opacity:1\"/>\n",
       "<path d=\"M 307.0,55.5 L 307.7,55.1 L 307.9,55.3\" style=\"fill:none;stroke:#000000;stroke-width:2.0px;stroke-linecap:butt;stroke-linejoin:miter;stroke-opacity:1;\"/>\n",
       "<path d=\"M 335.3,86.0 L 335.1,86.2 L 335.0,86.9\" style=\"fill:none;stroke:#000000;stroke-width:2.0px;stroke-linecap:butt;stroke-linejoin:miter;stroke-opacity:1;\"/>\n",
       "<path class=\"atom-16\" d=\"M 304.6 39.4 Q 304.6 37.8, 305.4 36.9 Q 306.2 36.0, 307.7 36.0 Q 309.2 36.0, 309.9 36.9 Q 310.7 37.8, 310.7 39.4 Q 310.7 41.0, 309.9 41.9 Q 309.1 42.8, 307.7 42.8 Q 306.2 42.8, 305.4 41.9 Q 304.6 41.0, 304.6 39.4 M 307.7 42.1 Q 308.7 42.1, 309.2 41.4 Q 309.8 40.7, 309.8 39.4 Q 309.8 38.1, 309.2 37.4 Q 308.7 36.7, 307.7 36.7 Q 306.7 36.7, 306.1 37.4 Q 305.6 38.1, 305.6 39.4 Q 305.6 40.7, 306.1 41.4 Q 306.7 42.1, 307.7 42.1 \" fill=\"#FF0000\"/>\n",
       "<path class=\"atom-17\" d=\"M 318.0 63.1 Q 318.0 61.5, 318.8 60.6 Q 319.6 59.7, 321.1 59.7 Q 322.6 59.7, 323.4 60.6 Q 324.2 61.5, 324.2 63.1 Q 324.2 64.7, 323.4 65.6 Q 322.6 66.5, 321.1 66.5 Q 319.6 66.5, 318.8 65.6 Q 318.0 64.7, 318.0 63.1 M 321.1 65.8 Q 322.1 65.8, 322.7 65.1 Q 323.2 64.4, 323.2 63.1 Q 323.2 61.8, 322.7 61.1 Q 322.1 60.4, 321.1 60.4 Q 320.1 60.4, 319.5 61.1 Q 319.0 61.8, 319.0 63.1 Q 319.0 64.4, 319.5 65.1 Q 320.1 65.8, 321.1 65.8 \" fill=\"#FF0000\"/>\n",
       "<path class=\"atom-20\" d=\"M 345.3 78.6 Q 345.3 77.0, 346.1 76.1 Q 346.9 75.3, 348.4 75.3 Q 349.8 75.3, 350.6 76.1 Q 351.4 77.0, 351.4 78.6 Q 351.4 80.3, 350.6 81.2 Q 349.8 82.1, 348.4 82.1 Q 346.9 82.1, 346.1 81.2 Q 345.3 80.3, 345.3 78.6 M 348.4 81.4 Q 349.4 81.4, 349.9 80.7 Q 350.5 80.0, 350.5 78.6 Q 350.5 77.3, 349.9 76.7 Q 349.4 76.0, 348.4 76.0 Q 347.3 76.0, 346.8 76.7 Q 346.2 77.3, 346.2 78.6 Q 346.2 80.0, 346.8 80.7 Q 347.3 81.4, 348.4 81.4 \" fill=\"#FF0000\"/>\n",
       "<path class=\"atom-22\" d=\"M 318.5 78.2 Q 318.5 76.6, 319.3 75.7 Q 320.1 74.8, 321.6 74.8 Q 323.0 74.8, 323.8 75.7 Q 324.6 76.6, 324.6 78.2 Q 324.6 79.8, 323.8 80.7 Q 323.0 81.7, 321.6 81.7 Q 320.1 81.7, 319.3 80.7 Q 318.5 79.8, 318.5 78.2 M 321.6 80.9 Q 322.6 80.9, 323.1 80.2 Q 323.7 79.5, 323.7 78.2 Q 323.7 76.9, 323.1 76.2 Q 322.6 75.6, 321.6 75.6 Q 320.5 75.6, 320.0 76.2 Q 319.4 76.9, 319.4 78.2 Q 319.4 79.5, 320.0 80.2 Q 320.5 80.9, 321.6 80.9 \" fill=\"#FF0000\"/>\n",
       "<path class=\"atom-44\" d=\"M 106.9 73.4 L 107.8 73.4 L 107.8 76.2 L 111.2 76.2 L 111.2 73.4 L 112.1 73.4 L 112.1 80.0 L 111.2 80.0 L 111.2 76.9 L 107.8 76.9 L 107.8 80.0 L 106.9 80.0 L 106.9 73.4 \" fill=\"#000000\"/>\n",
       "<path class=\"atom-45\" d=\"M 91.4 73.4 L 92.3 73.4 L 92.3 76.2 L 95.7 76.2 L 95.7 73.4 L 96.6 73.4 L 96.6 80.1 L 95.7 80.1 L 95.7 77.0 L 92.3 77.0 L 92.3 80.1 L 91.4 80.1 L 91.4 73.4 \" fill=\"#000000\"/>\n",
       "<path class=\"atom-46\" d=\"M 85.7 52.0 L 86.6 52.0 L 86.6 54.8 L 90.1 54.8 L 90.1 52.0 L 91.0 52.0 L 91.0 58.7 L 90.1 58.7 L 90.1 55.6 L 86.6 55.6 L 86.6 58.7 L 85.7 58.7 L 85.7 52.0 \" fill=\"#000000\"/>\n",
       "<path class=\"atom-47\" d=\"M 120.4 38.3 L 121.3 38.3 L 121.3 41.2 L 124.7 41.2 L 124.7 38.3 L 125.6 38.3 L 125.6 45.0 L 124.7 45.0 L 124.7 41.9 L 121.3 41.9 L 121.3 45.0 L 120.4 45.0 L 120.4 38.3 \" fill=\"#000000\"/>\n",
       "<path class=\"atom-48\" d=\"M 105.0 38.4 L 105.9 38.4 L 105.9 41.2 L 109.3 41.2 L 109.3 38.4 L 110.2 38.4 L 110.2 45.1 L 109.3 45.1 L 109.3 42.0 L 105.9 42.0 L 105.9 45.1 L 105.0 45.1 L 105.0 38.4 \" fill=\"#000000\"/>\n",
       "<path class=\"atom-49\" d=\"M 134.5 73.1 L 135.4 73.1 L 135.4 75.9 L 138.8 75.9 L 138.8 73.1 L 139.7 73.1 L 139.7 79.8 L 138.8 79.8 L 138.8 76.7 L 135.4 76.7 L 135.4 79.8 L 134.5 79.8 L 134.5 73.1 \" fill=\"#000000\"/>\n",
       "<path class=\"atom-50\" d=\"M 119.5 73.3 L 120.4 73.3 L 120.4 76.1 L 123.8 76.1 L 123.8 73.3 L 124.7 73.3 L 124.7 79.9 L 123.8 79.9 L 123.8 76.9 L 120.4 76.9 L 120.4 79.9 L 119.5 79.9 L 119.5 73.3 \" fill=\"#000000\"/>\n",
       "<path class=\"atom-51\" d=\"M 148.0 38.3 L 149.0 38.3 L 149.0 41.2 L 152.4 41.2 L 152.4 38.3 L 153.3 38.3 L 153.3 45.0 L 152.4 45.0 L 152.4 41.9 L 149.0 41.9 L 149.0 45.0 L 148.0 45.0 L 148.0 38.3 \" fill=\"#000000\"/>\n",
       "<path class=\"atom-52\" d=\"M 133.0 38.3 L 133.9 38.3 L 133.9 41.2 L 137.3 41.2 L 137.3 38.3 L 138.2 38.3 L 138.2 45.0 L 137.3 45.0 L 137.3 41.9 L 133.9 41.9 L 133.9 45.0 L 133.0 45.0 L 133.0 38.3 \" fill=\"#000000\"/>\n",
       "<path class=\"atom-53\" d=\"M 161.9 73.0 L 162.8 73.0 L 162.8 75.8 L 166.2 75.8 L 166.2 73.0 L 167.1 73.0 L 167.1 79.7 L 166.2 79.7 L 166.2 76.6 L 162.8 76.6 L 162.8 79.7 L 161.9 79.7 L 161.9 73.0 \" fill=\"#000000\"/>\n",
       "<path class=\"atom-54\" d=\"M 147.1 73.1 L 148.0 73.1 L 148.0 75.9 L 151.4 75.9 L 151.4 73.1 L 152.3 73.1 L 152.3 79.7 L 151.4 79.7 L 151.4 76.6 L 148.0 76.6 L 148.0 79.7 L 147.1 79.7 L 147.1 73.1 \" fill=\"#000000\"/>\n",
       "<path class=\"atom-55\" d=\"M 175.5 38.3 L 176.4 38.3 L 176.4 41.2 L 179.8 41.2 L 179.8 38.3 L 180.7 38.3 L 180.7 45.0 L 179.8 45.0 L 179.8 41.9 L 176.4 41.9 L 176.4 45.0 L 175.5 45.0 L 175.5 38.3 \" fill=\"#000000\"/>\n",
       "<path class=\"atom-56\" d=\"M 160.7 38.3 L 161.6 38.3 L 161.6 41.2 L 165.0 41.2 L 165.0 38.3 L 165.9 38.3 L 165.9 45.0 L 165.0 45.0 L 165.0 41.9 L 161.6 41.9 L 161.6 45.0 L 160.7 45.0 L 160.7 38.3 \" fill=\"#000000\"/>\n",
       "<path class=\"atom-57\" d=\"M 189.3 72.9 L 190.2 72.9 L 190.2 75.7 L 193.6 75.7 L 193.6 72.9 L 194.5 72.9 L 194.5 79.6 L 193.6 79.6 L 193.6 76.5 L 190.2 76.5 L 190.2 79.6 L 189.3 79.6 L 189.3 72.9 \" fill=\"#000000\"/>\n",
       "<path class=\"atom-58\" d=\"M 174.5 73.0 L 175.4 73.0 L 175.4 75.8 L 178.8 75.8 L 178.8 73.0 L 179.7 73.0 L 179.7 79.6 L 178.8 79.6 L 178.8 76.5 L 175.4 76.5 L 175.4 79.6 L 174.5 79.6 L 174.5 73.0 \" fill=\"#000000\"/>\n",
       "<path class=\"atom-59\" d=\"M 202.9 38.3 L 203.8 38.3 L 203.8 41.1 L 207.2 41.1 L 207.2 38.3 L 208.1 38.3 L 208.1 44.9 L 207.2 44.9 L 207.2 41.9 L 203.8 41.9 L 203.8 44.9 L 202.9 44.9 L 202.9 38.3 \" fill=\"#000000\"/>\n",
       "<path class=\"atom-60\" d=\"M 188.1 38.3 L 189.0 38.3 L 189.0 41.1 L 192.4 41.1 L 192.4 38.3 L 193.3 38.3 L 193.3 45.0 L 192.4 45.0 L 192.4 41.9 L 189.0 41.9 L 189.0 45.0 L 188.1 45.0 L 188.1 38.3 \" fill=\"#000000\"/>\n",
       "<path class=\"atom-61\" d=\"M 216.6 72.9 L 217.6 72.9 L 217.6 75.7 L 221.0 75.7 L 221.0 72.9 L 221.9 72.9 L 221.9 79.5 L 221.0 79.5 L 221.0 76.5 L 217.6 76.5 L 217.6 79.5 L 216.6 79.5 L 216.6 72.9 \" fill=\"#000000\"/>\n",
       "<path class=\"atom-62\" d=\"M 201.8 72.9 L 202.8 72.9 L 202.8 75.7 L 206.2 75.7 L 206.2 72.9 L 207.1 72.9 L 207.1 79.6 L 206.2 79.6 L 206.2 76.5 L 202.8 76.5 L 202.8 79.6 L 201.8 79.6 L 201.8 72.9 \" fill=\"#000000\"/>\n",
       "<path class=\"atom-63\" d=\"M 230.3 38.2 L 231.2 38.2 L 231.2 41.0 L 234.6 41.0 L 234.6 38.2 L 235.5 38.2 L 235.5 44.9 L 234.6 44.9 L 234.6 41.8 L 231.2 41.8 L 231.2 44.9 L 230.3 44.9 L 230.3 38.2 \" fill=\"#000000\"/>\n",
       "<path class=\"atom-64\" d=\"M 215.5 38.2 L 216.4 38.2 L 216.4 41.1 L 219.8 41.1 L 219.8 38.2 L 220.7 38.2 L 220.7 44.9 L 219.8 44.9 L 219.8 41.8 L 216.4 41.8 L 216.4 44.9 L 215.5 44.9 L 215.5 38.2 \" fill=\"#000000\"/>\n",
       "<path class=\"atom-65\" d=\"M 244.1 72.9 L 245.0 72.9 L 245.0 75.7 L 248.4 75.7 L 248.4 72.9 L 249.3 72.9 L 249.3 79.5 L 248.4 79.5 L 248.4 76.5 L 245.0 76.5 L 245.0 79.5 L 244.1 79.5 L 244.1 72.9 \" fill=\"#000000\"/>\n",
       "<path class=\"atom-66\" d=\"M 229.2 72.9 L 230.1 72.9 L 230.1 75.7 L 233.5 75.7 L 233.5 72.9 L 234.4 72.9 L 234.4 79.5 L 233.5 79.5 L 233.5 76.4 L 230.1 76.4 L 230.1 79.5 L 229.2 79.5 L 229.2 72.9 \" fill=\"#000000\"/>\n",
       "<path class=\"atom-67\" d=\"M 258.0 38.1 L 258.9 38.1 L 258.9 40.9 L 262.3 40.9 L 262.3 38.1 L 263.2 38.1 L 263.2 44.8 L 262.3 44.8 L 262.3 41.7 L 258.9 41.7 L 258.9 44.8 L 258.0 44.8 L 258.0 38.1 \" fill=\"#000000\"/>\n",
       "<path class=\"atom-68\" d=\"M 242.9 38.1 L 243.8 38.1 L 243.8 41.0 L 247.3 41.0 L 247.3 38.1 L 248.2 38.1 L 248.2 44.8 L 247.3 44.8 L 247.3 41.7 L 243.8 41.7 L 243.8 44.8 L 242.9 44.8 L 242.9 38.1 \" fill=\"#000000\"/>\n",
       "<path class=\"atom-69\" d=\"M 271.6 73.0 L 272.5 73.0 L 272.5 75.8 L 275.9 75.8 L 275.9 73.0 L 276.8 73.0 L 276.8 79.6 L 275.9 79.6 L 275.9 76.5 L 272.5 76.5 L 272.5 79.6 L 271.6 79.6 L 271.6 73.0 \" fill=\"#000000\"/>\n",
       "<path class=\"atom-70\" d=\"M 256.6 72.9 L 257.5 72.9 L 257.5 75.7 L 260.9 75.7 L 260.9 72.9 L 261.8 72.9 L 261.8 79.5 L 260.9 79.5 L 260.9 76.5 L 257.5 76.5 L 257.5 79.5 L 256.6 79.5 L 256.6 72.9 \" fill=\"#000000\"/>\n",
       "<path class=\"atom-71\" d=\"M 286.0 38.1 L 286.9 38.1 L 286.9 40.9 L 290.3 40.9 L 290.3 38.1 L 291.2 38.1 L 291.2 44.8 L 290.3 44.8 L 290.3 41.7 L 286.9 41.7 L 286.9 44.8 L 286.0 44.8 L 286.0 38.1 \" fill=\"#000000\"/>\n",
       "<path class=\"atom-72\" d=\"M 270.6 38.1 L 271.5 38.1 L 271.5 40.9 L 274.9 40.9 L 274.9 38.1 L 275.8 38.1 L 275.8 44.7 L 274.9 44.7 L 274.9 41.6 L 271.5 41.6 L 271.5 44.7 L 270.6 44.7 L 270.6 38.1 \" fill=\"#000000\"/>\n",
       "<path class=\"atom-73\" d=\"M 299.6 73.0 L 300.5 73.0 L 300.5 75.9 L 303.9 75.9 L 303.9 73.0 L 304.8 73.0 L 304.8 79.7 L 303.9 79.7 L 303.9 76.6 L 300.5 76.6 L 300.5 79.7 L 299.6 79.7 L 299.6 73.0 \" fill=\"#000000\"/>\n",
       "<path class=\"atom-74\" d=\"M 284.2 73.0 L 285.1 73.0 L 285.1 75.9 L 288.5 75.9 L 288.5 73.0 L 289.4 73.0 L 289.4 79.7 L 288.5 79.7 L 288.5 76.6 L 285.1 76.6 L 285.1 79.7 L 284.2 79.7 L 284.2 73.0 \" fill=\"#000000\"/>\n",
       "<path class=\"atom-75\" d=\"M 340.0 38.5 L 340.9 38.5 L 340.9 41.4 L 344.3 41.4 L 344.3 38.5 L 345.2 38.5 L 345.2 45.2 L 344.3 45.2 L 344.3 42.1 L 340.9 42.1 L 340.9 45.2 L 340.0 45.2 L 340.0 38.5 \" fill=\"#000000\"/>\n",
       "<path class=\"atom-76\" d=\"M 324.3 38.4 L 325.2 38.4 L 325.2 41.3 L 328.6 41.3 L 328.6 38.4 L 329.5 38.4 L 329.5 45.1 L 328.6 45.1 L 328.6 42.0 L 325.2 42.0 L 325.2 45.1 L 324.3 45.1 L 324.3 38.4 \" fill=\"#000000\"/>\n",
       "<path class=\"atom-77\" d=\"M 352.1 48.1 L 353.0 48.1 L 353.0 50.9 L 356.4 50.9 L 356.4 48.1 L 357.3 48.1 L 357.3 54.8 L 356.4 54.8 L 356.4 51.7 L 353.0 51.7 L 353.0 54.8 L 352.1 54.8 L 352.1 48.1 \" fill=\"#000000\"/>\n",
       "<path class=\"atom-78\" d=\"M 348.1 98.1 L 349.0 98.1 L 349.0 100.9 L 352.4 100.9 L 352.4 98.1 L 353.3 98.1 L 353.3 104.8 L 352.4 104.8 L 352.4 101.7 L 349.0 101.7 L 349.0 104.8 L 348.1 104.8 L 348.1 98.1 \" fill=\"#000000\"/>\n",
       "<path class=\"atom-79\" d=\"M 340.3 111.4 L 341.2 111.4 L 341.2 114.2 L 344.6 114.2 L 344.6 111.4 L 345.5 111.4 L 345.5 118.0 L 344.6 118.0 L 344.6 114.9 L 341.2 114.9 L 341.2 118.0 L 340.3 118.0 L 340.3 111.4 \" fill=\"#000000\"/>\n",
       "<path class=\"atom-80\" d=\"M 310.9 92.2 L 311.8 92.2 L 311.8 95.0 L 315.3 95.0 L 315.3 92.2 L 316.2 92.2 L 316.2 98.9 L 315.3 98.9 L 315.3 95.8 L 311.8 95.8 L 311.8 98.9 L 310.9 98.9 L 310.9 92.2 \" fill=\"#000000\"/>\n",
       "<path class=\"atom-81\" d=\"M 303.1 105.6 L 304.0 105.6 L 304.0 108.4 L 307.4 108.4 L 307.4 105.6 L 308.3 105.6 L 308.3 112.2 L 307.4 112.2 L 307.4 109.2 L 304.0 109.2 L 304.0 112.2 L 303.1 112.2 L 303.1 105.6 \" fill=\"#000000\"/>\n",
       "<path class=\"atom-82\" d=\"M 333.8 122.1 L 334.7 122.1 L 334.7 125.0 L 338.1 125.0 L 338.1 122.1 L 339.0 122.1 L 339.0 128.8 L 338.1 128.8 L 338.1 125.7 L 334.7 125.7 L 334.7 128.8 L 333.8 128.8 L 333.8 122.1 \" fill=\"#000000\"/>\n",
       "<path class=\"atom-83\" d=\"M 326.3 135.0 L 327.2 135.0 L 327.2 137.9 L 330.6 137.9 L 330.6 135.0 L 331.5 135.0 L 331.5 141.7 L 330.6 141.7 L 330.6 138.6 L 327.2 138.6 L 327.2 141.7 L 326.3 141.7 L 326.3 135.0 \" fill=\"#000000\"/>\n",
       "<path class=\"atom-84\" d=\"M 296.8 116.5 L 297.7 116.5 L 297.7 119.3 L 301.1 119.3 L 301.1 116.5 L 302.0 116.5 L 302.0 123.2 L 301.1 123.2 L 301.1 120.1 L 297.7 120.1 L 297.7 123.2 L 296.8 123.2 L 296.8 116.5 \" fill=\"#000000\"/>\n",
       "<path class=\"atom-85\" d=\"M 289.2 129.8 L 290.1 129.8 L 290.1 132.7 L 293.5 132.7 L 293.5 129.8 L 294.4 129.8 L 294.4 136.5 L 293.5 136.5 L 293.5 133.4 L 290.1 133.4 L 290.1 136.5 L 289.2 136.5 L 289.2 129.8 \" fill=\"#000000\"/>\n",
       "<path class=\"atom-86\" d=\"M 320.2 146.0 L 321.1 146.0 L 321.1 148.9 L 324.5 148.9 L 324.5 146.0 L 325.4 146.0 L 325.4 152.7 L 324.5 152.7 L 324.5 149.6 L 321.1 149.6 L 321.1 152.7 L 320.2 152.7 L 320.2 146.0 \" fill=\"#000000\"/>\n",
       "<path class=\"atom-87\" d=\"M 313.0 159.2 L 313.9 159.2 L 313.9 162.0 L 317.3 162.0 L 317.3 159.2 L 318.2 159.2 L 318.2 165.8 L 317.3 165.8 L 317.3 162.8 L 313.9 162.8 L 313.9 165.8 L 313.0 165.8 L 313.0 159.2 \" fill=\"#000000\"/>\n",
       "<path class=\"atom-88\" d=\"M 283.6 141.1 L 284.5 141.1 L 284.5 144.0 L 287.9 144.0 L 287.9 141.1 L 288.8 141.1 L 288.8 147.8 L 287.9 147.8 L 287.9 144.7 L 284.5 144.7 L 284.5 147.8 L 283.6 147.8 L 283.6 141.1 \" fill=\"#000000\"/>\n",
       "<path class=\"atom-89\" d=\"M 277.1 154.6 L 278.0 154.6 L 278.0 157.5 L 281.4 157.5 L 281.4 154.6 L 282.3 154.6 L 282.3 161.3 L 281.4 161.3 L 281.4 158.2 L 278.0 158.2 L 278.0 161.3 L 277.1 161.3 L 277.1 154.6 \" fill=\"#000000\"/>\n",
       "<path class=\"atom-90\" d=\"M 308.9 171.0 L 309.8 171.0 L 309.8 173.9 L 313.2 173.9 L 313.2 171.0 L 314.1 171.0 L 314.1 177.7 L 313.2 177.7 L 313.2 174.6 L 309.8 174.6 L 309.8 177.7 L 308.9 177.7 L 308.9 171.0 \" fill=\"#000000\"/>\n",
       "<path class=\"atom-91\" d=\"M 302.5 184.8 L 303.4 184.8 L 303.4 187.6 L 306.8 187.6 L 306.8 184.8 L 307.7 184.8 L 307.7 191.5 L 306.8 191.5 L 306.8 188.4 L 303.4 188.4 L 303.4 191.5 L 302.5 191.5 L 302.5 184.8 \" fill=\"#000000\"/>\n",
       "<path class=\"atom-92\" d=\"M 286.2 195.6 L 287.1 195.6 L 287.1 198.4 L 290.5 198.4 L 290.5 195.6 L 291.4 195.6 L 291.4 202.3 L 290.5 202.3 L 290.5 199.2 L 287.1 199.2 L 287.1 202.3 L 286.2 202.3 L 286.2 195.6 \" fill=\"#000000\"/>\n",
       "<path class=\"atom-93\" d=\"M 271.2 187.8 L 272.1 187.8 L 272.1 190.6 L 275.6 190.6 L 275.6 187.8 L 276.5 187.8 L 276.5 194.5 L 275.6 194.5 L 275.6 191.4 L 272.1 191.4 L 272.1 194.5 L 271.2 194.5 L 271.2 187.8 \" fill=\"#000000\"/>\n",
       "<path class=\"atom-94\" d=\"M 264.6 156.1 L 265.5 156.1 L 265.5 158.9 L 268.9 158.9 L 268.9 156.1 L 269.8 156.1 L 269.8 162.8 L 268.9 162.8 L 268.9 159.7 L 265.5 159.7 L 265.5 162.8 L 264.6 162.8 L 264.6 156.1 \" fill=\"#000000\"/>\n",
       "<path class=\"atom-95\" d=\"M 236.1 172.5 L 237.0 172.5 L 237.0 175.3 L 240.4 175.3 L 240.4 172.5 L 241.3 172.5 L 241.3 179.1 L 240.4 179.1 L 240.4 176.0 L 237.0 176.0 L 237.0 179.1 L 236.1 179.1 L 236.1 172.5 \" fill=\"#000000\"/>\n",
       "<path class=\"atom-96\" d=\"M 260.9 190.1 L 261.8 190.1 L 261.8 192.9 L 265.2 192.9 L 265.2 190.1 L 266.1 190.1 L 266.1 196.8 L 265.2 196.8 L 265.2 193.7 L 261.8 193.7 L 261.8 196.8 L 260.9 196.8 L 260.9 190.1 \" fill=\"#000000\"/>\n",
       "<path class=\"atom-97\" d=\"M 261.3 208.0 L 262.3 208.0 L 262.3 210.8 L 265.7 210.8 L 265.7 208.0 L 266.6 208.0 L 266.6 214.6 L 265.7 214.6 L 265.7 211.5 L 262.3 211.5 L 262.3 214.6 L 261.3 214.6 L 261.3 208.0 \" fill=\"#000000\"/>\n",
       "<path class=\"atom-98\" d=\"M 231.2 189.0 L 232.1 189.0 L 232.1 191.8 L 235.5 191.8 L 235.5 189.0 L 236.4 189.0 L 236.4 195.7 L 235.5 195.7 L 235.5 192.6 L 232.1 192.6 L 232.1 195.7 L 231.2 195.7 L 231.2 189.0 \" fill=\"#000000\"/>\n",
       "<path class=\"atom-99\" d=\"M 222.6 201.6 L 223.5 201.6 L 223.5 204.4 L 226.9 204.4 L 226.9 201.6 L 227.8 201.6 L 227.8 208.3 L 226.9 208.3 L 226.9 205.2 L 223.5 205.2 L 223.5 208.3 L 222.6 208.3 L 222.6 201.6 \" fill=\"#000000\"/>\n",
       "<path class=\"atom-100\" d=\"M 252.6 217.9 L 253.5 217.9 L 253.5 220.7 L 256.9 220.7 L 256.9 217.9 L 257.8 217.9 L 257.8 224.6 L 256.9 224.6 L 256.9 221.5 L 253.5 221.5 L 253.5 224.6 L 252.6 224.6 L 252.6 217.9 \" fill=\"#000000\"/>\n",
       "<path class=\"atom-101\" d=\"M 244.7 230.5 L 245.6 230.5 L 245.6 233.3 L 249.0 233.3 L 249.0 230.5 L 249.9 230.5 L 249.9 237.2 L 249.0 237.2 L 249.0 234.1 L 245.6 234.1 L 245.6 237.2 L 244.7 237.2 L 244.7 230.5 \" fill=\"#000000\"/>\n",
       "<path class=\"atom-102\" d=\"M 215.2 211.8 L 216.1 211.8 L 216.1 214.6 L 219.5 214.6 L 219.5 211.8 L 220.4 211.8 L 220.4 218.5 L 219.5 218.5 L 219.5 215.4 L 216.1 215.4 L 216.1 218.5 L 215.2 218.5 L 215.2 211.8 \" fill=\"#000000\"/>\n",
       "<path class=\"atom-103\" d=\"M 207.5 224.8 L 208.4 224.8 L 208.4 227.6 L 211.8 227.6 L 211.8 224.8 L 212.7 224.8 L 212.7 231.4 L 211.8 231.4 L 211.8 228.4 L 208.4 228.4 L 208.4 231.4 L 207.5 231.4 L 207.5 224.8 \" fill=\"#000000\"/>\n",
       "<path class=\"atom-104\" d=\"M 238.0 241.1 L 238.9 241.1 L 238.9 244.0 L 242.4 244.0 L 242.4 241.1 L 243.3 241.1 L 243.3 247.8 L 242.4 247.8 L 242.4 244.7 L 238.9 244.7 L 238.9 247.8 L 238.0 247.8 L 238.0 241.1 \" fill=\"#000000\"/>\n",
       "<path class=\"atom-105\" d=\"M 230.7 254.0 L 231.6 254.0 L 231.6 256.8 L 235.0 256.8 L 235.0 254.0 L 235.9 254.0 L 235.9 260.6 L 235.0 260.6 L 235.0 257.6 L 231.6 257.6 L 231.6 260.6 L 230.7 260.6 L 230.7 254.0 \" fill=\"#000000\"/>\n",
       "<path class=\"atom-106\" d=\"M 201.1 235.6 L 202.0 235.6 L 202.0 238.5 L 205.4 238.5 L 205.4 235.6 L 206.3 235.6 L 206.3 242.3 L 205.4 242.3 L 205.4 239.2 L 202.0 239.2 L 202.0 242.3 L 201.1 242.3 L 201.1 235.6 \" fill=\"#000000\"/>\n",
       "<path class=\"atom-107\" d=\"M 193.4 249.0 L 194.3 249.0 L 194.3 251.9 L 197.7 251.9 L 197.7 249.0 L 198.6 249.0 L 198.6 255.7 L 197.7 255.7 L 197.7 252.6 L 194.3 252.6 L 194.3 255.7 L 193.4 255.7 L 193.4 249.0 \" fill=\"#000000\"/>\n",
       "<path class=\"atom-108\" d=\"M 224.6 265.0 L 225.5 265.0 L 225.5 267.8 L 228.9 267.8 L 228.9 265.0 L 229.8 265.0 L 229.8 271.6 L 228.9 271.6 L 228.9 268.6 L 225.5 268.6 L 225.5 271.6 L 224.6 271.6 L 224.6 265.0 \" fill=\"#000000\"/>\n",
       "<path class=\"atom-109\" d=\"M 216.9 278.3 L 217.8 278.3 L 217.8 281.2 L 221.2 281.2 L 221.2 278.3 L 222.1 278.3 L 222.1 285.0 L 221.2 285.0 L 221.2 281.9 L 217.8 281.9 L 217.8 285.0 L 216.9 285.0 L 216.9 278.3 \" fill=\"#000000\"/>\n",
       "<path class=\"atom-110\" d=\"M 195.5 272.5 L 196.5 272.5 L 196.5 275.4 L 199.9 275.4 L 199.9 272.5 L 200.8 272.5 L 200.8 279.2 L 199.9 279.2 L 199.9 276.1 L 196.5 276.1 L 196.5 279.2 L 195.5 279.2 L 195.5 272.5 \" fill=\"#000000\"/>\n",
       "<path class=\"atom-111\" d=\"M 361.8 74.8 L 362.7 74.8 L 362.7 77.7 L 366.1 77.7 L 366.1 74.8 L 367.0 74.8 L 367.0 81.5 L 366.1 81.5 L 366.1 78.4 L 362.7 78.4 L 362.7 81.5 L 361.8 81.5 L 361.8 74.8 \" fill=\"#000000\"/>\n",
       "<path class=\"atom-112\" d=\"M 374.9 66.6 L 375.8 66.6 L 375.8 69.4 L 379.2 69.4 L 379.2 66.6 L 380.1 66.6 L 380.1 73.3 L 379.2 73.3 L 379.2 70.2 L 375.8 70.2 L 375.8 73.3 L 374.9 73.3 L 374.9 66.6 \" fill=\"#000000\"/>\n",
       "<path class=\"atom-113\" d=\"M 355.9 35.7 L 356.8 35.7 L 356.8 38.5 L 360.2 38.5 L 360.2 35.7 L 361.1 35.7 L 361.1 42.4 L 360.2 42.4 L 360.2 39.3 L 356.8 39.3 L 356.8 42.4 L 355.9 42.4 L 355.9 35.7 \" fill=\"#000000\"/>\n",
       "<path class=\"atom-114\" d=\"M 369.3 28.6 L 370.2 28.6 L 370.2 31.4 L 373.6 31.4 L 373.6 28.6 L 374.5 28.6 L 374.5 35.3 L 373.6 35.3 L 373.6 32.2 L 370.2 32.2 L 370.2 35.3 L 369.3 35.3 L 369.3 28.6 \" fill=\"#000000\"/>\n",
       "<path class=\"atom-115\" d=\"M 385.3 59.5 L 386.2 59.5 L 386.2 62.4 L 389.6 62.4 L 389.6 59.5 L 390.5 59.5 L 390.5 66.2 L 389.6 66.2 L 389.6 63.1 L 386.2 63.1 L 386.2 66.2 L 385.3 66.2 L 385.3 59.5 \" fill=\"#000000\"/>\n",
       "<path class=\"atom-116\" d=\"M 398.8 52.0 L 399.7 52.0 L 399.7 54.8 L 403.1 54.8 L 403.1 52.0 L 404.0 52.0 L 404.0 58.7 L 403.1 58.7 L 403.1 55.6 L 399.7 55.6 L 399.7 58.7 L 398.8 58.7 L 398.8 52.0 \" fill=\"#000000\"/>\n",
       "<path class=\"atom-117\" d=\"M 380.2 22.5 L 381.2 22.5 L 381.2 25.3 L 384.6 25.3 L 384.6 22.5 L 385.5 22.5 L 385.5 29.2 L 384.6 29.2 L 384.6 26.1 L 381.2 26.1 L 381.2 29.2 L 380.2 29.2 L 380.2 22.5 \" fill=\"#000000\"/>\n",
       "<path class=\"atom-118\" d=\"M 393.7 15.0 L 394.6 15.0 L 394.6 17.8 L 398.0 17.8 L 398.0 15.0 L 398.9 15.0 L 398.9 21.7 L 398.0 21.7 L 398.0 18.6 L 394.6 18.6 L 394.6 21.7 L 393.7 21.7 L 393.7 15.0 \" fill=\"#000000\"/>\n",
       "<path class=\"atom-119\" d=\"M 409.0 31.0 L 409.9 31.0 L 409.9 33.8 L 413.4 33.8 L 413.4 31.0 L 414.3 31.0 L 414.3 37.7 L 413.4 37.7 L 413.4 34.6 L 409.9 34.6 L 409.9 37.7 L 409.0 37.7 L 409.0 31.0 \" fill=\"#000000\"/>\n",
       "</svg>"
      ],
      "text/plain": [
       "<IPython.core.display.SVG object>"
      ]
     },
     "execution_count": 155,
     "metadata": {},
     "output_type": "execute_result"
    }
   ],
   "source": [
    "+"
   ]
  },
  {
   "cell_type": "code",
   "execution_count": 13,
   "metadata": {},
   "outputs": [
    {
     "name": "stderr",
     "output_type": "stream",
     "text": [
      "Warning: POPE: Failed due to unspecified stereochemistry\n",
      "/home/julianne/miniconda3/envs/openff/lib/python3.11/site-packages/openff/interchange/interop/gromacs/export/_export.py:48: UserWarning: WARNING: System defined with no box vectors, which GROMACS does not offically support in versions 2020 or newer (see https://gitlab.com/gromacs/gromacs/-/issues/3526). Setting box vectors to a 5  nm cube.\n",
      "  self._write_gro(gro, decimal)\n"
     ]
    }
   ],
   "source": [
    "NAGLcharge = model.compute_property(lipid, check_domains = True, error_if_unsupported=True)\n",
    "lipid.partial_charges  = NAGLcharge * unit.elementary_charge #openFF units attached to partial charges property\n",
    "\n",
    "lipid.name = \"POPE\"\n",
    "for i, atom in enumerate(lipid.atoms, 0):\n",
    "    atom.metadata[\"residue_name\"] = \"POPE\"\n",
    "lipid.generate_unique_atom_names() \n",
    "topology = Topology.from_molecules([lipid])\n",
    "\n",
    "forcefield = ForceField(\"openff-2.1.0.offxml\")\n",
    "\n",
    "interchange = Interchange.from_smirnoff(\n",
    "    force_field=forcefield,\n",
    "    topology=topology,\n",
    "    charge_from_molecules = [lipid]\n",
    ")\n",
    "interchange\n",
    "\n",
    "lipid.to_file('lipid.pdb', file_format = 'pdb')\n",
    "interchange.to_top(\"lipid.top\")\n",
    "interchange.to_gro(\"lipid.gro\")"
   ]
  },
  {
   "cell_type": "markdown",
   "metadata": {},
   "source": [
    "Visualize lipid with nglview"
   ]
  },
  {
   "cell_type": "code",
   "execution_count": 15,
   "metadata": {},
   "outputs": [
    {
     "data": {
      "application/vnd.jupyter.widget-view+json": {
       "model_id": "19f9afaca8a7439cad98629f555e8574",
       "version_major": 2,
       "version_minor": 0
      },
      "text/plain": [
       "NGLWidget()"
      ]
     },
     "metadata": {},
     "output_type": "display_data"
    }
   ],
   "source": [
    "model_path = '/home/julianne/Desktop/OpenFFLipid/POPS/lipid.pdb' #change model path\n",
    "\n",
    "view = nglview.show_structure_file(model_path)\n",
    "view\n",
    "#check that angles are all acceptable for POPE"
   ]
  },
  {
   "cell_type": "markdown",
   "metadata": {},
   "source": [
    "If the lipid created is not in an optimal configuration for packing into a bilayer (e.g. tails are splayed), it may be necessary to pull the lipid to strighten it out. If the lipid is already in an okay configuration to pack, skip gmx pull command. "
   ]
  },
  {
   "cell_type": "code",
   "execution_count": 16,
   "metadata": {},
   "outputs": [
    {
     "data": {
      "image/svg+xml": [
       "<svg xmlns=\"http://www.w3.org/2000/svg\" xmlns:rdkit=\"http://www.rdkit.org/xml\" xmlns:xlink=\"http://www.w3.org/1999/xlink\" version=\"1.1\" baseProfile=\"full\" xml:space=\"preserve\" width=\"500px\" height=\"300px\" viewBox=\"0 0 500 300\">\n",
       "<!-- END OF HEADER -->\n",
       "<rect style=\"opacity:1.0;fill:#FFFFFF;stroke:none\" width=\"500.0\" height=\"300.0\" x=\"0.0\" y=\"0.0\"> </rect>\n",
       "<path class=\"bond-0 atom-0 atom-1\" d=\"M 270.3,107.2 L 345.4,150.6\" style=\"fill:none;fill-rule:evenodd;stroke:#FF0000;stroke-width:2.0px;stroke-linecap:butt;stroke-linejoin:miter;stroke-opacity:1\"/>\n",
       "<path class=\"bond-0 atom-0 atom-1\" d=\"M 345.4,150.6 L 420.5,194.1\" style=\"fill:none;fill-rule:evenodd;stroke:#000000;stroke-width:2.0px;stroke-linecap:butt;stroke-linejoin:miter;stroke-opacity:1\"/>\n",
       "<path class=\"bond-1 atom-0 atom-2\" d=\"M 229.9,107.1 L 154.7,150.5\" style=\"fill:none;fill-rule:evenodd;stroke:#FF0000;stroke-width:2.0px;stroke-linecap:butt;stroke-linejoin:miter;stroke-opacity:1\"/>\n",
       "<path class=\"bond-1 atom-0 atom-2\" d=\"M 154.7,150.5 L 79.5,193.8\" style=\"fill:none;fill-rule:evenodd;stroke:#000000;stroke-width:2.0px;stroke-linecap:butt;stroke-linejoin:miter;stroke-opacity:1\"/>\n",
       "<path class=\"atom-0\" d=\"M 237.1 95.6 Q 237.1 88.8, 240.4 85.0 Q 243.8 81.2, 250.1 81.2 Q 256.4 81.2, 259.7 85.0 Q 263.1 88.8, 263.1 95.6 Q 263.1 102.5, 259.7 106.4 Q 256.3 110.3, 250.1 110.3 Q 243.8 110.3, 240.4 106.4 Q 237.1 102.5, 237.1 95.6 M 250.1 107.1 Q 254.4 107.1, 256.7 104.2 Q 259.1 101.3, 259.1 95.6 Q 259.1 90.0, 256.7 87.2 Q 254.4 84.4, 250.1 84.4 Q 245.8 84.4, 243.4 87.2 Q 241.1 90.0, 241.1 95.6 Q 241.1 101.3, 243.4 104.2 Q 245.8 107.1, 250.1 107.1 \" fill=\"#FF0000\"/>\n",
       "<path class=\"atom-1\" d=\"M 427.7 190.5 L 431.5 190.5 L 431.5 202.5 L 446.0 202.5 L 446.0 190.5 L 449.9 190.5 L 449.9 218.8 L 446.0 218.8 L 446.0 205.7 L 431.5 205.7 L 431.5 218.8 L 427.7 218.8 L 427.7 190.5 \" fill=\"#000000\"/>\n",
       "<path class=\"atom-2\" d=\"M 50.1 190.2 L 54.0 190.2 L 54.0 202.2 L 68.5 202.2 L 68.5 190.2 L 72.3 190.2 L 72.3 218.5 L 68.5 218.5 L 68.5 205.4 L 54.0 205.4 L 54.0 218.5 L 50.1 218.5 L 50.1 190.2 \" fill=\"#000000\"/>\n",
       "</svg>"
      ],
      "text/plain": [
       "<IPython.core.display.SVG object>"
      ]
     },
     "execution_count": 16,
     "metadata": {},
     "output_type": "execute_result"
    }
   ],
   "source": [
    "water = Molecule.from_smiles(\"O\")\n",
    "water.generate_conformers()\n",
    "water.visualize()"
   ]
  },
  {
   "cell_type": "code",
   "execution_count": 17,
   "metadata": {},
   "outputs": [],
   "source": [
    "NAGLcharge = model.compute_property(water, check_domains = True, error_if_unsupported=True)\n",
    "water.partial_charges  = NAGLcharge * unit.elementary_charge\n",
    "\n",
    "water.name = \"TIP3P\"\n",
    "\n",
    "for i, atom in enumerate(water.atoms, 3):\n",
    "    atom.metadata[\"residue_name\"] = \"TIP3P\"\n",
    "water.generate_unique_atom_names() \n",
    "topology = Topology.from_molecules([water])\n",
    "\n",
    "\n",
    "interchange = Interchange.from_smirnoff(\n",
    "    force_field=forcefield,\n",
    "    topology=topology,\n",
    "    charge_from_molecules = [water]\n",
    ")\n",
    "interchange\n",
    "\n",
    "# PDB structure for Packmol\n",
    "interchange.to_pdb(\"water.pdb\")\n",
    "interchange.to_top(\"water.top\")"
   ]
  },
  {
   "cell_type": "markdown",
   "metadata": {},
   "source": [
    "If the lipid is not in a propper configuration, running a pull script to straighten lipid out is necessary. \n",
    "\n",
    "First, create an index group for an atom in the lipid headgroup"
   ]
  },
  {
   "cell_type": "code",
   "execution_count": null,
   "metadata": {},
   "outputs": [],
   "source": [
    "# The nitrogen from POPC is used here since it is the furthest core atom\n",
    "# For more complicated structures, you can specificy multiple atoms and link them (reference 'specific_pull.mdp' in this repo)\n",
    "\n",
    "$ gmx make_ndx -f lipid.gro -o N1x.ndx\n",
    "\n",
    "# Input for this index\n",
    "$ a 48 # Warning: check index in lipid.gro file to make sure that the index is correct.\n",
    "$ name 3 N1x # Creates an atom group (3) with your selected atom\n",
    "$ q\n",
    "\n",
    "#this will create a file, 'N1x.ndx'"
   ]
  },
  {
   "cell_type": "markdown",
   "metadata": {},
   "source": [
    "Run the pulling simulation in gromacs to straighten out the lipid. This script grabs the atom in the index file, and pulls it in the z direction.\n"
   ]
  },
  {
   "cell_type": "code",
   "execution_count": null,
   "metadata": {},
   "outputs": [],
   "source": [
    "$ gmx grompp -f pull_nvt.mdp -c lipid.gro -p lipid.top -n A48.ndx -o pull.tpr -maxwarn 1 # Warning: Update pull_nvt.mdp with atom name\n",
    "$ gmx mdrun -deffnm pull"
   ]
  },
  {
   "cell_type": "markdown",
   "metadata": {},
   "source": [
    "### Use trjconv to produce a pdb of the lipid after pull code. Visualize with nglview to confirm \n"
   ]
  },
  {
   "cell_type": "code",
   "execution_count": null,
   "metadata": {},
   "outputs": [],
   "source": [
    "$ gmx trjconv -f pull.xtc -s pull.tpr -pbc mol -o POPE.pdb -dump 50 # Where '50' is the best frame\n",
    "$ 0\n",
    "#Please note that choosing the last frame may retult in distorted hydrogen bonding when visualizing below. \n",
    "# If this problem occurs choose an earlier frame\n",
    "\n",
    "# If the GRO output is good enough at the end, use this:\n",
    "$ gmx editconf -f pull.gro -o POPC.pdb"
   ]
  },
  {
   "cell_type": "code",
   "execution_count": 27,
   "metadata": {
    "scrolled": true
   },
   "outputs": [
    {
     "data": {
      "application/vnd.jupyter.widget-view+json": {
       "model_id": "e9ae835a571f49088f784d5f5ac963a2",
       "version_major": 2,
       "version_minor": 0
      },
      "text/plain": [
       "NGLWidget()"
      ]
     },
     "metadata": {},
     "output_type": "display_data"
    }
   ],
   "source": [
    "#visualize the pulled lipid using ngl view\n",
    "\n",
    "model_path = '/home/julianne/Desktop/OpenFFLipid/POPS/POPS.pdb' #change model path\n",
    "\n",
    "view = nglview.show_structure_file(model_path)\n",
    "view\n"
   ]
  },
  {
   "cell_type": "markdown",
   "metadata": {},
   "source": [
    "### Run packmol with the dumped PDB\n",
    "You may have to modify the .inp structure file in packmol to fit your \"pulled\" lipid. Use MDAnalysis below to caluclate distance parameters based on your lipid for packing "
   ]
  },
  {
   "cell_type": "code",
   "execution_count": 33,
   "metadata": {},
   "outputs": [
    {
     "name": "stdout",
     "output_type": "stream",
     "text": [
      "Length of lipid from head group to tail group is:\n",
      " ~ 30.1 Angstrom\n"
     ]
    }
   ],
   "source": [
    "u = mda.Universe('POPE.pdb')\n",
    "\n",
    "head_group = u.select_atoms('name N1x') #select atom in head group, in this case Nitrogen\n",
    "tail_group = u.select_atoms('name C28x') #select atom in tail group, in this case last carbon in unsaturated tail\n",
    "\n",
    "distance = distances.distance_array(head_group.positions,tail_group.positions)\n",
    "print(\"Length of lipid from head group to tail group is:\\n\",\"~\",round(distance[0][0],2),'Angstrom') \n",
    "#this will tell you the full length of your lipid \n"
   ]
  },
  {
   "cell_type": "markdown",
   "metadata": {},
   "source": [
    "Estimate the desired number of lipids or membrane size in x y diresction when area per lipid is roughly known \\\n",
    "$ N_I = \\frac{2 L_x L_y}{a_I}$  \\\n",
    "where $N_I$ = total # lipids\\\n",
    "$L_x , L_y$ = lateral box dimensions\\\n",
    "$a_I$ = area per lipid in units $Å^{2}$"
   ]
  },
  {
   "cell_type": "code",
   "execution_count": 34,
   "metadata": {},
   "outputs": [
    {
     "name": "stdout",
     "output_type": "stream",
     "text": [
      "64.5 angstrom dimensions for Length\n"
     ]
    }
   ],
   "source": [
    "# POPC ~ 65 Å^2\n",
    "#For a square box:\n",
    "N = 128\n",
    "a = 65\n",
    "L = np.sqrt(N * a /2)\n",
    "print(round(L,1), \"angstrom dimensions for Length\")"
   ]
  },
  {
   "cell_type": "code",
   "execution_count": null,
   "metadata": {},
   "outputs": [],
   "source": [
    "#modify .inp file if necessary with propper length and atom names \n",
    "$ packmol < bilayer-comment.inp\n",
    "#if you have errors after running packmol make your box bigger \n",
    "# this returns a bilayer.pdb file that can be visualized below "
   ]
  },
  {
   "cell_type": "code",
   "execution_count": 3,
   "metadata": {},
   "outputs": [
    {
     "data": {
      "application/vnd.jupyter.widget-view+json": {
       "model_id": "f09dc1ddcd8249e280e4f26b734f9779",
       "version_major": 2,
       "version_minor": 0
      },
      "text/plain": [
       "NGLWidget()"
      ]
     },
     "metadata": {},
     "output_type": "display_data"
    }
   ],
   "source": [
    "model_path = '/home/julianne/Desktop/Run_feb8/Compressed/bilayer.pdb' #change model path\n",
    "\n",
    "view = nglview.show_structure_file(model_path)\n",
    "view"
   ]
  },
  {
   "cell_type": "markdown",
   "metadata": {},
   "source": [
    "### Build topology file from system interchange and get .gro file from .pdb"
   ]
  },
  {
   "cell_type": "code",
   "execution_count": null,
   "metadata": {},
   "outputs": [],
   "source": [
    "$ cp POPC.top topol.top\n",
    "$ cp POPC.top POPC.itp\n",
    "$ cp water.top TIP3P.itp\n",
    "# delete defaults, atom types, and molecules tables from .itp files\n",
    "# remove all force field parameters from topol.top, add TIP3P atom types, changes molecules:\n",
    "# [ molecules ]\n",
    "# ; Compound\t#mols\n",
    "# TIP3P  \t        5120  \n",
    "# POPC  \t         128\n",
    "\n",
    "#Convert pdb into .gro file\n",
    "$ gmx editconf -f bilayer.pdb -o bilayer.gro -box 7.5 7.5 8.0"
   ]
  },
  {
   "cell_type": "markdown",
   "metadata": {},
   "source": [
    "Files are now ready to be run using Gromacs.\n",
    "\n",
    "Min, NVT, NPT, MD production run"
   ]
  },
  {
   "cell_type": "code",
   "execution_count": null,
   "metadata": {},
   "outputs": [],
   "source": [
    "$ gmx grompp -f min.mdp -p topol.top -c bilayer.gro -o min.tpr\n",
    "$ gmx mdrun -deffnm min\n",
    "\n",
    "$ gmx grompp -p topol.top -f nvt.mdp -c min.gro -o nvt.tpr\n",
    "$ gmx mdrun -deffnm nvt\n",
    "\n",
    "$ gmx grompp -f npt.mdp -p topol.top -c nvt.gro -o npt.tpr -maxwarn 1\n",
    "$ gmx mdrun -deffnm npt\n",
    "\n",
    "$ gmx grompp -f md.mdp -c npt.gro -t npt.cpt -p topol.top -o md.tpr\n",
    "$ gmx mdrun -deffnm md\n",
    "# Checkpoint run for completion\n",
    "$ gmx mdrun -deffnm md -cpi md.cpt"
   ]
  }
 ],
 "metadata": {
  "kernelspec": {
   "display_name": "Python 3 (ipykernel)",
   "language": "python",
   "name": "python3"
  },
  "language_info": {
   "codemirror_mode": {
    "name": "ipython",
    "version": 3
   },
   "file_extension": ".py",
   "mimetype": "text/x-python",
   "name": "python",
   "nbconvert_exporter": "python",
   "pygments_lexer": "ipython3",
   "version": "3.11.7"
  }
 },
 "nbformat": 4,
 "nbformat_minor": 4
}
